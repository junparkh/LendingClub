{
 "cells": [
  {
   "cell_type": "markdown",
   "metadata": {},
   "source": [
    "Group 19: Fernando Trias, Roger Iliffe, HyounJun Park, Siyuan Yin"
   ]
  },
  {
   "cell_type": "code",
   "execution_count": 1,
   "metadata": {
    "collapsed": true
   },
   "outputs": [],
   "source": [
    "import pandas as pd\n",
    "import numpy as np\n",
    "import matplotlib\n",
    "import matplotlib.pyplot as plt\n",
    "%matplotlib inline\n",
    "import seaborn as sns\n",
    "\n",
    "from sklearn.utils import resample\n",
    "from sklearn.model_selection import train_test_split\n",
    "from sklearn.metrics import accuracy_score\n",
    "from sklearn.model_selection import cross_val_score"
   ]
  },
  {
   "cell_type": "markdown",
   "metadata": {},
   "source": [
    "## Loan Data"
   ]
  },
  {
   "cell_type": "markdown",
   "metadata": {},
   "source": [
    "Before loading this data, you must create the \"bz2\" files by running the Data_cleansing notebook."
   ]
  },
  {
   "cell_type": "code",
   "execution_count": 2,
   "metadata": {
    "collapsed": true
   },
   "outputs": [],
   "source": [
    "public_data_cat = pd.read_pickle(\"analysis-predictors.bz2\")\n",
    "public_data_y = pd.read_pickle(\"analysis-target.bz2\")"
   ]
  },
  {
   "cell_type": "code",
   "execution_count": 3,
   "metadata": {
    "collapsed": true
   },
   "outputs": [],
   "source": [
    "public_data_cat = public_data_cat.drop('issue_date',axis=1)"
   ]
  },
  {
   "cell_type": "code",
   "execution_count": 4,
   "metadata": {},
   "outputs": [
    {
     "data": {
      "text/plain": [
       "-0.0239263066826214"
      ]
     },
     "execution_count": 4,
     "metadata": {},
     "output_type": "execute_result"
    }
   ],
   "source": [
    "public_data_y.mean()"
   ]
  },
  {
   "cell_type": "markdown",
   "metadata": {},
   "source": [
    "## Create Design Matrix"
   ]
  },
  {
   "cell_type": "markdown",
   "metadata": {},
   "source": [
    "We created two design matrices. One for training and testing on the entire testing set. Another for training and testing on a random sample so that our experiments could run faster."
   ]
  },
  {
   "cell_type": "markdown",
   "metadata": {},
   "source": [
    "#### Model Split on subset of data set"
   ]
  },
  {
   "cell_type": "code",
   "execution_count": 5,
   "metadata": {
    "collapsed": true
   },
   "outputs": [],
   "source": [
    "X_sub, y_sub = resample(public_data_cat, public_data_y, n_samples=10000)\n",
    "X_train_sub, X_test_sub, y_train_sub, y_test_sub = train_test_split(\n",
    "    X_sub, y_sub, test_size=0.25, random_state=42)"
   ]
  },
  {
   "cell_type": "markdown",
   "metadata": {},
   "source": [
    "#### Model Split on entire data set"
   ]
  },
  {
   "cell_type": "code",
   "execution_count": 6,
   "metadata": {
    "collapsed": true
   },
   "outputs": [],
   "source": [
    "X_train, X_test, y_train, y_test = train_test_split(\n",
    "    public_data_cat, public_data_y, test_size=0.25, random_state=42)"
   ]
  },
  {
   "cell_type": "markdown",
   "metadata": {},
   "source": [
    "## Scaling"
   ]
  },
  {
   "cell_type": "markdown",
   "metadata": {},
   "source": [
    "We experimented with the scaling method, StandardScaler."
   ]
  },
  {
   "cell_type": "markdown",
   "metadata": {},
   "source": [
    "#### StandardScaler"
   ]
  },
  {
   "cell_type": "code",
   "execution_count": 7,
   "metadata": {},
   "outputs": [
    {
     "data": {
      "text/plain": [
       "StandardScaler(copy=True, with_mean=True, with_std=True)"
      ]
     },
     "execution_count": 7,
     "metadata": {},
     "output_type": "execute_result"
    }
   ],
   "source": [
    "from sklearn.preprocessing import StandardScaler\n",
    "scale = StandardScaler()\n",
    "scale.fit(X_train)"
   ]
  },
  {
   "cell_type": "code",
   "execution_count": 8,
   "metadata": {
    "collapsed": true
   },
   "outputs": [],
   "source": [
    "X_train_scale = pd.DataFrame(data = scale.transform(X_train), columns = X_train.columns.tolist())\n",
    "X_test_scale = pd.DataFrame(data = scale.transform(X_test), columns = X_test.columns.tolist())"
   ]
  },
  {
   "cell_type": "code",
   "execution_count": 9,
   "metadata": {
    "collapsed": true
   },
   "outputs": [],
   "source": [
    "# create a subset of test data\n",
    "X_train_sub_scale = pd.DataFrame(data = scale.transform(X_train_sub), columns = X_train.columns.tolist())\n",
    "X_test_sub_scale = pd.DataFrame(data = scale.transform(X_test_sub), columns = X_test.columns.tolist())"
   ]
  },
  {
   "cell_type": "code",
   "execution_count": 10,
   "metadata": {},
   "outputs": [
    {
     "data": {
      "text/plain": [
       "count    739330.000000\n",
       "mean         -0.023918\n",
       "std           0.283187\n",
       "min          -1.000000\n",
       "25%           0.040477\n",
       "50%           0.073132\n",
       "75%           0.108923\n",
       "max           0.982541\n",
       "Name: apy, dtype: float64"
      ]
     },
     "execution_count": 10,
     "metadata": {},
     "output_type": "execute_result"
    }
   ],
   "source": [
    "y_train.describe()"
   ]
  },
  {
   "cell_type": "code",
   "execution_count": 11,
   "metadata": {},
   "outputs": [
    {
     "data": {
      "text/html": [
       "<div>\n",
       "<style scoped>\n",
       "    .dataframe tbody tr th:only-of-type {\n",
       "        vertical-align: middle;\n",
       "    }\n",
       "\n",
       "    .dataframe tbody tr th {\n",
       "        vertical-align: top;\n",
       "    }\n",
       "\n",
       "    .dataframe thead th {\n",
       "        text-align: right;\n",
       "    }\n",
       "</style>\n",
       "<table border=\"1\" class=\"dataframe\">\n",
       "  <thead>\n",
       "    <tr style=\"text-align: right;\">\n",
       "      <th></th>\n",
       "      <th>loan_amnt</th>\n",
       "      <th>term_months</th>\n",
       "      <th>int_rate</th>\n",
       "      <th>credit_score</th>\n",
       "      <th>emp_length_years</th>\n",
       "      <th>annual_inc</th>\n",
       "      <th>dti</th>\n",
       "      <th>delinq_2yrs</th>\n",
       "      <th>credit_history_years</th>\n",
       "      <th>inq_last_6mths</th>\n",
       "      <th>...</th>\n",
       "      <th>total_acc</th>\n",
       "      <th>verification_status_Not Verified</th>\n",
       "      <th>verification_status_Source Verified</th>\n",
       "      <th>verification_status_Verified</th>\n",
       "      <th>home_ownership_ANY</th>\n",
       "      <th>home_ownership_MORTGAGE</th>\n",
       "      <th>home_ownership_NONE</th>\n",
       "      <th>home_ownership_OTHER</th>\n",
       "      <th>home_ownership_OWN</th>\n",
       "      <th>home_ownership_RENT</th>\n",
       "    </tr>\n",
       "  </thead>\n",
       "  <tbody>\n",
       "    <tr>\n",
       "      <th>count</th>\n",
       "      <td>246444.000000</td>\n",
       "      <td>246444.000000</td>\n",
       "      <td>246444.000000</td>\n",
       "      <td>246444.000000</td>\n",
       "      <td>246444.000000</td>\n",
       "      <td>246444.000000</td>\n",
       "      <td>246444.000000</td>\n",
       "      <td>246444.000000</td>\n",
       "      <td>246444.000000</td>\n",
       "      <td>246444.000000</td>\n",
       "      <td>...</td>\n",
       "      <td>246444.000000</td>\n",
       "      <td>246444.000000</td>\n",
       "      <td>246444.000000</td>\n",
       "      <td>246444.000000</td>\n",
       "      <td>246444.000000</td>\n",
       "      <td>246444.000000</td>\n",
       "      <td>246444.000000</td>\n",
       "      <td>246444.000000</td>\n",
       "      <td>246444.000000</td>\n",
       "      <td>246444.000000</td>\n",
       "    </tr>\n",
       "    <tr>\n",
       "      <th>mean</th>\n",
       "      <td>0.002492</td>\n",
       "      <td>0.000873</td>\n",
       "      <td>0.003489</td>\n",
       "      <td>0.003658</td>\n",
       "      <td>-0.000443</td>\n",
       "      <td>0.003085</td>\n",
       "      <td>0.002265</td>\n",
       "      <td>0.001378</td>\n",
       "      <td>-0.001509</td>\n",
       "      <td>0.003561</td>\n",
       "      <td>...</td>\n",
       "      <td>-0.002733</td>\n",
       "      <td>-0.000365</td>\n",
       "      <td>-0.000125</td>\n",
       "      <td>0.000487</td>\n",
       "      <td>0.002716</td>\n",
       "      <td>-0.002486</td>\n",
       "      <td>0.002673</td>\n",
       "      <td>0.003240</td>\n",
       "      <td>0.001082</td>\n",
       "      <td>0.001691</td>\n",
       "    </tr>\n",
       "    <tr>\n",
       "      <th>std</th>\n",
       "      <td>1.000531</td>\n",
       "      <td>1.000533</td>\n",
       "      <td>1.001566</td>\n",
       "      <td>1.002071</td>\n",
       "      <td>0.999455</td>\n",
       "      <td>1.226673</td>\n",
       "      <td>0.953216</td>\n",
       "      <td>0.998851</td>\n",
       "      <td>0.999830</td>\n",
       "      <td>1.004971</td>\n",
       "      <td>...</td>\n",
       "      <td>1.000046</td>\n",
       "      <td>0.999842</td>\n",
       "      <td>0.999971</td>\n",
       "      <td>1.000187</td>\n",
       "      <td>1.112239</td>\n",
       "      <td>0.999987</td>\n",
       "      <td>1.185844</td>\n",
       "      <td>1.130124</td>\n",
       "      <td>1.001417</td>\n",
       "      <td>1.000348</td>\n",
       "    </tr>\n",
       "    <tr>\n",
       "      <th>min</th>\n",
       "      <td>-1.621322</td>\n",
       "      <td>-0.561624</td>\n",
       "      <td>-1.722283</td>\n",
       "      <td>-1.669946</td>\n",
       "      <td>-1.462000</td>\n",
       "      <td>-1.214605</td>\n",
       "      <td>-1.879250</td>\n",
       "      <td>-0.360744</td>\n",
       "      <td>-2.132729</td>\n",
       "      <td>-0.713918</td>\n",
       "      <td>...</td>\n",
       "      <td>-1.944951</td>\n",
       "      <td>-0.654167</td>\n",
       "      <td>-0.779051</td>\n",
       "      <td>-0.690128</td>\n",
       "      <td>-0.011455</td>\n",
       "      <td>-0.995315</td>\n",
       "      <td>-0.006579</td>\n",
       "      <td>-0.011689</td>\n",
       "      <td>-0.338276</td>\n",
       "      <td>-0.815402</td>\n",
       "    </tr>\n",
       "    <tr>\n",
       "      <th>25%</th>\n",
       "      <td>-0.744073</td>\n",
       "      <td>-0.561624</td>\n",
       "      <td>-0.717991</td>\n",
       "      <td>-0.746343</td>\n",
       "      <td>-0.882563</td>\n",
       "      <td>-0.490418</td>\n",
       "      <td>-0.653453</td>\n",
       "      <td>-0.360744</td>\n",
       "      <td>-0.683532</td>\n",
       "      <td>-0.713918</td>\n",
       "      <td>...</td>\n",
       "      <td>-0.691202</td>\n",
       "      <td>-0.654167</td>\n",
       "      <td>-0.779051</td>\n",
       "      <td>-0.690128</td>\n",
       "      <td>-0.011455</td>\n",
       "      <td>-0.995315</td>\n",
       "      <td>-0.006579</td>\n",
       "      <td>-0.011689</td>\n",
       "      <td>-0.338276</td>\n",
       "      <td>-0.815402</td>\n",
       "    </tr>\n",
       "    <tr>\n",
       "      <th>50%</th>\n",
       "      <td>-0.276208</td>\n",
       "      <td>-0.561624</td>\n",
       "      <td>-0.074215</td>\n",
       "      <td>-0.130607</td>\n",
       "      <td>0.002234</td>\n",
       "      <td>-0.168556</td>\n",
       "      <td>-0.052510</td>\n",
       "      <td>-0.360744</td>\n",
       "      <td>-0.181789</td>\n",
       "      <td>-0.713918</td>\n",
       "      <td>...</td>\n",
       "      <td>-0.106119</td>\n",
       "      <td>-0.654167</td>\n",
       "      <td>-0.779051</td>\n",
       "      <td>-0.690128</td>\n",
       "      <td>-0.011455</td>\n",
       "      <td>-0.995315</td>\n",
       "      <td>-0.006579</td>\n",
       "      <td>-0.011689</td>\n",
       "      <td>-0.338276</td>\n",
       "      <td>-0.815402</td>\n",
       "    </tr>\n",
       "    <tr>\n",
       "      <th>75%</th>\n",
       "      <td>0.659524</td>\n",
       "      <td>-0.561624</td>\n",
       "      <td>0.614626</td>\n",
       "      <td>0.639062</td>\n",
       "      <td>1.145464</td>\n",
       "      <td>0.233770</td>\n",
       "      <td>0.602496</td>\n",
       "      <td>-0.360744</td>\n",
       "      <td>0.508933</td>\n",
       "      <td>0.322344</td>\n",
       "      <td>...</td>\n",
       "      <td>0.562548</td>\n",
       "      <td>1.528662</td>\n",
       "      <td>1.283612</td>\n",
       "      <td>1.449006</td>\n",
       "      <td>-0.011455</td>\n",
       "      <td>1.004707</td>\n",
       "      <td>-0.006579</td>\n",
       "      <td>-0.011689</td>\n",
       "      <td>-0.338276</td>\n",
       "      <td>1.226389</td>\n",
       "    </tr>\n",
       "    <tr>\n",
       "      <th>max</th>\n",
       "      <td>2.998853</td>\n",
       "      <td>1.780551</td>\n",
       "      <td>3.788445</td>\n",
       "      <td>3.563806</td>\n",
       "      <td>1.145464</td>\n",
       "      <td>152.039127</td>\n",
       "      <td>101.986036</td>\n",
       "      <td>29.485919</td>\n",
       "      <td>7.331183</td>\n",
       "      <td>7.576176</td>\n",
       "      <td>...</td>\n",
       "      <td>12.598543</td>\n",
       "      <td>1.528662</td>\n",
       "      <td>1.283612</td>\n",
       "      <td>1.449006</td>\n",
       "      <td>87.298103</td>\n",
       "      <td>1.004707</td>\n",
       "      <td>151.996916</td>\n",
       "      <td>85.551733</td>\n",
       "      <td>2.956166</td>\n",
       "      <td>1.226389</td>\n",
       "    </tr>\n",
       "  </tbody>\n",
       "</table>\n",
       "<p>8 rows × 26 columns</p>\n",
       "</div>"
      ],
      "text/plain": [
       "           loan_amnt    term_months       int_rate   credit_score  \\\n",
       "count  246444.000000  246444.000000  246444.000000  246444.000000   \n",
       "mean        0.002492       0.000873       0.003489       0.003658   \n",
       "std         1.000531       1.000533       1.001566       1.002071   \n",
       "min        -1.621322      -0.561624      -1.722283      -1.669946   \n",
       "25%        -0.744073      -0.561624      -0.717991      -0.746343   \n",
       "50%        -0.276208      -0.561624      -0.074215      -0.130607   \n",
       "75%         0.659524      -0.561624       0.614626       0.639062   \n",
       "max         2.998853       1.780551       3.788445       3.563806   \n",
       "\n",
       "       emp_length_years     annual_inc            dti    delinq_2yrs  \\\n",
       "count     246444.000000  246444.000000  246444.000000  246444.000000   \n",
       "mean          -0.000443       0.003085       0.002265       0.001378   \n",
       "std            0.999455       1.226673       0.953216       0.998851   \n",
       "min           -1.462000      -1.214605      -1.879250      -0.360744   \n",
       "25%           -0.882563      -0.490418      -0.653453      -0.360744   \n",
       "50%            0.002234      -0.168556      -0.052510      -0.360744   \n",
       "75%            1.145464       0.233770       0.602496      -0.360744   \n",
       "max            1.145464     152.039127     101.986036      29.485919   \n",
       "\n",
       "       credit_history_years  inq_last_6mths         ...           \\\n",
       "count         246444.000000   246444.000000         ...            \n",
       "mean              -0.001509        0.003561         ...            \n",
       "std                0.999830        1.004971         ...            \n",
       "min               -2.132729       -0.713918         ...            \n",
       "25%               -0.683532       -0.713918         ...            \n",
       "50%               -0.181789       -0.713918         ...            \n",
       "75%                0.508933        0.322344         ...            \n",
       "max                7.331183        7.576176         ...            \n",
       "\n",
       "           total_acc  verification_status_Not Verified  \\\n",
       "count  246444.000000                     246444.000000   \n",
       "mean       -0.002733                         -0.000365   \n",
       "std         1.000046                          0.999842   \n",
       "min        -1.944951                         -0.654167   \n",
       "25%        -0.691202                         -0.654167   \n",
       "50%        -0.106119                         -0.654167   \n",
       "75%         0.562548                          1.528662   \n",
       "max        12.598543                          1.528662   \n",
       "\n",
       "       verification_status_Source Verified  verification_status_Verified  \\\n",
       "count                        246444.000000                 246444.000000   \n",
       "mean                             -0.000125                      0.000487   \n",
       "std                               0.999971                      1.000187   \n",
       "min                              -0.779051                     -0.690128   \n",
       "25%                              -0.779051                     -0.690128   \n",
       "50%                              -0.779051                     -0.690128   \n",
       "75%                               1.283612                      1.449006   \n",
       "max                               1.283612                      1.449006   \n",
       "\n",
       "       home_ownership_ANY  home_ownership_MORTGAGE  home_ownership_NONE  \\\n",
       "count       246444.000000            246444.000000        246444.000000   \n",
       "mean             0.002716                -0.002486             0.002673   \n",
       "std              1.112239                 0.999987             1.185844   \n",
       "min             -0.011455                -0.995315            -0.006579   \n",
       "25%             -0.011455                -0.995315            -0.006579   \n",
       "50%             -0.011455                -0.995315            -0.006579   \n",
       "75%             -0.011455                 1.004707            -0.006579   \n",
       "max             87.298103                 1.004707           151.996916   \n",
       "\n",
       "       home_ownership_OTHER  home_ownership_OWN  home_ownership_RENT  \n",
       "count         246444.000000       246444.000000        246444.000000  \n",
       "mean               0.003240            0.001082             0.001691  \n",
       "std                1.130124            1.001417             1.000348  \n",
       "min               -0.011689           -0.338276            -0.815402  \n",
       "25%               -0.011689           -0.338276            -0.815402  \n",
       "50%               -0.011689           -0.338276            -0.815402  \n",
       "75%               -0.011689           -0.338276             1.226389  \n",
       "max               85.551733            2.956166             1.226389  \n",
       "\n",
       "[8 rows x 26 columns]"
      ]
     },
     "execution_count": 11,
     "metadata": {},
     "output_type": "execute_result"
    }
   ],
   "source": [
    "X_test_scale.describe()"
   ]
  },
  {
   "cell_type": "code",
   "execution_count": 12,
   "metadata": {},
   "outputs": [
    {
     "data": {
      "text/plain": [
       "count    246444.000000\n",
       "mean         -0.023950\n",
       "std           0.282922\n",
       "min          -1.000000\n",
       "25%           0.040477\n",
       "50%           0.073039\n",
       "75%           0.108996\n",
       "max           0.641484\n",
       "Name: apy, dtype: float64"
      ]
     },
     "execution_count": 12,
     "metadata": {},
     "output_type": "execute_result"
    }
   ],
   "source": [
    "y_test.describe()"
   ]
  },
  {
   "cell_type": "markdown",
   "metadata": {},
   "source": [
    "# Exploratory Models"
   ]
  },
  {
   "cell_type": "markdown",
   "metadata": {},
   "source": [
    "## Linear Regression"
   ]
  },
  {
   "cell_type": "code",
   "execution_count": 13,
   "metadata": {
    "collapsed": true
   },
   "outputs": [],
   "source": [
    "from sklearn.linear_model import LinearRegression\n",
    "model = LinearRegression().fit(X_train_scale, y_train)"
   ]
  },
  {
   "cell_type": "code",
   "execution_count": 14,
   "metadata": {},
   "outputs": [
    {
     "data": {
      "text/plain": [
       "0.03254129937521988"
      ]
     },
     "execution_count": 14,
     "metadata": {},
     "output_type": "execute_result"
    }
   ],
   "source": [
    "model.score(X_train_scale, y_train)"
   ]
  },
  {
   "cell_type": "code",
   "execution_count": 15,
   "metadata": {},
   "outputs": [
    {
     "data": {
      "text/plain": [
       "array([-6.38064695e-03, -1.62106034e-02,  2.52067500e-02, -4.91283083e-02,\n",
       "        2.74099218e-03,  3.25197428e-03, -1.74467720e-02, -3.89975006e-03,\n",
       "        3.96122768e-03, -4.21146722e-03,  8.26137674e-04, -1.76109206e-03,\n",
       "       -1.08739979e-02, -2.12420579e-03,  2.67522599e-03,  2.33718308e-03,\n",
       "        1.14442416e-02,  9.76098938e+10,  1.03296389e+11,  9.96037206e+10,\n",
       "       -8.27240725e+08, -3.61126128e+10, -4.75160271e+08, -8.44122645e+08,\n",
       "       -2.19235969e+10, -3.53738562e+10])"
      ]
     },
     "execution_count": 15,
     "metadata": {},
     "output_type": "execute_result"
    }
   ],
   "source": [
    "model.score(X_test_scale, y_test)\n",
    "\n",
    "model.coef_"
   ]
  },
  {
   "cell_type": "code",
   "execution_count": 16,
   "metadata": {
    "collapsed": true
   },
   "outputs": [],
   "source": [
    "#\n",
    "# Draw a bar chart showing each coefficient's magnitude and direction\n",
    "#\n",
    "def graph_coef(model, columns):\n",
    "    cf = dict(zip(columns, model.coef_.flatten()))\n",
    "    data = sorted(cf.items(),key=lambda x:abs(x[1]))\n",
    "#     print(data)\n",
    "    data_order, data_values = zip(*data)\n",
    "    data_order = np.array(data_order)\n",
    "    data_values = np.array(data_values)\n",
    "    index = np.arange(len(data_order))\n",
    "    \n",
    "    fig,ax = plt.subplots(1,1, figsize=(10,30))\n",
    "\n",
    "    colors = np.array([(1,0,0)]*len(data_values))\n",
    "    colors[data_values >= 0] = (0,0,1)\n",
    "\n",
    "    ax.barh(index,abs(data_values),color = colors, alpha=0.8)\n",
    "    ax.set_yticklabels(data_order)\n",
    "    ax.set_yticks(index)\n",
    "    plt.tick_params(axis='both', which='major', labelsize=20)\n",
    "    ax.set_title(\"Magnitude of coefficient\", fontsize=20)\n",
    "    ax.set_ylabel(\"predictors\")\n",
    "    ax.set_xlabel(\"magnitude\");"
   ]
  },
  {
   "cell_type": "markdown",
   "metadata": {},
   "source": [
    "Drawing a graph of each coefficient's magnitude and direction will help us to understand what factors the model considers to be significant. Red means a negative coefficient. Blue is a positive coefficient."
   ]
  },
  {
   "cell_type": "code",
   "execution_count": 17,
   "metadata": {},
   "outputs": [
    {
     "data": {
      "image/png": "[encoded data removed]",
      "text/plain": [
       "<Figure size 720x2160 with 1 Axes>"
      ]
     },
     "metadata": {},
     "output_type": "display_data"
    }
   ],
   "source": [
    "graph_coef(model, X_test_scale.columns)"
   ]
  },
  {
   "cell_type": "markdown",
   "metadata": {},
   "source": [
    "## Lasso"
   ]
  },
  {
   "cell_type": "code",
   "execution_count": 18,
   "metadata": {},
   "outputs": [
    {
     "data": {
      "text/plain": [
       "LassoCV(alphas=None, copy_X=True, cv=None, eps=0.001, fit_intercept=True,\n",
       "    max_iter=1000, n_alphas=100, n_jobs=1, normalize=False, positive=False,\n",
       "    precompute='auto', random_state=None, selection='cyclic', tol=0.0001,\n",
       "    verbose=False)"
      ]
     },
     "execution_count": 18,
     "metadata": {},
     "output_type": "execute_result"
    }
   ],
   "source": [
    "from sklearn.linear_model import LassoCV\n",
    "LassoCVobject = LassoCV()\n",
    "LassoCVobject.fit(X_train_scale, y_train)"
   ]
  },
  {
   "cell_type": "code",
   "execution_count": 19,
   "metadata": {},
   "outputs": [
    {
     "data": {
      "text/plain": [
       "0.03253995035026058"
      ]
     },
     "execution_count": 19,
     "metadata": {},
     "output_type": "execute_result"
    }
   ],
   "source": [
    "LassoCVobject.score(X_train_scale, y_train)"
   ]
  },
  {
   "cell_type": "code",
   "execution_count": 20,
   "metadata": {},
   "outputs": [
    {
     "data": {
      "text/plain": [
       "0.033842239263917495"
      ]
     },
     "execution_count": 20,
     "metadata": {},
     "output_type": "execute_result"
    }
   ],
   "source": [
    "LassoCVobject.score(X_test_scale, y_test)"
   ]
  },
  {
   "cell_type": "code",
   "execution_count": 21,
   "metadata": {},
   "outputs": [
    {
     "data": {
      "text/plain": [
       "-0.024146723680368885"
      ]
     },
     "execution_count": 21,
     "metadata": {},
     "output_type": "execute_result"
    }
   ],
   "source": [
    "np.mean(LassoCVobject.predict(X_test_scale))"
   ]
  },
  {
   "cell_type": "code",
   "execution_count": 22,
   "metadata": {},
   "outputs": [
    {
     "data": {
      "image/png": "[encoded data removed]",
      "text/plain": [
       "<Figure size 720x2160 with 1 Axes>"
      ]
     },
     "metadata": {},
     "output_type": "display_data"
    }
   ],
   "source": [
    "graph_coef(LassoCVobject, X_test_scale.columns)"
   ]
  },
  {
   "cell_type": "markdown",
   "metadata": {},
   "source": [
    "# Define y_train_cat for classification"
   ]
  },
  {
   "cell_type": "markdown",
   "metadata": {},
   "source": [
    "For simplicity, we want to predict all the loans than satisfy a minimum return."
   ]
  },
  {
   "cell_type": "code",
   "execution_count": 23,
   "metadata": {
    "collapsed": true
   },
   "outputs": [],
   "source": [
    "y_train_cat = y_train > 0.05 #we can choose"
   ]
  },
  {
   "cell_type": "code",
   "execution_count": 24,
   "metadata": {
    "collapsed": true
   },
   "outputs": [],
   "source": [
    "y_test_cat = y_test > 0.05"
   ]
  },
  {
   "cell_type": "code",
   "execution_count": 25,
   "metadata": {},
   "outputs": [
    {
     "data": {
      "text/html": [
       "<div>\n",
       "<style scoped>\n",
       "    .dataframe tbody tr th:only-of-type {\n",
       "        vertical-align: middle;\n",
       "    }\n",
       "\n",
       "    .dataframe tbody tr th {\n",
       "        vertical-align: top;\n",
       "    }\n",
       "\n",
       "    .dataframe thead th {\n",
       "        text-align: right;\n",
       "    }\n",
       "</style>\n",
       "<table border=\"1\" class=\"dataframe\">\n",
       "  <thead>\n",
       "    <tr style=\"text-align: right;\">\n",
       "      <th></th>\n",
       "      <th>loan_amnt</th>\n",
       "      <th>term_months</th>\n",
       "      <th>int_rate</th>\n",
       "      <th>credit_score</th>\n",
       "      <th>emp_length_years</th>\n",
       "      <th>annual_inc</th>\n",
       "      <th>dti</th>\n",
       "      <th>delinq_2yrs</th>\n",
       "      <th>credit_history_years</th>\n",
       "      <th>inq_last_6mths</th>\n",
       "      <th>...</th>\n",
       "      <th>total_acc</th>\n",
       "      <th>verification_status_Not Verified</th>\n",
       "      <th>verification_status_Source Verified</th>\n",
       "      <th>verification_status_Verified</th>\n",
       "      <th>home_ownership_ANY</th>\n",
       "      <th>home_ownership_MORTGAGE</th>\n",
       "      <th>home_ownership_NONE</th>\n",
       "      <th>home_ownership_OTHER</th>\n",
       "      <th>home_ownership_OWN</th>\n",
       "      <th>home_ownership_RENT</th>\n",
       "    </tr>\n",
       "  </thead>\n",
       "  <tbody>\n",
       "    <tr>\n",
       "      <th>0</th>\n",
       "      <td>-0.978006</td>\n",
       "      <td>-0.561624</td>\n",
       "      <td>-0.400395</td>\n",
       "      <td>-0.284541</td>\n",
       "      <td>-1.462000</td>\n",
       "      <td>-0.570883</td>\n",
       "      <td>-0.426800</td>\n",
       "      <td>-0.360744</td>\n",
       "      <td>-0.226469</td>\n",
       "      <td>-0.713918</td>\n",
       "      <td>...</td>\n",
       "      <td>-1.359868</td>\n",
       "      <td>-0.654167</td>\n",
       "      <td>-0.779051</td>\n",
       "      <td>1.449006</td>\n",
       "      <td>-0.011455</td>\n",
       "      <td>-0.995315</td>\n",
       "      <td>-0.006579</td>\n",
       "      <td>-0.011689</td>\n",
       "      <td>-0.338276</td>\n",
       "      <td>1.226389</td>\n",
       "    </tr>\n",
       "    <tr>\n",
       "      <th>1</th>\n",
       "      <td>-1.094973</td>\n",
       "      <td>-0.561624</td>\n",
       "      <td>-1.720137</td>\n",
       "      <td>-1.669946</td>\n",
       "      <td>0.002234</td>\n",
       "      <td>-0.731813</td>\n",
       "      <td>0.740775</td>\n",
       "      <td>-0.360744</td>\n",
       "      <td>0.764932</td>\n",
       "      <td>-0.713918</td>\n",
       "      <td>...</td>\n",
       "      <td>-0.106119</td>\n",
       "      <td>1.528662</td>\n",
       "      <td>-0.779051</td>\n",
       "      <td>-0.690128</td>\n",
       "      <td>-0.011455</td>\n",
       "      <td>-0.995315</td>\n",
       "      <td>-0.006579</td>\n",
       "      <td>-0.011689</td>\n",
       "      <td>-0.338276</td>\n",
       "      <td>1.226389</td>\n",
       "    </tr>\n",
       "    <tr>\n",
       "      <th>2</th>\n",
       "      <td>-0.978006</td>\n",
       "      <td>-0.561624</td>\n",
       "      <td>-1.226575</td>\n",
       "      <td>-1.362078</td>\n",
       "      <td>-1.462000</td>\n",
       "      <td>-0.260287</td>\n",
       "      <td>-1.271030</td>\n",
       "      <td>-0.360744</td>\n",
       "      <td>-0.872877</td>\n",
       "      <td>-0.713918</td>\n",
       "      <td>...</td>\n",
       "      <td>-1.109118</td>\n",
       "      <td>-0.654167</td>\n",
       "      <td>-0.779051</td>\n",
       "      <td>1.449006</td>\n",
       "      <td>-0.011455</td>\n",
       "      <td>1.004707</td>\n",
       "      <td>-0.006579</td>\n",
       "      <td>-0.011689</td>\n",
       "      <td>-0.338276</td>\n",
       "      <td>-0.815402</td>\n",
       "    </tr>\n",
       "    <tr>\n",
       "      <th>3</th>\n",
       "      <td>-0.744073</td>\n",
       "      <td>-0.561624</td>\n",
       "      <td>-1.314558</td>\n",
       "      <td>-1.362078</td>\n",
       "      <td>1.145464</td>\n",
       "      <td>0.314235</td>\n",
       "      <td>-0.317632</td>\n",
       "      <td>0.787205</td>\n",
       "      <td>0.363904</td>\n",
       "      <td>-0.713918</td>\n",
       "      <td>...</td>\n",
       "      <td>1.314797</td>\n",
       "      <td>-0.654167</td>\n",
       "      <td>1.283612</td>\n",
       "      <td>-0.690128</td>\n",
       "      <td>-0.011455</td>\n",
       "      <td>1.004707</td>\n",
       "      <td>-0.006579</td>\n",
       "      <td>-0.011689</td>\n",
       "      <td>-0.338276</td>\n",
       "      <td>-0.815402</td>\n",
       "    </tr>\n",
       "    <tr>\n",
       "      <th>4</th>\n",
       "      <td>-0.817177</td>\n",
       "      <td>-0.561624</td>\n",
       "      <td>0.908618</td>\n",
       "      <td>1.100864</td>\n",
       "      <td>-1.462000</td>\n",
       "      <td>-0.842855</td>\n",
       "      <td>-1.339650</td>\n",
       "      <td>-0.360744</td>\n",
       "      <td>-1.319319</td>\n",
       "      <td>1.358606</td>\n",
       "      <td>...</td>\n",
       "      <td>-1.025535</td>\n",
       "      <td>-0.654167</td>\n",
       "      <td>-0.779051</td>\n",
       "      <td>1.449006</td>\n",
       "      <td>-0.011455</td>\n",
       "      <td>-0.995315</td>\n",
       "      <td>-0.006579</td>\n",
       "      <td>-0.011689</td>\n",
       "      <td>-0.338276</td>\n",
       "      <td>1.226389</td>\n",
       "    </tr>\n",
       "    <tr>\n",
       "      <th>5</th>\n",
       "      <td>-0.767467</td>\n",
       "      <td>-0.561624</td>\n",
       "      <td>-0.260910</td>\n",
       "      <td>-0.592409</td>\n",
       "      <td>-1.172282</td>\n",
       "      <td>0.314235</td>\n",
       "      <td>-0.749104</td>\n",
       "      <td>1.935153</td>\n",
       "      <td>0.888354</td>\n",
       "      <td>-0.713918</td>\n",
       "      <td>...</td>\n",
       "      <td>0.311798</td>\n",
       "      <td>1.528662</td>\n",
       "      <td>-0.779051</td>\n",
       "      <td>-0.690128</td>\n",
       "      <td>-0.011455</td>\n",
       "      <td>1.004707</td>\n",
       "      <td>-0.006579</td>\n",
       "      <td>-0.011689</td>\n",
       "      <td>-0.338276</td>\n",
       "      <td>-0.815402</td>\n",
       "    </tr>\n",
       "    <tr>\n",
       "      <th>6</th>\n",
       "      <td>-1.247029</td>\n",
       "      <td>-0.561624</td>\n",
       "      <td>-0.033442</td>\n",
       "      <td>0.177261</td>\n",
       "      <td>-0.303127</td>\n",
       "      <td>-0.474324</td>\n",
       "      <td>0.516202</td>\n",
       "      <td>3.083102</td>\n",
       "      <td>0.743324</td>\n",
       "      <td>0.322344</td>\n",
       "      <td>...</td>\n",
       "      <td>1.147631</td>\n",
       "      <td>-0.654167</td>\n",
       "      <td>-0.779051</td>\n",
       "      <td>1.449006</td>\n",
       "      <td>-0.011455</td>\n",
       "      <td>1.004707</td>\n",
       "      <td>-0.006579</td>\n",
       "      <td>-0.011689</td>\n",
       "      <td>-0.338276</td>\n",
       "      <td>-0.815402</td>\n",
       "    </tr>\n",
       "    <tr>\n",
       "      <th>7</th>\n",
       "      <td>0.659524</td>\n",
       "      <td>-0.561624</td>\n",
       "      <td>-0.202970</td>\n",
       "      <td>-0.130607</td>\n",
       "      <td>1.145464</td>\n",
       "      <td>0.153305</td>\n",
       "      <td>-1.012146</td>\n",
       "      <td>0.787205</td>\n",
       "      <td>-0.728213</td>\n",
       "      <td>0.322344</td>\n",
       "      <td>...</td>\n",
       "      <td>-0.106119</td>\n",
       "      <td>-0.654167</td>\n",
       "      <td>1.283612</td>\n",
       "      <td>-0.690128</td>\n",
       "      <td>-0.011455</td>\n",
       "      <td>1.004707</td>\n",
       "      <td>-0.006579</td>\n",
       "      <td>-0.011689</td>\n",
       "      <td>-0.338276</td>\n",
       "      <td>-0.815402</td>\n",
       "    </tr>\n",
       "    <tr>\n",
       "      <th>8</th>\n",
       "      <td>0.191658</td>\n",
       "      <td>-0.561624</td>\n",
       "      <td>0.069562</td>\n",
       "      <td>0.177261</td>\n",
       "      <td>-1.462000</td>\n",
       "      <td>-0.522604</td>\n",
       "      <td>-0.434077</td>\n",
       "      <td>0.787205</td>\n",
       "      <td>-0.449141</td>\n",
       "      <td>-0.713918</td>\n",
       "      <td>...</td>\n",
       "      <td>-0.691202</td>\n",
       "      <td>-0.654167</td>\n",
       "      <td>-0.779051</td>\n",
       "      <td>1.449006</td>\n",
       "      <td>-0.011455</td>\n",
       "      <td>1.004707</td>\n",
       "      <td>-0.006579</td>\n",
       "      <td>-0.011689</td>\n",
       "      <td>-0.338276</td>\n",
       "      <td>-0.815402</td>\n",
       "    </tr>\n",
       "    <tr>\n",
       "      <th>9</th>\n",
       "      <td>1.127390</td>\n",
       "      <td>1.780551</td>\n",
       "      <td>1.054540</td>\n",
       "      <td>0.946930</td>\n",
       "      <td>-0.592845</td>\n",
       "      <td>1.038423</td>\n",
       "      <td>0.421590</td>\n",
       "      <td>3.083102</td>\n",
       "      <td>0.653963</td>\n",
       "      <td>0.322344</td>\n",
       "      <td>...</td>\n",
       "      <td>2.150631</td>\n",
       "      <td>-0.654167</td>\n",
       "      <td>1.283612</td>\n",
       "      <td>-0.690128</td>\n",
       "      <td>-0.011455</td>\n",
       "      <td>-0.995315</td>\n",
       "      <td>-0.006579</td>\n",
       "      <td>-0.011689</td>\n",
       "      <td>-0.338276</td>\n",
       "      <td>1.226389</td>\n",
       "    </tr>\n",
       "    <tr>\n",
       "      <th>10</th>\n",
       "      <td>1.969548</td>\n",
       "      <td>-0.561624</td>\n",
       "      <td>-0.786661</td>\n",
       "      <td>-0.900276</td>\n",
       "      <td>-1.172282</td>\n",
       "      <td>0.117900</td>\n",
       "      <td>0.296826</td>\n",
       "      <td>-0.360744</td>\n",
       "      <td>0.274908</td>\n",
       "      <td>-0.713918</td>\n",
       "      <td>...</td>\n",
       "      <td>0.395381</td>\n",
       "      <td>-0.654167</td>\n",
       "      <td>1.283612</td>\n",
       "      <td>-0.690128</td>\n",
       "      <td>-0.011455</td>\n",
       "      <td>1.004707</td>\n",
       "      <td>-0.006579</td>\n",
       "      <td>-0.011689</td>\n",
       "      <td>-0.338276</td>\n",
       "      <td>-0.815402</td>\n",
       "    </tr>\n",
       "    <tr>\n",
       "      <th>11</th>\n",
       "      <td>-1.094973</td>\n",
       "      <td>-0.561624</td>\n",
       "      <td>-0.503399</td>\n",
       "      <td>-0.438475</td>\n",
       "      <td>1.145464</td>\n",
       "      <td>-0.442138</td>\n",
       "      <td>1.115065</td>\n",
       "      <td>-0.360744</td>\n",
       "      <td>-0.215482</td>\n",
       "      <td>0.322344</td>\n",
       "      <td>...</td>\n",
       "      <td>-0.440452</td>\n",
       "      <td>-0.654167</td>\n",
       "      <td>1.283612</td>\n",
       "      <td>-0.690128</td>\n",
       "      <td>-0.011455</td>\n",
       "      <td>1.004707</td>\n",
       "      <td>-0.006579</td>\n",
       "      <td>-0.011689</td>\n",
       "      <td>-0.338276</td>\n",
       "      <td>-0.815402</td>\n",
       "    </tr>\n",
       "    <tr>\n",
       "      <th>12</th>\n",
       "      <td>1.244356</td>\n",
       "      <td>1.780551</td>\n",
       "      <td>0.161837</td>\n",
       "      <td>-0.284541</td>\n",
       "      <td>-0.013409</td>\n",
       "      <td>-0.249022</td>\n",
       "      <td>0.697108</td>\n",
       "      <td>-0.360744</td>\n",
       "      <td>-0.315465</td>\n",
       "      <td>-0.713918</td>\n",
       "      <td>...</td>\n",
       "      <td>-0.524035</td>\n",
       "      <td>-0.654167</td>\n",
       "      <td>-0.779051</td>\n",
       "      <td>1.449006</td>\n",
       "      <td>-0.011455</td>\n",
       "      <td>1.004707</td>\n",
       "      <td>-0.006579</td>\n",
       "      <td>-0.011689</td>\n",
       "      <td>-0.338276</td>\n",
       "      <td>-0.815402</td>\n",
       "    </tr>\n",
       "    <tr>\n",
       "      <th>13</th>\n",
       "      <td>-0.270359</td>\n",
       "      <td>-0.561624</td>\n",
       "      <td>1.327072</td>\n",
       "      <td>1.562666</td>\n",
       "      <td>-0.592845</td>\n",
       "      <td>-0.545134</td>\n",
       "      <td>1.970731</td>\n",
       "      <td>-0.360744</td>\n",
       "      <td>-0.282504</td>\n",
       "      <td>-0.713918</td>\n",
       "      <td>...</td>\n",
       "      <td>0.896881</td>\n",
       "      <td>1.528662</td>\n",
       "      <td>-0.779051</td>\n",
       "      <td>-0.690128</td>\n",
       "      <td>-0.011455</td>\n",
       "      <td>1.004707</td>\n",
       "      <td>-0.006579</td>\n",
       "      <td>-0.011689</td>\n",
       "      <td>-0.338276</td>\n",
       "      <td>-0.815402</td>\n",
       "    </tr>\n",
       "    <tr>\n",
       "      <th>14</th>\n",
       "      <td>0.659524</td>\n",
       "      <td>-0.561624</td>\n",
       "      <td>-1.469064</td>\n",
       "      <td>-1.516012</td>\n",
       "      <td>-0.882563</td>\n",
       "      <td>-0.570883</td>\n",
       "      <td>-1.030861</td>\n",
       "      <td>-0.360744</td>\n",
       "      <td>-1.162569</td>\n",
       "      <td>-0.713918</td>\n",
       "      <td>...</td>\n",
       "      <td>-0.941952</td>\n",
       "      <td>1.528662</td>\n",
       "      <td>-0.779051</td>\n",
       "      <td>-0.690128</td>\n",
       "      <td>-0.011455</td>\n",
       "      <td>-0.995315</td>\n",
       "      <td>-0.006579</td>\n",
       "      <td>-0.011689</td>\n",
       "      <td>2.956166</td>\n",
       "      <td>-0.815402</td>\n",
       "    </tr>\n",
       "    <tr>\n",
       "      <th>15</th>\n",
       "      <td>0.425591</td>\n",
       "      <td>1.780551</td>\n",
       "      <td>2.018059</td>\n",
       "      <td>1.408732</td>\n",
       "      <td>-1.462000</td>\n",
       "      <td>0.330328</td>\n",
       "      <td>1.735761</td>\n",
       "      <td>-0.360744</td>\n",
       "      <td>0.185913</td>\n",
       "      <td>-0.713918</td>\n",
       "      <td>...</td>\n",
       "      <td>0.228215</td>\n",
       "      <td>1.528662</td>\n",
       "      <td>-0.779051</td>\n",
       "      <td>-0.690128</td>\n",
       "      <td>-0.011455</td>\n",
       "      <td>1.004707</td>\n",
       "      <td>-0.006579</td>\n",
       "      <td>-0.011689</td>\n",
       "      <td>-0.338276</td>\n",
       "      <td>-0.815402</td>\n",
       "    </tr>\n",
       "    <tr>\n",
       "      <th>16</th>\n",
       "      <td>1.244356</td>\n",
       "      <td>-0.561624</td>\n",
       "      <td>-1.211553</td>\n",
       "      <td>-1.208144</td>\n",
       "      <td>-1.462000</td>\n",
       "      <td>-0.007626</td>\n",
       "      <td>0.335295</td>\n",
       "      <td>-0.360744</td>\n",
       "      <td>-0.638852</td>\n",
       "      <td>-0.713918</td>\n",
       "      <td>...</td>\n",
       "      <td>0.311798</td>\n",
       "      <td>-0.654167</td>\n",
       "      <td>1.283612</td>\n",
       "      <td>-0.690128</td>\n",
       "      <td>-0.011455</td>\n",
       "      <td>-0.995315</td>\n",
       "      <td>-0.006579</td>\n",
       "      <td>-0.011689</td>\n",
       "      <td>-0.338276</td>\n",
       "      <td>1.226389</td>\n",
       "    </tr>\n",
       "    <tr>\n",
       "      <th>17</th>\n",
       "      <td>-1.539445</td>\n",
       "      <td>-0.561624</td>\n",
       "      <td>1.161836</td>\n",
       "      <td>0.946930</td>\n",
       "      <td>1.145464</td>\n",
       "      <td>-0.453033</td>\n",
       "      <td>-1.570461</td>\n",
       "      <td>-0.360744</td>\n",
       "      <td>-0.516529</td>\n",
       "      <td>-0.713918</td>\n",
       "      <td>...</td>\n",
       "      <td>-1.276285</td>\n",
       "      <td>1.528662</td>\n",
       "      <td>-0.779051</td>\n",
       "      <td>-0.690128</td>\n",
       "      <td>-0.011455</td>\n",
       "      <td>-0.995315</td>\n",
       "      <td>-0.006579</td>\n",
       "      <td>-0.011689</td>\n",
       "      <td>-0.338276</td>\n",
       "      <td>1.226389</td>\n",
       "    </tr>\n",
       "    <tr>\n",
       "      <th>18</th>\n",
       "      <td>-0.823026</td>\n",
       "      <td>-0.561624</td>\n",
       "      <td>-0.896103</td>\n",
       "      <td>-0.746343</td>\n",
       "      <td>-0.882563</td>\n",
       "      <td>-0.249022</td>\n",
       "      <td>1.661943</td>\n",
       "      <td>-0.360744</td>\n",
       "      <td>-0.672545</td>\n",
       "      <td>0.322344</td>\n",
       "      <td>...</td>\n",
       "      <td>-0.022535</td>\n",
       "      <td>-0.654167</td>\n",
       "      <td>-0.779051</td>\n",
       "      <td>1.449006</td>\n",
       "      <td>-0.011455</td>\n",
       "      <td>1.004707</td>\n",
       "      <td>-0.006579</td>\n",
       "      <td>-0.011689</td>\n",
       "      <td>-0.338276</td>\n",
       "      <td>-0.815402</td>\n",
       "    </tr>\n",
       "    <tr>\n",
       "      <th>19</th>\n",
       "      <td>-1.036489</td>\n",
       "      <td>-0.561624</td>\n",
       "      <td>0.354970</td>\n",
       "      <td>0.331195</td>\n",
       "      <td>0.002234</td>\n",
       "      <td>-0.961606</td>\n",
       "      <td>-0.847875</td>\n",
       "      <td>-0.360744</td>\n",
       "      <td>-1.854390</td>\n",
       "      <td>-0.713918</td>\n",
       "      <td>...</td>\n",
       "      <td>-1.777785</td>\n",
       "      <td>-0.654167</td>\n",
       "      <td>-0.779051</td>\n",
       "      <td>1.449006</td>\n",
       "      <td>-0.011455</td>\n",
       "      <td>-0.995315</td>\n",
       "      <td>-0.006579</td>\n",
       "      <td>-0.011689</td>\n",
       "      <td>-0.338276</td>\n",
       "      <td>1.226389</td>\n",
       "    </tr>\n",
       "    <tr>\n",
       "      <th>20</th>\n",
       "      <td>-0.276208</td>\n",
       "      <td>-0.561624</td>\n",
       "      <td>-1.168635</td>\n",
       "      <td>-1.054210</td>\n",
       "      <td>-1.172282</td>\n",
       "      <td>-0.249022</td>\n",
       "      <td>-0.831240</td>\n",
       "      <td>-0.360744</td>\n",
       "      <td>-0.482835</td>\n",
       "      <td>-0.713918</td>\n",
       "      <td>...</td>\n",
       "      <td>-1.527035</td>\n",
       "      <td>-0.654167</td>\n",
       "      <td>1.283612</td>\n",
       "      <td>-0.690128</td>\n",
       "      <td>-0.011455</td>\n",
       "      <td>-0.995315</td>\n",
       "      <td>-0.006579</td>\n",
       "      <td>-0.011689</td>\n",
       "      <td>-0.338276</td>\n",
       "      <td>1.226389</td>\n",
       "    </tr>\n",
       "    <tr>\n",
       "      <th>21</th>\n",
       "      <td>-0.764542</td>\n",
       "      <td>-0.561624</td>\n",
       "      <td>1.316343</td>\n",
       "      <td>1.254798</td>\n",
       "      <td>-0.303127</td>\n",
       "      <td>-0.442138</td>\n",
       "      <td>-0.106574</td>\n",
       "      <td>-0.360744</td>\n",
       "      <td>-0.416180</td>\n",
       "      <td>0.322344</td>\n",
       "      <td>...</td>\n",
       "      <td>-0.607618</td>\n",
       "      <td>-0.654167</td>\n",
       "      <td>1.283612</td>\n",
       "      <td>-0.690128</td>\n",
       "      <td>-0.011455</td>\n",
       "      <td>1.004707</td>\n",
       "      <td>-0.006579</td>\n",
       "      <td>-0.011689</td>\n",
       "      <td>-0.338276</td>\n",
       "      <td>-0.815402</td>\n",
       "    </tr>\n",
       "    <tr>\n",
       "      <th>22</th>\n",
       "      <td>0.425591</td>\n",
       "      <td>1.780551</td>\n",
       "      <td>0.033081</td>\n",
       "      <td>0.023327</td>\n",
       "      <td>1.145464</td>\n",
       "      <td>1.038423</td>\n",
       "      <td>0.374803</td>\n",
       "      <td>-0.360744</td>\n",
       "      <td>0.074577</td>\n",
       "      <td>-0.713918</td>\n",
       "      <td>...</td>\n",
       "      <td>0.061048</td>\n",
       "      <td>1.528662</td>\n",
       "      <td>-0.779051</td>\n",
       "      <td>-0.690128</td>\n",
       "      <td>-0.011455</td>\n",
       "      <td>1.004707</td>\n",
       "      <td>-0.006579</td>\n",
       "      <td>-0.011689</td>\n",
       "      <td>-0.338276</td>\n",
       "      <td>-0.815402</td>\n",
       "    </tr>\n",
       "    <tr>\n",
       "      <th>23</th>\n",
       "      <td>-0.393174</td>\n",
       "      <td>-0.561624</td>\n",
       "      <td>-0.181511</td>\n",
       "      <td>-0.284541</td>\n",
       "      <td>-0.303127</td>\n",
       "      <td>-0.137175</td>\n",
       "      <td>-0.383132</td>\n",
       "      <td>-0.360744</td>\n",
       "      <td>-1.117889</td>\n",
       "      <td>-0.713918</td>\n",
       "      <td>...</td>\n",
       "      <td>-1.276285</td>\n",
       "      <td>-0.654167</td>\n",
       "      <td>-0.779051</td>\n",
       "      <td>1.449006</td>\n",
       "      <td>-0.011455</td>\n",
       "      <td>-0.995315</td>\n",
       "      <td>-0.006579</td>\n",
       "      <td>-0.011689</td>\n",
       "      <td>-0.338276</td>\n",
       "      <td>1.226389</td>\n",
       "    </tr>\n",
       "    <tr>\n",
       "      <th>24</th>\n",
       "      <td>-0.276208</td>\n",
       "      <td>-0.561624</td>\n",
       "      <td>-1.168635</td>\n",
       "      <td>-1.054210</td>\n",
       "      <td>1.145464</td>\n",
       "      <td>-0.178212</td>\n",
       "      <td>-0.174154</td>\n",
       "      <td>0.787205</td>\n",
       "      <td>0.898975</td>\n",
       "      <td>0.322344</td>\n",
       "      <td>...</td>\n",
       "      <td>0.061048</td>\n",
       "      <td>-0.654167</td>\n",
       "      <td>1.283612</td>\n",
       "      <td>-0.690128</td>\n",
       "      <td>-0.011455</td>\n",
       "      <td>-0.995315</td>\n",
       "      <td>-0.006579</td>\n",
       "      <td>-0.011689</td>\n",
       "      <td>-0.338276</td>\n",
       "      <td>1.226389</td>\n",
       "    </tr>\n",
       "    <tr>\n",
       "      <th>25</th>\n",
       "      <td>0.729704</td>\n",
       "      <td>-0.561624</td>\n",
       "      <td>-1.061339</td>\n",
       "      <td>-1.054210</td>\n",
       "      <td>-1.462000</td>\n",
       "      <td>1.762610</td>\n",
       "      <td>0.192857</td>\n",
       "      <td>0.787205</td>\n",
       "      <td>0.508933</td>\n",
       "      <td>-0.713918</td>\n",
       "      <td>...</td>\n",
       "      <td>0.813298</td>\n",
       "      <td>1.528662</td>\n",
       "      <td>-0.779051</td>\n",
       "      <td>-0.690128</td>\n",
       "      <td>-0.011455</td>\n",
       "      <td>-0.995315</td>\n",
       "      <td>-0.006579</td>\n",
       "      <td>-0.011689</td>\n",
       "      <td>-0.338276</td>\n",
       "      <td>1.226389</td>\n",
       "    </tr>\n",
       "    <tr>\n",
       "      <th>26</th>\n",
       "      <td>-1.094973</td>\n",
       "      <td>-0.561624</td>\n",
       "      <td>-0.554901</td>\n",
       "      <td>-0.438475</td>\n",
       "      <td>0.566028</td>\n",
       "      <td>-0.683534</td>\n",
       "      <td>-1.459214</td>\n",
       "      <td>-0.360744</td>\n",
       "      <td>-1.006553</td>\n",
       "      <td>1.358606</td>\n",
       "      <td>...</td>\n",
       "      <td>-1.276285</td>\n",
       "      <td>1.528662</td>\n",
       "      <td>-0.779051</td>\n",
       "      <td>-0.690128</td>\n",
       "      <td>-0.011455</td>\n",
       "      <td>-0.995315</td>\n",
       "      <td>-0.006579</td>\n",
       "      <td>-0.011689</td>\n",
       "      <td>2.956166</td>\n",
       "      <td>-0.815402</td>\n",
       "    </tr>\n",
       "    <tr>\n",
       "      <th>27</th>\n",
       "      <td>-0.744073</td>\n",
       "      <td>-0.561624</td>\n",
       "      <td>0.367845</td>\n",
       "      <td>0.331195</td>\n",
       "      <td>1.145464</td>\n",
       "      <td>-0.071998</td>\n",
       "      <td>2.010240</td>\n",
       "      <td>-0.360744</td>\n",
       "      <td>-1.330306</td>\n",
       "      <td>-0.713918</td>\n",
       "      <td>...</td>\n",
       "      <td>-0.106119</td>\n",
       "      <td>-0.654167</td>\n",
       "      <td>-0.779051</td>\n",
       "      <td>1.449006</td>\n",
       "      <td>-0.011455</td>\n",
       "      <td>1.004707</td>\n",
       "      <td>-0.006579</td>\n",
       "      <td>-0.011689</td>\n",
       "      <td>-0.338276</td>\n",
       "      <td>-0.815402</td>\n",
       "    </tr>\n",
       "    <tr>\n",
       "      <th>28</th>\n",
       "      <td>-1.118366</td>\n",
       "      <td>-0.561624</td>\n",
       "      <td>-1.233013</td>\n",
       "      <td>-1.362078</td>\n",
       "      <td>-1.462000</td>\n",
       "      <td>-0.750507</td>\n",
       "      <td>-0.079542</td>\n",
       "      <td>0.787205</td>\n",
       "      <td>-0.326818</td>\n",
       "      <td>0.322344</td>\n",
       "      <td>...</td>\n",
       "      <td>-0.524035</td>\n",
       "      <td>1.528662</td>\n",
       "      <td>-0.779051</td>\n",
       "      <td>-0.690128</td>\n",
       "      <td>-0.011455</td>\n",
       "      <td>1.004707</td>\n",
       "      <td>-0.006579</td>\n",
       "      <td>-0.011689</td>\n",
       "      <td>-0.338276</td>\n",
       "      <td>-0.815402</td>\n",
       "    </tr>\n",
       "    <tr>\n",
       "      <th>29</th>\n",
       "      <td>-0.343463</td>\n",
       "      <td>-0.561624</td>\n",
       "      <td>-0.503399</td>\n",
       "      <td>-0.438475</td>\n",
       "      <td>0.276310</td>\n",
       "      <td>0.137212</td>\n",
       "      <td>-0.759501</td>\n",
       "      <td>1.935153</td>\n",
       "      <td>0.408951</td>\n",
       "      <td>-0.713918</td>\n",
       "      <td>...</td>\n",
       "      <td>-0.273285</td>\n",
       "      <td>1.528662</td>\n",
       "      <td>-0.779051</td>\n",
       "      <td>-0.690128</td>\n",
       "      <td>-0.011455</td>\n",
       "      <td>1.004707</td>\n",
       "      <td>-0.006579</td>\n",
       "      <td>-0.011689</td>\n",
       "      <td>-0.338276</td>\n",
       "      <td>-0.815402</td>\n",
       "    </tr>\n",
       "    <tr>\n",
       "      <th>...</th>\n",
       "      <td>...</td>\n",
       "      <td>...</td>\n",
       "      <td>...</td>\n",
       "      <td>...</td>\n",
       "      <td>...</td>\n",
       "      <td>...</td>\n",
       "      <td>...</td>\n",
       "      <td>...</td>\n",
       "      <td>...</td>\n",
       "      <td>...</td>\n",
       "      <td>...</td>\n",
       "      <td>...</td>\n",
       "      <td>...</td>\n",
       "      <td>...</td>\n",
       "      <td>...</td>\n",
       "      <td>...</td>\n",
       "      <td>...</td>\n",
       "      <td>...</td>\n",
       "      <td>...</td>\n",
       "      <td>...</td>\n",
       "      <td>...</td>\n",
       "    </tr>\n",
       "    <tr>\n",
       "      <th>739300</th>\n",
       "      <td>-1.258726</td>\n",
       "      <td>-0.561624</td>\n",
       "      <td>-0.717991</td>\n",
       "      <td>-0.592409</td>\n",
       "      <td>-1.462000</td>\n",
       "      <td>0.072839</td>\n",
       "      <td>-0.084741</td>\n",
       "      <td>-0.360744</td>\n",
       "      <td>2.281517</td>\n",
       "      <td>0.322344</td>\n",
       "      <td>...</td>\n",
       "      <td>1.064048</td>\n",
       "      <td>-0.654167</td>\n",
       "      <td>1.283612</td>\n",
       "      <td>-0.690128</td>\n",
       "      <td>-0.011455</td>\n",
       "      <td>1.004707</td>\n",
       "      <td>-0.006579</td>\n",
       "      <td>-0.011689</td>\n",
       "      <td>-0.338276</td>\n",
       "      <td>-0.815402</td>\n",
       "    </tr>\n",
       "    <tr>\n",
       "      <th>739301</th>\n",
       "      <td>-0.837647</td>\n",
       "      <td>-0.561624</td>\n",
       "      <td>0.633940</td>\n",
       "      <td>0.639062</td>\n",
       "      <td>0.002234</td>\n",
       "      <td>-0.924930</td>\n",
       "      <td>2.272242</td>\n",
       "      <td>-0.360744</td>\n",
       "      <td>-0.405193</td>\n",
       "      <td>-0.713918</td>\n",
       "      <td>...</td>\n",
       "      <td>-1.192702</td>\n",
       "      <td>-0.654167</td>\n",
       "      <td>-0.779051</td>\n",
       "      <td>1.449006</td>\n",
       "      <td>-0.011455</td>\n",
       "      <td>-0.995315</td>\n",
       "      <td>-0.006579</td>\n",
       "      <td>-0.011689</td>\n",
       "      <td>-0.338276</td>\n",
       "      <td>1.226389</td>\n",
       "    </tr>\n",
       "    <tr>\n",
       "      <th>739302</th>\n",
       "      <td>1.595256</td>\n",
       "      <td>1.780551</td>\n",
       "      <td>-0.357476</td>\n",
       "      <td>-0.438475</td>\n",
       "      <td>-1.172282</td>\n",
       "      <td>-0.007626</td>\n",
       "      <td>-0.467348</td>\n",
       "      <td>-0.360744</td>\n",
       "      <td>1.479093</td>\n",
       "      <td>-0.713918</td>\n",
       "      <td>...</td>\n",
       "      <td>0.228215</td>\n",
       "      <td>-0.654167</td>\n",
       "      <td>1.283612</td>\n",
       "      <td>-0.690128</td>\n",
       "      <td>-0.011455</td>\n",
       "      <td>1.004707</td>\n",
       "      <td>-0.006579</td>\n",
       "      <td>-0.011689</td>\n",
       "      <td>-0.338276</td>\n",
       "      <td>-0.815402</td>\n",
       "    </tr>\n",
       "    <tr>\n",
       "      <th>739303</th>\n",
       "      <td>0.659524</td>\n",
       "      <td>1.780551</td>\n",
       "      <td>-0.160052</td>\n",
       "      <td>0.023327</td>\n",
       "      <td>1.145464</td>\n",
       "      <td>0.129165</td>\n",
       "      <td>-0.597309</td>\n",
       "      <td>-0.360744</td>\n",
       "      <td>-0.371499</td>\n",
       "      <td>-0.713918</td>\n",
       "      <td>...</td>\n",
       "      <td>1.899881</td>\n",
       "      <td>1.528662</td>\n",
       "      <td>-0.779051</td>\n",
       "      <td>-0.690128</td>\n",
       "      <td>-0.011455</td>\n",
       "      <td>-0.995315</td>\n",
       "      <td>-0.006579</td>\n",
       "      <td>-0.011689</td>\n",
       "      <td>2.956166</td>\n",
       "      <td>-0.815402</td>\n",
       "    </tr>\n",
       "    <tr>\n",
       "      <th>739304</th>\n",
       "      <td>-1.094973</td>\n",
       "      <td>-0.561624</td>\n",
       "      <td>-0.074215</td>\n",
       "      <td>-0.130607</td>\n",
       "      <td>-0.882563</td>\n",
       "      <td>-0.812279</td>\n",
       "      <td>0.042102</td>\n",
       "      <td>-0.360744</td>\n",
       "      <td>3.697753</td>\n",
       "      <td>0.322344</td>\n",
       "      <td>...</td>\n",
       "      <td>0.729714</td>\n",
       "      <td>-0.654167</td>\n",
       "      <td>1.283612</td>\n",
       "      <td>-0.690128</td>\n",
       "      <td>-0.011455</td>\n",
       "      <td>1.004707</td>\n",
       "      <td>-0.006579</td>\n",
       "      <td>-0.011689</td>\n",
       "      <td>-0.338276</td>\n",
       "      <td>-0.815402</td>\n",
       "    </tr>\n",
       "    <tr>\n",
       "      <th>739305</th>\n",
       "      <td>-0.276208</td>\n",
       "      <td>1.780551</td>\n",
       "      <td>0.488017</td>\n",
       "      <td>0.639062</td>\n",
       "      <td>1.145464</td>\n",
       "      <td>-0.715720</td>\n",
       "      <td>1.469600</td>\n",
       "      <td>-0.360744</td>\n",
       "      <td>-0.828928</td>\n",
       "      <td>-0.713918</td>\n",
       "      <td>...</td>\n",
       "      <td>-0.440452</td>\n",
       "      <td>-0.654167</td>\n",
       "      <td>1.283612</td>\n",
       "      <td>-0.690128</td>\n",
       "      <td>-0.011455</td>\n",
       "      <td>-0.995315</td>\n",
       "      <td>-0.006579</td>\n",
       "      <td>-0.011689</td>\n",
       "      <td>-0.338276</td>\n",
       "      <td>1.226389</td>\n",
       "    </tr>\n",
       "    <tr>\n",
       "      <th>739306</th>\n",
       "      <td>1.185873</td>\n",
       "      <td>-0.561624</td>\n",
       "      <td>-1.166489</td>\n",
       "      <td>-1.208144</td>\n",
       "      <td>1.145464</td>\n",
       "      <td>1.038423</td>\n",
       "      <td>-1.079726</td>\n",
       "      <td>-0.360744</td>\n",
       "      <td>-0.293857</td>\n",
       "      <td>2.394867</td>\n",
       "      <td>...</td>\n",
       "      <td>-0.691202</td>\n",
       "      <td>-0.654167</td>\n",
       "      <td>1.283612</td>\n",
       "      <td>-0.690128</td>\n",
       "      <td>-0.011455</td>\n",
       "      <td>-0.995315</td>\n",
       "      <td>-0.006579</td>\n",
       "      <td>-0.011689</td>\n",
       "      <td>-0.338276</td>\n",
       "      <td>1.226389</td>\n",
       "    </tr>\n",
       "    <tr>\n",
       "      <th>739307</th>\n",
       "      <td>1.127390</td>\n",
       "      <td>-0.561624</td>\n",
       "      <td>-1.720137</td>\n",
       "      <td>-1.669946</td>\n",
       "      <td>1.145464</td>\n",
       "      <td>0.845306</td>\n",
       "      <td>-1.072449</td>\n",
       "      <td>1.935153</td>\n",
       "      <td>-0.115134</td>\n",
       "      <td>-0.713918</td>\n",
       "      <td>...</td>\n",
       "      <td>0.061048</td>\n",
       "      <td>-0.654167</td>\n",
       "      <td>1.283612</td>\n",
       "      <td>-0.690128</td>\n",
       "      <td>-0.011455</td>\n",
       "      <td>1.004707</td>\n",
       "      <td>-0.006579</td>\n",
       "      <td>-0.011689</td>\n",
       "      <td>-0.338276</td>\n",
       "      <td>-0.815402</td>\n",
       "    </tr>\n",
       "    <tr>\n",
       "      <th>739308</th>\n",
       "      <td>-0.861040</td>\n",
       "      <td>-0.561624</td>\n",
       "      <td>-1.211553</td>\n",
       "      <td>-1.208144</td>\n",
       "      <td>1.145464</td>\n",
       "      <td>0.185491</td>\n",
       "      <td>-0.760541</td>\n",
       "      <td>0.787205</td>\n",
       "      <td>1.133732</td>\n",
       "      <td>-0.713918</td>\n",
       "      <td>...</td>\n",
       "      <td>0.729714</td>\n",
       "      <td>1.528662</td>\n",
       "      <td>-0.779051</td>\n",
       "      <td>-0.690128</td>\n",
       "      <td>-0.011455</td>\n",
       "      <td>1.004707</td>\n",
       "      <td>-0.006579</td>\n",
       "      <td>-0.011689</td>\n",
       "      <td>-0.338276</td>\n",
       "      <td>-0.815402</td>\n",
       "    </tr>\n",
       "    <tr>\n",
       "      <th>739309</th>\n",
       "      <td>-0.416567</td>\n",
       "      <td>-0.561624</td>\n",
       "      <td>-1.275931</td>\n",
       "      <td>-1.208144</td>\n",
       "      <td>-0.592845</td>\n",
       "      <td>-0.120277</td>\n",
       "      <td>0.047300</td>\n",
       "      <td>0.787205</td>\n",
       "      <td>-0.137474</td>\n",
       "      <td>-0.713918</td>\n",
       "      <td>...</td>\n",
       "      <td>0.061048</td>\n",
       "      <td>1.528662</td>\n",
       "      <td>-0.779051</td>\n",
       "      <td>-0.690128</td>\n",
       "      <td>-0.011455</td>\n",
       "      <td>1.004707</td>\n",
       "      <td>-0.006579</td>\n",
       "      <td>-0.011689</td>\n",
       "      <td>-0.338276</td>\n",
       "      <td>-0.815402</td>\n",
       "    </tr>\n",
       "    <tr>\n",
       "      <th>739310</th>\n",
       "      <td>-0.276208</td>\n",
       "      <td>-0.561624</td>\n",
       "      <td>-0.503399</td>\n",
       "      <td>-0.438475</td>\n",
       "      <td>0.002234</td>\n",
       "      <td>-0.686918</td>\n",
       "      <td>0.555710</td>\n",
       "      <td>-0.360744</td>\n",
       "      <td>0.621001</td>\n",
       "      <td>-0.713918</td>\n",
       "      <td>...</td>\n",
       "      <td>1.064048</td>\n",
       "      <td>-0.654167</td>\n",
       "      <td>-0.779051</td>\n",
       "      <td>1.449006</td>\n",
       "      <td>-0.011455</td>\n",
       "      <td>-0.995315</td>\n",
       "      <td>-0.006579</td>\n",
       "      <td>-0.011689</td>\n",
       "      <td>2.956166</td>\n",
       "      <td>-0.815402</td>\n",
       "    </tr>\n",
       "    <tr>\n",
       "      <th>739311</th>\n",
       "      <td>1.010423</td>\n",
       "      <td>-0.561624</td>\n",
       "      <td>-1.720137</td>\n",
       "      <td>-1.669946</td>\n",
       "      <td>-1.172282</td>\n",
       "      <td>1.199353</td>\n",
       "      <td>-1.169140</td>\n",
       "      <td>-0.360744</td>\n",
       "      <td>-0.237823</td>\n",
       "      <td>-0.713918</td>\n",
       "      <td>...</td>\n",
       "      <td>-0.022535</td>\n",
       "      <td>1.528662</td>\n",
       "      <td>-0.779051</td>\n",
       "      <td>-0.690128</td>\n",
       "      <td>-0.011455</td>\n",
       "      <td>1.004707</td>\n",
       "      <td>-0.006579</td>\n",
       "      <td>-0.011689</td>\n",
       "      <td>-0.338276</td>\n",
       "      <td>-0.815402</td>\n",
       "    </tr>\n",
       "    <tr>\n",
       "      <th>739312</th>\n",
       "      <td>2.414021</td>\n",
       "      <td>1.780551</td>\n",
       "      <td>-0.224429</td>\n",
       "      <td>-0.130607</td>\n",
       "      <td>-1.172282</td>\n",
       "      <td>1.102795</td>\n",
       "      <td>-1.464413</td>\n",
       "      <td>-0.360744</td>\n",
       "      <td>0.621001</td>\n",
       "      <td>-0.713918</td>\n",
       "      <td>...</td>\n",
       "      <td>1.147631</td>\n",
       "      <td>-0.654167</td>\n",
       "      <td>1.283612</td>\n",
       "      <td>-0.690128</td>\n",
       "      <td>-0.011455</td>\n",
       "      <td>1.004707</td>\n",
       "      <td>-0.006579</td>\n",
       "      <td>-0.011689</td>\n",
       "      <td>-0.338276</td>\n",
       "      <td>-0.815402</td>\n",
       "    </tr>\n",
       "    <tr>\n",
       "      <th>739313</th>\n",
       "      <td>1.127390</td>\n",
       "      <td>1.780551</td>\n",
       "      <td>-0.097820</td>\n",
       "      <td>0.023327</td>\n",
       "      <td>0.566028</td>\n",
       "      <td>-0.297301</td>\n",
       "      <td>-1.022543</td>\n",
       "      <td>-0.360744</td>\n",
       "      <td>1.768786</td>\n",
       "      <td>-0.713918</td>\n",
       "      <td>...</td>\n",
       "      <td>1.816297</td>\n",
       "      <td>1.528662</td>\n",
       "      <td>-0.779051</td>\n",
       "      <td>-0.690128</td>\n",
       "      <td>-0.011455</td>\n",
       "      <td>-0.995315</td>\n",
       "      <td>-0.006579</td>\n",
       "      <td>-0.011689</td>\n",
       "      <td>-0.338276</td>\n",
       "      <td>1.226389</td>\n",
       "    </tr>\n",
       "    <tr>\n",
       "      <th>739314</th>\n",
       "      <td>0.674145</td>\n",
       "      <td>-0.561624</td>\n",
       "      <td>-0.396103</td>\n",
       "      <td>-0.284541</td>\n",
       "      <td>-0.882563</td>\n",
       "      <td>0.636096</td>\n",
       "      <td>0.356089</td>\n",
       "      <td>-0.360744</td>\n",
       "      <td>-0.070087</td>\n",
       "      <td>2.394867</td>\n",
       "      <td>...</td>\n",
       "      <td>0.896881</td>\n",
       "      <td>-0.654167</td>\n",
       "      <td>1.283612</td>\n",
       "      <td>-0.690128</td>\n",
       "      <td>-0.011455</td>\n",
       "      <td>-0.995315</td>\n",
       "      <td>-0.006579</td>\n",
       "      <td>-0.011689</td>\n",
       "      <td>-0.338276</td>\n",
       "      <td>1.226389</td>\n",
       "    </tr>\n",
       "    <tr>\n",
       "      <th>739315</th>\n",
       "      <td>-0.217724</td>\n",
       "      <td>-0.561624</td>\n",
       "      <td>-0.503399</td>\n",
       "      <td>-0.746343</td>\n",
       "      <td>0.566028</td>\n",
       "      <td>-0.409952</td>\n",
       "      <td>0.931039</td>\n",
       "      <td>0.787205</td>\n",
       "      <td>-0.371499</td>\n",
       "      <td>-0.713918</td>\n",
       "      <td>...</td>\n",
       "      <td>-0.356869</td>\n",
       "      <td>-0.654167</td>\n",
       "      <td>1.283612</td>\n",
       "      <td>-0.690128</td>\n",
       "      <td>-0.011455</td>\n",
       "      <td>-0.995315</td>\n",
       "      <td>-0.006579</td>\n",
       "      <td>-0.011689</td>\n",
       "      <td>-0.338276</td>\n",
       "      <td>1.226389</td>\n",
       "    </tr>\n",
       "    <tr>\n",
       "      <th>739316</th>\n",
       "      <td>-0.861040</td>\n",
       "      <td>-0.561624</td>\n",
       "      <td>1.054540</td>\n",
       "      <td>0.946930</td>\n",
       "      <td>-1.172282</td>\n",
       "      <td>0.233770</td>\n",
       "      <td>-0.530769</td>\n",
       "      <td>0.787205</td>\n",
       "      <td>0.353283</td>\n",
       "      <td>-0.713918</td>\n",
       "      <td>...</td>\n",
       "      <td>-0.774785</td>\n",
       "      <td>-0.654167</td>\n",
       "      <td>1.283612</td>\n",
       "      <td>-0.690128</td>\n",
       "      <td>-0.011455</td>\n",
       "      <td>-0.995315</td>\n",
       "      <td>-0.006579</td>\n",
       "      <td>-0.011689</td>\n",
       "      <td>-0.338276</td>\n",
       "      <td>1.226389</td>\n",
       "    </tr>\n",
       "    <tr>\n",
       "      <th>739317</th>\n",
       "      <td>-0.510140</td>\n",
       "      <td>-0.561624</td>\n",
       "      <td>-0.896103</td>\n",
       "      <td>-0.746343</td>\n",
       "      <td>-1.462000</td>\n",
       "      <td>0.072839</td>\n",
       "      <td>-1.218006</td>\n",
       "      <td>0.787205</td>\n",
       "      <td>-0.271516</td>\n",
       "      <td>1.358606</td>\n",
       "      <td>...</td>\n",
       "      <td>-1.276285</td>\n",
       "      <td>1.528662</td>\n",
       "      <td>-0.779051</td>\n",
       "      <td>-0.690128</td>\n",
       "      <td>-0.011455</td>\n",
       "      <td>1.004707</td>\n",
       "      <td>-0.006579</td>\n",
       "      <td>-0.011689</td>\n",
       "      <td>-0.338276</td>\n",
       "      <td>-0.815402</td>\n",
       "    </tr>\n",
       "    <tr>\n",
       "      <th>739318</th>\n",
       "      <td>-0.510140</td>\n",
       "      <td>1.780551</td>\n",
       "      <td>0.975141</td>\n",
       "      <td>2.024467</td>\n",
       "      <td>1.145464</td>\n",
       "      <td>-0.249022</td>\n",
       "      <td>0.154389</td>\n",
       "      <td>-0.360744</td>\n",
       "      <td>1.066345</td>\n",
       "      <td>1.358606</td>\n",
       "      <td>...</td>\n",
       "      <td>1.899881</td>\n",
       "      <td>-0.654167</td>\n",
       "      <td>-0.779051</td>\n",
       "      <td>1.449006</td>\n",
       "      <td>-0.011455</td>\n",
       "      <td>1.004707</td>\n",
       "      <td>-0.006579</td>\n",
       "      <td>-0.011689</td>\n",
       "      <td>-0.338276</td>\n",
       "      <td>-0.815402</td>\n",
       "    </tr>\n",
       "    <tr>\n",
       "      <th>739319</th>\n",
       "      <td>0.776490</td>\n",
       "      <td>-0.561624</td>\n",
       "      <td>-0.520566</td>\n",
       "      <td>-0.438475</td>\n",
       "      <td>1.145464</td>\n",
       "      <td>0.370561</td>\n",
       "      <td>0.569226</td>\n",
       "      <td>-0.360744</td>\n",
       "      <td>0.274908</td>\n",
       "      <td>0.322344</td>\n",
       "      <td>...</td>\n",
       "      <td>-0.524035</td>\n",
       "      <td>-0.654167</td>\n",
       "      <td>-0.779051</td>\n",
       "      <td>1.449006</td>\n",
       "      <td>-0.011455</td>\n",
       "      <td>-0.995315</td>\n",
       "      <td>-0.006579</td>\n",
       "      <td>-0.011689</td>\n",
       "      <td>2.956166</td>\n",
       "      <td>-0.815402</td>\n",
       "    </tr>\n",
       "    <tr>\n",
       "      <th>739320</th>\n",
       "      <td>-0.627107</td>\n",
       "      <td>-0.561624</td>\n",
       "      <td>-0.548463</td>\n",
       "      <td>-0.438475</td>\n",
       "      <td>1.145464</td>\n",
       "      <td>-0.538697</td>\n",
       "      <td>0.819792</td>\n",
       "      <td>-0.360744</td>\n",
       "      <td>0.653963</td>\n",
       "      <td>1.358606</td>\n",
       "      <td>...</td>\n",
       "      <td>-0.607618</td>\n",
       "      <td>1.528662</td>\n",
       "      <td>-0.779051</td>\n",
       "      <td>-0.690128</td>\n",
       "      <td>-0.011455</td>\n",
       "      <td>1.004707</td>\n",
       "      <td>-0.006579</td>\n",
       "      <td>-0.011689</td>\n",
       "      <td>-0.338276</td>\n",
       "      <td>-0.815402</td>\n",
       "    </tr>\n",
       "    <tr>\n",
       "      <th>739321</th>\n",
       "      <td>0.659524</td>\n",
       "      <td>1.780551</td>\n",
       "      <td>0.071708</td>\n",
       "      <td>0.177261</td>\n",
       "      <td>-0.882563</td>\n",
       "      <td>0.636096</td>\n",
       "      <td>0.100325</td>\n",
       "      <td>-0.360744</td>\n",
       "      <td>0.664950</td>\n",
       "      <td>-0.713918</td>\n",
       "      <td>...</td>\n",
       "      <td>1.983464</td>\n",
       "      <td>1.528662</td>\n",
       "      <td>-0.779051</td>\n",
       "      <td>-0.690128</td>\n",
       "      <td>-0.011455</td>\n",
       "      <td>-0.995315</td>\n",
       "      <td>-0.006579</td>\n",
       "      <td>-0.011689</td>\n",
       "      <td>-0.338276</td>\n",
       "      <td>1.226389</td>\n",
       "    </tr>\n",
       "    <tr>\n",
       "      <th>739322</th>\n",
       "      <td>1.595256</td>\n",
       "      <td>-0.561624</td>\n",
       "      <td>0.483725</td>\n",
       "      <td>0.639062</td>\n",
       "      <td>1.145464</td>\n",
       "      <td>1.601680</td>\n",
       "      <td>-1.487286</td>\n",
       "      <td>3.083102</td>\n",
       "      <td>0.353283</td>\n",
       "      <td>0.322344</td>\n",
       "      <td>...</td>\n",
       "      <td>-0.022535</td>\n",
       "      <td>-0.654167</td>\n",
       "      <td>1.283612</td>\n",
       "      <td>-0.690128</td>\n",
       "      <td>-0.011455</td>\n",
       "      <td>1.004707</td>\n",
       "      <td>-0.006579</td>\n",
       "      <td>-0.011689</td>\n",
       "      <td>-0.338276</td>\n",
       "      <td>-0.815402</td>\n",
       "    </tr>\n",
       "    <tr>\n",
       "      <th>739323</th>\n",
       "      <td>0.460681</td>\n",
       "      <td>1.780551</td>\n",
       "      <td>1.955828</td>\n",
       "      <td>2.024467</td>\n",
       "      <td>-0.303127</td>\n",
       "      <td>1.022330</td>\n",
       "      <td>-0.657611</td>\n",
       "      <td>-0.360744</td>\n",
       "      <td>-0.984212</td>\n",
       "      <td>0.322344</td>\n",
       "      <td>...</td>\n",
       "      <td>-0.106119</td>\n",
       "      <td>-0.654167</td>\n",
       "      <td>1.283612</td>\n",
       "      <td>-0.690128</td>\n",
       "      <td>-0.011455</td>\n",
       "      <td>1.004707</td>\n",
       "      <td>-0.006579</td>\n",
       "      <td>-0.011689</td>\n",
       "      <td>-0.338276</td>\n",
       "      <td>-0.815402</td>\n",
       "    </tr>\n",
       "    <tr>\n",
       "      <th>739324</th>\n",
       "      <td>-0.744073</td>\n",
       "      <td>-0.561624</td>\n",
       "      <td>-1.567776</td>\n",
       "      <td>-1.669946</td>\n",
       "      <td>-0.592845</td>\n",
       "      <td>0.394701</td>\n",
       "      <td>-1.039178</td>\n",
       "      <td>-0.360744</td>\n",
       "      <td>1.088685</td>\n",
       "      <td>-0.713918</td>\n",
       "      <td>...</td>\n",
       "      <td>-0.022535</td>\n",
       "      <td>-0.654167</td>\n",
       "      <td>-0.779051</td>\n",
       "      <td>1.449006</td>\n",
       "      <td>-0.011455</td>\n",
       "      <td>1.004707</td>\n",
       "      <td>-0.006579</td>\n",
       "      <td>-0.011689</td>\n",
       "      <td>-0.338276</td>\n",
       "      <td>-0.815402</td>\n",
       "    </tr>\n",
       "    <tr>\n",
       "      <th>739325</th>\n",
       "      <td>-1.211939</td>\n",
       "      <td>-0.561624</td>\n",
       "      <td>-1.522712</td>\n",
       "      <td>-1.516012</td>\n",
       "      <td>-0.013409</td>\n",
       "      <td>-0.409952</td>\n",
       "      <td>-0.387291</td>\n",
       "      <td>-0.360744</td>\n",
       "      <td>-0.906570</td>\n",
       "      <td>-0.713918</td>\n",
       "      <td>...</td>\n",
       "      <td>-1.276285</td>\n",
       "      <td>1.528662</td>\n",
       "      <td>-0.779051</td>\n",
       "      <td>-0.690128</td>\n",
       "      <td>-0.011455</td>\n",
       "      <td>-0.995315</td>\n",
       "      <td>-0.006579</td>\n",
       "      <td>-0.011689</td>\n",
       "      <td>-0.338276</td>\n",
       "      <td>1.226389</td>\n",
       "    </tr>\n",
       "    <tr>\n",
       "      <th>739326</th>\n",
       "      <td>1.127390</td>\n",
       "      <td>-0.561624</td>\n",
       "      <td>-1.376789</td>\n",
       "      <td>-1.208144</td>\n",
       "      <td>1.145464</td>\n",
       "      <td>1.601680</td>\n",
       "      <td>-0.838518</td>\n",
       "      <td>-0.360744</td>\n",
       "      <td>-0.171168</td>\n",
       "      <td>-0.713918</td>\n",
       "      <td>...</td>\n",
       "      <td>-0.524035</td>\n",
       "      <td>-0.654167</td>\n",
       "      <td>1.283612</td>\n",
       "      <td>-0.690128</td>\n",
       "      <td>-0.011455</td>\n",
       "      <td>-0.995315</td>\n",
       "      <td>-0.006579</td>\n",
       "      <td>-0.011689</td>\n",
       "      <td>-0.338276</td>\n",
       "      <td>1.226389</td>\n",
       "    </tr>\n",
       "    <tr>\n",
       "      <th>739327</th>\n",
       "      <td>0.776490</td>\n",
       "      <td>-0.561624</td>\n",
       "      <td>-0.288807</td>\n",
       "      <td>-0.130607</td>\n",
       "      <td>1.145464</td>\n",
       "      <td>0.032607</td>\n",
       "      <td>0.290588</td>\n",
       "      <td>-0.360744</td>\n",
       "      <td>-0.171168</td>\n",
       "      <td>0.322344</td>\n",
       "      <td>...</td>\n",
       "      <td>2.150631</td>\n",
       "      <td>1.528662</td>\n",
       "      <td>-0.779051</td>\n",
       "      <td>-0.690128</td>\n",
       "      <td>-0.011455</td>\n",
       "      <td>-0.995315</td>\n",
       "      <td>-0.006579</td>\n",
       "      <td>-0.011689</td>\n",
       "      <td>-0.338276</td>\n",
       "      <td>1.226389</td>\n",
       "    </tr>\n",
       "    <tr>\n",
       "      <th>739328</th>\n",
       "      <td>-0.159241</td>\n",
       "      <td>-0.561624</td>\n",
       "      <td>-1.226575</td>\n",
       "      <td>-1.362078</td>\n",
       "      <td>0.566028</td>\n",
       "      <td>0.072839</td>\n",
       "      <td>-0.113852</td>\n",
       "      <td>-0.360744</td>\n",
       "      <td>-0.282504</td>\n",
       "      <td>-0.713918</td>\n",
       "      <td>...</td>\n",
       "      <td>-0.858368</td>\n",
       "      <td>1.528662</td>\n",
       "      <td>-0.779051</td>\n",
       "      <td>-0.690128</td>\n",
       "      <td>-0.011455</td>\n",
       "      <td>-0.995315</td>\n",
       "      <td>-0.006579</td>\n",
       "      <td>-0.011689</td>\n",
       "      <td>-0.338276</td>\n",
       "      <td>1.226389</td>\n",
       "    </tr>\n",
       "    <tr>\n",
       "      <th>739329</th>\n",
       "      <td>1.244356</td>\n",
       "      <td>1.780551</td>\n",
       "      <td>1.852823</td>\n",
       "      <td>1.870534</td>\n",
       "      <td>-1.462000</td>\n",
       "      <td>0.491259</td>\n",
       "      <td>-0.374815</td>\n",
       "      <td>-0.360744</td>\n",
       "      <td>-1.129242</td>\n",
       "      <td>-0.713918</td>\n",
       "      <td>...</td>\n",
       "      <td>-0.524035</td>\n",
       "      <td>-0.654167</td>\n",
       "      <td>1.283612</td>\n",
       "      <td>-0.690128</td>\n",
       "      <td>-0.011455</td>\n",
       "      <td>-0.995315</td>\n",
       "      <td>-0.006579</td>\n",
       "      <td>-0.011689</td>\n",
       "      <td>2.956166</td>\n",
       "      <td>-0.815402</td>\n",
       "    </tr>\n",
       "  </tbody>\n",
       "</table>\n",
       "<p>739330 rows × 26 columns</p>\n",
       "</div>"
      ],
      "text/plain": [
       "        loan_amnt  term_months  int_rate  credit_score  emp_length_years  \\\n",
       "0       -0.978006    -0.561624 -0.400395     -0.284541         -1.462000   \n",
       "1       -1.094973    -0.561624 -1.720137     -1.669946          0.002234   \n",
       "2       -0.978006    -0.561624 -1.226575     -1.362078         -1.462000   \n",
       "3       -0.744073    -0.561624 -1.314558     -1.362078          1.145464   \n",
       "4       -0.817177    -0.561624  0.908618      1.100864         -1.462000   \n",
       "5       -0.767467    -0.561624 -0.260910     -0.592409         -1.172282   \n",
       "6       -1.247029    -0.561624 -0.033442      0.177261         -0.303127   \n",
       "7        0.659524    -0.561624 -0.202970     -0.130607          1.145464   \n",
       "8        0.191658    -0.561624  0.069562      0.177261         -1.462000   \n",
       "9        1.127390     1.780551  1.054540      0.946930         -0.592845   \n",
       "10       1.969548    -0.561624 -0.786661     -0.900276         -1.172282   \n",
       "11      -1.094973    -0.561624 -0.503399     -0.438475          1.145464   \n",
       "12       1.244356     1.780551  0.161837     -0.284541         -0.013409   \n",
       "13      -0.270359    -0.561624  1.327072      1.562666         -0.592845   \n",
       "14       0.659524    -0.561624 -1.469064     -1.516012         -0.882563   \n",
       "15       0.425591     1.780551  2.018059      1.408732         -1.462000   \n",
       "16       1.244356    -0.561624 -1.211553     -1.208144         -1.462000   \n",
       "17      -1.539445    -0.561624  1.161836      0.946930          1.145464   \n",
       "18      -0.823026    -0.561624 -0.896103     -0.746343         -0.882563   \n",
       "19      -1.036489    -0.561624  0.354970      0.331195          0.002234   \n",
       "20      -0.276208    -0.561624 -1.168635     -1.054210         -1.172282   \n",
       "21      -0.764542    -0.561624  1.316343      1.254798         -0.303127   \n",
       "22       0.425591     1.780551  0.033081      0.023327          1.145464   \n",
       "23      -0.393174    -0.561624 -0.181511     -0.284541         -0.303127   \n",
       "24      -0.276208    -0.561624 -1.168635     -1.054210          1.145464   \n",
       "25       0.729704    -0.561624 -1.061339     -1.054210         -1.462000   \n",
       "26      -1.094973    -0.561624 -0.554901     -0.438475          0.566028   \n",
       "27      -0.744073    -0.561624  0.367845      0.331195          1.145464   \n",
       "28      -1.118366    -0.561624 -1.233013     -1.362078         -1.462000   \n",
       "29      -0.343463    -0.561624 -0.503399     -0.438475          0.276310   \n",
       "...           ...          ...       ...           ...               ...   \n",
       "739300  -1.258726    -0.561624 -0.717991     -0.592409         -1.462000   \n",
       "739301  -0.837647    -0.561624  0.633940      0.639062          0.002234   \n",
       "739302   1.595256     1.780551 -0.357476     -0.438475         -1.172282   \n",
       "739303   0.659524     1.780551 -0.160052      0.023327          1.145464   \n",
       "739304  -1.094973    -0.561624 -0.074215     -0.130607         -0.882563   \n",
       "739305  -0.276208     1.780551  0.488017      0.639062          1.145464   \n",
       "739306   1.185873    -0.561624 -1.166489     -1.208144          1.145464   \n",
       "739307   1.127390    -0.561624 -1.720137     -1.669946          1.145464   \n",
       "739308  -0.861040    -0.561624 -1.211553     -1.208144          1.145464   \n",
       "739309  -0.416567    -0.561624 -1.275931     -1.208144         -0.592845   \n",
       "739310  -0.276208    -0.561624 -0.503399     -0.438475          0.002234   \n",
       "739311   1.010423    -0.561624 -1.720137     -1.669946         -1.172282   \n",
       "739312   2.414021     1.780551 -0.224429     -0.130607         -1.172282   \n",
       "739313   1.127390     1.780551 -0.097820      0.023327          0.566028   \n",
       "739314   0.674145    -0.561624 -0.396103     -0.284541         -0.882563   \n",
       "739315  -0.217724    -0.561624 -0.503399     -0.746343          0.566028   \n",
       "739316  -0.861040    -0.561624  1.054540      0.946930         -1.172282   \n",
       "739317  -0.510140    -0.561624 -0.896103     -0.746343         -1.462000   \n",
       "739318  -0.510140     1.780551  0.975141      2.024467          1.145464   \n",
       "739319   0.776490    -0.561624 -0.520566     -0.438475          1.145464   \n",
       "739320  -0.627107    -0.561624 -0.548463     -0.438475          1.145464   \n",
       "739321   0.659524     1.780551  0.071708      0.177261         -0.882563   \n",
       "739322   1.595256    -0.561624  0.483725      0.639062          1.145464   \n",
       "739323   0.460681     1.780551  1.955828      2.024467         -0.303127   \n",
       "739324  -0.744073    -0.561624 -1.567776     -1.669946         -0.592845   \n",
       "739325  -1.211939    -0.561624 -1.522712     -1.516012         -0.013409   \n",
       "739326   1.127390    -0.561624 -1.376789     -1.208144          1.145464   \n",
       "739327   0.776490    -0.561624 -0.288807     -0.130607          1.145464   \n",
       "739328  -0.159241    -0.561624 -1.226575     -1.362078          0.566028   \n",
       "739329   1.244356     1.780551  1.852823      1.870534         -1.462000   \n",
       "\n",
       "        annual_inc       dti  delinq_2yrs  credit_history_years  \\\n",
       "0        -0.570883 -0.426800    -0.360744             -0.226469   \n",
       "1        -0.731813  0.740775    -0.360744              0.764932   \n",
       "2        -0.260287 -1.271030    -0.360744             -0.872877   \n",
       "3         0.314235 -0.317632     0.787205              0.363904   \n",
       "4        -0.842855 -1.339650    -0.360744             -1.319319   \n",
       "5         0.314235 -0.749104     1.935153              0.888354   \n",
       "6        -0.474324  0.516202     3.083102              0.743324   \n",
       "7         0.153305 -1.012146     0.787205             -0.728213   \n",
       "8        -0.522604 -0.434077     0.787205             -0.449141   \n",
       "9         1.038423  0.421590     3.083102              0.653963   \n",
       "10        0.117900  0.296826    -0.360744              0.274908   \n",
       "11       -0.442138  1.115065    -0.360744             -0.215482   \n",
       "12       -0.249022  0.697108    -0.360744             -0.315465   \n",
       "13       -0.545134  1.970731    -0.360744             -0.282504   \n",
       "14       -0.570883 -1.030861    -0.360744             -1.162569   \n",
       "15        0.330328  1.735761    -0.360744              0.185913   \n",
       "16       -0.007626  0.335295    -0.360744             -0.638852   \n",
       "17       -0.453033 -1.570461    -0.360744             -0.516529   \n",
       "18       -0.249022  1.661943    -0.360744             -0.672545   \n",
       "19       -0.961606 -0.847875    -0.360744             -1.854390   \n",
       "20       -0.249022 -0.831240    -0.360744             -0.482835   \n",
       "21       -0.442138 -0.106574    -0.360744             -0.416180   \n",
       "22        1.038423  0.374803    -0.360744              0.074577   \n",
       "23       -0.137175 -0.383132    -0.360744             -1.117889   \n",
       "24       -0.178212 -0.174154     0.787205              0.898975   \n",
       "25        1.762610  0.192857     0.787205              0.508933   \n",
       "26       -0.683534 -1.459214    -0.360744             -1.006553   \n",
       "27       -0.071998  2.010240    -0.360744             -1.330306   \n",
       "28       -0.750507 -0.079542     0.787205             -0.326818   \n",
       "29        0.137212 -0.759501     1.935153              0.408951   \n",
       "...            ...       ...          ...                   ...   \n",
       "739300    0.072839 -0.084741    -0.360744              2.281517   \n",
       "739301   -0.924930  2.272242    -0.360744             -0.405193   \n",
       "739302   -0.007626 -0.467348    -0.360744              1.479093   \n",
       "739303    0.129165 -0.597309    -0.360744             -0.371499   \n",
       "739304   -0.812279  0.042102    -0.360744              3.697753   \n",
       "739305   -0.715720  1.469600    -0.360744             -0.828928   \n",
       "739306    1.038423 -1.079726    -0.360744             -0.293857   \n",
       "739307    0.845306 -1.072449     1.935153             -0.115134   \n",
       "739308    0.185491 -0.760541     0.787205              1.133732   \n",
       "739309   -0.120277  0.047300     0.787205             -0.137474   \n",
       "739310   -0.686918  0.555710    -0.360744              0.621001   \n",
       "739311    1.199353 -1.169140    -0.360744             -0.237823   \n",
       "739312    1.102795 -1.464413    -0.360744              0.621001   \n",
       "739313   -0.297301 -1.022543    -0.360744              1.768786   \n",
       "739314    0.636096  0.356089    -0.360744             -0.070087   \n",
       "739315   -0.409952  0.931039     0.787205             -0.371499   \n",
       "739316    0.233770 -0.530769     0.787205              0.353283   \n",
       "739317    0.072839 -1.218006     0.787205             -0.271516   \n",
       "739318   -0.249022  0.154389    -0.360744              1.066345   \n",
       "739319    0.370561  0.569226    -0.360744              0.274908   \n",
       "739320   -0.538697  0.819792    -0.360744              0.653963   \n",
       "739321    0.636096  0.100325    -0.360744              0.664950   \n",
       "739322    1.601680 -1.487286     3.083102              0.353283   \n",
       "739323    1.022330 -0.657611    -0.360744             -0.984212   \n",
       "739324    0.394701 -1.039178    -0.360744              1.088685   \n",
       "739325   -0.409952 -0.387291    -0.360744             -0.906570   \n",
       "739326    1.601680 -0.838518    -0.360744             -0.171168   \n",
       "739327    0.032607  0.290588    -0.360744             -0.171168   \n",
       "739328    0.072839 -0.113852    -0.360744             -0.282504   \n",
       "739329    0.491259 -0.374815    -0.360744             -1.129242   \n",
       "\n",
       "        inq_last_6mths         ...           total_acc  \\\n",
       "0            -0.713918         ...           -1.359868   \n",
       "1            -0.713918         ...           -0.106119   \n",
       "2            -0.713918         ...           -1.109118   \n",
       "3            -0.713918         ...            1.314797   \n",
       "4             1.358606         ...           -1.025535   \n",
       "5            -0.713918         ...            0.311798   \n",
       "6             0.322344         ...            1.147631   \n",
       "7             0.322344         ...           -0.106119   \n",
       "8            -0.713918         ...           -0.691202   \n",
       "9             0.322344         ...            2.150631   \n",
       "10           -0.713918         ...            0.395381   \n",
       "11            0.322344         ...           -0.440452   \n",
       "12           -0.713918         ...           -0.524035   \n",
       "13           -0.713918         ...            0.896881   \n",
       "14           -0.713918         ...           -0.941952   \n",
       "15           -0.713918         ...            0.228215   \n",
       "16           -0.713918         ...            0.311798   \n",
       "17           -0.713918         ...           -1.276285   \n",
       "18            0.322344         ...           -0.022535   \n",
       "19           -0.713918         ...           -1.777785   \n",
       "20           -0.713918         ...           -1.527035   \n",
       "21            0.322344         ...           -0.607618   \n",
       "22           -0.713918         ...            0.061048   \n",
       "23           -0.713918         ...           -1.276285   \n",
       "24            0.322344         ...            0.061048   \n",
       "25           -0.713918         ...            0.813298   \n",
       "26            1.358606         ...           -1.276285   \n",
       "27           -0.713918         ...           -0.106119   \n",
       "28            0.322344         ...           -0.524035   \n",
       "29           -0.713918         ...           -0.273285   \n",
       "...                ...         ...                 ...   \n",
       "739300        0.322344         ...            1.064048   \n",
       "739301       -0.713918         ...           -1.192702   \n",
       "739302       -0.713918         ...            0.228215   \n",
       "739303       -0.713918         ...            1.899881   \n",
       "739304        0.322344         ...            0.729714   \n",
       "739305       -0.713918         ...           -0.440452   \n",
       "739306        2.394867         ...           -0.691202   \n",
       "739307       -0.713918         ...            0.061048   \n",
       "739308       -0.713918         ...            0.729714   \n",
       "739309       -0.713918         ...            0.061048   \n",
       "739310       -0.713918         ...            1.064048   \n",
       "739311       -0.713918         ...           -0.022535   \n",
       "739312       -0.713918         ...            1.147631   \n",
       "739313       -0.713918         ...            1.816297   \n",
       "739314        2.394867         ...            0.896881   \n",
       "739315       -0.713918         ...           -0.356869   \n",
       "739316       -0.713918         ...           -0.774785   \n",
       "739317        1.358606         ...           -1.276285   \n",
       "739318        1.358606         ...            1.899881   \n",
       "739319        0.322344         ...           -0.524035   \n",
       "739320        1.358606         ...           -0.607618   \n",
       "739321       -0.713918         ...            1.983464   \n",
       "739322        0.322344         ...           -0.022535   \n",
       "739323        0.322344         ...           -0.106119   \n",
       "739324       -0.713918         ...           -0.022535   \n",
       "739325       -0.713918         ...           -1.276285   \n",
       "739326       -0.713918         ...           -0.524035   \n",
       "739327        0.322344         ...            2.150631   \n",
       "739328       -0.713918         ...           -0.858368   \n",
       "739329       -0.713918         ...           -0.524035   \n",
       "\n",
       "        verification_status_Not Verified  verification_status_Source Verified  \\\n",
       "0                              -0.654167                            -0.779051   \n",
       "1                               1.528662                            -0.779051   \n",
       "2                              -0.654167                            -0.779051   \n",
       "3                              -0.654167                             1.283612   \n",
       "4                              -0.654167                            -0.779051   \n",
       "5                               1.528662                            -0.779051   \n",
       "6                              -0.654167                            -0.779051   \n",
       "7                              -0.654167                             1.283612   \n",
       "8                              -0.654167                            -0.779051   \n",
       "9                              -0.654167                             1.283612   \n",
       "10                             -0.654167                             1.283612   \n",
       "11                             -0.654167                             1.283612   \n",
       "12                             -0.654167                            -0.779051   \n",
       "13                              1.528662                            -0.779051   \n",
       "14                              1.528662                            -0.779051   \n",
       "15                              1.528662                            -0.779051   \n",
       "16                             -0.654167                             1.283612   \n",
       "17                              1.528662                            -0.779051   \n",
       "18                             -0.654167                            -0.779051   \n",
       "19                             -0.654167                            -0.779051   \n",
       "20                             -0.654167                             1.283612   \n",
       "21                             -0.654167                             1.283612   \n",
       "22                              1.528662                            -0.779051   \n",
       "23                             -0.654167                            -0.779051   \n",
       "24                             -0.654167                             1.283612   \n",
       "25                              1.528662                            -0.779051   \n",
       "26                              1.528662                            -0.779051   \n",
       "27                             -0.654167                            -0.779051   \n",
       "28                              1.528662                            -0.779051   \n",
       "29                              1.528662                            -0.779051   \n",
       "...                                  ...                                  ...   \n",
       "739300                         -0.654167                             1.283612   \n",
       "739301                         -0.654167                            -0.779051   \n",
       "739302                         -0.654167                             1.283612   \n",
       "739303                          1.528662                            -0.779051   \n",
       "739304                         -0.654167                             1.283612   \n",
       "739305                         -0.654167                             1.283612   \n",
       "739306                         -0.654167                             1.283612   \n",
       "739307                         -0.654167                             1.283612   \n",
       "739308                          1.528662                            -0.779051   \n",
       "739309                          1.528662                            -0.779051   \n",
       "739310                         -0.654167                            -0.779051   \n",
       "739311                          1.528662                            -0.779051   \n",
       "739312                         -0.654167                             1.283612   \n",
       "739313                          1.528662                            -0.779051   \n",
       "739314                         -0.654167                             1.283612   \n",
       "739315                         -0.654167                             1.283612   \n",
       "739316                         -0.654167                             1.283612   \n",
       "739317                          1.528662                            -0.779051   \n",
       "739318                         -0.654167                            -0.779051   \n",
       "739319                         -0.654167                            -0.779051   \n",
       "739320                          1.528662                            -0.779051   \n",
       "739321                          1.528662                            -0.779051   \n",
       "739322                         -0.654167                             1.283612   \n",
       "739323                         -0.654167                             1.283612   \n",
       "739324                         -0.654167                            -0.779051   \n",
       "739325                          1.528662                            -0.779051   \n",
       "739326                         -0.654167                             1.283612   \n",
       "739327                          1.528662                            -0.779051   \n",
       "739328                          1.528662                            -0.779051   \n",
       "739329                         -0.654167                             1.283612   \n",
       "\n",
       "        verification_status_Verified  home_ownership_ANY  \\\n",
       "0                           1.449006           -0.011455   \n",
       "1                          -0.690128           -0.011455   \n",
       "2                           1.449006           -0.011455   \n",
       "3                          -0.690128           -0.011455   \n",
       "4                           1.449006           -0.011455   \n",
       "5                          -0.690128           -0.011455   \n",
       "6                           1.449006           -0.011455   \n",
       "7                          -0.690128           -0.011455   \n",
       "8                           1.449006           -0.011455   \n",
       "9                          -0.690128           -0.011455   \n",
       "10                         -0.690128           -0.011455   \n",
       "11                         -0.690128           -0.011455   \n",
       "12                          1.449006           -0.011455   \n",
       "13                         -0.690128           -0.011455   \n",
       "14                         -0.690128           -0.011455   \n",
       "15                         -0.690128           -0.011455   \n",
       "16                         -0.690128           -0.011455   \n",
       "17                         -0.690128           -0.011455   \n",
       "18                          1.449006           -0.011455   \n",
       "19                          1.449006           -0.011455   \n",
       "20                         -0.690128           -0.011455   \n",
       "21                         -0.690128           -0.011455   \n",
       "22                         -0.690128           -0.011455   \n",
       "23                          1.449006           -0.011455   \n",
       "24                         -0.690128           -0.011455   \n",
       "25                         -0.690128           -0.011455   \n",
       "26                         -0.690128           -0.011455   \n",
       "27                          1.449006           -0.011455   \n",
       "28                         -0.690128           -0.011455   \n",
       "29                         -0.690128           -0.011455   \n",
       "...                              ...                 ...   \n",
       "739300                     -0.690128           -0.011455   \n",
       "739301                      1.449006           -0.011455   \n",
       "739302                     -0.690128           -0.011455   \n",
       "739303                     -0.690128           -0.011455   \n",
       "739304                     -0.690128           -0.011455   \n",
       "739305                     -0.690128           -0.011455   \n",
       "739306                     -0.690128           -0.011455   \n",
       "739307                     -0.690128           -0.011455   \n",
       "739308                     -0.690128           -0.011455   \n",
       "739309                     -0.690128           -0.011455   \n",
       "739310                      1.449006           -0.011455   \n",
       "739311                     -0.690128           -0.011455   \n",
       "739312                     -0.690128           -0.011455   \n",
       "739313                     -0.690128           -0.011455   \n",
       "739314                     -0.690128           -0.011455   \n",
       "739315                     -0.690128           -0.011455   \n",
       "739316                     -0.690128           -0.011455   \n",
       "739317                     -0.690128           -0.011455   \n",
       "739318                      1.449006           -0.011455   \n",
       "739319                      1.449006           -0.011455   \n",
       "739320                     -0.690128           -0.011455   \n",
       "739321                     -0.690128           -0.011455   \n",
       "739322                     -0.690128           -0.011455   \n",
       "739323                     -0.690128           -0.011455   \n",
       "739324                      1.449006           -0.011455   \n",
       "739325                     -0.690128           -0.011455   \n",
       "739326                     -0.690128           -0.011455   \n",
       "739327                     -0.690128           -0.011455   \n",
       "739328                     -0.690128           -0.011455   \n",
       "739329                     -0.690128           -0.011455   \n",
       "\n",
       "        home_ownership_MORTGAGE  home_ownership_NONE  home_ownership_OTHER  \\\n",
       "0                     -0.995315            -0.006579             -0.011689   \n",
       "1                     -0.995315            -0.006579             -0.011689   \n",
       "2                      1.004707            -0.006579             -0.011689   \n",
       "3                      1.004707            -0.006579             -0.011689   \n",
       "4                     -0.995315            -0.006579             -0.011689   \n",
       "5                      1.004707            -0.006579             -0.011689   \n",
       "6                      1.004707            -0.006579             -0.011689   \n",
       "7                      1.004707            -0.006579             -0.011689   \n",
       "8                      1.004707            -0.006579             -0.011689   \n",
       "9                     -0.995315            -0.006579             -0.011689   \n",
       "10                     1.004707            -0.006579             -0.011689   \n",
       "11                     1.004707            -0.006579             -0.011689   \n",
       "12                     1.004707            -0.006579             -0.011689   \n",
       "13                     1.004707            -0.006579             -0.011689   \n",
       "14                    -0.995315            -0.006579             -0.011689   \n",
       "15                     1.004707            -0.006579             -0.011689   \n",
       "16                    -0.995315            -0.006579             -0.011689   \n",
       "17                    -0.995315            -0.006579             -0.011689   \n",
       "18                     1.004707            -0.006579             -0.011689   \n",
       "19                    -0.995315            -0.006579             -0.011689   \n",
       "20                    -0.995315            -0.006579             -0.011689   \n",
       "21                     1.004707            -0.006579             -0.011689   \n",
       "22                     1.004707            -0.006579             -0.011689   \n",
       "23                    -0.995315            -0.006579             -0.011689   \n",
       "24                    -0.995315            -0.006579             -0.011689   \n",
       "25                    -0.995315            -0.006579             -0.011689   \n",
       "26                    -0.995315            -0.006579             -0.011689   \n",
       "27                     1.004707            -0.006579             -0.011689   \n",
       "28                     1.004707            -0.006579             -0.011689   \n",
       "29                     1.004707            -0.006579             -0.011689   \n",
       "...                         ...                  ...                   ...   \n",
       "739300                 1.004707            -0.006579             -0.011689   \n",
       "739301                -0.995315            -0.006579             -0.011689   \n",
       "739302                 1.004707            -0.006579             -0.011689   \n",
       "739303                -0.995315            -0.006579             -0.011689   \n",
       "739304                 1.004707            -0.006579             -0.011689   \n",
       "739305                -0.995315            -0.006579             -0.011689   \n",
       "739306                -0.995315            -0.006579             -0.011689   \n",
       "739307                 1.004707            -0.006579             -0.011689   \n",
       "739308                 1.004707            -0.006579             -0.011689   \n",
       "739309                 1.004707            -0.006579             -0.011689   \n",
       "739310                -0.995315            -0.006579             -0.011689   \n",
       "739311                 1.004707            -0.006579             -0.011689   \n",
       "739312                 1.004707            -0.006579             -0.011689   \n",
       "739313                -0.995315            -0.006579             -0.011689   \n",
       "739314                -0.995315            -0.006579             -0.011689   \n",
       "739315                -0.995315            -0.006579             -0.011689   \n",
       "739316                -0.995315            -0.006579             -0.011689   \n",
       "739317                 1.004707            -0.006579             -0.011689   \n",
       "739318                 1.004707            -0.006579             -0.011689   \n",
       "739319                -0.995315            -0.006579             -0.011689   \n",
       "739320                 1.004707            -0.006579             -0.011689   \n",
       "739321                -0.995315            -0.006579             -0.011689   \n",
       "739322                 1.004707            -0.006579             -0.011689   \n",
       "739323                 1.004707            -0.006579             -0.011689   \n",
       "739324                 1.004707            -0.006579             -0.011689   \n",
       "739325                -0.995315            -0.006579             -0.011689   \n",
       "739326                -0.995315            -0.006579             -0.011689   \n",
       "739327                -0.995315            -0.006579             -0.011689   \n",
       "739328                -0.995315            -0.006579             -0.011689   \n",
       "739329                -0.995315            -0.006579             -0.011689   \n",
       "\n",
       "        home_ownership_OWN  home_ownership_RENT  \n",
       "0                -0.338276             1.226389  \n",
       "1                -0.338276             1.226389  \n",
       "2                -0.338276            -0.815402  \n",
       "3                -0.338276            -0.815402  \n",
       "4                -0.338276             1.226389  \n",
       "5                -0.338276            -0.815402  \n",
       "6                -0.338276            -0.815402  \n",
       "7                -0.338276            -0.815402  \n",
       "8                -0.338276            -0.815402  \n",
       "9                -0.338276             1.226389  \n",
       "10               -0.338276            -0.815402  \n",
       "11               -0.338276            -0.815402  \n",
       "12               -0.338276            -0.815402  \n",
       "13               -0.338276            -0.815402  \n",
       "14                2.956166            -0.815402  \n",
       "15               -0.338276            -0.815402  \n",
       "16               -0.338276             1.226389  \n",
       "17               -0.338276             1.226389  \n",
       "18               -0.338276            -0.815402  \n",
       "19               -0.338276             1.226389  \n",
       "20               -0.338276             1.226389  \n",
       "21               -0.338276            -0.815402  \n",
       "22               -0.338276            -0.815402  \n",
       "23               -0.338276             1.226389  \n",
       "24               -0.338276             1.226389  \n",
       "25               -0.338276             1.226389  \n",
       "26                2.956166            -0.815402  \n",
       "27               -0.338276            -0.815402  \n",
       "28               -0.338276            -0.815402  \n",
       "29               -0.338276            -0.815402  \n",
       "...                    ...                  ...  \n",
       "739300           -0.338276            -0.815402  \n",
       "739301           -0.338276             1.226389  \n",
       "739302           -0.338276            -0.815402  \n",
       "739303            2.956166            -0.815402  \n",
       "739304           -0.338276            -0.815402  \n",
       "739305           -0.338276             1.226389  \n",
       "739306           -0.338276             1.226389  \n",
       "739307           -0.338276            -0.815402  \n",
       "739308           -0.338276            -0.815402  \n",
       "739309           -0.338276            -0.815402  \n",
       "739310            2.956166            -0.815402  \n",
       "739311           -0.338276            -0.815402  \n",
       "739312           -0.338276            -0.815402  \n",
       "739313           -0.338276             1.226389  \n",
       "739314           -0.338276             1.226389  \n",
       "739315           -0.338276             1.226389  \n",
       "739316           -0.338276             1.226389  \n",
       "739317           -0.338276            -0.815402  \n",
       "739318           -0.338276            -0.815402  \n",
       "739319            2.956166            -0.815402  \n",
       "739320           -0.338276            -0.815402  \n",
       "739321           -0.338276             1.226389  \n",
       "739322           -0.338276            -0.815402  \n",
       "739323           -0.338276            -0.815402  \n",
       "739324           -0.338276            -0.815402  \n",
       "739325           -0.338276             1.226389  \n",
       "739326           -0.338276             1.226389  \n",
       "739327           -0.338276             1.226389  \n",
       "739328           -0.338276             1.226389  \n",
       "739329            2.956166            -0.815402  \n",
       "\n",
       "[739330 rows x 26 columns]"
      ]
     },
     "execution_count": 25,
     "metadata": {},
     "output_type": "execute_result"
    }
   ],
   "source": [
    "X_train_scale"
   ]
  },
  {
   "cell_type": "markdown",
   "metadata": {},
   "source": [
    "## Logistic Regression"
   ]
  },
  {
   "cell_type": "code",
   "execution_count": 26,
   "metadata": {
    "collapsed": true
   },
   "outputs": [],
   "source": [
    "from sklearn.linear_model import LogisticRegression\n",
    "model_logreg = LogisticRegression().fit(X_train_scale, y_train_cat)"
   ]
  },
  {
   "cell_type": "code",
   "execution_count": 27,
   "metadata": {},
   "outputs": [
    {
     "data": {
      "text/plain": [
       "0.6897542369442603"
      ]
     },
     "execution_count": 27,
     "metadata": {},
     "output_type": "execute_result"
    }
   ],
   "source": [
    "model_logreg.score(X_train_scale, y_train_cat)"
   ]
  },
  {
   "cell_type": "code",
   "execution_count": 28,
   "metadata": {},
   "outputs": [
    {
     "data": {
      "text/plain": [
       "0.6896455178458392"
      ]
     },
     "execution_count": 28,
     "metadata": {},
     "output_type": "execute_result"
    }
   ],
   "source": [
    "model_logreg.score(X_test_scale, y_test_cat)"
   ]
  },
  {
   "cell_type": "code",
   "execution_count": 29,
   "metadata": {
    "scrolled": true
   },
   "outputs": [
    {
     "data": {
      "image/png": "[encoded data removed]",
      "text/plain": [
       "<Figure size 720x2160 with 1 Axes>"
      ]
     },
     "metadata": {},
     "output_type": "display_data"
    }
   ],
   "source": [
    "graph_coef(model_logreg, X_test_scale.columns)"
   ]
  },
  {
   "cell_type": "markdown",
   "metadata": {},
   "source": [
    "## Strategy evaluate function for classification"
   ]
  },
  {
   "cell_type": "markdown",
   "metadata": {},
   "source": [
    "The accuracy score on the model is not sufficient to determine it's quality. This is because a loan's loss can be up to 100%, whereas the gains are usually limited by the interest rate to 10-20%. Thus, a few bad loans can completely wipe out any profits from good loans. For example, if we choose 10 loans and 9 of them make 10%, but the last one is a total loss, then the overall perfomance will be negative. However, the accuracy will be 90%."
   ]
  },
  {
   "cell_type": "code",
   "execution_count": 30,
   "metadata": {
    "collapsed": true
   },
   "outputs": [],
   "source": [
    "#\n",
    "# for a model, evaluate it with the given \"df\" data and calculate a total profit/loss APY using\n",
    "# the profit data.\n",
    "#\n",
    "# In the case of regression models, use \"cutoff\" to determine the investment criteria\n",
    "#\n",
    "def evaluate_strategy(model, df, profit, cutoff=None, showprint=True):\n",
    "    # see where our model says to invest\n",
    "    inv = model.predict(df)\n",
    "    if cutoff is not None: \n",
    "        inv = inv > cutoff\n",
    "        inv = inv.reshape(-1)\n",
    "    # return the mean return\n",
    "    if showprint:\n",
    "        print(\"Positive result on %d out of %d (%0.2f%%)\" % (inv.sum(), inv.shape[0], inv.sum() / inv.shape[0] * 100.0))\n",
    "        print(\"Mean return of strategy:\", profit[inv].mean())\n",
    "        print(\"Overall return:\", profit.mean())\n",
    "    return profit[inv].mean(), profit.mean()"
   ]
  },
  {
   "cell_type": "code",
   "execution_count": 31,
   "metadata": {
    "collapsed": true
   },
   "outputs": [],
   "source": [
    "#\n",
    "# for a model, evaluate it with the given \"df\" data and calculate a total profit/loss APY using\n",
    "# the profit data.\n",
    "#\n",
    "# In the case of regression models, use \"cutoff\" to determine the investment criteria\n",
    "#\n",
    "def evaluate_strategy(model, df, profit, cutoff=None, showprint=True):\n",
    "    # see where our model says to invest\n",
    "    inv = model.predict(df)\n",
    "    if cutoff is not None: \n",
    "        inv = inv > cutoff\n",
    "        inv = inv.reshape(-1)\n",
    "    # return the mean return\n",
    "    if showprint:\n",
    "        print(\"Positive result on %d out of %d (%0.2f%%)\" % (inv.sum(), inv.shape[0], inv.sum() / inv.shape[0] * 100.0))\n",
    "        print(\"Mean return of strategy:\", profit[inv].mean())\n",
    "        print(\"Overall return:\", profit.mean())\n",
    "        print(\"remaining\", profit[~inv].mean())\n",
    "    return profit[inv].mean(), profit.mean()"
   ]
  },
  {
   "cell_type": "code",
   "execution_count": 32,
   "metadata": {
    "collapsed": true
   },
   "outputs": [],
   "source": [
    "def evaluate_score(estimator, X, y):\n",
    "    positive = model.predict_proba(df)[:,1] >= 0.9\n",
    "    return profit[positive].mean()"
   ]
  },
  {
   "cell_type": "code",
   "execution_count": 33,
   "metadata": {
    "collapsed": true
   },
   "outputs": [],
   "source": [
    "#\n",
    "# evaluate the strategy based on the probability estimates rather than the classification\n",
    "# results\n",
    "#\n",
    "def evaluate_proba(model, df, profit, cutoff):\n",
    "    positive = model.predict_proba(df)[:,1] >= cutoff\n",
    "#     print(positive.shape)\n",
    "    print(\"Percent positive investments %0.1f%%\" % ((positive.sum() / profit.count()) * 100))\n",
    "    print(\"Average return\", profit[positive].mean())"
   ]
  },
  {
   "cell_type": "code",
   "execution_count": 34,
   "metadata": {},
   "outputs": [
    {
     "name": "stdout",
     "output_type": "stream",
     "text": [
      "Positive result on 245375 out of 246444 (99.57%)\n",
      "Mean return of strategy: -0.023810635287260434\n",
      "Overall return: -0.023949942502153383\n",
      "remaining -0.05592609578032883\n"
     ]
    },
    {
     "data": {
      "text/plain": [
       "(-0.023810635287260434, -0.023949942502153383)"
      ]
     },
     "execution_count": 34,
     "metadata": {},
     "output_type": "execute_result"
    }
   ],
   "source": [
    "evaluate_strategy(model_logreg, X_test_scale, y_test)"
   ]
  },
  {
   "cell_type": "code",
   "execution_count": 77,
   "metadata": {},
   "outputs": [
    {
     "name": "stdout",
     "output_type": "stream",
     "text": [
      "Positive result on 245375 out of 246444 (99.57%)\n",
      "Mean return of strategy: -0.023810635287260434\n",
      "Overall return: -0.023949942502153383\n",
      "remaining -0.05592609578032883\n",
      "0.6897542369442603\n",
      "-0.023756868317566113\n",
      "0.12373770846577306\n",
      "96545\n",
      "739330\n"
     ]
    }
   ],
   "source": [
    "x= model_logreg.predict(X_test_scale)\n",
    "\n",
    "a =y_test>0\n",
    "evaluate_strategy(model_logreg,X_test_scale,y_test)\n",
    "\n",
    "y_test[x]\n",
    "\n",
    "ss = pd.DataFrame(data=x)\n",
    "ss['e'] = y_test.values\n",
    "\n",
    "ss.columns = ['a', 'b']\n",
    "\n",
    "ss[ss['a']==True].b.mean()\n",
    "\n",
    "ss\n",
    "\n",
    "newy = y_train_cat[:1000]\n",
    "newy1 = y_train[:1000]\n",
    "\n",
    "ma = LogisticRegression().fit(X_train[:1000],newy)\n",
    "newy1[ma.predict(X_train[:1000])]\n",
    "np.random.choice(y_test[~x],100).mean()\n",
    "\n",
    "from sklearn.metrics import accuracy_score\n",
    "\n",
    "print(accuracy_score(y_train_cat,model_logreg.predict(X_train_scale)))\n",
    "y_train_cat.where(model_logreg.predict(X_train_scale))\n",
    "index = np.where(model_logreg.predict(X_train_scale)==True)[0]\n",
    "# model_logreg.predict(X_train_scale).sum()\n",
    "\n",
    "y_train.iloc[index].mean()\n",
    "\n",
    "print(y_train.iloc[index].mean())\n",
    "y_train.iloc[index].nsmallest(100)\n",
    "np.abs(y_train.iloc[index])\n",
    "\n",
    "print(np.sum(np.abs(y_train)<0.05)/len(y_train))\n",
    "print(np.sum(y_train.iloc[index]<-0.30))\n",
    "print(len(y_train))"
   ]
  },
  {
   "cell_type": "code",
   "execution_count": 36,
   "metadata": {},
   "outputs": [
    {
     "data": {
      "text/plain": [
       "dtype('float64')"
      ]
     },
     "execution_count": 36,
     "metadata": {},
     "output_type": "execute_result"
    }
   ],
   "source": [
    "y_train.dtype"
   ]
  },
  {
   "cell_type": "markdown",
   "metadata": {},
   "source": [
    "We will use this evaluate_strategy() function to determine if how well the strategy works. In the above example, the strategy returned -0.09 or about 9% loss, so it was not good. The overall return is the return from all the other loans and represents the \"random\" strategy. It returned -0.02, or a 2% loss, which is better than the model, but still not good."
   ]
  },
  {
   "cell_type": "markdown",
   "metadata": {},
   "source": [
    "## Random Forest"
   ]
  },
  {
   "cell_type": "code",
   "execution_count": 37,
   "metadata": {
    "collapsed": true
   },
   "outputs": [],
   "source": [
    "from sklearn.ensemble import RandomForestClassifier"
   ]
  },
  {
   "cell_type": "code",
   "execution_count": 38,
   "metadata": {
    "collapsed": true
   },
   "outputs": [],
   "source": [
    "model_rf = RandomForestClassifier(max_depth=10, max_leaf_nodes=10)"
   ]
  },
  {
   "cell_type": "code",
   "execution_count": 39,
   "metadata": {},
   "outputs": [
    {
     "data": {
      "text/plain": [
       "RandomForestClassifier(bootstrap=True, class_weight=None, criterion='gini',\n",
       "            max_depth=10, max_features='auto', max_leaf_nodes=10,\n",
       "            min_impurity_decrease=0.0, min_impurity_split=None,\n",
       "            min_samples_leaf=1, min_samples_split=2,\n",
       "            min_weight_fraction_leaf=0.0, n_estimators=10, n_jobs=1,\n",
       "            oob_score=False, random_state=None, verbose=0,\n",
       "            warm_start=False)"
      ]
     },
     "execution_count": 39,
     "metadata": {},
     "output_type": "execute_result"
    }
   ],
   "source": [
    "model_rf.fit(X_train_scale, y_train>0.01)"
   ]
  },
  {
   "cell_type": "code",
   "execution_count": 40,
   "metadata": {},
   "outputs": [
    {
     "data": {
      "text/plain": [
       "0.8019815238121002"
      ]
     },
     "execution_count": 40,
     "metadata": {},
     "output_type": "execute_result"
    }
   ],
   "source": [
    "model_rf.score(X_train_scale, y_train>0.01)"
   ]
  },
  {
   "cell_type": "code",
   "execution_count": 41,
   "metadata": {},
   "outputs": [
    {
     "data": {
      "text/plain": [
       "0.6910291993312883"
      ]
     },
     "execution_count": 41,
     "metadata": {},
     "output_type": "execute_result"
    }
   ],
   "source": [
    "model_rf.score(X_test_scale, y_test_cat)"
   ]
  },
  {
   "cell_type": "code",
   "execution_count": 42,
   "metadata": {},
   "outputs": [
    {
     "name": "stdout",
     "output_type": "stream",
     "text": [
      "Positive result on 246444 out of 246444 (100.00%)\n",
      "Mean return of strategy: -0.023949942502153383\n",
      "Overall return: -0.023949942502153383\n",
      "remaining nan\n"
     ]
    },
    {
     "data": {
      "text/plain": [
       "(-0.023949942502153383, -0.023949942502153383)"
      ]
     },
     "execution_count": 42,
     "metadata": {},
     "output_type": "execute_result"
    }
   ],
   "source": [
    "evaluate_strategy(model_rf, X_test_scale, y_test)"
   ]
  },
  {
   "cell_type": "code",
   "execution_count": 43,
   "metadata": {},
   "outputs": [
    {
     "data": {
      "text/plain": [
       "0"
      ]
     },
     "execution_count": 43,
     "metadata": {},
     "output_type": "execute_result"
    }
   ],
   "source": [
    "y_test.iloc[model_rf.predict(X_test_scale)==False]\n",
    "(model_rf.predict(X_test_scale)==False).sum()"
   ]
  },
  {
   "cell_type": "code",
   "execution_count": null,
   "metadata": {
    "collapsed": true
   },
   "outputs": [],
   "source": []
  },
  {
   "cell_type": "markdown",
   "metadata": {},
   "source": [
    "## Random Forest using probability estimates"
   ]
  },
  {
   "cell_type": "markdown",
   "metadata": {},
   "source": [
    "For this case, we evaluated the strategy using probability estimates. The code below creates a Random Forest and then chooses loans where the confidence in the prediction is very high. This results in a positive return over the test data set. This is a promising result."
   ]
  },
  {
   "cell_type": "code",
   "execution_count": 44,
   "metadata": {},
   "outputs": [
    {
     "data": {
      "text/plain": [
       "RandomForestClassifier(bootstrap=True, class_weight=None, criterion='gini',\n",
       "            max_depth=10, max_features='auto', max_leaf_nodes=10,\n",
       "            min_impurity_decrease=0.0, min_impurity_split=None,\n",
       "            min_samples_leaf=1, min_samples_split=2,\n",
       "            min_weight_fraction_leaf=0.0, n_estimators=10, n_jobs=1,\n",
       "            oob_score=False, random_state=None, verbose=0,\n",
       "            warm_start=False)"
      ]
     },
     "execution_count": 44,
     "metadata": {},
     "output_type": "execute_result"
    }
   ],
   "source": [
    "model_rf_p = RandomForestClassifier(max_depth=10, max_leaf_nodes=10)\n",
    "model_rf_p.fit(X_train_scale, y_train > 0.0)"
   ]
  },
  {
   "cell_type": "code",
   "execution_count": 45,
   "metadata": {},
   "outputs": [
    {
     "name": "stdout",
     "output_type": "stream",
     "text": [
      "Percent positive investments 0.0%\n",
      "Average return nan\n"
     ]
    }
   ],
   "source": [
    "evaluate_proba(model_rf_p, X_test_scale, y_test, 0.9)"
   ]
  },
  {
   "cell_type": "markdown",
   "metadata": {},
   "source": [
    "## Various Classifiers, loop through different target returns"
   ]
  },
  {
   "cell_type": "markdown",
   "metadata": {},
   "source": [
    "One thing to consider is how the choice of our \"target\" return affects the model's accuracy. In other words, is the model better at predicting higher quality loans? The results below show that this is generally not the case. The graphs show that the best area of prediction is around a \"target\" return greater than 0. AdaBoost shows a peak at the end, so that requires more investigation, but it is probably spurious. Other than that, the models are unable to predict which loans will yield the highest returns. However, that's the very question we want to answer."
   ]
  },
  {
   "cell_type": "code",
   "execution_count": 46,
   "metadata": {},
   "outputs": [
    {
     "data": {
      "image/png": "[encoded data removed]",
      "text/plain": [
       "<Figure size 432x288 with 1 Axes>"
      ]
     },
     "metadata": {},
     "output_type": "display_data"
    },
    {
     "data": {
      "image/png": "[encoded data removed]",
      "text/plain": [
       "<Figure size 432x288 with 1 Axes>"
      ]
     },
     "metadata": {},
     "output_type": "display_data"
    },
    {
     "name": "stderr",
     "output_type": "stream",
     "text": [
      "/Users/rogeriliffe/anaconda3/lib/python3.6/site-packages/sklearn/discriminant_analysis.py:682: UserWarning: Variables are collinear\n",
      "  warnings.warn(\"Variables are collinear\")\n",
      "/Users/rogeriliffe/anaconda3/lib/python3.6/site-packages/sklearn/discriminant_analysis.py:682: UserWarning: Variables are collinear\n",
      "  warnings.warn(\"Variables are collinear\")\n",
      "/Users/rogeriliffe/anaconda3/lib/python3.6/site-packages/sklearn/discriminant_analysis.py:682: UserWarning: Variables are collinear\n",
      "  warnings.warn(\"Variables are collinear\")\n",
      "/Users/rogeriliffe/anaconda3/lib/python3.6/site-packages/sklearn/discriminant_analysis.py:682: UserWarning: Variables are collinear\n",
      "  warnings.warn(\"Variables are collinear\")\n",
      "/Users/rogeriliffe/anaconda3/lib/python3.6/site-packages/sklearn/discriminant_analysis.py:682: UserWarning: Variables are collinear\n",
      "  warnings.warn(\"Variables are collinear\")\n",
      "/Users/rogeriliffe/anaconda3/lib/python3.6/site-packages/sklearn/discriminant_analysis.py:682: UserWarning: Variables are collinear\n",
      "  warnings.warn(\"Variables are collinear\")\n",
      "/Users/rogeriliffe/anaconda3/lib/python3.6/site-packages/sklearn/discriminant_analysis.py:682: UserWarning: Variables are collinear\n",
      "  warnings.warn(\"Variables are collinear\")\n",
      "/Users/rogeriliffe/anaconda3/lib/python3.6/site-packages/sklearn/discriminant_analysis.py:682: UserWarning: Variables are collinear\n",
      "  warnings.warn(\"Variables are collinear\")\n",
      "/Users/rogeriliffe/anaconda3/lib/python3.6/site-packages/sklearn/discriminant_analysis.py:682: UserWarning: Variables are collinear\n",
      "  warnings.warn(\"Variables are collinear\")\n",
      "/Users/rogeriliffe/anaconda3/lib/python3.6/site-packages/sklearn/discriminant_analysis.py:682: UserWarning: Variables are collinear\n",
      "  warnings.warn(\"Variables are collinear\")\n",
      "/Users/rogeriliffe/anaconda3/lib/python3.6/site-packages/sklearn/discriminant_analysis.py:682: UserWarning: Variables are collinear\n",
      "  warnings.warn(\"Variables are collinear\")\n",
      "/Users/rogeriliffe/anaconda3/lib/python3.6/site-packages/sklearn/discriminant_analysis.py:682: UserWarning: Variables are collinear\n",
      "  warnings.warn(\"Variables are collinear\")\n",
      "/Users/rogeriliffe/anaconda3/lib/python3.6/site-packages/sklearn/discriminant_analysis.py:682: UserWarning: Variables are collinear\n",
      "  warnings.warn(\"Variables are collinear\")\n",
      "/Users/rogeriliffe/anaconda3/lib/python3.6/site-packages/sklearn/discriminant_analysis.py:682: UserWarning: Variables are collinear\n",
      "  warnings.warn(\"Variables are collinear\")\n",
      "/Users/rogeriliffe/anaconda3/lib/python3.6/site-packages/sklearn/discriminant_analysis.py:682: UserWarning: Variables are collinear\n",
      "  warnings.warn(\"Variables are collinear\")\n",
      "/Users/rogeriliffe/anaconda3/lib/python3.6/site-packages/sklearn/discriminant_analysis.py:682: UserWarning: Variables are collinear\n",
      "  warnings.warn(\"Variables are collinear\")\n",
      "/Users/rogeriliffe/anaconda3/lib/python3.6/site-packages/sklearn/discriminant_analysis.py:682: UserWarning: Variables are collinear\n",
      "  warnings.warn(\"Variables are collinear\")\n",
      "/Users/rogeriliffe/anaconda3/lib/python3.6/site-packages/sklearn/discriminant_analysis.py:682: UserWarning: Variables are collinear\n",
      "  warnings.warn(\"Variables are collinear\")\n",
      "/Users/rogeriliffe/anaconda3/lib/python3.6/site-packages/sklearn/discriminant_analysis.py:682: UserWarning: Variables are collinear\n",
      "  warnings.warn(\"Variables are collinear\")\n",
      "/Users/rogeriliffe/anaconda3/lib/python3.6/site-packages/sklearn/discriminant_analysis.py:682: UserWarning: Variables are collinear\n",
      "  warnings.warn(\"Variables are collinear\")\n",
      "/Users/rogeriliffe/anaconda3/lib/python3.6/site-packages/sklearn/discriminant_analysis.py:682: UserWarning: Variables are collinear\n",
      "  warnings.warn(\"Variables are collinear\")\n",
      "/Users/rogeriliffe/anaconda3/lib/python3.6/site-packages/sklearn/discriminant_analysis.py:682: UserWarning: Variables are collinear\n",
      "  warnings.warn(\"Variables are collinear\")\n",
      "/Users/rogeriliffe/anaconda3/lib/python3.6/site-packages/sklearn/discriminant_analysis.py:682: UserWarning: Variables are collinear\n",
      "  warnings.warn(\"Variables are collinear\")\n",
      "/Users/rogeriliffe/anaconda3/lib/python3.6/site-packages/sklearn/discriminant_analysis.py:682: UserWarning: Variables are collinear\n",
      "  warnings.warn(\"Variables are collinear\")\n",
      "/Users/rogeriliffe/anaconda3/lib/python3.6/site-packages/sklearn/discriminant_analysis.py:682: UserWarning: Variables are collinear\n",
      "  warnings.warn(\"Variables are collinear\")\n",
      "/Users/rogeriliffe/anaconda3/lib/python3.6/site-packages/sklearn/discriminant_analysis.py:682: UserWarning: Variables are collinear\n",
      "  warnings.warn(\"Variables are collinear\")\n",
      "/Users/rogeriliffe/anaconda3/lib/python3.6/site-packages/sklearn/discriminant_analysis.py:682: UserWarning: Variables are collinear\n",
      "  warnings.warn(\"Variables are collinear\")\n",
      "/Users/rogeriliffe/anaconda3/lib/python3.6/site-packages/sklearn/discriminant_analysis.py:682: UserWarning: Variables are collinear\n",
      "  warnings.warn(\"Variables are collinear\")\n",
      "/Users/rogeriliffe/anaconda3/lib/python3.6/site-packages/sklearn/discriminant_analysis.py:682: UserWarning: Variables are collinear\n",
      "  warnings.warn(\"Variables are collinear\")\n",
      "/Users/rogeriliffe/anaconda3/lib/python3.6/site-packages/sklearn/discriminant_analysis.py:682: UserWarning: Variables are collinear\n",
      "  warnings.warn(\"Variables are collinear\")\n",
      "/Users/rogeriliffe/anaconda3/lib/python3.6/site-packages/sklearn/discriminant_analysis.py:682: UserWarning: Variables are collinear\n",
      "  warnings.warn(\"Variables are collinear\")\n",
      "/Users/rogeriliffe/anaconda3/lib/python3.6/site-packages/sklearn/discriminant_analysis.py:682: UserWarning: Variables are collinear\n",
      "  warnings.warn(\"Variables are collinear\")\n",
      "/Users/rogeriliffe/anaconda3/lib/python3.6/site-packages/sklearn/discriminant_analysis.py:682: UserWarning: Variables are collinear\n",
      "  warnings.warn(\"Variables are collinear\")\n",
      "/Users/rogeriliffe/anaconda3/lib/python3.6/site-packages/sklearn/discriminant_analysis.py:682: UserWarning: Variables are collinear\n",
      "  warnings.warn(\"Variables are collinear\")\n",
      "/Users/rogeriliffe/anaconda3/lib/python3.6/site-packages/sklearn/discriminant_analysis.py:682: UserWarning: Variables are collinear\n",
      "  warnings.warn(\"Variables are collinear\")\n",
      "/Users/rogeriliffe/anaconda3/lib/python3.6/site-packages/sklearn/discriminant_analysis.py:682: UserWarning: Variables are collinear\n",
      "  warnings.warn(\"Variables are collinear\")\n",
      "/Users/rogeriliffe/anaconda3/lib/python3.6/site-packages/sklearn/discriminant_analysis.py:682: UserWarning: Variables are collinear\n",
      "  warnings.warn(\"Variables are collinear\")\n",
      "/Users/rogeriliffe/anaconda3/lib/python3.6/site-packages/sklearn/discriminant_analysis.py:682: UserWarning: Variables are collinear\n",
      "  warnings.warn(\"Variables are collinear\")\n",
      "/Users/rogeriliffe/anaconda3/lib/python3.6/site-packages/sklearn/discriminant_analysis.py:682: UserWarning: Variables are collinear\n",
      "  warnings.warn(\"Variables are collinear\")\n",
      "/Users/rogeriliffe/anaconda3/lib/python3.6/site-packages/sklearn/discriminant_analysis.py:682: UserWarning: Variables are collinear\n",
      "  warnings.warn(\"Variables are collinear\")\n",
      "/Users/rogeriliffe/anaconda3/lib/python3.6/site-packages/sklearn/discriminant_analysis.py:682: UserWarning: Variables are collinear\n",
      "  warnings.warn(\"Variables are collinear\")\n",
      "/Users/rogeriliffe/anaconda3/lib/python3.6/site-packages/sklearn/discriminant_analysis.py:682: UserWarning: Variables are collinear\n",
      "  warnings.warn(\"Variables are collinear\")\n",
      "/Users/rogeriliffe/anaconda3/lib/python3.6/site-packages/sklearn/discriminant_analysis.py:682: UserWarning: Variables are collinear\n",
      "  warnings.warn(\"Variables are collinear\")\n",
      "/Users/rogeriliffe/anaconda3/lib/python3.6/site-packages/sklearn/discriminant_analysis.py:682: UserWarning: Variables are collinear\n",
      "  warnings.warn(\"Variables are collinear\")\n",
      "/Users/rogeriliffe/anaconda3/lib/python3.6/site-packages/sklearn/discriminant_analysis.py:682: UserWarning: Variables are collinear\n",
      "  warnings.warn(\"Variables are collinear\")\n",
      "/Users/rogeriliffe/anaconda3/lib/python3.6/site-packages/sklearn/discriminant_analysis.py:682: UserWarning: Variables are collinear\n",
      "  warnings.warn(\"Variables are collinear\")\n",
      "/Users/rogeriliffe/anaconda3/lib/python3.6/site-packages/sklearn/discriminant_analysis.py:682: UserWarning: Variables are collinear\n",
      "  warnings.warn(\"Variables are collinear\")\n",
      "/Users/rogeriliffe/anaconda3/lib/python3.6/site-packages/sklearn/discriminant_analysis.py:682: UserWarning: Variables are collinear\n",
      "  warnings.warn(\"Variables are collinear\")\n",
      "/Users/rogeriliffe/anaconda3/lib/python3.6/site-packages/sklearn/discriminant_analysis.py:682: UserWarning: Variables are collinear\n",
      "  warnings.warn(\"Variables are collinear\")\n",
      "/Users/rogeriliffe/anaconda3/lib/python3.6/site-packages/sklearn/discriminant_analysis.py:682: UserWarning: Variables are collinear\n",
      "  warnings.warn(\"Variables are collinear\")\n",
      "/Users/rogeriliffe/anaconda3/lib/python3.6/site-packages/sklearn/discriminant_analysis.py:682: UserWarning: Variables are collinear\n",
      "  warnings.warn(\"Variables are collinear\")\n",
      "/Users/rogeriliffe/anaconda3/lib/python3.6/site-packages/sklearn/discriminant_analysis.py:682: UserWarning: Variables are collinear\n",
      "  warnings.warn(\"Variables are collinear\")\n",
      "/Users/rogeriliffe/anaconda3/lib/python3.6/site-packages/sklearn/discriminant_analysis.py:682: UserWarning: Variables are collinear\n",
      "  warnings.warn(\"Variables are collinear\")\n",
      "/Users/rogeriliffe/anaconda3/lib/python3.6/site-packages/sklearn/discriminant_analysis.py:682: UserWarning: Variables are collinear\n",
      "  warnings.warn(\"Variables are collinear\")\n",
      "/Users/rogeriliffe/anaconda3/lib/python3.6/site-packages/sklearn/discriminant_analysis.py:682: UserWarning: Variables are collinear\n",
      "  warnings.warn(\"Variables are collinear\")\n",
      "/Users/rogeriliffe/anaconda3/lib/python3.6/site-packages/sklearn/discriminant_analysis.py:682: UserWarning: Variables are collinear\n",
      "  warnings.warn(\"Variables are collinear\")\n",
      "/Users/rogeriliffe/anaconda3/lib/python3.6/site-packages/sklearn/discriminant_analysis.py:682: UserWarning: Variables are collinear\n",
      "  warnings.warn(\"Variables are collinear\")\n",
      "/Users/rogeriliffe/anaconda3/lib/python3.6/site-packages/sklearn/discriminant_analysis.py:682: UserWarning: Variables are collinear\n",
      "  warnings.warn(\"Variables are collinear\")\n",
      "/Users/rogeriliffe/anaconda3/lib/python3.6/site-packages/sklearn/discriminant_analysis.py:682: UserWarning: Variables are collinear\n",
      "  warnings.warn(\"Variables are collinear\")\n",
      "/Users/rogeriliffe/anaconda3/lib/python3.6/site-packages/sklearn/discriminant_analysis.py:682: UserWarning: Variables are collinear\n",
      "  warnings.warn(\"Variables are collinear\")\n",
      "/Users/rogeriliffe/anaconda3/lib/python3.6/site-packages/sklearn/discriminant_analysis.py:682: UserWarning: Variables are collinear\n",
      "  warnings.warn(\"Variables are collinear\")\n",
      "/Users/rogeriliffe/anaconda3/lib/python3.6/site-packages/sklearn/discriminant_analysis.py:682: UserWarning: Variables are collinear\n",
      "  warnings.warn(\"Variables are collinear\")\n",
      "/Users/rogeriliffe/anaconda3/lib/python3.6/site-packages/sklearn/discriminant_analysis.py:682: UserWarning: Variables are collinear\n",
      "  warnings.warn(\"Variables are collinear\")\n",
      "/Users/rogeriliffe/anaconda3/lib/python3.6/site-packages/sklearn/discriminant_analysis.py:682: UserWarning: Variables are collinear\n",
      "  warnings.warn(\"Variables are collinear\")\n",
      "/Users/rogeriliffe/anaconda3/lib/python3.6/site-packages/sklearn/discriminant_analysis.py:682: UserWarning: Variables are collinear\n",
      "  warnings.warn(\"Variables are collinear\")\n",
      "/Users/rogeriliffe/anaconda3/lib/python3.6/site-packages/sklearn/discriminant_analysis.py:682: UserWarning: Variables are collinear\n",
      "  warnings.warn(\"Variables are collinear\")\n",
      "/Users/rogeriliffe/anaconda3/lib/python3.6/site-packages/sklearn/discriminant_analysis.py:682: UserWarning: Variables are collinear\n",
      "  warnings.warn(\"Variables are collinear\")\n",
      "/Users/rogeriliffe/anaconda3/lib/python3.6/site-packages/sklearn/discriminant_analysis.py:682: UserWarning: Variables are collinear\n",
      "  warnings.warn(\"Variables are collinear\")\n",
      "/Users/rogeriliffe/anaconda3/lib/python3.6/site-packages/sklearn/discriminant_analysis.py:682: UserWarning: Variables are collinear\n",
      "  warnings.warn(\"Variables are collinear\")\n",
      "/Users/rogeriliffe/anaconda3/lib/python3.6/site-packages/sklearn/discriminant_analysis.py:682: UserWarning: Variables are collinear\n",
      "  warnings.warn(\"Variables are collinear\")\n"
     ]
    },
    {
     "name": "stderr",
     "output_type": "stream",
     "text": [
      "/Users/rogeriliffe/anaconda3/lib/python3.6/site-packages/sklearn/discriminant_analysis.py:682: UserWarning: Variables are collinear\n",
      "  warnings.warn(\"Variables are collinear\")\n",
      "/Users/rogeriliffe/anaconda3/lib/python3.6/site-packages/sklearn/discriminant_analysis.py:682: UserWarning: Variables are collinear\n",
      "  warnings.warn(\"Variables are collinear\")\n",
      "/Users/rogeriliffe/anaconda3/lib/python3.6/site-packages/sklearn/discriminant_analysis.py:682: UserWarning: Variables are collinear\n",
      "  warnings.warn(\"Variables are collinear\")\n",
      "/Users/rogeriliffe/anaconda3/lib/python3.6/site-packages/sklearn/discriminant_analysis.py:682: UserWarning: Variables are collinear\n",
      "  warnings.warn(\"Variables are collinear\")\n",
      "/Users/rogeriliffe/anaconda3/lib/python3.6/site-packages/sklearn/discriminant_analysis.py:682: UserWarning: Variables are collinear\n",
      "  warnings.warn(\"Variables are collinear\")\n",
      "/Users/rogeriliffe/anaconda3/lib/python3.6/site-packages/sklearn/discriminant_analysis.py:682: UserWarning: Variables are collinear\n",
      "  warnings.warn(\"Variables are collinear\")\n",
      "/Users/rogeriliffe/anaconda3/lib/python3.6/site-packages/sklearn/discriminant_analysis.py:682: UserWarning: Variables are collinear\n",
      "  warnings.warn(\"Variables are collinear\")\n",
      "/Users/rogeriliffe/anaconda3/lib/python3.6/site-packages/sklearn/discriminant_analysis.py:682: UserWarning: Variables are collinear\n",
      "  warnings.warn(\"Variables are collinear\")\n",
      "/Users/rogeriliffe/anaconda3/lib/python3.6/site-packages/sklearn/discriminant_analysis.py:682: UserWarning: Variables are collinear\n",
      "  warnings.warn(\"Variables are collinear\")\n",
      "/Users/rogeriliffe/anaconda3/lib/python3.6/site-packages/sklearn/discriminant_analysis.py:682: UserWarning: Variables are collinear\n",
      "  warnings.warn(\"Variables are collinear\")\n"
     ]
    },
    {
     "data": {
      "image/png": "[encoded data removed]",
      "text/plain": [
       "<Figure size 432x288 with 1 Axes>"
      ]
     },
     "metadata": {},
     "output_type": "display_data"
    }
   ],
   "source": [
    "from sklearn.ensemble import AdaBoostClassifier\n",
    "from sklearn.discriminant_analysis import QuadraticDiscriminantAnalysis\n",
    "\n",
    "x = np.linspace(-0.50, 0.20, 40)\n",
    "\n",
    "modelnames = [\"RF\", \"AdaBoost\", \"QDA\"]\n",
    "models = [RandomForestClassifier(), AdaBoostClassifier(), QuadraticDiscriminantAnalysis()]\n",
    "\n",
    "for name, model in zip(modelnames, models):\n",
    "    y = []\n",
    "    s = []\n",
    "    for cutoff in x:\n",
    "        positive = y_train_sub > cutoff\n",
    "        model.fit(X_train_sub_scale, positive)\n",
    "        score = accuracy_score(positive, model.predict(X_train_sub_scale))\n",
    "        s.append(score)\n",
    "        apy, mapy = evaluate_strategy(model, X_test_sub_scale, y_test_sub, cutoff, showprint=False)\n",
    "        y.append(apy)\n",
    "    plt.plot(x, y)\n",
    "#     plt.plot(x, s)\n",
    "    plt.xlabel(\"Return cutoff\")\n",
    "    plt.ylabel(\"Return diff (negative is worse)\")\n",
    "    plt.title(\"Accuracy per Cutoff for %s\" % name)\n",
    "    plt.show();"
   ]
  },
  {
   "cell_type": "markdown",
   "metadata": {},
   "source": [
    "# Regression Models"
   ]
  },
  {
   "cell_type": "markdown",
   "metadata": {},
   "source": [
    "Another area to consider is regression models for predicting the actual return. So far, we've worked with classification models to distinguish good loans from bad loans.\n",
    "We will use sub sample of data."
   ]
  },
  {
   "cell_type": "markdown",
   "metadata": {},
   "source": [
    "## Random Forest Regression"
   ]
  },
  {
   "cell_type": "code",
   "execution_count": 47,
   "metadata": {},
   "outputs": [
    {
     "name": "stdout",
     "output_type": "stream",
     "text": [
      "Positive result on 106785 out of 246444 (43.33%)\n",
      "Mean return of strategy: 0.0005673895921541428\n",
      "Overall return: -0.023949942502153383\n",
      "remaining -0.04269619807960085\n"
     ]
    },
    {
     "data": {
      "text/plain": [
       "(0.0005673895921541428, -0.023949942502153383)"
      ]
     },
     "execution_count": 47,
     "metadata": {},
     "output_type": "execute_result"
    }
   ],
   "source": [
    "from sklearn.ensemble import RandomForestRegressor\n",
    "model_rf_reg = RandomForestRegressor()\n",
    "model_rf_reg.fit(X_train_sub_scale, y_train_sub)\n",
    "evaluate_strategy(model_rf_reg, X_test_scale, y_test, 0.01)"
   ]
  },
  {
   "cell_type": "code",
   "execution_count": 48,
   "metadata": {},
   "outputs": [
    {
     "name": "stdout",
     "output_type": "stream",
     "text": [
      "Positive result on 11768 out of 246444 (4.78%)\n",
      "Mean return of strategy: -0.01048387897865809\n",
      "Overall return: -0.023949942502153383\n",
      "remaining -0.024625208126011475\n"
     ]
    },
    {
     "data": {
      "text/plain": [
       "(-0.01048387897865809, -0.023949942502153383)"
      ]
     },
     "execution_count": 48,
     "metadata": {},
     "output_type": "execute_result"
    }
   ],
   "source": [
    "evaluate_strategy(model_rf_reg, X_test_scale, y_test, 0.10)"
   ]
  },
  {
   "cell_type": "code",
   "execution_count": 49,
   "metadata": {},
   "outputs": [
    {
     "name": "stdout",
     "output_type": "stream",
     "text": [
      "Positive result on 44 out of 246444 (0.02%)\n",
      "Mean return of strategy: 0.059943427109245606\n",
      "Overall return: -0.023949942502153383\n",
      "remaining -0.023964923461012554\n"
     ]
    },
    {
     "data": {
      "text/plain": [
       "(0.059943427109245606, -0.023949942502153383)"
      ]
     },
     "execution_count": 49,
     "metadata": {},
     "output_type": "execute_result"
    }
   ],
   "source": [
    "evaluate_strategy(model_rf_reg, X_test_scale, y_test, 0.20)"
   ]
  },
  {
   "cell_type": "markdown",
   "metadata": {},
   "source": [
    "## Ada Boost Regressor"
   ]
  },
  {
   "cell_type": "markdown",
   "metadata": {},
   "source": [
    "As shown below, the AdaBoost regressor is unable to make any accurate predictions."
   ]
  },
  {
   "cell_type": "code",
   "execution_count": 50,
   "metadata": {},
   "outputs": [
    {
     "name": "stdout",
     "output_type": "stream",
     "text": [
      "Positive result on 1017 out of 246444 (0.41%)\n",
      "Mean return of strategy: -0.011285307098657703\n",
      "Overall return: -0.023949942502153383\n",
      "remaining -0.024002422197563288\n"
     ]
    },
    {
     "data": {
      "text/plain": [
       "(-0.011285307098657703, -0.023949942502153383)"
      ]
     },
     "execution_count": 50,
     "metadata": {},
     "output_type": "execute_result"
    }
   ],
   "source": [
    "from sklearn.ensemble import AdaBoostRegressor\n",
    "model_adaboost = AdaBoostRegressor()\n",
    "model_adaboost.fit(X_train_sub_scale, y_train_sub)\n",
    "evaluate_strategy(model_adaboost, X_test_scale, y_test, 0.01)"
   ]
  },
  {
   "cell_type": "markdown",
   "metadata": {},
   "source": [
    "## Ada Boost Classifier for high returns"
   ]
  },
  {
   "cell_type": "markdown",
   "metadata": {},
   "source": [
    "The graph above showed that AdaBoost may have had good results for high returns. However, running over the entire train/test set shows abysmal perfomance."
   ]
  },
  {
   "cell_type": "code",
   "execution_count": 51,
   "metadata": {},
   "outputs": [
    {
     "name": "stdout",
     "output_type": "stream",
     "text": [
      "Positive result on 2607 out of 246444 (1.06%)\n",
      "Mean return of strategy: -0.10521975738512479\n",
      "Overall return: -0.023949942502153383\n",
      "remaining -0.023081040705461957\n"
     ]
    },
    {
     "data": {
      "text/plain": [
       "(-0.10521975738512479, -0.023949942502153383)"
      ]
     },
     "execution_count": 51,
     "metadata": {},
     "output_type": "execute_result"
    }
   ],
   "source": [
    "from sklearn.ensemble import AdaBoostClassifier\n",
    "model_adaboost2 = AdaBoostClassifier()\n",
    "model_adaboost2.fit(X_train_sub_scale, y_train_sub > 0.20)\n",
    "evaluate_strategy(model_adaboost2, X_test_scale, y_test)"
   ]
  },
  {
   "cell_type": "markdown",
   "metadata": {},
   "source": [
    "## Ada Boost Classifier with Random Forest base classifier"
   ]
  },
  {
   "cell_type": "markdown",
   "metadata": {},
   "source": [
    "AdaBoost with Random Forest as base classifier takes a long time to run, so we try it with the small data set. The results are not promising."
   ]
  },
  {
   "cell_type": "code",
   "execution_count": 52,
   "metadata": {},
   "outputs": [
    {
     "name": "stdout",
     "output_type": "stream",
     "text": [
      "Positive result on 654 out of 2500 (26.16%)\n",
      "Mean return of strategy: -0.029647385090392175\n",
      "Overall return: -0.02146721277172889\n",
      "remaining -0.01856914522221321\n"
     ]
    },
    {
     "data": {
      "text/plain": [
       "(-0.029647385090392175, -0.02146721277172889)"
      ]
     },
     "execution_count": 52,
     "metadata": {},
     "output_type": "execute_result"
    }
   ],
   "source": [
    "from sklearn.ensemble import AdaBoostClassifier\n",
    "model_adaboost3 = AdaBoostClassifier(\n",
    "    learning_rate = 1,\n",
    "    n_estimators=20,\n",
    "    base_estimator=RandomForestClassifier(max_depth=15, max_leaf_nodes=15))\n",
    "model_adaboost3.fit(X_train_sub_scale, y_train_sub > 0.10)\n",
    "evaluate_strategy(model_adaboost3, X_test_sub_scale, y_test_sub)"
   ]
  },
  {
   "cell_type": "markdown",
   "metadata": {},
   "source": [
    "As in the Random Forest, we will also consider predicting loan investments based on the probability. Only the highest probability results will be considered."
   ]
  },
  {
   "cell_type": "code",
   "execution_count": 53,
   "metadata": {},
   "outputs": [
    {
     "name": "stdout",
     "output_type": "stream",
     "text": [
      "Percent positive investments 0.0%\n",
      "Average return nan\n"
     ]
    }
   ],
   "source": [
    "evaluate_proba(model_adaboost3, X_test_scale, y_test, 0.6)"
   ]
  },
  {
   "cell_type": "markdown",
   "metadata": {},
   "source": [
    "# Polynomial Features with subset of columns"
   ]
  },
  {
   "cell_type": "markdown",
   "metadata": {},
   "source": [
    "So far, all the models have used the scaled data. Now we consider using polynomial features. For these tests, in order to keep runtimes reasonable, we will use a subset of the most promising features."
   ]
  },
  {
   "cell_type": "code",
   "execution_count": 54,
   "metadata": {
    "collapsed": true
   },
   "outputs": [],
   "source": [
    "small_columns = ['loan_amnt','term_months','int_rate','credit_score',\n",
    "                 'emp_length_years','annual_inc','dti','revol_util_perc']\n",
    "X_train_small = X_train[small_columns]\n",
    "X_test_small = X_test[small_columns]"
   ]
  },
  {
   "cell_type": "code",
   "execution_count": 55,
   "metadata": {
    "collapsed": true
   },
   "outputs": [],
   "source": [
    "from sklearn.preprocessing import PolynomialFeatures\n",
    "\n",
    "scale.fit(X_train_small)\n",
    "\n",
    "poly = PolynomialFeatures(2)\n",
    "X_train_poly = poly.fit_transform(scale.transform(X_train_small))\n",
    "X_test_poly = poly.fit_transform(scale.transform(X_test_small))\n",
    "\n",
    "y_train_target = y_train > 0.05\n",
    "y_test_target = y_test > 0.05"
   ]
  },
  {
   "cell_type": "code",
   "execution_count": 56,
   "metadata": {
    "collapsed": true
   },
   "outputs": [],
   "source": [
    "from sklearn.linear_model import LogisticRegression\n",
    "poly_logreg = LogisticRegression().fit(X_train_poly, y_train_target)"
   ]
  },
  {
   "cell_type": "code",
   "execution_count": 57,
   "metadata": {},
   "outputs": [
    {
     "data": {
      "text/plain": [
       "0.7271367319059148"
      ]
     },
     "execution_count": 57,
     "metadata": {},
     "output_type": "execute_result"
    }
   ],
   "source": [
    "poly_logreg.score(X_train_poly, y_train_target)"
   ]
  },
  {
   "cell_type": "code",
   "execution_count": 58,
   "metadata": {},
   "outputs": [
    {
     "data": {
      "text/plain": [
       "0.7273660547629481"
      ]
     },
     "execution_count": 58,
     "metadata": {},
     "output_type": "execute_result"
    }
   ],
   "source": [
    "poly_logreg.score(X_test_poly, y_test_target)"
   ]
  },
  {
   "cell_type": "code",
   "execution_count": 59,
   "metadata": {},
   "outputs": [
    {
     "name": "stdout",
     "output_type": "stream",
     "text": [
      "Positive result on 656189 out of 739330 (88.75%)\n",
      "Mean return of strategy: -0.022489458771179967\n",
      "Overall return: -0.023918428054797717\n",
      "remaining -0.035196545051804605\n"
     ]
    },
    {
     "data": {
      "text/plain": [
       "(-0.022489458771179967, -0.023918428054797717)"
      ]
     },
     "execution_count": 59,
     "metadata": {},
     "output_type": "execute_result"
    }
   ],
   "source": [
    "evaluate_strategy(poly_logreg, X_train_poly, y_train)"
   ]
  },
  {
   "cell_type": "code",
   "execution_count": 60,
   "metadata": {},
   "outputs": [
    {
     "name": "stdout",
     "output_type": "stream",
     "text": [
      "Positive result on 218611 out of 246444 (88.71%)\n",
      "Mean return of strategy: -0.022387062287078586\n",
      "Overall return: -0.023949942502153383\n",
      "remaining -0.036225399933899144\n"
     ]
    },
    {
     "data": {
      "text/plain": [
       "(-0.022387062287078586, -0.023949942502153383)"
      ]
     },
     "execution_count": 60,
     "metadata": {},
     "output_type": "execute_result"
    }
   ],
   "source": [
    "evaluate_strategy(poly_logreg, X_test_poly, y_test)"
   ]
  },
  {
   "cell_type": "markdown",
   "metadata": {},
   "source": [
    "# Single DecisionTree"
   ]
  },
  {
   "cell_type": "code",
   "execution_count": 61,
   "metadata": {},
   "outputs": [
    {
     "name": "stdout",
     "output_type": "stream",
     "text": [
      "Positive result on 217500 out of 246444 (88.26%)\n",
      "Mean return of strategy: -0.02996264526775741\n",
      "Overall return: -0.023949942502153383\n",
      "remaining 0.021232577243523003\n"
     ]
    },
    {
     "data": {
      "text/plain": [
       "(-0.02996264526775741, -0.023949942502153383)"
      ]
     },
     "execution_count": 61,
     "metadata": {},
     "output_type": "execute_result"
    }
   ],
   "source": [
    "from sklearn.tree import DecisionTreeClassifier\n",
    "\n",
    "decisionmodel = DecisionTreeClassifier(max_depth=3).fit(X_train_scale, y_train_cat)\n",
    "evaluate_strategy(decisionmodel, X_test_scale, y_test)"
   ]
  },
  {
   "cell_type": "markdown",
   "metadata": {},
   "source": [
    "# LDA"
   ]
  },
  {
   "cell_type": "code",
   "execution_count": 62,
   "metadata": {},
   "outputs": [
    {
     "name": "stdout",
     "output_type": "stream",
     "text": [
      "Positive result on 43665 out of 246444 (17.72%)\n",
      "Mean return of strategy: -0.08914574747050502\n",
      "Overall return: -0.023949942502153383\n",
      "remaining -0.009911137576875466\n"
     ]
    },
    {
     "name": "stderr",
     "output_type": "stream",
     "text": [
      "/Users/rogeriliffe/anaconda3/lib/python3.6/site-packages/sklearn/discriminant_analysis.py:388: UserWarning: Variables are collinear.\n",
      "  warnings.warn(\"Variables are collinear.\")\n"
     ]
    },
    {
     "data": {
      "text/plain": [
       "(-0.08914574747050502, -0.023949942502153383)"
      ]
     },
     "execution_count": 62,
     "metadata": {},
     "output_type": "execute_result"
    }
   ],
   "source": [
    "from sklearn.discriminant_analysis import LinearDiscriminantAnalysis\n",
    "\n",
    "lda_model = LinearDiscriminantAnalysis().fit(X_train_scale, y_train > 0.10)\n",
    "evaluate_strategy(lda_model, X_test_scale, y_test)"
   ]
  },
  {
   "cell_type": "markdown",
   "metadata": {},
   "source": [
    "# QDA"
   ]
  },
  {
   "cell_type": "code",
   "execution_count": 63,
   "metadata": {},
   "outputs": [
    {
     "name": "stderr",
     "output_type": "stream",
     "text": [
      "/Users/rogeriliffe/anaconda3/lib/python3.6/site-packages/sklearn/discriminant_analysis.py:682: UserWarning: Variables are collinear\n",
      "  warnings.warn(\"Variables are collinear\")\n"
     ]
    },
    {
     "name": "stdout",
     "output_type": "stream",
     "text": [
      "Positive result on 78716 out of 246444 (31.94%)\n",
      "Mean return of strategy: -0.06199690086671178\n",
      "Overall return: -0.023949942502153383\n",
      "remaining -0.00609422148583862\n"
     ]
    },
    {
     "name": "stderr",
     "output_type": "stream",
     "text": [
      "/Users/rogeriliffe/anaconda3/lib/python3.6/site-packages/sklearn/discriminant_analysis.py:682: UserWarning: Variables are collinear\n",
      "  warnings.warn(\"Variables are collinear\")\n"
     ]
    },
    {
     "data": {
      "text/plain": [
       "(-0.06199690086671178, -0.023949942502153383)"
      ]
     },
     "execution_count": 63,
     "metadata": {},
     "output_type": "execute_result"
    }
   ],
   "source": [
    "from sklearn.discriminant_analysis import QuadraticDiscriminantAnalysis\n",
    "\n",
    "qda_model = QuadraticDiscriminantAnalysis()\n",
    "qda_model.fit(X_train_scale, y_train > 0.10)\n",
    "evaluate_strategy(qda_model, X_test_scale, y_test)"
   ]
  },
  {
   "cell_type": "code",
   "execution_count": 64,
   "metadata": {},
   "outputs": [
    {
     "name": "stdout",
     "output_type": "stream",
     "text": [
      "Percent positive investments 7.8%\n",
      "Average return -0.08139954065277541\n"
     ]
    }
   ],
   "source": [
    "evaluate_proba(qda_model, X_test_scale, y_test, 0.9)"
   ]
  },
  {
   "cell_type": "markdown",
   "metadata": {},
   "source": [
    "## Neural Network"
   ]
  },
  {
   "cell_type": "markdown",
   "metadata": {},
   "source": [
    "The Neural Network takes a long time to train, so we created a simple model to see if this is worth tweaking to improve perfomance."
   ]
  },
  {
   "cell_type": "code",
   "execution_count": 65,
   "metadata": {},
   "outputs": [
    {
     "name": "stderr",
     "output_type": "stream",
     "text": [
      "Using TensorFlow backend.\n"
     ]
    },
    {
     "name": "stdout",
     "output_type": "stream",
     "text": [
      "_________________________________________________________________\n",
      "Layer (type)                 Output Shape              Param #   \n",
      "=================================================================\n",
      "dense_1 (Dense)              (None, 128)               3456      \n",
      "_________________________________________________________________\n",
      "dense_2 (Dense)              (None, 64)                8256      \n",
      "_________________________________________________________________\n",
      "dense_3 (Dense)              (None, 32)                2080      \n",
      "_________________________________________________________________\n",
      "dense_4 (Dense)              (None, 8)                 264       \n",
      "_________________________________________________________________\n",
      "dense_5 (Dense)              (None, 1)                 9         \n",
      "=================================================================\n",
      "Total params: 14,065\n",
      "Trainable params: 14,065\n",
      "Non-trainable params: 0\n",
      "_________________________________________________________________\n"
     ]
    }
   ],
   "source": [
    "y_nn = y_train > 0.05\n",
    "\n",
    "from keras.models import Sequential\n",
    "from keras.layers import Dense\n",
    "\n",
    "model_nn = Sequential()\n",
    "model_nn.add(Dense(128, input_dim=X_train.shape[1], activation='relu'))\n",
    "model_nn.add(Dense(64, activation='relu'))\n",
    "model_nn.add(Dense(32, activation='relu'))\n",
    "model_nn.add(Dense(8, activation='relu'))\n",
    "model_nn.add(Dense(1, activation='sigmoid'))\n",
    "model_nn.compile(loss='binary_crossentropy', optimizer='adam')\n",
    "model_nn.summary()"
   ]
  },
  {
   "cell_type": "code",
   "execution_count": 66,
   "metadata": {},
   "outputs": [
    {
     "name": "stdout",
     "output_type": "stream",
     "text": [
      "Train on 591464 samples, validate on 147866 samples\n",
      "Epoch 1/10\n",
      "591464/591464 [==============================] - 8s 14us/step - loss: 0.5515 - val_loss: 0.5470\n",
      "Epoch 2/10\n",
      "591464/591464 [==============================] - 8s 13us/step - loss: 0.5448 - val_loss: 0.5459\n",
      "Epoch 3/10\n",
      "591464/591464 [==============================] - 8s 14us/step - loss: 0.5430 - val_loss: 0.5450\n",
      "Epoch 4/10\n",
      "591464/591464 [==============================] - 8s 14us/step - loss: 0.5420 - val_loss: 0.5427\n",
      "Epoch 5/10\n",
      "591464/591464 [==============================] - 8s 14us/step - loss: 0.5411 - val_loss: 0.5422\n",
      "Epoch 6/10\n",
      "591464/591464 [==============================] - 8s 13us/step - loss: 0.5403 - val_loss: 0.5421\n",
      "Epoch 7/10\n",
      "591464/591464 [==============================] - 8s 14us/step - loss: 0.5395 - val_loss: 0.5422\n",
      "Epoch 8/10\n",
      "591464/591464 [==============================] - 8s 14us/step - loss: 0.5390 - val_loss: 0.5433\n",
      "Epoch 9/10\n",
      "591464/591464 [==============================] - 8s 14us/step - loss: 0.5385 - val_loss: 0.5415\n",
      "Epoch 10/10\n",
      "591464/591464 [==============================] - 8s 14us/step - loss: 0.5381 - val_loss: 0.5408\n"
     ]
    },
    {
     "data": {
      "text/plain": [
       "<keras.callbacks.History at 0x1a45386320>"
      ]
     },
     "execution_count": 66,
     "metadata": {},
     "output_type": "execute_result"
    }
   ],
   "source": [
    "model_nn.fit(X_train_scale, y_nn, epochs=10, batch_size=128, validation_split=0.2)"
   ]
  },
  {
   "cell_type": "markdown",
   "metadata": {},
   "source": [
    "The val_loss does not seem to be moving much so the model is not working well."
   ]
  },
  {
   "cell_type": "code",
   "execution_count": 67,
   "metadata": {},
   "outputs": [
    {
     "name": "stdout",
     "output_type": "stream",
     "text": [
      "Positive result on 211585 out of 246444 (85.86%)\n",
      "Mean return of strategy: -0.02123804195563544\n",
      "Overall return: -0.023949942502153383\n",
      "remaining -0.0404104685394764\n"
     ]
    },
    {
     "data": {
      "text/plain": [
       "(-0.02123804195563544, -0.023949942502153383)"
      ]
     },
     "execution_count": 67,
     "metadata": {},
     "output_type": "execute_result"
    }
   ],
   "source": [
    "evaluate_strategy(model_nn, X_test_scale, y_test, 0.5)"
   ]
  },
  {
   "cell_type": "code",
   "execution_count": 68,
   "metadata": {},
   "outputs": [
    {
     "data": {
      "text/plain": [
       "(0.0, 0.9988053)"
      ]
     },
     "execution_count": 68,
     "metadata": {},
     "output_type": "execute_result"
    }
   ],
   "source": [
    "p = model_nn.predict_proba(X_test_scale)\n",
    "p.min(), p.max()"
   ]
  },
  {
   "cell_type": "markdown",
   "metadata": {},
   "source": [
    "Even though the model does not seem to work well, if we only consider the loans where the probability score is higher than 0.9, the return is 0.05, which is much higher than most of the alternative models."
   ]
  },
  {
   "cell_type": "code",
   "execution_count": 69,
   "metadata": {},
   "outputs": [
    {
     "name": "stdout",
     "output_type": "stream",
     "text": [
      "Percent positive investments 6.3%\n",
      "Average return 0.046840585805957735\n"
     ]
    }
   ],
   "source": [
    "positive = model_nn.predict_proba(X_test_scale) >= 0.9\n",
    "print(\"Percent positive investments %0.1f%%\" % ((positive.sum() / y_test.count()) * 100))\n",
    "print(\"Average return\", y_test[positive.reshape(-1)].mean())"
   ]
  },
  {
   "cell_type": "markdown",
   "metadata": {},
   "source": [
    "## Stacking Model"
   ]
  },
  {
   "cell_type": "markdown",
   "metadata": {},
   "source": [
    "Next, we considered stacking models. First, we create a simple model with 3 base models: Logistic, Random Forest and Neural Network."
   ]
  },
  {
   "cell_type": "code",
   "execution_count": 70,
   "metadata": {
    "collapsed": true
   },
   "outputs": [],
   "source": [
    "modellist = ['Logistic', 'RF', \"NN\"]\n",
    "modelobj = [model_logreg, model_rf, model_nn]\n",
    "\n",
    "# create empty results that we will fill in\n",
    "z = np.zeros((X_train.shape[0], len(modellist)))\n",
    "stack_train = pd.DataFrame(data=z, columns=modellist)\n",
    "z = np.zeros((X_test.shape[0], len(modellist)))\n",
    "stack_test = pd.DataFrame(data=z, columns=modellist)"
   ]
  },
  {
   "cell_type": "code",
   "execution_count": 71,
   "metadata": {
    "collapsed": true
   },
   "outputs": [],
   "source": [
    "#make dataset with prediction.\n",
    "for name, model in zip(modellist, modelobj):\n",
    "    stack_train[name] = model.predict_proba(X_train_scale)\n",
    "    stack_test[name] = model.predict_proba(X_test_scale)"
   ]
  },
  {
   "cell_type": "markdown",
   "metadata": {},
   "source": [
    "`stack_train` and `stack_test` have one row for each sample. The columns are the probability estimates of the models."
   ]
  },
  {
   "cell_type": "code",
   "execution_count": 72,
   "metadata": {},
   "outputs": [
    {
     "data": {
      "text/html": [
       "<div>\n",
       "<style scoped>\n",
       "    .dataframe tbody tr th:only-of-type {\n",
       "        vertical-align: middle;\n",
       "    }\n",
       "\n",
       "    .dataframe tbody tr th {\n",
       "        vertical-align: top;\n",
       "    }\n",
       "\n",
       "    .dataframe thead th {\n",
       "        text-align: right;\n",
       "    }\n",
       "</style>\n",
       "<table border=\"1\" class=\"dataframe\">\n",
       "  <thead>\n",
       "    <tr style=\"text-align: right;\">\n",
       "      <th></th>\n",
       "      <th>Logistic</th>\n",
       "      <th>RF</th>\n",
       "      <th>NN</th>\n",
       "    </tr>\n",
       "  </thead>\n",
       "  <tbody>\n",
       "    <tr>\n",
       "      <th>0</th>\n",
       "      <td>0.325929</td>\n",
       "      <td>0.164760</td>\n",
       "      <td>0.828567</td>\n",
       "    </tr>\n",
       "    <tr>\n",
       "      <th>1</th>\n",
       "      <td>0.407844</td>\n",
       "      <td>0.135459</td>\n",
       "      <td>0.042536</td>\n",
       "    </tr>\n",
       "    <tr>\n",
       "      <th>2</th>\n",
       "      <td>0.316926</td>\n",
       "      <td>0.124358</td>\n",
       "      <td>0.544525</td>\n",
       "    </tr>\n",
       "    <tr>\n",
       "      <th>3</th>\n",
       "      <td>0.313234</td>\n",
       "      <td>0.100118</td>\n",
       "      <td>0.598191</td>\n",
       "    </tr>\n",
       "    <tr>\n",
       "      <th>4</th>\n",
       "      <td>0.283544</td>\n",
       "      <td>0.218676</td>\n",
       "      <td>0.772149</td>\n",
       "    </tr>\n",
       "  </tbody>\n",
       "</table>\n",
       "</div>"
      ],
      "text/plain": [
       "   Logistic        RF        NN\n",
       "0  0.325929  0.164760  0.828567\n",
       "1  0.407844  0.135459  0.042536\n",
       "2  0.316926  0.124358  0.544525\n",
       "3  0.313234  0.100118  0.598191\n",
       "4  0.283544  0.218676  0.772149"
      ]
     },
     "execution_count": 72,
     "metadata": {},
     "output_type": "execute_result"
    }
   ],
   "source": [
    "stack_train.head()"
   ]
  },
  {
   "cell_type": "code",
   "execution_count": 73,
   "metadata": {},
   "outputs": [
    {
     "data": {
      "text/html": [
       "<div>\n",
       "<style scoped>\n",
       "    .dataframe tbody tr th:only-of-type {\n",
       "        vertical-align: middle;\n",
       "    }\n",
       "\n",
       "    .dataframe tbody tr th {\n",
       "        vertical-align: top;\n",
       "    }\n",
       "\n",
       "    .dataframe thead th {\n",
       "        text-align: right;\n",
       "    }\n",
       "</style>\n",
       "<table border=\"1\" class=\"dataframe\">\n",
       "  <thead>\n",
       "    <tr style=\"text-align: right;\">\n",
       "      <th></th>\n",
       "      <th>Logistic</th>\n",
       "      <th>RF</th>\n",
       "      <th>NN</th>\n",
       "    </tr>\n",
       "  </thead>\n",
       "  <tbody>\n",
       "    <tr>\n",
       "      <th>count</th>\n",
       "      <td>739330.000000</td>\n",
       "      <td>739330.000000</td>\n",
       "      <td>739330.000000</td>\n",
       "    </tr>\n",
       "    <tr>\n",
       "      <th>mean</th>\n",
       "      <td>0.309042</td>\n",
       "      <td>0.198137</td>\n",
       "      <td>0.691212</td>\n",
       "    </tr>\n",
       "    <tr>\n",
       "      <th>std</th>\n",
       "      <td>0.070130</td>\n",
       "      <td>0.074785</td>\n",
       "      <td>0.190744</td>\n",
       "    </tr>\n",
       "    <tr>\n",
       "      <th>min</th>\n",
       "      <td>0.001393</td>\n",
       "      <td>0.098424</td>\n",
       "      <td>0.000000</td>\n",
       "    </tr>\n",
       "    <tr>\n",
       "      <th>25%</th>\n",
       "      <td>0.260996</td>\n",
       "      <td>0.135437</td>\n",
       "      <td>0.605358</td>\n",
       "    </tr>\n",
       "    <tr>\n",
       "      <th>50%</th>\n",
       "      <td>0.307649</td>\n",
       "      <td>0.183158</td>\n",
       "      <td>0.741385</td>\n",
       "    </tr>\n",
       "    <tr>\n",
       "      <th>75%</th>\n",
       "      <td>0.355664</td>\n",
       "      <td>0.244574</td>\n",
       "      <td>0.828946</td>\n",
       "    </tr>\n",
       "    <tr>\n",
       "      <th>max</th>\n",
       "      <td>0.999950</td>\n",
       "      <td>0.413025</td>\n",
       "      <td>0.999198</td>\n",
       "    </tr>\n",
       "  </tbody>\n",
       "</table>\n",
       "</div>"
      ],
      "text/plain": [
       "            Logistic             RF             NN\n",
       "count  739330.000000  739330.000000  739330.000000\n",
       "mean        0.309042       0.198137       0.691212\n",
       "std         0.070130       0.074785       0.190744\n",
       "min         0.001393       0.098424       0.000000\n",
       "25%         0.260996       0.135437       0.605358\n",
       "50%         0.307649       0.183158       0.741385\n",
       "75%         0.355664       0.244574       0.828946\n",
       "max         0.999950       0.413025       0.999198"
      ]
     },
     "execution_count": 73,
     "metadata": {},
     "output_type": "execute_result"
    }
   ],
   "source": [
    "stack_train.describe()"
   ]
  },
  {
   "cell_type": "code",
   "execution_count": 74,
   "metadata": {
    "scrolled": true
   },
   "outputs": [
    {
     "data": {
      "text/html": [
       "<div>\n",
       "<style scoped>\n",
       "    .dataframe tbody tr th:only-of-type {\n",
       "        vertical-align: middle;\n",
       "    }\n",
       "\n",
       "    .dataframe tbody tr th {\n",
       "        vertical-align: top;\n",
       "    }\n",
       "\n",
       "    .dataframe thead th {\n",
       "        text-align: right;\n",
       "    }\n",
       "</style>\n",
       "<table border=\"1\" class=\"dataframe\">\n",
       "  <thead>\n",
       "    <tr style=\"text-align: right;\">\n",
       "      <th></th>\n",
       "      <th>Logistic</th>\n",
       "      <th>RF</th>\n",
       "      <th>NN</th>\n",
       "    </tr>\n",
       "  </thead>\n",
       "  <tbody>\n",
       "    <tr>\n",
       "      <th>count</th>\n",
       "      <td>246444.000000</td>\n",
       "      <td>246444.000000</td>\n",
       "      <td>246444.000000</td>\n",
       "    </tr>\n",
       "    <tr>\n",
       "      <th>mean</th>\n",
       "      <td>0.309134</td>\n",
       "      <td>0.198503</td>\n",
       "      <td>0.690799</td>\n",
       "    </tr>\n",
       "    <tr>\n",
       "      <th>std</th>\n",
       "      <td>0.070187</td>\n",
       "      <td>0.074902</td>\n",
       "      <td>0.190969</td>\n",
       "    </tr>\n",
       "    <tr>\n",
       "      <th>min</th>\n",
       "      <td>0.001095</td>\n",
       "      <td>0.098424</td>\n",
       "      <td>0.000000</td>\n",
       "    </tr>\n",
       "    <tr>\n",
       "      <th>25%</th>\n",
       "      <td>0.261269</td>\n",
       "      <td>0.135669</td>\n",
       "      <td>0.605514</td>\n",
       "    </tr>\n",
       "    <tr>\n",
       "      <th>50%</th>\n",
       "      <td>0.307743</td>\n",
       "      <td>0.184029</td>\n",
       "      <td>0.741023</td>\n",
       "    </tr>\n",
       "    <tr>\n",
       "      <th>75%</th>\n",
       "      <td>0.355600</td>\n",
       "      <td>0.244692</td>\n",
       "      <td>0.828611</td>\n",
       "    </tr>\n",
       "    <tr>\n",
       "      <th>max</th>\n",
       "      <td>0.999846</td>\n",
       "      <td>0.413025</td>\n",
       "      <td>0.998805</td>\n",
       "    </tr>\n",
       "  </tbody>\n",
       "</table>\n",
       "</div>"
      ],
      "text/plain": [
       "            Logistic             RF             NN\n",
       "count  246444.000000  246444.000000  246444.000000\n",
       "mean        0.309134       0.198503       0.690799\n",
       "std         0.070187       0.074902       0.190969\n",
       "min         0.001095       0.098424       0.000000\n",
       "25%         0.261269       0.135669       0.605514\n",
       "50%         0.307743       0.184029       0.741023\n",
       "75%         0.355600       0.244692       0.828611\n",
       "max         0.999846       0.413025       0.998805"
      ]
     },
     "execution_count": 74,
     "metadata": {},
     "output_type": "execute_result"
    }
   ],
   "source": [
    "stack_test.describe()"
   ]
  },
  {
   "cell_type": "markdown",
   "metadata": {},
   "source": [
    "We will aggregate these with the \"min\" function. Thus we are interested in the loans that all models agree are good. As shown below, that's 9% of all test loans and will yield a return of 0.02."
   ]
  },
  {
   "cell_type": "code",
   "execution_count": 75,
   "metadata": {},
   "outputs": [
    {
     "name": "stdout",
     "output_type": "stream",
     "text": [
      "Percent positive investments 0.0%\n",
      "Average return nan\n"
     ]
    }
   ],
   "source": [
    "# positive = stack_test.mean(axis=1) > 0.5\n",
    "# positive = (stack_test > 0.75).sum(axis=1) >= 3\n",
    "positive = stack_test.min(axis=1) > 0.8\n",
    "print(\"Percent positive investments %0.1f%%\" % ((positive.sum() / y_test.count()) * 100))\n",
    "print(\"Average return\", y_test[positive.values].mean())"
   ]
  },
  {
   "cell_type": "markdown",
   "metadata": {
    "collapsed": true
   },
   "source": [
    "## KNN"
   ]
  },
  {
   "cell_type": "markdown",
   "metadata": {},
   "source": [
    "For the sake of completeness, we will also run a KNN classifier. But the results are not promising."
   ]
  },
  {
   "cell_type": "code",
   "execution_count": 76,
   "metadata": {},
   "outputs": [
    {
     "name": "stdout",
     "output_type": "stream",
     "text": [
      "Positive result on 312 out of 2500 (12.48%)\n",
      "Mean return of strategy: -0.027277999524171637\n",
      "Overall return: -0.02146721277172889\n",
      "remaining -0.020638617951453702\n"
     ]
    },
    {
     "data": {
      "text/plain": [
       "(-0.027277999524171637, -0.02146721277172889)"
      ]
     },
     "execution_count": 76,
     "metadata": {},
     "output_type": "execute_result"
    }
   ],
   "source": [
    "from sklearn.neighbors import KNeighborsClassifier\n",
    "\n",
    "KNN =KNeighborsClassifier(n_neighbors = 2).fit(X_train_sub_scale, y_train_sub > 0.10)\n",
    "evaluate_strategy(KNN, X_test_sub_scale, y_test_sub)"
   ]
  },
  {
   "cell_type": "code",
   "execution_count": null,
   "metadata": {
    "collapsed": true
   },
   "outputs": [],
   "source": []
  }
 ],
 "metadata": {
  "kernelspec": {
   "display_name": "Python 3",
   "language": "python",
   "name": "python3"
  },
  "language_info": {
   "codemirror_mode": {
    "name": "ipython",
    "version": 3
   },
   "file_extension": ".py",
   "mimetype": "text/x-python",
   "name": "python",
   "nbconvert_exporter": "python",
   "pygments_lexer": "ipython3",
   "version": "3.6.2"
  }
 },
 "nbformat": 4,
 "nbformat_minor": 2
}
