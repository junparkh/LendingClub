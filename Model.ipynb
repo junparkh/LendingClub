{
 "cells": [
  {
   "cell_type": "code",
   "execution_count": 2,
   "metadata": {},
   "outputs": [
    {
     "name": "stderr",
     "output_type": "stream",
     "text": [
      "C:\\Users\\genie\\Anaconda3\\lib\\site-packages\\sklearn\\ensemble\\weight_boosting.py:29: DeprecationWarning: numpy.core.umath_tests is an internal NumPy module and should not be imported. It will be removed in a future NumPy release.\n",
      "  from numpy.core.umath_tests import inner1d\n",
      "C:\\Users\\genie\\Anaconda3\\lib\\site-packages\\h5py\\__init__.py:34: FutureWarning: Conversion of the second argument of issubdtype from `float` to `np.floating` is deprecated. In future, it will be treated as `np.float64 == np.dtype(float).type`.\n",
      "  from ._conv import register_converters as _register_converters\n",
      "Using TensorFlow backend.\n",
      "C:\\Users\\genie\\Anaconda3\\lib\\site-packages\\statsmodels\\compat\\pandas.py:56: FutureWarning: The pandas.core.datetools module is deprecated and will be removed in a future version. Please use the pandas.tseries module instead.\n",
      "  from pandas.core import datetools\n"
     ]
    }
   ],
   "source": [
    "import numpy as np\n",
    "import pandas as pd\n",
    "import matplotlib.pyplot as plt\n",
    "from sklearn.preprocessing import PolynomialFeatures\n",
    "from sklearn.metrics import r2_score\n",
    "from pandas.plotting import scatter_matrix\n",
    "from sklearn.linear_model import RidgeCV\n",
    "from sklearn.linear_model import LassoCV\n",
    "from sklearn.linear_model import LinearRegression\n",
    "from sklearn.preprocessing import StandardScaler\n",
    "from sklearn.tree import DecisionTreeClassifier\n",
    "from sklearn.ensemble import RandomForestClassifier\n",
    "from sklearn.ensemble import AdaBoostClassifier\n",
    "from sklearn.linear_model import LogisticRegressionCV\n",
    "from sklearn.ensemble import RandomForestRegressor\n",
    "from sklearn.ensemble import AdaBoostRegressor\n",
    "from sklearn.linear_model import Lasso\n",
    "from sklearn.discriminant_analysis import LinearDiscriminantAnalysis\n",
    "from sklearn.discriminant_analysis import QuadraticDiscriminantAnalysis\n",
    "from sklearn.svm import SVC\n",
    "from sklearn.neighbors import KNeighborsClassifier\n",
    "\n",
    "from sklearn.model_selection import train_test_split\n",
    "from sklearn.metrics import accuracy_score\n",
    "from keras.models import Sequential\n",
    "from keras.layers import Dense\n",
    "from sklearn.metrics import r2_score\n",
    "from statsmodels.api import OLS\n",
    "import statsmodels.api as sm\n",
    "\n",
    "\n",
    "\n",
    "%matplotlib inline\n",
    "\n",
    "import seaborn as sns\n",
    "\n",
    "sns.set()"
   ]
  },
  {
   "cell_type": "markdown",
   "metadata": {},
   "source": [
    "# Load pickle data and define X,Y"
   ]
  },
  {
   "cell_type": "code",
   "execution_count": 3,
   "metadata": {
    "collapsed": true
   },
   "outputs": [],
   "source": [
    "stockdf = pd.read_pickle(\"035720.bz2\")"
   ]
  },
  {
   "cell_type": "code",
   "execution_count": 4,
   "metadata": {
    "collapsed": true
   },
   "outputs": [],
   "source": [
    "y_data = stockdf.등락률[:-1]\n",
    "x_data = stockdf.iloc[:,stockdf.columns != '등락률'][1:]\n",
    "x_data = x_data.drop('날짜',axis=1)"
   ]
  },
  {
   "cell_type": "markdown",
   "metadata": {},
   "source": [
    "# Split Train and Test 0.75 : 0.25"
   ]
  },
  {
   "cell_type": "code",
   "execution_count": 5,
   "metadata": {
    "collapsed": true
   },
   "outputs": [],
   "source": [
    "X_train, X_test, y_train, y_test = train_test_split(\n",
    "    x_data, y_data, test_size=0.25, random_state=42)"
   ]
  },
  {
   "cell_type": "markdown",
   "metadata": {},
   "source": [
    "# Exploratory Data Analysis"
   ]
  },
  {
   "cell_type": "code",
   "execution_count": 6,
   "metadata": {},
   "outputs": [
    {
     "data": {
      "text/html": [
       "<div>\n",
       "<style scoped>\n",
       "    .dataframe tbody tr th:only-of-type {\n",
       "        vertical-align: middle;\n",
       "    }\n",
       "\n",
       "    .dataframe tbody tr th {\n",
       "        vertical-align: top;\n",
       "    }\n",
       "\n",
       "    .dataframe thead th {\n",
       "        text-align: right;\n",
       "    }\n",
       "</style>\n",
       "<table border=\"1\" class=\"dataframe\">\n",
       "  <thead>\n",
       "    <tr style=\"text-align: right;\">\n",
       "      <th></th>\n",
       "      <th>등락률</th>\n",
       "      <th>기관 순매매량</th>\n",
       "      <th>외국인 순매매량</th>\n",
       "      <th>외국인 보유율</th>\n",
       "      <th>종가</th>\n",
       "      <th>시가</th>\n",
       "      <th>고가</th>\n",
       "      <th>저가</th>\n",
       "      <th>거래량</th>\n",
       "      <th>기간</th>\n",
       "    </tr>\n",
       "  </thead>\n",
       "  <tbody>\n",
       "    <tr>\n",
       "      <th>등락률</th>\n",
       "      <td>1.000000</td>\n",
       "      <td>0.496914</td>\n",
       "      <td>0.219724</td>\n",
       "      <td>0.013221</td>\n",
       "      <td>0.023653</td>\n",
       "      <td>-0.079063</td>\n",
       "      <td>-0.029506</td>\n",
       "      <td>-0.030781</td>\n",
       "      <td>-0.006049</td>\n",
       "      <td>-0.059190</td>\n",
       "    </tr>\n",
       "    <tr>\n",
       "      <th>기관 순매매량</th>\n",
       "      <td>0.496914</td>\n",
       "      <td>1.000000</td>\n",
       "      <td>-0.062476</td>\n",
       "      <td>0.043178</td>\n",
       "      <td>0.159250</td>\n",
       "      <td>0.108997</td>\n",
       "      <td>0.131259</td>\n",
       "      <td>0.135362</td>\n",
       "      <td>0.222434</td>\n",
       "      <td>0.044224</td>\n",
       "    </tr>\n",
       "    <tr>\n",
       "      <th>외국인 순매매량</th>\n",
       "      <td>0.219724</td>\n",
       "      <td>-0.062476</td>\n",
       "      <td>1.000000</td>\n",
       "      <td>0.064913</td>\n",
       "      <td>-0.156282</td>\n",
       "      <td>-0.185715</td>\n",
       "      <td>-0.176292</td>\n",
       "      <td>-0.171103</td>\n",
       "      <td>-0.081782</td>\n",
       "      <td>-0.092361</td>\n",
       "    </tr>\n",
       "    <tr>\n",
       "      <th>외국인 보유율</th>\n",
       "      <td>0.013221</td>\n",
       "      <td>0.043178</td>\n",
       "      <td>0.064913</td>\n",
       "      <td>1.000000</td>\n",
       "      <td>0.301238</td>\n",
       "      <td>0.294684</td>\n",
       "      <td>0.295340</td>\n",
       "      <td>0.302273</td>\n",
       "      <td>0.113947</td>\n",
       "      <td>0.229043</td>\n",
       "    </tr>\n",
       "    <tr>\n",
       "      <th>종가</th>\n",
       "      <td>0.023653</td>\n",
       "      <td>0.159250</td>\n",
       "      <td>-0.156282</td>\n",
       "      <td>0.301238</td>\n",
       "      <td>1.000000</td>\n",
       "      <td>0.993112</td>\n",
       "      <td>0.997047</td>\n",
       "      <td>0.997093</td>\n",
       "      <td>0.303791</td>\n",
       "      <td>0.525714</td>\n",
       "    </tr>\n",
       "    <tr>\n",
       "      <th>시가</th>\n",
       "      <td>-0.079063</td>\n",
       "      <td>0.108997</td>\n",
       "      <td>-0.185715</td>\n",
       "      <td>0.294684</td>\n",
       "      <td>0.993112</td>\n",
       "      <td>1.000000</td>\n",
       "      <td>0.997313</td>\n",
       "      <td>0.997340</td>\n",
       "      <td>0.305055</td>\n",
       "      <td>0.524669</td>\n",
       "    </tr>\n",
       "    <tr>\n",
       "      <th>고가</th>\n",
       "      <td>-0.029506</td>\n",
       "      <td>0.131259</td>\n",
       "      <td>-0.176292</td>\n",
       "      <td>0.295340</td>\n",
       "      <td>0.997047</td>\n",
       "      <td>0.997313</td>\n",
       "      <td>1.000000</td>\n",
       "      <td>0.997122</td>\n",
       "      <td>0.325991</td>\n",
       "      <td>0.525593</td>\n",
       "    </tr>\n",
       "    <tr>\n",
       "      <th>저가</th>\n",
       "      <td>-0.030781</td>\n",
       "      <td>0.135362</td>\n",
       "      <td>-0.171103</td>\n",
       "      <td>0.302273</td>\n",
       "      <td>0.997093</td>\n",
       "      <td>0.997340</td>\n",
       "      <td>0.997122</td>\n",
       "      <td>1.000000</td>\n",
       "      <td>0.285294</td>\n",
       "      <td>0.527528</td>\n",
       "    </tr>\n",
       "    <tr>\n",
       "      <th>거래량</th>\n",
       "      <td>-0.006049</td>\n",
       "      <td>0.222434</td>\n",
       "      <td>-0.081782</td>\n",
       "      <td>0.113947</td>\n",
       "      <td>0.303791</td>\n",
       "      <td>0.305055</td>\n",
       "      <td>0.325991</td>\n",
       "      <td>0.285294</td>\n",
       "      <td>1.000000</td>\n",
       "      <td>-0.066279</td>\n",
       "    </tr>\n",
       "    <tr>\n",
       "      <th>기간</th>\n",
       "      <td>-0.059190</td>\n",
       "      <td>0.044224</td>\n",
       "      <td>-0.092361</td>\n",
       "      <td>0.229043</td>\n",
       "      <td>0.525714</td>\n",
       "      <td>0.524669</td>\n",
       "      <td>0.525593</td>\n",
       "      <td>0.527528</td>\n",
       "      <td>-0.066279</td>\n",
       "      <td>1.000000</td>\n",
       "    </tr>\n",
       "  </tbody>\n",
       "</table>\n",
       "</div>"
      ],
      "text/plain": [
       "               등락률   기관 순매매량  외국인 순매매량   외국인 보유율        종가        시가  \\\n",
       "등락률       1.000000  0.496914  0.219724  0.013221  0.023653 -0.079063   \n",
       "기관 순매매량   0.496914  1.000000 -0.062476  0.043178  0.159250  0.108997   \n",
       "외국인 순매매량  0.219724 -0.062476  1.000000  0.064913 -0.156282 -0.185715   \n",
       "외국인 보유율   0.013221  0.043178  0.064913  1.000000  0.301238  0.294684   \n",
       "종가        0.023653  0.159250 -0.156282  0.301238  1.000000  0.993112   \n",
       "시가       -0.079063  0.108997 -0.185715  0.294684  0.993112  1.000000   \n",
       "고가       -0.029506  0.131259 -0.176292  0.295340  0.997047  0.997313   \n",
       "저가       -0.030781  0.135362 -0.171103  0.302273  0.997093  0.997340   \n",
       "거래량      -0.006049  0.222434 -0.081782  0.113947  0.303791  0.305055   \n",
       "기간       -0.059190  0.044224 -0.092361  0.229043  0.525714  0.524669   \n",
       "\n",
       "                고가        저가       거래량        기간  \n",
       "등락률      -0.029506 -0.030781 -0.006049 -0.059190  \n",
       "기관 순매매량   0.131259  0.135362  0.222434  0.044224  \n",
       "외국인 순매매량 -0.176292 -0.171103 -0.081782 -0.092361  \n",
       "외국인 보유율   0.295340  0.302273  0.113947  0.229043  \n",
       "종가        0.997047  0.997093  0.303791  0.525714  \n",
       "시가        0.997313  0.997340  0.305055  0.524669  \n",
       "고가        1.000000  0.997122  0.325991  0.525593  \n",
       "저가        0.997122  1.000000  0.285294  0.527528  \n",
       "거래량       0.325991  0.285294  1.000000 -0.066279  \n",
       "기간        0.525593  0.527528 -0.066279  1.000000  "
      ]
     },
     "execution_count": 6,
     "metadata": {},
     "output_type": "execute_result"
    }
   ],
   "source": [
    "stockdf.corr()"
   ]
  },
  {
   "cell_type": "code",
   "execution_count": 7,
   "metadata": {},
   "outputs": [
    {
     "data": {
      "text/plain": [
       "0.1575725593667546"
      ]
     },
     "execution_count": 7,
     "metadata": {},
     "output_type": "execute_result"
    },
    {
     "data": {
      "image/png": "[encoded data removed]",
      "text/plain": [
       "<matplotlib.figure.Figure at 0x13a544b7940>"
      ]
     },
     "metadata": {},
     "output_type": "display_data"
    }
   ],
   "source": [
    "plt.plot(y_data)\n",
    "y_data.mean()"
   ]
  },
  {
   "cell_type": "markdown",
   "metadata": {},
   "source": [
    "# Standardzation"
   ]
  },
  {
   "cell_type": "code",
   "execution_count": 9,
   "metadata": {
    "collapsed": true
   },
   "outputs": [],
   "source": [
    "scale = StandardScaler()\n",
    "scale.fit(X_train)\n",
    "X_train_scale = pd.DataFrame(data = scale.transform(X_train), columns = X_train.columns.tolist())\n",
    "X_test_scale = pd.DataFrame(data = scale.transform(X_test), columns = X_test.columns.tolist())"
   ]
  },
  {
   "cell_type": "markdown",
   "metadata": {},
   "source": [
    "# OLS model"
   ]
  },
  {
   "cell_type": "code",
   "execution_count": 10,
   "metadata": {},
   "outputs": [
    {
     "data": {
      "text/html": [
       "<table class=\"simpletable\">\n",
       "<caption>OLS Regression Results</caption>\n",
       "<tr>\n",
       "  <th>Dep. Variable:</th>            <td>y</td>        <th>  R-squared:         </th> <td>   0.102</td>\n",
       "</tr>\n",
       "<tr>\n",
       "  <th>Model:</th>                   <td>OLS</td>       <th>  Adj. R-squared:    </th> <td>   0.072</td>\n",
       "</tr>\n",
       "<tr>\n",
       "  <th>Method:</th>             <td>Least Squares</td>  <th>  F-statistic:       </th> <td>   3.442</td>\n",
       "</tr>\n",
       "<tr>\n",
       "  <th>Date:</th>             <td>Sun, 23 Sep 2018</td> <th>  Prob (F-statistic):</th> <td>0.000490</td>\n",
       "</tr>\n",
       "<tr>\n",
       "  <th>Time:</th>                 <td>15:54:21</td>     <th>  Log-Likelihood:    </th> <td> -625.99</td>\n",
       "</tr>\n",
       "<tr>\n",
       "  <th>No. Observations:</th>      <td>   284</td>      <th>  AIC:               </th> <td>   1272.</td>\n",
       "</tr>\n",
       "<tr>\n",
       "  <th>Df Residuals:</th>          <td>   274</td>      <th>  BIC:               </th> <td>   1308.</td>\n",
       "</tr>\n",
       "<tr>\n",
       "  <th>Df Model:</th>              <td>     9</td>      <th>                     </th>     <td> </td>   \n",
       "</tr>\n",
       "<tr>\n",
       "  <th>Covariance Type:</th>      <td>nonrobust</td>    <th>                     </th>     <td> </td>   \n",
       "</tr>\n",
       "</table>\n",
       "<table class=\"simpletable\">\n",
       "<tr>\n",
       "      <td></td>        <th>coef</th>     <th>std err</th>      <th>t</th>      <th>P>|t|</th>  <th>[0.025</th>    <th>0.975]</th>  \n",
       "</tr>\n",
       "<tr>\n",
       "  <th>const</th>    <td>    0.1596</td> <td>    0.132</td> <td>    1.205</td> <td> 0.229</td> <td>   -0.101</td> <td>    0.420</td>\n",
       "</tr>\n",
       "<tr>\n",
       "  <th>기관 순매매량</th>  <td>    0.6395</td> <td>    0.157</td> <td>    4.061</td> <td> 0.000</td> <td>    0.329</td> <td>    0.950</td>\n",
       "</tr>\n",
       "<tr>\n",
       "  <th>외국인 순매매량</th> <td>    0.2233</td> <td>    0.142</td> <td>    1.574</td> <td> 0.117</td> <td>   -0.056</td> <td>    0.503</td>\n",
       "</tr>\n",
       "<tr>\n",
       "  <th>외국인 보유율</th>  <td>    0.1007</td> <td>    0.143</td> <td>    0.706</td> <td> 0.480</td> <td>   -0.180</td> <td>    0.381</td>\n",
       "</tr>\n",
       "<tr>\n",
       "  <th>종가</th>       <td>   -2.6087</td> <td>    2.687</td> <td>   -0.971</td> <td> 0.333</td> <td>   -7.899</td> <td>    2.682</td>\n",
       "</tr>\n",
       "<tr>\n",
       "  <th>시가</th>       <td>    5.3258</td> <td>    2.891</td> <td>    1.842</td> <td> 0.067</td> <td>   -0.366</td> <td>   11.017</td>\n",
       "</tr>\n",
       "<tr>\n",
       "  <th>고가</th>       <td>    4.4587</td> <td>    3.224</td> <td>    1.383</td> <td> 0.168</td> <td>   -1.887</td> <td>   10.805</td>\n",
       "</tr>\n",
       "<tr>\n",
       "  <th>저가</th>       <td>   -7.3169</td> <td>    3.327</td> <td>   -2.199</td> <td> 0.029</td> <td>  -13.867</td> <td>   -0.767</td>\n",
       "</tr>\n",
       "<tr>\n",
       "  <th>거래량</th>      <td>   -0.6039</td> <td>    0.188</td> <td>   -3.204</td> <td> 0.002</td> <td>   -0.975</td> <td>   -0.233</td>\n",
       "</tr>\n",
       "<tr>\n",
       "  <th>기간</th>       <td>   -0.2117</td> <td>    0.165</td> <td>   -1.286</td> <td> 0.199</td> <td>   -0.536</td> <td>    0.112</td>\n",
       "</tr>\n",
       "</table>\n",
       "<table class=\"simpletable\">\n",
       "<tr>\n",
       "  <th>Omnibus:</th>       <td>21.906</td> <th>  Durbin-Watson:     </th> <td>   1.922</td>\n",
       "</tr>\n",
       "<tr>\n",
       "  <th>Prob(Omnibus):</th> <td> 0.000</td> <th>  Jarque-Bera (JB):  </th> <td>  42.540</td>\n",
       "</tr>\n",
       "<tr>\n",
       "  <th>Skew:</th>          <td> 0.417</td> <th>  Prob(JB):          </th> <td>5.79e-10</td>\n",
       "</tr>\n",
       "<tr>\n",
       "  <th>Kurtosis:</th>      <td> 4.703</td> <th>  Cond. No.          </th> <td>    79.8</td>\n",
       "</tr>\n",
       "</table>"
      ],
      "text/plain": [
       "<class 'statsmodels.iolib.summary.Summary'>\n",
       "\"\"\"\n",
       "                            OLS Regression Results                            \n",
       "==============================================================================\n",
       "Dep. Variable:                      y   R-squared:                       0.102\n",
       "Model:                            OLS   Adj. R-squared:                  0.072\n",
       "Method:                 Least Squares   F-statistic:                     3.442\n",
       "Date:                Sun, 23 Sep 2018   Prob (F-statistic):           0.000490\n",
       "Time:                        15:54:21   Log-Likelihood:                -625.99\n",
       "No. Observations:                 284   AIC:                             1272.\n",
       "Df Residuals:                     274   BIC:                             1308.\n",
       "Df Model:                           9                                         \n",
       "Covariance Type:            nonrobust                                         \n",
       "==============================================================================\n",
       "                 coef    std err          t      P>|t|      [0.025      0.975]\n",
       "------------------------------------------------------------------------------\n",
       "const          0.1596      0.132      1.205      0.229      -0.101       0.420\n",
       "기관 순매매량        0.6395      0.157      4.061      0.000       0.329       0.950\n",
       "외국인 순매매량       0.2233      0.142      1.574      0.117      -0.056       0.503\n",
       "외국인 보유율        0.1007      0.143      0.706      0.480      -0.180       0.381\n",
       "종가            -2.6087      2.687     -0.971      0.333      -7.899       2.682\n",
       "시가             5.3258      2.891      1.842      0.067      -0.366      11.017\n",
       "고가             4.4587      3.224      1.383      0.168      -1.887      10.805\n",
       "저가            -7.3169      3.327     -2.199      0.029     -13.867      -0.767\n",
       "거래량           -0.6039      0.188     -3.204      0.002      -0.975      -0.233\n",
       "기간            -0.2117      0.165     -1.286      0.199      -0.536       0.112\n",
       "==============================================================================\n",
       "Omnibus:                       21.906   Durbin-Watson:                   1.922\n",
       "Prob(Omnibus):                  0.000   Jarque-Bera (JB):               42.540\n",
       "Skew:                           0.417   Prob(JB):                     5.79e-10\n",
       "Kurtosis:                       4.703   Cond. No.                         79.8\n",
       "==============================================================================\n",
       "\n",
       "Warnings:\n",
       "[1] Standard Errors assume that the covariance matrix of the errors is correctly specified.\n",
       "\"\"\""
      ]
     },
     "execution_count": 10,
     "metadata": {},
     "output_type": "execute_result"
    }
   ],
   "source": [
    "\n",
    "X_train_scale_add = sm.add_constant(X_train_scale)\n",
    "X_test_scale_add = sm.add_constant(X_test_scale)\n",
    "y_train_re = y_train.values.reshape(-1,1)\n",
    "y_test_re = y_test.values.reshape(-1,1)\n",
    "OLSmodel = OLS(y_train_re,X_train_scale_add).fit()\n",
    "OLSmodel.summary()"
   ]
  },
  {
   "cell_type": "code",
   "execution_count": 11,
   "metadata": {},
   "outputs": [
    {
     "name": "stdout",
     "output_type": "stream",
     "text": [
      "rscore -0.07109139938631515\n",
      "mean of profit : 0.2194733497919889\n"
     ]
    }
   ],
   "source": [
    "yhat = OLSmodel.predict(X_test_scale_add)\n",
    "print(\"rscore {0}\".format(r2_score(y_test,yhat)))\n",
    "print(\"mean of profit : {0}\".format(OLSmodel.predict(X_test_scale_add).mean()))\n"
   ]
  },
  {
   "cell_type": "markdown",
   "metadata": {},
   "source": [
    "# Linear model, Ridge and Lasso (cross validation)"
   ]
  },
  {
   "cell_type": "code",
   "execution_count": 12,
   "metadata": {},
   "outputs": [
    {
     "name": "stdout",
     "output_type": "stream",
     "text": [
      "rscore -0.07109139938631515\n",
      "mean of profit : 0.2194733497919909\n"
     ]
    },
    {
     "data": {
      "text/plain": [
       "{'거래량': -0.6038838995727712,\n",
       " '고가': 4.45868209913728,\n",
       " '기간': -0.21170919940580074,\n",
       " '기관 순매매량': 0.6395089187823471,\n",
       " '시가': 5.325824356076458,\n",
       " '외국인 보유율': 0.10069299291096899,\n",
       " '외국인 순매매량': 0.22329197425159242,\n",
       " '저가': -7.316880447576435,\n",
       " '종가': -2.6086563036863426}"
      ]
     },
     "execution_count": 12,
     "metadata": {},
     "output_type": "execute_result"
    }
   ],
   "source": [
    "linearmodel = LinearRegression().fit(X_train_scale,y_train)\n",
    "print(\"rscore {0}\".format(linearmodel.score(X_test_scale,y_test)))\n",
    "print(\"mean of profit : {0}\".format(linearmodel.predict(X_test_scale).mean()))\n",
    "{k: v for k,v in zip(X_train_scale.columns, linearmodel.coef_.ravel())}"
   ]
  },
  {
   "cell_type": "code",
   "execution_count": 13,
   "metadata": {},
   "outputs": [
    {
     "name": "stdout",
     "output_type": "stream",
     "text": [
      "rscore -0.06383842341159385\n",
      "mean of profit : 0.2184031264810883\n"
     ]
    },
    {
     "data": {
      "text/plain": [
       "{'거래량': -0.5473516959723668,\n",
       " '고가': 3.9488675476305275,\n",
       " '기간': -0.200121211736203,\n",
       " '기관 순매매량': 0.6082480241593657,\n",
       " '시가': 4.428783899866573,\n",
       " '외국인 보유율': 0.08760505784208306,\n",
       " '외국인 순매매량': 0.208565486086826,\n",
       " '저가': -5.798970438925409,\n",
       " '종가': -2.738981804256696}"
      ]
     },
     "execution_count": 13,
     "metadata": {},
     "output_type": "execute_result"
    }
   ],
   "source": [
    "Ridge = RidgeCV().fit(X_train_scale,y_train)\n",
    "print(\"rscore {0}\".format(Ridge.score(X_test_scale,y_test)))\n",
    "print(\"mean of profit : {0}\".format(Ridge.predict(X_test_scale).mean()))\n",
    "{k: v for k,v in zip(X_train_scale.columns, Ridge.coef_.ravel())}"
   ]
  },
  {
   "cell_type": "code",
   "execution_count": 14,
   "metadata": {},
   "outputs": [
    {
     "name": "stderr",
     "output_type": "stream",
     "text": [
      "C:\\Users\\genie\\Anaconda3\\lib\\site-packages\\sklearn\\linear_model\\coordinate_descent.py:491: ConvergenceWarning: Objective did not converge. You might want to increase the number of iterations. Fitting data with very small alpha may cause precision problems.\n",
      "  ConvergenceWarning)\n"
     ]
    },
    {
     "name": "stdout",
     "output_type": "stream",
     "text": [
      "rscore -0.06348231928402615\n",
      "mean of profit : 0.2152486906666355\n"
     ]
    },
    {
     "name": "stderr",
     "output_type": "stream",
     "text": [
      "C:\\Users\\genie\\Anaconda3\\lib\\site-packages\\sklearn\\linear_model\\coordinate_descent.py:491: ConvergenceWarning: Objective did not converge. You might want to increase the number of iterations. Fitting data with very small alpha may cause precision problems.\n",
      "  ConvergenceWarning)\n"
     ]
    }
   ],
   "source": [
    "Lassomodel = LassoCV().fit(X_train_scale,y_train)\n",
    "print(\"rscore {0}\".format(Lassomodel.score(X_test_scale,y_test)))\n",
    "print(\"mean of profit : {0}\".format(Lassomodel.predict(X_test_scale).mean()))"
   ]
  },
  {
   "cell_type": "markdown",
   "metadata": {},
   "source": [
    "# Random Forest Regression"
   ]
  },
  {
   "cell_type": "code",
   "execution_count": 15,
   "metadata": {},
   "outputs": [
    {
     "name": "stdout",
     "output_type": "stream",
     "text": [
      "rscore -0.17408631428171706\n",
      "mean of profit : 0.39172631578947376\n"
     ]
    }
   ],
   "source": [
    "RandomRegression = RandomForestRegressor().fit(X_train_scale,y_train)\n",
    "print(\"rscore {0}\".format(RandomRegression.score(X_test_scale,y_test)))\n",
    "print(\"mean of profit : {0}\".format(RandomRegression.predict(X_test_scale).mean()))"
   ]
  },
  {
   "cell_type": "markdown",
   "metadata": {},
   "source": [
    "# AdaBoost Regression"
   ]
  },
  {
   "cell_type": "code",
   "execution_count": 16,
   "metadata": {},
   "outputs": [
    {
     "name": "stdout",
     "output_type": "stream",
     "text": [
      "rscore -0.07109139938631515\n",
      "mean of profit : 0.2194733497919909\n"
     ]
    }
   ],
   "source": [
    "Adaregressor = AdaBoostRegressor().fit(X_train_scale,y_train)\n",
    "print(\"rscore {0}\".format(linearmodel.score(X_test_scale,y_test)))\n",
    "print(\"mean of profit : {0}\".format(linearmodel.predict(X_test_scale).mean()))"
   ]
  },
  {
   "cell_type": "markdown",
   "metadata": {},
   "source": [
    "# Evaluating model function"
   ]
  },
  {
   "cell_type": "code",
   "execution_count": 17,
   "metadata": {
    "collapsed": true
   },
   "outputs": [],
   "source": [
    "def evaluate_strategy(model, df, profit, cutoff=None, showprint=True):\n",
    "    # see where our model says to invest\n",
    "    inv = model.predict(df)\n",
    "    if cutoff is not None: \n",
    "        inv = inv > cutoff\n",
    "        inv = inv.reshape(-1)\n",
    "    # return the mean return\n",
    "    if showprint:\n",
    "        print(\"Positive result on %d out of %d (%0.2f%%)\" % (inv.sum(), inv.shape[0], inv.sum() / inv.shape[0] * 100.0))\n",
    "        print(\"Mean return of strategy:\", profit[inv].mean())\n",
    "        print(\"Overall return:\", profit.mean())\n",
    "    return profit[inv].mean(), profit.mean()"
   ]
  },
  {
   "cell_type": "code",
   "execution_count": 18,
   "metadata": {
    "collapsed": true
   },
   "outputs": [],
   "source": [
    "y_train_cat = y_train > 0\n",
    "y_test_cat = y_test >0"
   ]
  },
  {
   "cell_type": "markdown",
   "metadata": {},
   "source": [
    "# Classification model"
   ]
  },
  {
   "cell_type": "code",
   "execution_count": 19,
   "metadata": {},
   "outputs": [
    {
     "name": "stdout",
     "output_type": "stream",
     "text": [
      "0.4631578947368421\n",
      "Positive result on 34 out of 95 (35.79%)\n",
      "Mean return of strategy: -0.2958823529411765\n",
      "Overall return: 0.15147368421052626\n"
     ]
    },
    {
     "data": {
      "text/plain": [
       "(-0.2958823529411765, 0.15147368421052626)"
      ]
     },
     "execution_count": 19,
     "metadata": {},
     "output_type": "execute_result"
    }
   ],
   "source": [
    "Logist =LogisticRegressionCV().fit(X_train_scale, y_train_cat)\n",
    "print(accuracy_score(y_test_cat,Logist.predict(X_test_scale)))\n",
    "evaluate_strategy(Logist,X_test_scale,y_test)"
   ]
  },
  {
   "cell_type": "code",
   "execution_count": 20,
   "metadata": {},
   "outputs": [
    {
     "name": "stdout",
     "output_type": "stream",
     "text": [
      "0.5157894736842106\n",
      "Positive result on 43 out of 95 (45.26%)\n",
      "Mean return of strategy: 0.31837209302325603\n",
      "Overall return: 0.15147368421052626\n"
     ]
    },
    {
     "data": {
      "text/plain": [
       "(0.31837209302325603, 0.15147368421052626)"
      ]
     },
     "execution_count": 20,
     "metadata": {},
     "output_type": "execute_result"
    }
   ],
   "source": [
    "Decision = DecisionTreeClassifier().fit(X_train_scale,y_train_cat)\n",
    "print(accuracy_score(y_test_cat,Decision.predict(X_test_scale)))\n",
    "evaluate_strategy(Decision,X_test_scale,y_test)"
   ]
  },
  {
   "cell_type": "code",
   "execution_count": 21,
   "metadata": {},
   "outputs": [
    {
     "name": "stdout",
     "output_type": "stream",
     "text": [
      "0.45263157894736844\n",
      "Positive result on 31 out of 95 (32.63%)\n",
      "Mean return of strategy: -0.3212903225806451\n",
      "Overall return: 0.15147368421052626\n"
     ]
    },
    {
     "data": {
      "text/plain": [
       "(-0.3212903225806451, 0.15147368421052626)"
      ]
     },
     "execution_count": 21,
     "metadata": {},
     "output_type": "execute_result"
    }
   ],
   "source": [
    "RandomForest = RandomForestClassifier().fit(X_train_scale,y_train_cat)\n",
    "print(accuracy_score(y_test_cat,RandomForest.predict(X_test_scale)))\n",
    "evaluate_strategy(RandomForest,X_test_scale,y_test)"
   ]
  },
  {
   "cell_type": "code",
   "execution_count": 22,
   "metadata": {},
   "outputs": [
    {
     "name": "stdout",
     "output_type": "stream",
     "text": [
      "0.5473684210526316\n",
      "Positive result on 44 out of 95 (46.32%)\n",
      "Mean return of strategy: 0.384090909090909\n",
      "Overall return: 0.15147368421052626\n"
     ]
    },
    {
     "data": {
      "text/plain": [
       "(0.384090909090909, 0.15147368421052626)"
      ]
     },
     "execution_count": 22,
     "metadata": {},
     "output_type": "execute_result"
    }
   ],
   "source": [
    "AdaCL = AdaBoostClassifier(n_estimators=300,learning_rate=0.05).fit(X_train_scale,y_train_cat)\n",
    "print(accuracy_score(y_test_cat,AdaCL.predict(X_test_scale)))\n",
    "evaluate_strategy(AdaCL,X_test_scale,y_test)\n"
   ]
  },
  {
   "cell_type": "markdown",
   "metadata": {},
   "source": [
    "# Adding polynomial variables"
   ]
  },
  {
   "cell_type": "code",
   "execution_count": 23,
   "metadata": {
    "collapsed": true
   },
   "outputs": [],
   "source": [
    "poly = PolynomialFeatures(4)\n",
    "X_train_poly = poly.fit_transform(X_train_scale)\n",
    "X_test_poly = poly.fit_transform(X_test_scale)\n",
    "\n",
    "newscaler = StandardScaler().fit(X_train_poly)\n",
    "\n",
    "X_train_poly = newscaler.transform(X_train_poly)\n",
    "X_test_poly = newscaler.transform(X_test_poly)"
   ]
  },
  {
   "cell_type": "code",
   "execution_count": 24,
   "metadata": {},
   "outputs": [
    {
     "name": "stdout",
     "output_type": "stream",
     "text": [
      "0.5052631578947369\n",
      "Positive result on 24 out of 95 (25.26%)\n",
      "Mean return of strategy: -0.017499999999999977\n",
      "Overall return: 0.15147368421052626\n"
     ]
    },
    {
     "data": {
      "text/plain": [
       "(-0.017499999999999977, 0.15147368421052626)"
      ]
     },
     "execution_count": 24,
     "metadata": {},
     "output_type": "execute_result"
    }
   ],
   "source": [
    "polylog = LogisticRegressionCV().fit(X_train_poly,y_train_cat)\n",
    "print(accuracy_score(y_test_cat,polylog.predict(X_test_poly)))\n",
    "evaluate_strategy(polylog,X_test_poly,y_test)\n"
   ]
  },
  {
   "cell_type": "code",
   "execution_count": 25,
   "metadata": {},
   "outputs": [
    {
     "name": "stdout",
     "output_type": "stream",
     "text": [
      "rscore -0.43888142621803516\n",
      "mean of profit : 0.20308272760436602\n"
     ]
    }
   ],
   "source": [
    "polyridge = RidgeCV().fit(X_train_poly,y_train)\n",
    "print(\"rscore {0}\".format(polyridge.score(X_test_poly,y_test)))\n",
    "print(\"mean of profit : {0}\".format(polyridge.predict(X_test_poly).mean()))"
   ]
  },
  {
   "cell_type": "markdown",
   "metadata": {},
   "source": [
    "# SVM, LDA, QDA, KNN"
   ]
  },
  {
   "cell_type": "code",
   "execution_count": 26,
   "metadata": {},
   "outputs": [
    {
     "name": "stdout",
     "output_type": "stream",
     "text": [
      "0.4842105263157895\n",
      "Positive result on 44 out of 95 (46.32%)\n",
      "Mean return of strategy: -0.023409090909090945\n",
      "Overall return: 0.15147368421052626\n"
     ]
    },
    {
     "data": {
      "text/plain": [
       "(-0.023409090909090945, 0.15147368421052626)"
      ]
     },
     "execution_count": 26,
     "metadata": {},
     "output_type": "execute_result"
    }
   ],
   "source": [
    "SVM = SVC().fit(X_train_scale,y_train_cat)\n",
    "print(accuracy_score(y_test_cat,SVM.predict(X_test_scale)))\n",
    "evaluate_strategy(SVM,X_test_scale,y_test)\n"
   ]
  },
  {
   "cell_type": "code",
   "execution_count": 27,
   "metadata": {},
   "outputs": [
    {
     "name": "stdout",
     "output_type": "stream",
     "text": [
      "0.5684210526315789\n",
      "Positive result on 42 out of 95 (44.21%)\n",
      "Mean return of strategy: 0.4285714285714287\n",
      "Overall return: 0.15147368421052626\n"
     ]
    },
    {
     "data": {
      "text/plain": [
       "(0.4285714285714287, 0.15147368421052626)"
      ]
     },
     "execution_count": 27,
     "metadata": {},
     "output_type": "execute_result"
    }
   ],
   "source": [
    "LDA =LinearDiscriminantAnalysis().fit(X_train_scale,y_train_cat)\n",
    "print(accuracy_score(y_test_cat,LDA.predict(X_test_scale)))\n",
    "evaluate_strategy(LDA,X_test_scale,y_test)"
   ]
  },
  {
   "cell_type": "code",
   "execution_count": 28,
   "metadata": {},
   "outputs": [
    {
     "name": "stdout",
     "output_type": "stream",
     "text": [
      "0.5052631578947369\n",
      "Positive result on 32 out of 95 (33.68%)\n",
      "Mean return of strategy: 0.13468750000000002\n",
      "Overall return: 0.15147368421052626\n"
     ]
    },
    {
     "data": {
      "text/plain": [
       "(0.13468750000000002, 0.15147368421052626)"
      ]
     },
     "execution_count": 28,
     "metadata": {},
     "output_type": "execute_result"
    }
   ],
   "source": [
    "QDA = QuadraticDiscriminantAnalysis().fit(X_train_scale,y_train_cat)\n",
    "print(accuracy_score(y_test_cat,QDA.predict(X_test_scale)))\n",
    "evaluate_strategy(QDA,X_test_scale,y_test)"
   ]
  },
  {
   "cell_type": "code",
   "execution_count": 29,
   "metadata": {},
   "outputs": [
    {
     "name": "stdout",
     "output_type": "stream",
     "text": [
      "0.5578947368421052\n",
      "Positive result on 57 out of 95 (60.00%)\n",
      "Mean return of strategy: 0.38982456140350896\n",
      "Overall return: 0.15147368421052626\n"
     ]
    },
    {
     "data": {
      "text/plain": [
       "(0.38982456140350896, 0.15147368421052626)"
      ]
     },
     "execution_count": 29,
     "metadata": {},
     "output_type": "execute_result"
    }
   ],
   "source": [
    "KNN = KNeighborsClassifier(n_neighbors=5).fit(X_train_scale,y_train_cat)\n",
    "print(accuracy_score(y_test_cat,KNN.predict(X_test_scale)))\n",
    "evaluate_strategy(KNN,X_test_scale,y_test)"
   ]
  },
  {
   "cell_type": "markdown",
   "metadata": {},
   "source": [
    "# Neural Network, Deep learning"
   ]
  },
  {
   "cell_type": "code",
   "execution_count": 30,
   "metadata": {},
   "outputs": [
    {
     "name": "stdout",
     "output_type": "stream",
     "text": [
      "_________________________________________________________________\n",
      "Layer (type)                 Output Shape              Param #   \n",
      "=================================================================\n",
      "dense_1 (Dense)              (None, 715)               511940    \n",
      "_________________________________________________________________\n",
      "dense_2 (Dense)              (None, 500)               358000    \n",
      "_________________________________________________________________\n",
      "dense_3 (Dense)              (None, 300)               150300    \n",
      "_________________________________________________________________\n",
      "dense_4 (Dense)              (None, 150)               45150     \n",
      "_________________________________________________________________\n",
      "dense_5 (Dense)              (None, 100)               15100     \n",
      "_________________________________________________________________\n",
      "dense_6 (Dense)              (None, 64)                6464      \n",
      "_________________________________________________________________\n",
      "dense_7 (Dense)              (None, 32)                2080      \n",
      "_________________________________________________________________\n",
      "dense_8 (Dense)              (None, 8)                 264       \n",
      "_________________________________________________________________\n",
      "dense_9 (Dense)              (None, 1)                 9         \n",
      "=================================================================\n",
      "Total params: 1,089,307\n",
      "Trainable params: 1,089,307\n",
      "Non-trainable params: 0\n",
      "_________________________________________________________________\n"
     ]
    }
   ],
   "source": [
    "model_nn = Sequential()\n",
    "model_nn.add(Dense(715, input_dim=X_train_poly.shape[1], activation='relu'))\n",
    "model_nn.add(Dense(500, activation='relu'))\n",
    "model_nn.add(Dense(300, activation='relu'))\n",
    "model_nn.add(Dense(150, activation='relu'))\n",
    "model_nn.add(Dense(100, activation='relu'))\n",
    "model_nn.add(Dense(64, activation='relu'))\n",
    "model_nn.add(Dense(32, activation='relu'))\n",
    "model_nn.add(Dense(8, activation='relu'))\n",
    "model_nn.add(Dense(1, activation='linear'))\n",
    "model_nn.compile(loss='mse', optimizer='adam')\n",
    "model_nn.summary()"
   ]
  },
  {
   "cell_type": "code",
   "execution_count": 31,
   "metadata": {},
   "outputs": [
    {
     "name": "stdout",
     "output_type": "stream",
     "text": [
      "Train on 227 samples, validate on 57 samples\n",
      "Epoch 1/50\n",
      "227/227 [==============================] - 1s 5ms/step - loss: 0.5928 - val_loss: 0.3945\n",
      "Epoch 2/50\n",
      "227/227 [==============================] - 0s 338us/step - loss: 0.5068 - val_loss: 0.3751\n",
      "Epoch 3/50\n",
      "227/227 [==============================] - 0s 309us/step - loss: 0.3021 - val_loss: 0.3761\n",
      "Epoch 4/50\n",
      "227/227 [==============================] - 0s 278us/step - loss: 0.2899 - val_loss: 0.3691\n",
      "Epoch 5/50\n",
      "227/227 [==============================] - 0s 289us/step - loss: 0.2671 - val_loss: 0.2972\n",
      "Epoch 6/50\n",
      "227/227 [==============================] - 0s 287us/step - loss: 0.2382 - val_loss: 0.2704\n",
      "Epoch 7/50\n",
      "227/227 [==============================] - 0s 256us/step - loss: 0.2411 - val_loss: 0.2964\n",
      "Epoch 8/50\n",
      "227/227 [==============================] - 0s 294us/step - loss: 0.2190 - val_loss: 0.3025\n",
      "Epoch 9/50\n",
      "227/227 [==============================] - 0s 266us/step - loss: 0.2164 - val_loss: 0.3196\n",
      "Epoch 10/50\n",
      "227/227 [==============================] - 0s 294us/step - loss: 0.2100 - val_loss: 0.3282\n",
      "Epoch 11/50\n",
      "227/227 [==============================] - 0s 277us/step - loss: 0.2059 - val_loss: 0.3010\n",
      "Epoch 12/50\n",
      "227/227 [==============================] - 0s 277us/step - loss: 0.1992 - val_loss: 0.2930\n",
      "Epoch 13/50\n",
      "227/227 [==============================] - 0s 293us/step - loss: 0.2000 - val_loss: 0.2769\n",
      "Epoch 14/50\n",
      "227/227 [==============================] - 0s 273us/step - loss: 0.2178 - val_loss: 0.4300\n",
      "Epoch 15/50\n",
      "227/227 [==============================] - 0s 270us/step - loss: 0.2766 - val_loss: 0.2897\n",
      "Epoch 16/50\n",
      "227/227 [==============================] - 0s 284us/step - loss: 0.1957 - val_loss: 0.2926\n",
      "Epoch 17/50\n",
      "227/227 [==============================] - 0s 271us/step - loss: 0.2323 - val_loss: 0.3032\n",
      "Epoch 18/50\n",
      "227/227 [==============================] - 0s 259us/step - loss: 0.1882 - val_loss: 0.3486\n",
      "Epoch 19/50\n",
      "227/227 [==============================] - 0s 288us/step - loss: 0.2187 - val_loss: 0.2995\n",
      "Epoch 20/50\n",
      "227/227 [==============================] - 0s 250us/step - loss: 0.1786 - val_loss: 0.2882\n",
      "Epoch 21/50\n",
      "227/227 [==============================] - 0s 317us/step - loss: 0.2060 - val_loss: 0.2928\n",
      "Epoch 22/50\n",
      "227/227 [==============================] - 0s 286us/step - loss: 0.1750 - val_loss: 0.3264\n",
      "Epoch 23/50\n",
      "227/227 [==============================] - 0s 265us/step - loss: 0.1900 - val_loss: 0.3036\n",
      "Epoch 24/50\n",
      "227/227 [==============================] - 0s 284us/step - loss: 0.1751 - val_loss: 0.2852\n",
      "Epoch 25/50\n",
      "227/227 [==============================] - 0s 261us/step - loss: 0.1750 - val_loss: 0.2833\n",
      "Epoch 26/50\n",
      "227/227 [==============================] - 0s 284us/step - loss: 0.1734 - val_loss: 0.3078\n",
      "Epoch 27/50\n",
      "227/227 [==============================] - 0s 299us/step - loss: 0.1640 - val_loss: 0.3267\n",
      "Epoch 28/50\n",
      "227/227 [==============================] - 0s 266us/step - loss: 0.1684 - val_loss: 0.3027\n",
      "Epoch 29/50\n",
      "227/227 [==============================] - 0s 273us/step - loss: 0.1564 - val_loss: 0.3009\n",
      "Epoch 30/50\n",
      "227/227 [==============================] - 0s 258us/step - loss: 0.1637 - val_loss: 0.2983\n",
      "Epoch 31/50\n",
      "227/227 [==============================] - 0s 290us/step - loss: 0.1518 - val_loss: 0.3150\n",
      "Epoch 32/50\n",
      "227/227 [==============================] - 0s 303us/step - loss: 0.1575 - val_loss: 0.3111\n",
      "Epoch 33/50\n",
      "227/227 [==============================] - 0s 256us/step - loss: 0.1466 - val_loss: 0.3122\n",
      "Epoch 34/50\n",
      "227/227 [==============================] - 0s 279us/step - loss: 0.1513 - val_loss: 0.3109\n",
      "Epoch 35/50\n",
      "227/227 [==============================] - 0s 282us/step - loss: 0.1415 - val_loss: 0.3148\n",
      "Epoch 36/50\n",
      "227/227 [==============================] - 0s 245us/step - loss: 0.1450 - val_loss: 0.3041\n",
      "Epoch 37/50\n",
      "227/227 [==============================] - 0s 278us/step - loss: 0.1361 - val_loss: 0.3051\n",
      "Epoch 38/50\n",
      "227/227 [==============================] - 0s 258us/step - loss: 0.1395 - val_loss: 0.3130\n",
      "Epoch 39/50\n",
      "227/227 [==============================] - 0s 280us/step - loss: 0.1311 - val_loss: 0.3222\n",
      "Epoch 40/50\n",
      "227/227 [==============================] - 0s 290us/step - loss: 0.1324 - val_loss: 0.3185\n",
      "Epoch 41/50\n",
      "227/227 [==============================] - 0s 294us/step - loss: 0.1272 - val_loss: 0.3246\n",
      "Epoch 42/50\n",
      "227/227 [==============================] - 0s 293us/step - loss: 0.1238 - val_loss: 0.3401\n",
      "Epoch 43/50\n",
      "227/227 [==============================] - 0s 287us/step - loss: 0.1250 - val_loss: 0.3414\n",
      "Epoch 44/50\n",
      "227/227 [==============================] - 0s 270us/step - loss: 0.1183 - val_loss: 0.3411\n",
      "Epoch 45/50\n",
      "227/227 [==============================] - 0s 277us/step - loss: 0.1149 - val_loss: 0.3451\n",
      "Epoch 46/50\n",
      "227/227 [==============================] - 0s 272us/step - loss: 0.1169 - val_loss: 0.3507\n",
      "Epoch 47/50\n",
      "227/227 [==============================] - 0s 308us/step - loss: 0.1177 - val_loss: 0.3531\n",
      "Epoch 48/50\n",
      "227/227 [==============================] - 0s 249us/step - loss: 0.1100 - val_loss: 0.3490\n",
      "Epoch 49/50\n",
      "227/227 [==============================] - 0s 270us/step - loss: 0.1040 - val_loss: 0.3565\n",
      "Epoch 50/50\n",
      "227/227 [==============================] - 0s 292us/step - loss: 0.1029 - val_loss: 0.3716\n"
     ]
    },
    {
     "data": {
      "text/plain": [
       "<keras.callbacks.History at 0x13a59ad8470>"
      ]
     },
     "execution_count": 31,
     "metadata": {},
     "output_type": "execute_result"
    }
   ],
   "source": [
    "model_nn.fit(X_train_poly, y_train_cat, epochs=50, batch_size=715, validation_split=0.2)"
   ]
  },
  {
   "cell_type": "code",
   "execution_count": 32,
   "metadata": {},
   "outputs": [
    {
     "data": {
      "text/plain": [
       "-0.03551161372384115"
      ]
     },
     "execution_count": 32,
     "metadata": {},
     "output_type": "execute_result"
    }
   ],
   "source": [
    "r2_score(y_test,model_nn.predict(X_test_poly))"
   ]
  },
  {
   "cell_type": "markdown",
   "metadata": {},
   "source": [
    "# ensemble model with \n",
    "## [\"Singletree\",'RF', 'Ada', 'Logit', 'QDA','LDA','KNN']"
   ]
  },
  {
   "cell_type": "code",
   "execution_count": 33,
   "metadata": {},
   "outputs": [],
   "source": [
    "list_model = [\"Singletree\",'RF', 'Ada', 'Logit', 'QDA','LDA','KNN']\n",
    "model_dict = [Decision,RandomForest,AdaCL,Logist,QDA,LDA,KNN]\n",
    "tune_index_name =['train row {0}'.format(i+1) for i in range(len(X_train_scale))]\n",
    "ensemble_test_index_name =['test row {0}'.format(i+1) for i in range(len(X_test_scale))]                \n",
    "                                                                                                                                    \n",
    "#make empty dataframe with index i made\n",
    "ensemble_tune = pd.DataFrame(index=tune_index_name)\n",
    "ensemble_test = pd.DataFrame(index=ensemble_test_index_name)\n",
    "\n",
    "#make dataset with prediction.\n",
    "for n,i in zip(list_model,model_dict):\n",
    "    ensemble_tune[\"{0}'s model prediction\".format(n)] = [i[1] for i in i.predict_proba(X_train_scale)]\n",
    "    ensemble_test[\"{0}'s model prediction\".format(n)] = [i[1] for i in i.predict_proba(X_test_scale)]\n"
   ]
  },
  {
   "cell_type": "code",
   "execution_count": 34,
   "metadata": {},
   "outputs": [
    {
     "name": "stdout",
     "output_type": "stream",
     "text": [
      "0.5052631578947369\n",
      "Positive result on 42 out of 95 (44.21%)\n",
      "Mean return of strategy: 0.30547619047619057\n",
      "Overall return: 0.15147368421052626\n"
     ]
    },
    {
     "data": {
      "text/plain": [
       "(0.30547619047619057, 0.15147368421052626)"
      ]
     },
     "execution_count": 34,
     "metadata": {},
     "output_type": "execute_result"
    }
   ],
   "source": [
    "metamodel = LogisticRegressionCV().fit(ensemble_tune,y_train_cat)\n",
    "print(accuracy_score(y_test_cat,metamodel.predict(ensemble_test)))\n",
    "evaluate_strategy(metamodel,ensemble_test,y_test)"
   ]
  },
  {
   "cell_type": "code",
   "execution_count": 35,
   "metadata": {},
   "outputs": [
    {
     "data": {
      "text/plain": [
       "array([[ 0.        ,  0.90353714, -0.15758999, ..., -0.04015855,\n",
       "        -1.44587618,  3.41689895],\n",
       "       [ 0.        ,  1.00381798, -0.08484454, ..., -0.09884921,\n",
       "        -1.17017435,  3.30386542],\n",
       "       [ 0.        ,  0.1083779 , -0.00347045, ..., -0.20825055,\n",
       "        -0.43084144,  3.2482268 ],\n",
       "       ...,\n",
       "       [ 0.        ,  0.03039677,  0.12381803, ...,  0.61886532,\n",
       "        -2.93342008,  2.87477141],\n",
       "       [ 0.        , -0.19839827,  0.19640917, ...,  0.66582214,\n",
       "        -2.9494349 ,  2.72307878],\n",
       "       [ 0.        , -0.39994888, -0.09068912, ...,  0.26000638,\n",
       "        -2.14166126,  2.6736002 ]])"
      ]
     },
     "execution_count": 35,
     "metadata": {},
     "output_type": "execute_result"
    }
   ],
   "source": [
    "X_tommorow = pd.DataFrame(data = scale.transform(x_data[0:10]), columns = X_train.columns.tolist())\n",
    "\n",
    "poly = PolynomialFeatures(4)\n",
    "\n",
    "X_tommorow_poly = poly.fit_transform(X_tommorow)\n",
    "\n",
    "X_tommorow_poly = newscaler.transform(X_tommorow_poly)\n",
    "X_tommorow_poly"
   ]
  },
  {
   "cell_type": "code",
   "execution_count": 36,
   "metadata": {},
   "outputs": [
    {
     "data": {
      "text/plain": [
       "array([False, False,  True,  True,  True, False, False,  True,  True,\n",
       "       False])"
      ]
     },
     "execution_count": 36,
     "metadata": {},
     "output_type": "execute_result"
    }
   ],
   "source": [
    "today_meta = pd.DataFrame(index=stockdf.날짜[0:10])\n",
    "for n,i in zip(list_model,model_dict):\n",
    "    today_meta[\"{0}'s model prediction\".format(n)] = [i[1] for i in i.predict_proba(X_tommorow)]\n",
    "metamodel.predict(today_meta)"
   ]
  },
  {
   "cell_type": "markdown",
   "metadata": {},
   "source": [
    "# Whole result (tommorow's predicted price)"
   ]
  },
  {
   "cell_type": "code",
   "execution_count": 37,
   "metadata": {
    "collapsed": true
   },
   "outputs": [],
   "source": [
    "all_model = ['linearmodel','Lassomodel','Ridge','polyridge','RandomRegression','Adaregressor',\n",
    "        'model_nn','Logist','polylog','Decision','RandomForest','AdaCL','SVM','LDA','QDA','KNN','metamodel']\n",
    "\n",
    "all_dict = [linearmodel,Lassomodel,Ridge,polyridge,RandomRegression,Adaregressor,\n",
    "           model_nn,Logist,polylog,Decision,RandomForest,AdaCL,SVM,LDA,QDA,KNN,metamodel]\n",
    "\n",
    "Regression = ['linearmodel','Lassomodel','Ridge','polyridge','RandomRegression','Adaregressor',\n",
    "           'model_nn']\n",
    "Regression_model = [linearmodel,Lassomodel,Ridge,polyridge,RandomRegression,Adaregressor,\n",
    "           model_nn]\n",
    "\n",
    "\n",
    "Logistic = ['Logist','polylog','Decision','RandomForest','AdaCL','SVM','LDA','QDA','KNN','metamodel']\n",
    "Logistic_model = [Logist,Decision,RandomForest,AdaCL,LDA,QDA,KNN]\n",
    "Polynomial = [polyridge,model_nn,polylog]\n",
    "index = []\n",
    "\n",
    "for i in range(10):\n",
    "    index.append(\"{0}'s next day\".format(stockdf.날짜[i]))\n",
    "\n",
    "\n",
    "\n",
    "\n",
    "result = pd.DataFrame(index=index,columns=all_model)\n",
    "\n",
    "for n,i in zip(all_model,all_dict):\n",
    "    if i in Polynomial:\n",
    "        result[n] =i.predict(X_tommorow_poly)\n",
    "    elif i == metamodel:\n",
    "        result[n] =metamodel.predict(today_meta)\n",
    "    else:\n",
    "        result[n] =i.predict(X_tommorow)\n",
    "    \n",
    "result[\"mean\"] = result[Regression].mean(axis=1)\n",
    "\n",
    "result[\"percentage of true\"] = result[Logistic].mean(axis=1)\n",
    "result[\"true\"] = [0]+[i for i in y_data[0:9]]"
   ]
  },
  {
   "cell_type": "code",
   "execution_count": 40,
   "metadata": {},
   "outputs": [
    {
     "data": {
      "text/html": [
       "<div>\n",
       "<style scoped>\n",
       "    .dataframe tbody tr th:only-of-type {\n",
       "        vertical-align: middle;\n",
       "    }\n",
       "\n",
       "    .dataframe tbody tr th {\n",
       "        vertical-align: top;\n",
       "    }\n",
       "\n",
       "    .dataframe thead th {\n",
       "        text-align: right;\n",
       "    }\n",
       "</style>\n",
       "<table border=\"1\" class=\"dataframe\">\n",
       "  <thead>\n",
       "    <tr style=\"text-align: right;\">\n",
       "      <th></th>\n",
       "      <th>linearmodel</th>\n",
       "      <th>Lassomodel</th>\n",
       "      <th>Ridge</th>\n",
       "      <th>polyridge</th>\n",
       "      <th>RandomRegression</th>\n",
       "      <th>Adaregressor</th>\n",
       "      <th>model_nn</th>\n",
       "      <th>Logist</th>\n",
       "      <th>polylog</th>\n",
       "      <th>Decision</th>\n",
       "      <th>RandomForest</th>\n",
       "      <th>AdaCL</th>\n",
       "      <th>SVM</th>\n",
       "      <th>LDA</th>\n",
       "      <th>QDA</th>\n",
       "      <th>KNN</th>\n",
       "      <th>metamodel</th>\n",
       "      <th>mean</th>\n",
       "      <th>percentage of true</th>\n",
       "      <th>true</th>\n",
       "    </tr>\n",
       "  </thead>\n",
       "  <tbody>\n",
       "    <tr>\n",
       "      <th>2018-08-17 00:00:00's next day</th>\n",
       "      <td>-0.076754</td>\n",
       "      <td>-0.044036</td>\n",
       "      <td>-0.051200</td>\n",
       "      <td>0.839854</td>\n",
       "      <td>2.246</td>\n",
       "      <td>0.320948</td>\n",
       "      <td>0.188983</td>\n",
       "      <td>False</td>\n",
       "      <td>False</td>\n",
       "      <td>False</td>\n",
       "      <td>False</td>\n",
       "      <td>False</td>\n",
       "      <td>False</td>\n",
       "      <td>False</td>\n",
       "      <td>False</td>\n",
       "      <td>True</td>\n",
       "      <td>False</td>\n",
       "      <td>0.489114</td>\n",
       "      <td>0.1</td>\n",
       "      <td>0.00</td>\n",
       "    </tr>\n",
       "    <tr>\n",
       "      <th>2018-08-16 00:00:00's next day</th>\n",
       "      <td>0.540397</td>\n",
       "      <td>0.495657</td>\n",
       "      <td>0.460510</td>\n",
       "      <td>1.247885</td>\n",
       "      <td>0.720</td>\n",
       "      <td>0.154662</td>\n",
       "      <td>0.161943</td>\n",
       "      <td>False</td>\n",
       "      <td>False</td>\n",
       "      <td>False</td>\n",
       "      <td>False</td>\n",
       "      <td>False</td>\n",
       "      <td>False</td>\n",
       "      <td>False</td>\n",
       "      <td>False</td>\n",
       "      <td>True</td>\n",
       "      <td>False</td>\n",
       "      <td>0.540150</td>\n",
       "      <td>0.1</td>\n",
       "      <td>-0.39</td>\n",
       "    </tr>\n",
       "    <tr>\n",
       "      <th>2018-08-14 00:00:00's next day</th>\n",
       "      <td>0.629075</td>\n",
       "      <td>0.534262</td>\n",
       "      <td>0.533266</td>\n",
       "      <td>-0.168609</td>\n",
       "      <td>2.870</td>\n",
       "      <td>0.416437</td>\n",
       "      <td>0.708761</td>\n",
       "      <td>False</td>\n",
       "      <td>False</td>\n",
       "      <td>True</td>\n",
       "      <td>True</td>\n",
       "      <td>False</td>\n",
       "      <td>False</td>\n",
       "      <td>False</td>\n",
       "      <td>False</td>\n",
       "      <td>False</td>\n",
       "      <td>True</td>\n",
       "      <td>0.789027</td>\n",
       "      <td>0.3</td>\n",
       "      <td>0.00</td>\n",
       "    </tr>\n",
       "    <tr>\n",
       "      <th>2018-08-13 00:00:00's next day</th>\n",
       "      <td>1.625081</td>\n",
       "      <td>1.480283</td>\n",
       "      <td>1.547279</td>\n",
       "      <td>3.457145</td>\n",
       "      <td>-0.083</td>\n",
       "      <td>-0.095986</td>\n",
       "      <td>0.930660</td>\n",
       "      <td>True</td>\n",
       "      <td>True</td>\n",
       "      <td>True</td>\n",
       "      <td>False</td>\n",
       "      <td>True</td>\n",
       "      <td>True</td>\n",
       "      <td>True</td>\n",
       "      <td>True</td>\n",
       "      <td>False</td>\n",
       "      <td>True</td>\n",
       "      <td>1.265923</td>\n",
       "      <td>0.8</td>\n",
       "      <td>2.82</td>\n",
       "    </tr>\n",
       "    <tr>\n",
       "      <th>2018-08-10 00:00:00's next day</th>\n",
       "      <td>0.966997</td>\n",
       "      <td>0.914726</td>\n",
       "      <td>0.893352</td>\n",
       "      <td>1.664099</td>\n",
       "      <td>0.856</td>\n",
       "      <td>0.275185</td>\n",
       "      <td>1.060884</td>\n",
       "      <td>True</td>\n",
       "      <td>True</td>\n",
       "      <td>True</td>\n",
       "      <td>True</td>\n",
       "      <td>True</td>\n",
       "      <td>False</td>\n",
       "      <td>True</td>\n",
       "      <td>True</td>\n",
       "      <td>False</td>\n",
       "      <td>True</td>\n",
       "      <td>0.947321</td>\n",
       "      <td>0.8</td>\n",
       "      <td>-3.12</td>\n",
       "    </tr>\n",
       "    <tr>\n",
       "      <th>2018-08-09 00:00:00's next day</th>\n",
       "      <td>0.954031</td>\n",
       "      <td>0.697609</td>\n",
       "      <td>0.853862</td>\n",
       "      <td>0.888623</td>\n",
       "      <td>2.420</td>\n",
       "      <td>-0.110156</td>\n",
       "      <td>0.267867</td>\n",
       "      <td>False</td>\n",
       "      <td>False</td>\n",
       "      <td>False</td>\n",
       "      <td>False</td>\n",
       "      <td>False</td>\n",
       "      <td>False</td>\n",
       "      <td>True</td>\n",
       "      <td>True</td>\n",
       "      <td>True</td>\n",
       "      <td>False</td>\n",
       "      <td>0.853119</td>\n",
       "      <td>0.3</td>\n",
       "      <td>1.99</td>\n",
       "    </tr>\n",
       "    <tr>\n",
       "      <th>2018-08-08 00:00:00's next day</th>\n",
       "      <td>-0.141915</td>\n",
       "      <td>-0.148124</td>\n",
       "      <td>-0.204662</td>\n",
       "      <td>0.046012</td>\n",
       "      <td>-0.771</td>\n",
       "      <td>0.320948</td>\n",
       "      <td>0.375717</td>\n",
       "      <td>False</td>\n",
       "      <td>False</td>\n",
       "      <td>False</td>\n",
       "      <td>False</td>\n",
       "      <td>False</td>\n",
       "      <td>False</td>\n",
       "      <td>False</td>\n",
       "      <td>False</td>\n",
       "      <td>True</td>\n",
       "      <td>False</td>\n",
       "      <td>-0.074718</td>\n",
       "      <td>0.1</td>\n",
       "      <td>5.46</td>\n",
       "    </tr>\n",
       "    <tr>\n",
       "      <th>2018-08-07 00:00:00's next day</th>\n",
       "      <td>0.036538</td>\n",
       "      <td>0.091946</td>\n",
       "      <td>0.073597</td>\n",
       "      <td>-0.240539</td>\n",
       "      <td>0.783</td>\n",
       "      <td>0.235370</td>\n",
       "      <td>1.026124</td>\n",
       "      <td>False</td>\n",
       "      <td>False</td>\n",
       "      <td>True</td>\n",
       "      <td>False</td>\n",
       "      <td>False</td>\n",
       "      <td>False</td>\n",
       "      <td>False</td>\n",
       "      <td>False</td>\n",
       "      <td>True</td>\n",
       "      <td>True</td>\n",
       "      <td>0.286577</td>\n",
       "      <td>0.3</td>\n",
       "      <td>-0.83</td>\n",
       "    </tr>\n",
       "    <tr>\n",
       "      <th>2018-08-06 00:00:00's next day</th>\n",
       "      <td>-0.451534</td>\n",
       "      <td>-0.318611</td>\n",
       "      <td>-0.362734</td>\n",
       "      <td>-0.515505</td>\n",
       "      <td>0.209</td>\n",
       "      <td>0.164880</td>\n",
       "      <td>0.856587</td>\n",
       "      <td>False</td>\n",
       "      <td>False</td>\n",
       "      <td>True</td>\n",
       "      <td>True</td>\n",
       "      <td>True</td>\n",
       "      <td>False</td>\n",
       "      <td>False</td>\n",
       "      <td>False</td>\n",
       "      <td>False</td>\n",
       "      <td>True</td>\n",
       "      <td>-0.059702</td>\n",
       "      <td>0.4</td>\n",
       "      <td>5.73</td>\n",
       "    </tr>\n",
       "    <tr>\n",
       "      <th>2018-08-03 00:00:00's next day</th>\n",
       "      <td>0.272946</td>\n",
       "      <td>0.088939</td>\n",
       "      <td>0.274485</td>\n",
       "      <td>-0.640060</td>\n",
       "      <td>0.171</td>\n",
       "      <td>-0.258947</td>\n",
       "      <td>0.376105</td>\n",
       "      <td>False</td>\n",
       "      <td>False</td>\n",
       "      <td>False</td>\n",
       "      <td>False</td>\n",
       "      <td>False</td>\n",
       "      <td>False</td>\n",
       "      <td>False</td>\n",
       "      <td>False</td>\n",
       "      <td>False</td>\n",
       "      <td>False</td>\n",
       "      <td>0.040638</td>\n",
       "      <td>0.0</td>\n",
       "      <td>0.44</td>\n",
       "    </tr>\n",
       "  </tbody>\n",
       "</table>\n",
       "</div>"
      ],
      "text/plain": [
       "                                linearmodel  Lassomodel     Ridge  polyridge  \\\n",
       "2018-08-17 00:00:00's next day    -0.076754   -0.044036 -0.051200   0.839854   \n",
       "2018-08-16 00:00:00's next day     0.540397    0.495657  0.460510   1.247885   \n",
       "2018-08-14 00:00:00's next day     0.629075    0.534262  0.533266  -0.168609   \n",
       "2018-08-13 00:00:00's next day     1.625081    1.480283  1.547279   3.457145   \n",
       "2018-08-10 00:00:00's next day     0.966997    0.914726  0.893352   1.664099   \n",
       "2018-08-09 00:00:00's next day     0.954031    0.697609  0.853862   0.888623   \n",
       "2018-08-08 00:00:00's next day    -0.141915   -0.148124 -0.204662   0.046012   \n",
       "2018-08-07 00:00:00's next day     0.036538    0.091946  0.073597  -0.240539   \n",
       "2018-08-06 00:00:00's next day    -0.451534   -0.318611 -0.362734  -0.515505   \n",
       "2018-08-03 00:00:00's next day     0.272946    0.088939  0.274485  -0.640060   \n",
       "\n",
       "                                RandomRegression  Adaregressor  model_nn  \\\n",
       "2018-08-17 00:00:00's next day             2.246      0.320948  0.188983   \n",
       "2018-08-16 00:00:00's next day             0.720      0.154662  0.161943   \n",
       "2018-08-14 00:00:00's next day             2.870      0.416437  0.708761   \n",
       "2018-08-13 00:00:00's next day            -0.083     -0.095986  0.930660   \n",
       "2018-08-10 00:00:00's next day             0.856      0.275185  1.060884   \n",
       "2018-08-09 00:00:00's next day             2.420     -0.110156  0.267867   \n",
       "2018-08-08 00:00:00's next day            -0.771      0.320948  0.375717   \n",
       "2018-08-07 00:00:00's next day             0.783      0.235370  1.026124   \n",
       "2018-08-06 00:00:00's next day             0.209      0.164880  0.856587   \n",
       "2018-08-03 00:00:00's next day             0.171     -0.258947  0.376105   \n",
       "\n",
       "                                Logist  polylog  Decision  RandomForest  \\\n",
       "2018-08-17 00:00:00's next day   False    False     False         False   \n",
       "2018-08-16 00:00:00's next day   False    False     False         False   \n",
       "2018-08-14 00:00:00's next day   False    False      True          True   \n",
       "2018-08-13 00:00:00's next day    True     True      True         False   \n",
       "2018-08-10 00:00:00's next day    True     True      True          True   \n",
       "2018-08-09 00:00:00's next day   False    False     False         False   \n",
       "2018-08-08 00:00:00's next day   False    False     False         False   \n",
       "2018-08-07 00:00:00's next day   False    False      True         False   \n",
       "2018-08-06 00:00:00's next day   False    False      True          True   \n",
       "2018-08-03 00:00:00's next day   False    False     False         False   \n",
       "\n",
       "                                AdaCL    SVM    LDA    QDA    KNN  metamodel  \\\n",
       "2018-08-17 00:00:00's next day  False  False  False  False   True      False   \n",
       "2018-08-16 00:00:00's next day  False  False  False  False   True      False   \n",
       "2018-08-14 00:00:00's next day  False  False  False  False  False       True   \n",
       "2018-08-13 00:00:00's next day   True   True   True   True  False       True   \n",
       "2018-08-10 00:00:00's next day   True  False   True   True  False       True   \n",
       "2018-08-09 00:00:00's next day  False  False   True   True   True      False   \n",
       "2018-08-08 00:00:00's next day  False  False  False  False   True      False   \n",
       "2018-08-07 00:00:00's next day  False  False  False  False   True       True   \n",
       "2018-08-06 00:00:00's next day   True  False  False  False  False       True   \n",
       "2018-08-03 00:00:00's next day  False  False  False  False  False      False   \n",
       "\n",
       "                                    mean  percentage of true  true  \n",
       "2018-08-17 00:00:00's next day  0.489114                 0.1  0.00  \n",
       "2018-08-16 00:00:00's next day  0.540150                 0.1 -0.39  \n",
       "2018-08-14 00:00:00's next day  0.789027                 0.3  0.00  \n",
       "2018-08-13 00:00:00's next day  1.265923                 0.8  2.82  \n",
       "2018-08-10 00:00:00's next day  0.947321                 0.8 -3.12  \n",
       "2018-08-09 00:00:00's next day  0.853119                 0.3  1.99  \n",
       "2018-08-08 00:00:00's next day -0.074718                 0.1  5.46  \n",
       "2018-08-07 00:00:00's next day  0.286577                 0.3 -0.83  \n",
       "2018-08-06 00:00:00's next day -0.059702                 0.4  5.73  \n",
       "2018-08-03 00:00:00's next day  0.040638                 0.0  0.44  "
      ]
     },
     "execution_count": 40,
     "metadata": {},
     "output_type": "execute_result"
    }
   ],
   "source": [
    "result"
   ]
  },
  {
   "cell_type": "code",
   "execution_count": 42,
   "metadata": {
    "collapsed": true
   },
   "outputs": [],
   "source": [
    "# the value's standard is % based on today's stock price.\n",
    "# True = tomorrow gonna be +, positive return\n",
    "# False = negative.\n",
    "# 'true' column is actual result.\n",
    "#recent 'true' is defalut zero because we do not have tomorrow's actual data."
   ]
  },
  {
   "cell_type": "code",
   "execution_count": null,
   "metadata": {
    "collapsed": true
   },
   "outputs": [],
   "source": []
  }
 ],
 "metadata": {
  "kernelspec": {
   "display_name": "Python 3",
   "language": "python",
   "name": "python3"
  },
  "language_info": {
   "codemirror_mode": {
    "name": "ipython",
    "version": 3
   },
   "file_extension": ".py",
   "mimetype": "text/x-python",
   "name": "python",
   "nbconvert_exporter": "python",
   "pygments_lexer": "ipython3",
   "version": "3.6.2"
  }
 },
 "nbformat": 4,
 "nbformat_minor": 2
}
