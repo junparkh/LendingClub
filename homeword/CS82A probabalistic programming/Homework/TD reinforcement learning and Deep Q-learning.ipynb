{
 "cells": [
  {
   "cell_type": "markdown",
   "metadata": {},
   "source": [
    "#  TD Reinforcement Learning and Deep Q-Learning\n",
    "\n",
    "## Background\n",
    "\n",
    "Monte Carlo reinforcement learning required that the returns for an entire episode be computed before any values are available for use. The disadvantage of that approach is the full set of returns are required for state value or action value estimates. \n",
    "However, it turns out there are algorithms which can compute these estimates with fewer steps, as few as one step known as **time difference learning** and **Q learning**\n",
    "\n",
    "In this project, we will use time difference reinforcement leraning and Deep Q-Learning to solve a robot navigation problem by finding optimal paths to a goal in a simplified warehouse environment."
   ]
  },
  {
   "cell_type": "markdown",
   "metadata": {},
   "source": [
    "The interaction between a reinforcement learning agent and the environment are illustrated in the figure below. Notice that the only feedback the agent receives from the environment is reward and state.   \n",
    "\n",
    "<img src=\"img/RL_AgentModel.JPG\" alt=\"Drawing\" style=\"width:500px; height:300px\"/>\n",
    "<center> **Reinforcement Learning Agent and Environment** </center> "
   ]
  },
  {
   "cell_type": "markdown",
   "metadata": {},
   "source": [
    "# Scenario : Warehouse robot navigation"
   ]
  },
  {
   "cell_type": "markdown",
   "metadata": {},
   "source": [
    "The configuration of the warehouse environment is illustrated in the figure below.\n",
    "\n",
    "<img src=\"GridWorldFactory.JPG\" alt=\"Drawing\" style=\"width:200px; height:200px\"/>\n",
    "<center> **Grid World for Factory Navigation Example** </center>\n",
    "\n",
    "The goal is for the robot to deliver some material to position (state) 12, shown in blue. Since there is a goal state or **terminal state** this an **episodic task**. \n",
    "\n",
    "There are some barriers comprised of the states $\\{ 6, 7, 8 \\}$ and $\\{ 16, 17, 18 \\}$, shown with hash marks. In a real warehouse, these positions might be occupied by shelving or equipment. We do not want the robot to hit these barriers. Thus, we say that transitioning to these barrier states is **taboo**.\n",
    "\n",
    "Of course, we do not want the robot to hit the edges of the grid world, which represent the outer walls of the warehouse. \n",
    "\n",
    "## Representation\n",
    "\n",
    "As with many such problems, the starting place is creating the **representation**. \n",
    "In the cell below is our representation for the possible action-state transitions. \n",
    "From each state there are 4 possible actions:\n",
    "- up, u\n",
    "- down, d,\n",
    "- left, l\n",
    "- right, r\n",
    "\n",
    "There are a few special cases we need to consider:\n",
    "- Any action transitioning state off the grid or into a barrier should keep the state unchanged. \n",
    "- Any action in the goal state keeps the state unchanged. \n",
    "- Any transition within the taboo (barrier) states can keep the state unchanged.\n"
   ]
  },
  {
   "cell_type": "code",
   "execution_count": 1,
   "metadata": {
    "collapsed": true
   },
   "outputs": [],
   "source": [
    "## import numpy for latter\n",
    "import numpy as np\n",
    "import numpy.random as nr\n",
    "\n"
   ]
  },
  {
   "cell_type": "code",
   "execution_count": 2,
   "metadata": {
    "collapsed": true
   },
   "outputs": [],
   "source": [
    "neighbors = {0:{'u':0, 'd':5, 'l':0, 'r':1},\n",
    "          1:{'u':1, 'd':1, 'l':0, 'r':2},\n",
    "          2:{'u':2, 'd':2, 'l':1, 'r':3},\n",
    "          3:{'u':3, 'd':3, 'l':2, 'r':4},\n",
    "          4:{'u':4, 'd':9, 'l':3, 'r':4},\n",
    "          \n",
    "          5:{'u':0, 'd':10, 'l':5, 'r':5},\n",
    "          6:{'u':6, 'd':6, 'l':6, 'r':6},###barrier\n",
    "          7:{'u':7, 'd':7, 'l':7, 'r':7},###barrier\n",
    "          8:{'u':8, 'd':8, 'l':8, 'r':8},###barrier\n",
    "          9:{'u':4, 'd':14, 'l':9, 'r':9},\n",
    "          \n",
    "          10:{'u':5, 'd':15, 'l':10, 'r':11},\n",
    "          11:{'u':11, 'd':11, 'l':10, 'r':12},\n",
    "          12:{'u':12, 'd':12, 'l':12, 'r':12},#goal\n",
    "          13:{'u':13, 'd':13, 'l':12, 'r':14},\n",
    "          14:{'u':9, 'd':19, 'l':13, 'r':14},\n",
    "          \n",
    "          15:{'u':10, 'd':20, 'l':15, 'r':15},\n",
    "          16:{'u':16, 'd':16, 'l':16, 'r':16},###barrier\n",
    "          17:{'u':17, 'd':17, 'l':17, 'r':17},###barrier\n",
    "          18:{'u':18, 'd':18, 'l':18, 'r':18},###barrier\n",
    "          19:{'u':14, 'd':24, 'l':19, 'r':19},\n",
    "          \n",
    "          20:{'u':15, 'd':20, 'l':20, 'r':21},\n",
    "          21:{'u':21, 'd':21, 'l':20, 'r':22},\n",
    "          22:{'u':22, 'd':22, 'l':21, 'r':23},\n",
    "          23:{'u':23, 'd':23, 'l':22, 'r':24},\n",
    "          24:{'u':19, 'd':24, 'l':23, 'r':24}}"
   ]
  },
  {
   "cell_type": "markdown",
   "metadata": {},
   "source": [
    "Here is the initial transition probabilities for the Markov process. Let's set the probabilities for each transition as a **uniform distribution** leading to random action by the robot. \n",
    "\n",
    "> **Note:** As these are just starting values, the exact values of the transition probabilities are not actually all that important in terms of solving the RL problem. Also, notice that it does not matter how the taboo state transitions are encoded. The point of the DP algorithm is to learn the transition policy."
   ]
  },
  {
   "cell_type": "code",
   "execution_count": 3,
   "metadata": {
    "collapsed": true
   },
   "outputs": [],
   "source": [
    "policy = {0:{'u':0.25, 'd':0.25, 'l':0.25, 'r':0.25},\n",
    "          1:{'u':0.25, 'd':0.25, 'l':0.25, 'r':0.25},\n",
    "          2:{'u':0.25, 'd':0.25, 'l':0.25, 'r':0.25},\n",
    "          3:{'u':0.25, 'd':0.25, 'l':0.25, 'r':0.25},\n",
    "          4:{'u':0.25, 'd':0.25, 'l':0.25, 'r':0.25},\n",
    "          \n",
    "          5:{'u':0.25, 'd':0.25, 'l':0.25, 'r':0.25},\n",
    "          6:{'u':0, 'd':0, 'l':0, 'r':0},###barrier\n",
    "          7:{'u':0, 'd':0, 'l':0, 'r':0},###barrier\n",
    "          8:{'u':0, 'd':0, 'l':0, 'r':0},###barrier\n",
    "          9:{'u':0.25, 'd':0.25, 'l':0.25, 'r':0.25},\n",
    "          \n",
    "          10:{'u':0.25, 'd':0.25, 'l':0.25, 'r':0.25},\n",
    "          11:{'u':0.25, 'd':0.25, 'l':0.25, 'r':0.25},\n",
    "          12:{'u':0, 'd':0, 'l':0, 'r':0},#goal\n",
    "          13:{'u':0.25, 'd':0.25, 'l':0.25, 'r':0.25},\n",
    "          14:{'u':0.25, 'd':0.25, 'l':0.25, 'r':0.25},\n",
    "          \n",
    "          15:{'u':0.25, 'd':0.25, 'l':0.25, 'r':0.25},\n",
    "          16:{'u':0, 'd':0, 'l':0, 'r':0},###barrier\n",
    "          17:{'u':0, 'd':0, 'l':0, 'r':0},###barrier\n",
    "          18:{'u':0, 'd':0, 'l':0, 'r':0},###barrier\n",
    "          19:{'u':0.25, 'd':0.25, 'l':0.25, 'r':0.25},\n",
    "          \n",
    "          20:{'u':0.25, 'd':0.25, 'l':0.25, 'r':0.25},\n",
    "          21:{'u':0.25, 'd':0.25, 'l':0.25, 'r':0.25},\n",
    "          22:{'u':0.25, 'd':0.25, 'l':0.25, 'r':0.25},\n",
    "          23:{'u':0.25, 'd':0.25, 'l':0.25, 'r':0.25},\n",
    "          24:{'u':0.25, 'd':0.25, 'l':0.25, 'r':0.25}}"
   ]
  },
  {
   "cell_type": "markdown",
   "metadata": {},
   "source": [
    "The robot receives the following rewards:\n",
    "- 10 for entering position 0. \n",
    "- -1 for attempting to leave the grid. In other words, we penalize the robot for hitting the edges of the grid.  \n",
    "- -0.1 for all other state transitions, which is the cost for the robot to move from one state to another. If we did not have this penalty, the robot could follow any random plan to the goal which did not hit the edges. \n",
    "\n",
    "This **reward structure is unknown to the MC RL agent**. The agent must **learn** the rewards by sampling the environment. \n",
    "  \n",
    "Our representation of this reward structure will be used in the simulated environment."
   ]
  },
  {
   "cell_type": "code",
   "execution_count": 4,
   "metadata": {
    "collapsed": true
   },
   "outputs": [],
   "source": [
    "reward = {0:{'u':-1, 'd':-0.1, 'l':-1, 'r':-0.1},\n",
    "          1:{'u':-1, 'd':-1, 'l':-0.1, 'r':-0.1},\n",
    "          2:{'u':-1, 'd':-1, 'l':-0.1, 'r':-0.1},\n",
    "          3:{'u':-1, 'd':-1, 'l':-0.1, 'r':-0.1},\n",
    "          4:{'u':-1, 'd':-0.1, 'l':-1, 'r':-0.1},\n",
    "          \n",
    "          5:{'u':-0.1, 'd':-0.1, 'l':-1, 'r':-1},\n",
    "          6:{'u':0, 'd':0, 'l':0, 'r':0},###barrier\n",
    "          7:{'u':0, 'd':0, 'l':0, 'r':0},###barrier\n",
    "          8:{'u':0, 'd':0, 'l':0, 'r':0},###barrier\n",
    "          9:{'u':-0.1, 'd':-0.1, 'l':-1, 'r':-1},\n",
    "          \n",
    "          10:{'u':-0.1, 'd':-0.1, 'l':-1, 'r':-0.1},\n",
    "          11:{'u':-1, 'd':-1, 'l':-0.1, 'r':10},\n",
    "          12:{'u':0, 'd':0, 'l':0, 'r':0},#goal\n",
    "          13:{'u':-1, 'd':-1, 'l':10, 'r':-0.1},\n",
    "          14:{'u':-0.1, 'd':-0.1, 'l':-0.1, 'r':-1},\n",
    "          \n",
    "          15:{'u':-0.1, 'd':-0.1, 'l':-1, 'r':-1},\n",
    "          16:{'u':0, 'd':0, 'l':0, 'r':0},###barrier\n",
    "          17:{'u':0, 'd':0, 'l':0, 'r':0},###barrier\n",
    "          18:{'u':0, 'd':0, 'l':0, 'r':0},###barrier\n",
    "          19:{'u':-0.1, 'd':-0.1, 'l':-1, 'r':-1},\n",
    "          \n",
    "          20:{'u':-0.1, 'd':-1, 'l':-0.1, 'r':-0.1},\n",
    "          21:{'u':-1, 'd':-1, 'l':-0.1, 'r':-0.1},\n",
    "          22:{'u':-1, 'd':-1, 'l':-0.1, 'r':-0.1},\n",
    "          23:{'u':-1, 'd':-1, 'l':-0.1, 'r':-0.1},\n",
    "          24:{'u':-0.1, 'd':-1, 'l':-0.1, 'r':-1}}"
   ]
  },
  {
   "cell_type": "markdown",
   "metadata": {},
   "source": [
    "The list of taboo state values."
   ]
  },
  {
   "cell_type": "code",
   "execution_count": 5,
   "metadata": {
    "collapsed": true
   },
   "outputs": [],
   "source": [
    "taboo = [6,7,8,16,17,18]\n"
   ]
  },
  {
   "cell_type": "markdown",
   "metadata": {},
   "source": [
    "## TD Prediction Model\n",
    "\n",
    "Definition of a general update model:\n",
    "\n",
    "$$NewValue = OldValue + LearningRate * ErrorTerm$$\n",
    "\n",
    "Following this general formulation the update for TD state value can be written as:\n",
    "\n",
    "$$V(S_t) = V(S_t) + \\alpha \\big[ G_T - V(S_t) \\big]$$\n",
    "\n",
    "Here,   \n",
    "$\\alpha = $ the learning rate,    \n",
    "$\\big[ G_T - V(S_t) \\big] = $ the error term is the difference between the return $G_t$ and the value, $V(S_t)$.   \n",
    "\n",
    "   \n",
    "Using the same general formulation we can create and single time step update model know as the **one step time difference** or **TD(0)** algorithm.\n",
    "\n",
    "$$V(S_t) = V(S_t) + \\alpha \\big[ R_{t+1} + V(S_{t+1}) - V(S_t) \\big]$$\n",
    "\n",
    "Where,  \n",
    "$\\delta_t =  R_{t+1} + V(S_{t+1}) - V(S_t) = $ the **TD error**,  \n",
    "$R_{t+1} = $ the return for the next time step,   \n",
    "$V(S_t) = $ is the value at time step t.   \n",
    "\n",
    "Like dynamic programming algorithms, the TD algorithm **bootstraps**. The return and estimated value at the next time step, $V(S_{t+1})$, are from previous samples. However, unlike MC RL which does not bootstrap, the TD(0) algorithm produces an estimate of $V(S_t)$ in only one time step, rather than waiting to reach the terminal state at the end of the episode. This fact can be seen by examining the backup diagram shown below:\n",
    "\n",
    "<img src=\"img/TD0.JPG\" alt=\"Drawing\" style=\"width:60px; height:150px\"/>\n",
    "<center> **Backup Diagram of TD(0)** </center>"
   ]
  },
  {
   "cell_type": "markdown",
   "metadata": {},
   "source": [
    "\n",
    "## Environment\n",
    "\n",
    "RL agents sample state values and state action values. The RL agent does not know how many states there are and which states are terminal. The RL agent learns a policy as it proceeds with the learning process. The probabilities of a particular state transition are determined by the current policy. \n",
    "\n",
    "The code in the cell below simulates the environment. Given the current state and an action the function returns the next state and reward. Thus, this function simulates the interaction the agent will have with the environment. \n",
    "  "
   ]
  },
  {
   "cell_type": "code",
   "execution_count": 6,
   "metadata": {},
   "outputs": [
    {
     "name": "stdout",
     "output_type": "stream",
     "text": [
      "(11, -1)\n",
      "(11, -1)\n",
      "(12, 10)\n",
      "(10, -0.1)\n"
     ]
    }
   ],
   "source": [
    "def state_values(s, action, neighbors = neighbors, rewards = reward):\n",
    "    \"\"\"\n",
    "    Function simulates the environment\n",
    "    returns s_prime and reward given s and action\n",
    "    \"\"\"\n",
    "    s_prime = neighbors[s][action]\n",
    "    reward = rewards[s][action]\n",
    "    return (s_prime,reward)\n",
    "\n",
    "## Test the function\n",
    "for a in ['u', 'd', 'r', 'l']:\n",
    "    print(state_values(11, a))\n",
    "    "
   ]
  },
  {
   "cell_type": "markdown",
   "metadata": {},
   "source": [
    "To Examine our results, we can see the action values differ by  the reward values."
   ]
  },
  {
   "cell_type": "markdown",
   "metadata": {},
   "source": [
    "## TD(0) Policy Evaluation\n",
    "\n",
    "With our representations defined, we are now able to create and test functions to perform TD(0) **policy evaluation**. \n",
    "\n",
    "\n",
    "We have everything in place to perform TD(0) policy evaluation for the grid world. The code in the cell below implements the TD(0) algorithm and applies it to the policy in the grid world. \n",
    "\n",
    "> **Note:** The algorithm makes calls to the aforementioned `state_values` function to find information on successor state and rewards for a transition given a current state and action."
   ]
  },
  {
   "cell_type": "code",
   "execution_count": 7,
   "metadata": {
    "collapsed": true,
    "scrolled": false
   },
   "outputs": [],
   "source": [
    "def td_0_state_values(policy, n_samps, goal, alpha = 0.2, gamma = 0.9):\n",
    "    \"\"\"\n",
    "    Function for TD(0) policy \n",
    "    \"\"\"\n",
    "    ## Initialize the state list and state values\n",
    "    states = list(policy.keys())\n",
    "    v = [0]*len(list(policy.keys()))\n",
    "    action_index = list(range(len(list(policy[0].keys()))))\n",
    "    for _ in range(n_samps):\n",
    "        s = nr.choice(states, size =1)[0]\n",
    "        probs = list(policy[s].values())\n",
    "        if(s not in taboo+[goal]):\n",
    "            a = list(policy[s].keys())[nr.choice(action_index, size = 1, p = probs)[0]]\n",
    "        else:\n",
    "            a = list(policy[s].keys())[nr.choice(action_index, size = 1)[0]]\n",
    "        transistion = state_values(s, a)\n",
    "        v[s] = v[s] + alpha * (transistion[1] +  gamma * v[transistion[0]] - v[s])\n",
    "    return(v)\n",
    "    \n",
    "   "
   ]
  },
  {
   "cell_type": "markdown",
   "metadata": {},
   "source": [
    "Execute the function for 1,000 episodes and examine the results."
   ]
  },
  {
   "cell_type": "code",
   "execution_count": 8,
   "metadata": {},
   "outputs": [
    {
     "data": {
      "text/plain": [
       "array([[-2.1482, -2.349 , -2.6565, -2.6894, -2.4085],\n",
       "       [-2.3095,  0.    ,  0.    ,  0.    , -2.6015],\n",
       "       [ 2.0263,  4.7749,  0.    ,  0.9428, -1.7944],\n",
       "       [-1.2251,  0.    ,  0.    ,  0.    , -2.3868],\n",
       "       [-1.9846, -2.4509, -2.8161, -2.8375, -2.7372]])"
      ]
     },
     "execution_count": 8,
     "metadata": {},
     "output_type": "execute_result"
    }
   ],
   "source": [
    "nr.seed(345)    \n",
    "np.round(np.array(td_0_state_values(policy, n_samps = 1000, goal = 12)).reshape((5,5)), 4) "
   ]
  },
  {
   "cell_type": "markdown",
   "metadata": {},
   "source": [
    "Examine our results to ensure the action value function operates correctly:\n",
    "1. Are the values of the taboo states 0? ANS: Yes\n",
    "2. Are the states with the highest values adjacent to the terminal state? ANS: Partialy, because weirdly the right side,13, is smaller than 10. \n",
    "3. Are the values of the states decreasing as the distance from the terminal state increases? ANS: Yes"
   ]
  },
  {
   "cell_type": "markdown",
   "metadata": {},
   "source": [
    "### Illustration of the optimal path to the goal based on the policy your algorithm discovered.\n",
    "\n",
    "<img src=\"img/HW7.PNG\" alt=\"Drawing\" style=\"width:200px; height:200px\"/>\n"
   ]
  },
  {
   "cell_type": "markdown",
   "metadata": {},
   "source": [
    "## On Policy(SARSA) vs. Off Policy(Q-learning) Algorithms\n",
    "\n",
    "In this project we will explore examples of two broad categories of RL algorithms known as **on policy** and **off policy** methods. \n",
    "\n",
    "On policy methods evaluate and improve a single policy. On policy methods converge quickly and often to good solution. In general, **exploration** is performed using $\\epsilon$-greedy methods. The TD(0) and MC algorithms we have examined are examples of on policy methods. On policy algorithms are known to have good convergence properties. \n",
    "\n",
    "In contrast, off policy methods use two policies. The policy the agent is following is called the **behavior policy**, denoted $b(A_t | S_t)$. The policy being improved is known as the **target policy**, denoted $\\pi (A_t | S_t)$. The agent obtains samples of the environment while following the behavior policy. These samples are used to improve the target policy. An advantage of off policy methods is that a deterministic behavior policy can be used while a better target policy is developed.\n",
    "\n",
    "\n",
    "\n",
    "###  Q-learning has the following advantages and disadvantages compared to SARSA:\n",
    "\n",
    "- Q-learning directly learns the optimal policy, whilst SARSA learns a near-optimal policy whilst exploring. If we want to learn an optimal policy using SARSA, then we will need to decide on a strategy to decay ϵ in ϵ-greedy action choice, which may become a fiddly hyperparameter to tune.\n",
    "\n",
    "\n",
    "- Q-learning (and off-policy learning in general) has higher per-sample variance than SARSA, and may suffer from problems converging as a result. This turns up as a problem when training neural networks via Q-learning.\n",
    "\n",
    "\n",
    "- SARSA will approach convergence allowing for possible penalties from exploratory moves, whilst Q-learning will ignore them. That makes SARSA more conservative - if there is risk of a large negative reward close to the optimal path, Q-learning will tend to trigger that reward whilst exploring, whilst SARSA will tend to avoid a dangerous optimal path and only slowly learn to use it when the exploration parameters are reduced. The classic toy problem that demonstrates this effect is called **[cliff walking.](https://github.com/cvhu/CliffWalking)**\n",
    "\n",
    "\n",
    "Additionally, the critical point in practice is that the last point can make a big difference if mistakes are costly - e.g. when we are training a robot not in simulation, but in the real world. we may prefer a more conservative learning algorithm that avoids high risk, if there was real time and money at stake if the robot was damaged.\n",
    "\n",
    "If our goal is to train an optimal agent in simulation, or in a low-cost and fast-iterating environment, then Q-learning is a good choice, due to the first point (learning optimal policy directly). If our agent learns online, and we care about rewards gained whilst learning, then SARSA may be a better choice."
   ]
  },
  {
   "cell_type": "markdown",
   "metadata": {},
   "source": [
    "## One Step SARSA Algorithm\n",
    "\n",
    "Now that we have examined the one step TD(0) algorithm for policy (value) evaluation, we need to define a one step algorithm for **control** or **policy improvement**.     \n",
    "\n",
    "The **state action reward state action** or **SARSA** algorithm is an **on policy** method which uses **time differencing** to evaluate action values. As you might imagine from the name, this algorithm starts with an **on policy** action from the current state which results in a state transition and a reward. The backup diagram for one step SARSA (SARSA(0)) is shown in the figure below. \n",
    "\n",
    "<img src=\"img/SARSA.JPG\" alt=\"Drawing\" style=\"width:75px; height:150px\"/>\n",
    "<center> **Backup Diagram for SARSA(0)** </center>\n",
    "\n",
    "Compare the backup diagram for SARSA(0) to the one for TD(0) notice that the order of state and action are reversed between the two algorithms. This realization is a good way to understand the difference. \n",
    "\n",
    "The update equation for SARSA(0) is as follows:\n",
    "\n",
    "$$Q(S_t,A_t) = Q(S_t,A_t) + \\alpha \\big[ R_{t+1} + \\gamma Q(S_{t+1},A_{t+1}) - Q(S_t,A_t) \\big]$$  \n",
    "\n",
    "Where,   \n",
    "$\\delta_t = R_{t+1} + \\gamma Q(S_{t+1},A_{t+1}) - Q(S_t,A_t) = $ the error term,   \n",
    "$Q(S_t,A_t) = $ is the action value in state S given action A,  \n",
    "$R_{t+1} = $ is the reward for the next time step,   \n",
    "$\\alpha = $ the learning rate,   \n",
    "$\\gamma = $ discount factor.  "
   ]
  },
  {
   "cell_type": "markdown",
   "metadata": {},
   "source": [
    "\n",
    "## SARSA(0) Policy Improvement\n",
    "\n",
    "Now we will perform policy improvement using the SARSA(0) algorithm.  \n"
   ]
  },
  {
   "cell_type": "code",
   "execution_count": 9,
   "metadata": {
    "collapsed": true,
    "scrolled": false
   },
   "outputs": [],
   "source": [
    "import copy\n",
    "\n",
    "def select_a_prime(s_prime, policy, action_index, greedy, goal):\n",
    "    ## Randomly select an action prime \n",
    "    ## To handle the terminal state\n",
    "    if(s_prime != goal and greedy): \n",
    "        probs = list(policy[s_prime].values())\n",
    "        a_prime_index = nr.choice(action_index, size = 1, p = probs)[0]\n",
    "        a_prime = list(policy[s_prime].keys())[a_prime_index]\n",
    "    else: ## Don't probability weight for terminal state or non-greedy selecttion\n",
    "        a_prime_index = nr.choice(action_index, size = 1)[0]\n",
    "        a_prime = list(policy[s_prime].keys())[a_prime_index]   \n",
    "    return(a_prime_index, a_prime)\n",
    "\n",
    "\n",
    "def SARSA_0(policy, episodes, goal, alpha = 0.2, gamma = 0.9, epsilon = 0.1):\n",
    "    \"\"\"\n",
    "    Function to perform SARSA(0) control policy improvement.\n",
    "    \"\"\"\n",
    "    ## Initialize the state list and action values\n",
    "    states = list(policy.keys())\n",
    "    n_states = len(states)\n",
    "    \n",
    "    ## Initialize possible actions and the action values\n",
    "    action_index = list(range(len(list(policy[0].keys()))))\n",
    "    Q = np.zeros((len(action_index),len(states)))\n",
    "    \n",
    "    current_policy = copy.deepcopy(policy)\n",
    "    \n",
    "    for _ in range(episodes): # Loop over the episodes\n",
    "        ## sample a state at random ensuring it is not terminal state\n",
    "        s = nr.choice(states, size = 1)[0]\n",
    "        while(s in taboo+[goal]): s = nr.choice(states, size = 1)[0]\n",
    "        ## Now choose action given policy\n",
    "        a_index, a = select_a_prime(s, current_policy, action_index, True, goal)\n",
    "        \n",
    "        s_prime = float('inf') # Value of s_prime to start loop\n",
    "        while(s_prime != goal): # Episode ends where get to terminal state \n",
    "            ## The next state given the action\n",
    "            s_prime, reward = state_values(s, a)\n",
    "            a_prime_index, a_prime = select_a_prime(s_prime, current_policy, action_index, True, goal)\n",
    "     \n",
    "            ## Update the action values\n",
    "            Q[a_index,s] = Q[a_index,s] + alpha * (reward + gamma * Q[a_prime_index,s_prime] - Q[a_index,s])\n",
    "            \n",
    "            ## Set action and state for next iteration\n",
    "            a = a_prime\n",
    "            a_index = a_prime_index\n",
    "            s = s_prime\n",
    "\n",
    "    return(Q)\n",
    "\n"
   ]
  },
  {
   "cell_type": "markdown",
   "metadata": {},
   "source": [
    "Execute the code for 1,000 episodes, and with $\\alpha = 0.2$, and $\\epsilon = 0.1$"
   ]
  },
  {
   "cell_type": "code",
   "execution_count": 10,
   "metadata": {},
   "outputs": [
    {
     "name": "stdout",
     "output_type": "stream",
     "text": [
      "[[-4.2282 -5.2765 -5.6288 -5.4639 -5.7089]\n",
      " [-3.586   0.      0.      0.     -4.5257]\n",
      " [-2.6974  2.564   0.      0.7909 -3.1976]\n",
      " [-0.5514  0.      0.      0.     -1.7296]\n",
      " [-2.0087 -5.3606 -5.1868 -5.1598 -3.2489]]\n",
      "[[-2.4912 -4.8844 -5.3963 -5.4337 -3.73  ]\n",
      " [-0.9637  0.      0.      0.     -1.911 ]\n",
      " [-2.4687  0.3427  0.     -0.9032 -3.3185]\n",
      " [-3.3496  0.      0.      0.     -3.869 ]\n",
      " [-4.4689 -4.5704 -5.2045 -5.2181 -4.821 ]]\n",
      "[[-4.2811 -3.464  -4.14   -4.6461 -5.5983]\n",
      " [-2.9792  0.      0.      0.     -4.5057]\n",
      " [-0.2172  0.3087  0.     10.      1.4675]\n",
      " [-3.6716  0.      0.      0.     -4.386 ]\n",
      " [-3.0332 -3.1384 -3.794  -4.4014 -4.4273]]\n",
      "[[-4.4285 -4.2415 -4.4059 -4.3376 -4.2544]\n",
      " [-3.2421  0.      0.      0.     -4.5583]\n",
      " [ 4.698  10.      0.     -1.9334 -3.2374]\n",
      " [-3.9916  0.      0.      0.     -3.1249]\n",
      " [-4.0677 -4.3701 -4.5946 -3.9306 -4.4064]]\n"
     ]
    }
   ],
   "source": [
    "Q = SARSA_0(policy, 1000, goal = 12, alpha = 0.2, epsilon = 0.1)\n",
    "\n",
    "for i in range(4):\n",
    "    print(np.round(Q[i,:].reshape((5,5)), 4))"
   ]
  },
  {
   "cell_type": "markdown",
   "metadata": {},
   "source": [
    "Check point : the action values are 0 for the goal and taboo states, and the action values are getting bigger when they are reaching the goal."
   ]
  },
  {
   "cell_type": "markdown",
   "metadata": {},
   "source": [
    "### Generalized Policy Improvement\n",
    "\n",
    "RL uses the idea of **generalized policy improvement**. GPI divides the policy improvement and evaluation steps into opposing processes and iterates between them. This process can be done in a quite granular way, even on a single episode or even state at a time. The figure below illustrates the concept of GPI.  \n",
    "\n",
    "<img src=\"img/GPI.JPG\" alt=\"Drawing\" style=\"width:250px; height:250px\"/>\n",
    "<center> **Concept of Generalized Policy Improvement** </center>\n",
    "\n",
    "The code in the cell below uses the GPI method to improve the policy for the grid world using GPI. The outer loop or cycle performs one iteration of GPI which has two steps: \n",
    "1. At the start of the loop the returns for the current policy are evaluated. In this case we use the average of several episodes. Keep in mind that the agent's walk is determined by the policy, but the returns accumulated are from the environment. \n",
    "2. Next, the policy is updated using the new return values. The policy is improved by increasing the transition probabilities for actions (transitions) with higher reward. To ensure that the algorithm **continues to explore**, transition probabilities are never set to 0 but rather to a small minimum value $\\epsilon$. \n"
   ]
  },
  {
   "cell_type": "markdown",
   "metadata": {},
   "source": [
    "### GPI with SARSA(0)\n",
    "\n",
    "The code in the cell below performs **general policy improvement (GPI)** using SARSA(0) to evaluate action values. Several cycles of SARSA(0) and policy improvement are performed with this code. Notice that policy improvement is $\\epsilon$-greedy. The probability of any state transition will never go to zero, allowing continued exploration. Additional details on this algorithm can be seen by reading the code comments.  "
   ]
  },
  {
   "cell_type": "code",
   "execution_count": 11,
   "metadata": {
    "collapsed": true
   },
   "outputs": [],
   "source": [
    "def SARSA_0_GPI(policy, cycles, episodes, goal, alpha = 0.2, gamma = 0.9, epsilon = 0.1):\n",
    "    ## iterate over GPI cycles\n",
    "    current_policy = copy.deepcopy(policy)\n",
    "    for _ in range(cycles):\n",
    "        ## Evaluate policy with SARSA\n",
    "        Q = SARSA_0(policy, episodes = episodes, goal = goal, alpha = alpha, epsilon = epsilon)\n",
    "        \n",
    "        for s in list(current_policy.keys()): # iterate over all states\n",
    "            ## Find the index action with the largest Q values \n",
    "            ## May be more than one. \n",
    "            max_index = np.where(Q[:,s] == max(Q[:,s]))[0]\n",
    "            \n",
    "            ## Probabilities of transition\n",
    "            ## Need to allow for further exploration so don't let any \n",
    "            ## transition probability be 0.\n",
    "            ## Some gymnastics are required to ensure that the probabilities \n",
    "            ## over the transistions actual add to exactly 1.0\n",
    "            neighbors_len = float(Q.shape[0])\n",
    "            max_len = float(len(max_index))\n",
    "            diff = round(neighbors_len - max_len,3)\n",
    "            prob_for_policy = round(1.0/max_len,3)\n",
    "            adjust = round((epsilon * (diff)), 3)\n",
    "            prob_for_policy = prob_for_policy - adjust\n",
    "            if(diff != 0.0):\n",
    "                remainder = (1.0 - max_len * prob_for_policy)/diff\n",
    "            else:\n",
    "                remainder = epsilon\n",
    "                                                 \n",
    "            for i, key in enumerate(current_policy[s]): ## Update policy\n",
    "                if(i in max_index): current_policy[s][key] = prob_for_policy\n",
    "                else: current_policy[s][key] = remainder   \n",
    "                    \n",
    "    return(current_policy)                    \n"
   ]
  },
  {
   "cell_type": "code",
   "execution_count": 12,
   "metadata": {},
   "outputs": [
    {
     "data": {
      "text/plain": [
       "{0: {'d': 0.7,\n",
       "  'l': 0.10000000000000002,\n",
       "  'r': 0.10000000000000002,\n",
       "  'u': 0.10000000000000002},\n",
       " 1: {'d': 0.10000000000000002,\n",
       "  'l': 0.7,\n",
       "  'r': 0.10000000000000002,\n",
       "  'u': 0.10000000000000002},\n",
       " 2: {'d': 0.10000000000000002,\n",
       "  'l': 0.10000000000000002,\n",
       "  'r': 0.7,\n",
       "  'u': 0.10000000000000002},\n",
       " 3: {'d': 0.10000000000000002,\n",
       "  'l': 0.7,\n",
       "  'r': 0.10000000000000002,\n",
       "  'u': 0.10000000000000002},\n",
       " 4: {'d': 0.7,\n",
       "  'l': 0.10000000000000002,\n",
       "  'r': 0.10000000000000002,\n",
       "  'u': 0.10000000000000002},\n",
       " 5: {'d': 0.7,\n",
       "  'l': 0.10000000000000002,\n",
       "  'r': 0.10000000000000002,\n",
       "  'u': 0.10000000000000002},\n",
       " 6: {'d': 0.25, 'l': 0.25, 'r': 0.25, 'u': 0.25},\n",
       " 7: {'d': 0.25, 'l': 0.25, 'r': 0.25, 'u': 0.25},\n",
       " 8: {'d': 0.25, 'l': 0.25, 'r': 0.25, 'u': 0.25},\n",
       " 9: {'d': 0.7,\n",
       "  'l': 0.10000000000000002,\n",
       "  'r': 0.10000000000000002,\n",
       "  'u': 0.10000000000000002},\n",
       " 10: {'d': 0.10000000000000002,\n",
       "  'l': 0.10000000000000002,\n",
       "  'r': 0.7,\n",
       "  'u': 0.10000000000000002},\n",
       " 11: {'d': 0.10000000000000002,\n",
       "  'l': 0.10000000000000002,\n",
       "  'r': 0.7,\n",
       "  'u': 0.10000000000000002},\n",
       " 12: {'d': 0.25, 'l': 0.25, 'r': 0.25, 'u': 0.25},\n",
       " 13: {'d': 0.10000000000000002,\n",
       "  'l': 0.7,\n",
       "  'r': 0.10000000000000002,\n",
       "  'u': 0.10000000000000002},\n",
       " 14: {'d': 0.10000000000000002,\n",
       "  'l': 0.7,\n",
       "  'r': 0.10000000000000002,\n",
       "  'u': 0.10000000000000002},\n",
       " 15: {'d': 0.10000000000000002,\n",
       "  'l': 0.10000000000000002,\n",
       "  'r': 0.10000000000000002,\n",
       "  'u': 0.7},\n",
       " 16: {'d': 0.25, 'l': 0.25, 'r': 0.25, 'u': 0.25},\n",
       " 17: {'d': 0.25, 'l': 0.25, 'r': 0.25, 'u': 0.25},\n",
       " 18: {'d': 0.25, 'l': 0.25, 'r': 0.25, 'u': 0.25},\n",
       " 19: {'d': 0.10000000000000002,\n",
       "  'l': 0.10000000000000002,\n",
       "  'r': 0.10000000000000002,\n",
       "  'u': 0.7},\n",
       " 20: {'d': 0.10000000000000002,\n",
       "  'l': 0.10000000000000002,\n",
       "  'r': 0.10000000000000002,\n",
       "  'u': 0.7},\n",
       " 21: {'d': 0.10000000000000002,\n",
       "  'l': 0.7,\n",
       "  'r': 0.10000000000000002,\n",
       "  'u': 0.10000000000000002},\n",
       " 22: {'d': 0.10000000000000002,\n",
       "  'l': 0.10000000000000002,\n",
       "  'r': 0.7,\n",
       "  'u': 0.10000000000000002},\n",
       " 23: {'d': 0.10000000000000002,\n",
       "  'l': 0.10000000000000002,\n",
       "  'r': 0.7,\n",
       "  'u': 0.10000000000000002},\n",
       " 24: {'d': 0.10000000000000002,\n",
       "  'l': 0.10000000000000002,\n",
       "  'r': 0.10000000000000002,\n",
       "  'u': 0.7}}"
      ]
     },
     "execution_count": 12,
     "metadata": {},
     "output_type": "execute_result"
    }
   ],
   "source": [
    " SARSA_0_Policy = SARSA_0_GPI(policy,goal=12, cycles = 10, episodes = 100)\n",
    "SARSA_0_Policy"
   ]
  },
  {
   "cell_type": "markdown",
   "metadata": {},
   "source": [
    "Verification : our results at state 2 and 22, they are following the shortest path (left side)"
   ]
  },
  {
   "cell_type": "markdown",
   "metadata": {},
   "source": [
    "## Q-Learning\n",
    "\n",
    "As we have just seen, the SARSA algorithm is an on policy action value TD estimation method. The **Q-learning** algorithm is a **off policy** TD action value estimation method. \n",
    "\n",
    "The update formula for single step Q-learning or **Q-learning(0)** is:\n",
    "\n",
    "$$Q(S_t,A_t) = Q(S_t,A_t) + \\alpha \\big[ R_{t+1} + \\gamma max_a Q(S_{t+1},a) - Q(S_t,A_t) \\big]$$  \n",
    "\n",
    "Where,   \n",
    "$\\delta_t = R_{t+1} + \\gamma max_a Q(S_{t+1},a) - Q(S_t,A_t) = $ the TD error,   \n",
    "$max_a = $ the maximum operator applied to all possible actions in state $S_{t+1}$,   \n",
    "$Q(S_t,A_t) = $ is the action value in state S given action A,  \n",
    "$R_{t+1} = $ is the reward for the next time step,   \n",
    "$\\alpha = $ the learning rate,   \n",
    "$\\gamma = $ discount factor.  \n",
    "\n",
    "The use of the operator $max_a$ makes Q-learning greedy. But, why does using this operator result in an off-policy algorithm? To answer this question, examine the backup diagram shown below. \n",
    "\n",
    "<img src=\"img/Q-Learning.JPG\" alt=\"Drawing\" style=\"width:200px; height:150px\"/>\n",
    "<center> **Backup Diagram for one-step Q-Learning** </center>\n",
    "\n",
    "The $max_a$ greedily picks the action with the greatest value, regardless of policy. Therefore, Q-learning is an off-policy algorithm. "
   ]
  },
  {
   "cell_type": "code",
   "execution_count": 13,
   "metadata": {
    "collapsed": true,
    "scrolled": false
   },
   "outputs": [],
   "source": [
    "def Q_learning_0(policy, neighbors, rewards, episodes, goal, alpha = 0.2, gamma = 0.9):\n",
    "    \"\"\"\n",
    "    Function to perform Q-learning(0) control policy improvement.\n",
    "    \"\"\"\n",
    "    ## Initialize the state list and action values\n",
    "    states = list(policy.keys())\n",
    "    n_states = len(states)\n",
    "    \n",
    "    ## Initialize possible actions and the action values\n",
    "    possible_actions = list(rewards[0].keys())\n",
    "    action_index = list(range(len(list(policy[0].keys()))))\n",
    "    Q = np.zeros((len(possible_actions),len(states)))\n",
    "    \n",
    "    current_policy = copy.deepcopy(policy)\n",
    "    \n",
    "    for _ in range(episodes): # Loop over the episodes\n",
    "        ## sample an intial state at random but make sure it is not goal\n",
    "        s = nr.choice(states, size = 1)[0]\n",
    "        while(s in taboo+ [goal]): s = nr.choice(states, size = 1)[0]\n",
    "        ## Now choose action following policy\n",
    "        a_index, a = select_a_prime(s, current_policy, action_index, True, goal)\n",
    "        \n",
    "        s_prime = n_states + 1 # Dummy value of s_prime to start loop\n",
    "        while(s_prime != goal): # Episode ends where get to terminal state   \n",
    "            ## Get s_prime given s and a\n",
    "            s_prime = neighbors[s][a]\n",
    "            \n",
    "            ## Find the index or indices of maximum action values for s_prime\n",
    "            ## Break any tie with multiple max values by random selection\n",
    "            action_values = Q[:,s_prime]\n",
    "            a_prime_index = nr.choice(np.where(action_values == max(action_values))[0], size = 1)[0]\n",
    "            a_prime = possible_actions[a_prime_index]\n",
    "            \n",
    "            ## Lookup the reward \n",
    "            reward = rewards[s][a]\n",
    "            \n",
    "            ## Update the action values\n",
    "            Q[a_index,s] = Q[a_index,s] + alpha * (reward + gamma * Q[a_prime_index,s_prime] - Q[a_index,s])\n",
    "            \n",
    "            ## Set action and state for next iteration\n",
    "            a = a_prime\n",
    "            a_index = a_prime_index\n",
    "            s = s_prime\n",
    "\n",
    "    return(Q)\n"
   ]
  },
  {
   "cell_type": "code",
   "execution_count": 14,
   "metadata": {},
   "outputs": [
    {
     "name": "stdout",
     "output_type": "stream",
     "text": [
      "[[4.6576 2.3519 3.0003 0.8702 1.6673]\n",
      " [4.5709 0.     0.     0.     4.5546]\n",
      " [3.0681 6.6243 0.     5.9028 5.0752]\n",
      " [7.91   0.     0.     0.     7.91  ]\n",
      " [7.019  1.6248 1.6534 3.5173 7.019 ]]\n",
      "[[7.019  2.9334 2.5275 2.3373 7.0189]\n",
      " [7.91   0.     0.     0.     7.91  ]\n",
      " [3.5445 6.6524 0.     6.8731 5.1443]\n",
      " [4.6978 0.     0.     0.     3.6438]\n",
      " [4.5848 3.1666 2.3795 3.3294 4.7006]]\n",
      "[[ 3.0979  6.2171  5.4916  1.2128  1.3888]\n",
      " [ 3.9946  0.      0.      0.      4.9742]\n",
      " [ 6.2168  4.455   0.     10.      8.9   ]\n",
      " [ 0.9325  0.      0.      0.      5.2453]\n",
      " [ 4.3729  6.2166  5.4281  1.0831  3.9313]]\n",
      "[[ 4.2212  4.2177  3.1193  6.1009  5.4883]\n",
      " [ 5.2951  0.      0.      0.      4.4764]\n",
      " [ 8.9    10.      0.      5.2973  5.1199]\n",
      " [ 4.745   0.      0.      0.      5.2005]\n",
      " [ 3.3908  2.5138  2.1374  6.2125  1.3775]]\n"
     ]
    }
   ],
   "source": [
    "\n",
    "QQ = Q_learning_0(policy, neighbors, reward, episodes=500, goal = 12)\n",
    "\n",
    "for i in range(4):\n",
    "    print(np.round(QQ[i,:].reshape((5,5)), 4))"
   ]
  },
  {
   "cell_type": "markdown",
   "metadata": {},
   "source": [
    "### Double Q-Learning\n",
    "\n",
    "The Q-learning algorithm just presented has a significant **bias**. To understand why this might be consider the following thought experiment. In most cases the sampled action values are inaccurate. Some action values will have a positive error and some will have a negative error. In the error is on the order of the values themselves, the $max_a$ operator has a reasonable chance of selecting an action value that is the largest because of this error. However, the $max_a$ operator will never select an action with a low value simply because of the errors. The net result is a bias toward action values with the largest positive error. \n",
    "\n",
    "What can be done to correct this situation? One relatively simple and effective algorithm is known as **double Q-learning**. Double Q-learning maintains two tables of action values. The values from one table are used to perform the bootstrap updates of the other table and vice versa. This approach averages out the bias. For two tables, $Q_1$ and $Q_2$ we can express double Q-learning as follows:\n",
    "\n",
    "$$Q_1(S_t,A_t) = Q_1(S_t,A_t) + \\alpha \\big[ R_{t+1} + \\gamma Q_2(S_{t+1},argmax_a Q_1(S_{t+1}, a) - Q_1(S_t,A_t) \\big] \\\\\n",
    "Q_2(S_t,A_t) = Q_2(S_t,A_t) + \\alpha \\big[ R_{t+1} + \\gamma Q_1(S_{t+1},argmax_a Q_2(S_{t+1}, a) - Q_2(S_t,A_t) \\big]$$  \n",
    "\n",
    "With a 0.5 probability one or the other of these expressions is used for the TD update at each time step. While double Q-learning requires twice as much memory, to maintain the two tables, the computational complexity is the same when compared to Q-learning. \n"
   ]
  },
  {
   "cell_type": "markdown",
   "metadata": {},
   "source": [
    "## Apply Double Q-Learning\n",
    "\n",
    "As a next step, we will apply Double Q-learning(0) to the warehouse navigation problem. In the cell below create and test a function to perform Double Q-Learning for this problem.\n"
   ]
  },
  {
   "cell_type": "code",
   "execution_count": 15,
   "metadata": {
    "collapsed": true
   },
   "outputs": [],
   "source": [
    "def double_Q_learning_0(policy, neighbors, rewards, episodes, goal, alpha = 0.2, gamma = 0.9):\n",
    "    \"\"\"\n",
    "    Function to perform SARSA(0) control policy improvement.\n",
    "    \"\"\"\n",
    "    ## Initialize the state list and action values\n",
    "    states = list(policy.keys())\n",
    "    n_states = len(states)\n",
    "    \n",
    "    ## Initialize possible actions and the action values\n",
    "    possible_actions = list(rewards[0].keys())\n",
    "    action_index = list(range(len(list(policy[0].keys()))))\n",
    "    Q1 = np.zeros((len(possible_actions),len(states)))\n",
    "    Q2 = np.zeros((len(possible_actions),len(states)))\n",
    "    \n",
    "    current_policy = copy.deepcopy(policy)\n",
    "    \n",
    "    for _ in range(episodes): # Loop over the episodes\n",
    "        ## sample an intial state at random but make sure it is not goal\n",
    "        s = nr.choice(states, size = 1)[0]\n",
    "        while(s in taboo+[goal]): s = nr.choice(states, size = 1)[0]\n",
    "        ## Now choose action following policy\n",
    "        a_index, a = select_a_prime(s, current_policy, action_index, True, goal)\n",
    "        \n",
    "        s_prime = n_states + 1 # Dummy value of s_prime to start loop\n",
    "        while(s_prime != goal): # Episode ends where get to terminal state   \n",
    "            ## Get s_prime given s and a\n",
    "            s_prime = neighbors[s][a]\n",
    "            \n",
    "            ## Update one or the other action values at random\n",
    "            if(nr.uniform() <= 0.5):\n",
    "                ## Find the index or indices of maximum action values for s_prime\n",
    "                ## Break any tie with multiple max values by random selection\n",
    "                action_values = Q1[:,s_prime]\n",
    "                a_prime_index = nr.choice(np.where(action_values == max(action_values))[0], size = 1)[0]\n",
    "                a_prime = possible_actions[a_prime_index]\n",
    "                ## Lookup the reward \n",
    "                reward = rewards[s][a]\n",
    "                ## Update Q1 \n",
    "                Q1[a_index,s] = Q1[a_index,s] + alpha * (reward + gamma * Q2[a_prime_index,s_prime] - Q1[a_index,s])\n",
    "            \n",
    "                ## Set action and state for next iteration\n",
    "                a = a_prime\n",
    "                a_index = a_prime_index\n",
    "                s = s_prime\n",
    "            \n",
    "            else:\n",
    "                ## Find the index or indices of maximum action values for s_prime\n",
    "                ## Break any tie with multiple max values by random selection\n",
    "                action_values = Q2[:,s_prime]\n",
    "                a_prime_index = nr.choice(np.where(action_values == max(action_values))[0], size = 1)[0]\n",
    "                a_prime = possible_actions[a_prime_index]\n",
    "                ## Lookup the reward \n",
    "                reward = rewards[s][a]\n",
    "                ## Update Q2\n",
    "                Q2[a_index,s] = Q2[a_index,s] + alpha * (reward + gamma * Q1[a_prime_index,s_prime] - Q2[a_index,s])\n",
    "            \n",
    "                ## Set action and state for next iteration\n",
    "                a = a_prime\n",
    "                a_index = a_prime_index\n",
    "                s = s_prime\n",
    "\n",
    "    return(Q1)\n"
   ]
  },
  {
   "cell_type": "code",
   "execution_count": 16,
   "metadata": {},
   "outputs": [
    {
     "name": "stdout",
     "output_type": "stream",
     "text": [
      "[[ 2.9053  1.0291 -0.0575  1.0663  0.7141]\n",
      " [ 3.5645  0.      0.      0.      4.1165]\n",
      " [ 2.0151  3.8248  0.      1.44    3.9789]\n",
      " [ 7.9073  0.      0.      0.      7.91  ]\n",
      " [ 6.8824  0.2245  0.3559  0.8978  7.0167]]\n",
      "[[ 6.9182 -0.4105 -0.532   0.6655  7.0148]\n",
      " [ 7.9079  0.      0.      0.      7.9097]\n",
      " [ 2.3816  3.904   0.      2.752   4.4786]\n",
      " [ 1.1378  0.      0.      0.      3.5121]\n",
      " [ 0.5783 -0.726  -0.2829  1.2675  2.5116]]\n",
      "[[ 3.6394  5.6451  0.8454  2.314   1.4896]\n",
      " [ 0.9125  0.      0.      0.      1.7264]\n",
      " [ 2.1984  3.5504  0.     10.      8.9   ]\n",
      " [ 0.9653  0.      0.      0.      3.265 ]\n",
      " [ 0.5424  4.0794  0.3063  2.1038  0.9592]]\n",
      "[[ 0.4252  0.2685  4.9937  6.1278  2.7775]\n",
      " [ 1.7723  0.      0.      0.      3.6496]\n",
      " [ 8.9    10.      0.      5.2978  4.0568]\n",
      " [ 1.5804  0.      0.      0.      3.5042]\n",
      " [ 0.2847  2.0146  5.0325  6.179   3.0988]]\n"
     ]
    }
   ],
   "source": [
    "\n",
    "doudble_Q = double_Q_learning_0(policy, neighbors, reward, 500, goal = 12)\n",
    "\n",
    "for i in range(4):\n",
    "    print(np.round(doudble_Q[i,:].reshape((5,5)), 4))"
   ]
  },
  {
   "cell_type": "markdown",
   "metadata": {},
   "source": [
    "### GPI with Double Q Learning\n",
    "\n",
    "The code in the cell below applies general policy iteration using double Q-learning(0) to estimate the action values.  Additional details on this algorithm can be seen by reading the code comments. "
   ]
  },
  {
   "cell_type": "code",
   "execution_count": 17,
   "metadata": {
    "collapsed": true
   },
   "outputs": [],
   "source": [
    "def double_Q_learning_0_GPI(policy, neighbors, reward, cycles, episodes, goal, alpha = 0.2, gamma = 0.9, epsilon = 0.1):\n",
    "    ## iterate over GPI cycles\n",
    "    current_policy = copy.deepcopy(policy)\n",
    "    for _ in range(cycles):\n",
    "        ## Evaluate policy with SARSA\n",
    "        Q = double_Q_learning_0(policy, neighbors, reward, episodes = episodes, goal = goal)\n",
    "        \n",
    "        for s in list(current_policy.keys()): # iterate over all states\n",
    "            ## Find the index action with the largest Q values \n",
    "            ## May be more than one. \n",
    "            max_index = np.where(Q[:,s] == max(Q[:,s]))[0]\n",
    "            \n",
    "            ## Probabilities of transition\n",
    "            ## Need to allow for further exploration so don't let any \n",
    "            ## transition probability be 0.\n",
    "            ## Some gymnastics are required to ensure that the probabilities \n",
    "            ## over the transistions actual add to exactly 1.0\n",
    "            neighbors_len = float(Q.shape[0])\n",
    "            max_len = float(len(max_index))\n",
    "            diff = round(neighbors_len - max_len,3)\n",
    "            prob_for_policy = round(1.0/max_len,3)\n",
    "            adjust = round((epsilon * (diff)), 3)\n",
    "            prob_for_policy = prob_for_policy - adjust\n",
    "            if(diff != 0.0):\n",
    "                remainder = (1.0 - max_len * prob_for_policy)/diff\n",
    "            else:\n",
    "                remainder = epsilon\n",
    "                                                 \n",
    "            for i, key in enumerate(current_policy[s]): ## Update policy\n",
    "                if(i in max_index): current_policy[s][key] = prob_for_policy\n",
    "                else: current_policy[s][key] = remainder   \n",
    "                    \n",
    "    return(current_policy)                    \n"
   ]
  },
  {
   "cell_type": "code",
   "execution_count": 18,
   "metadata": {},
   "outputs": [
    {
     "data": {
      "text/plain": [
       "{0: {'d': 0.7,\n",
       "  'l': 0.10000000000000002,\n",
       "  'r': 0.10000000000000002,\n",
       "  'u': 0.10000000000000002},\n",
       " 1: {'d': 0.10000000000000002,\n",
       "  'l': 0.7,\n",
       "  'r': 0.10000000000000002,\n",
       "  'u': 0.10000000000000002},\n",
       " 2: {'d': 0.10000000000000002,\n",
       "  'l': 0.10000000000000002,\n",
       "  'r': 0.7,\n",
       "  'u': 0.10000000000000002},\n",
       " 3: {'d': 0.10000000000000002,\n",
       "  'l': 0.10000000000000002,\n",
       "  'r': 0.7,\n",
       "  'u': 0.10000000000000002},\n",
       " 4: {'d': 0.7,\n",
       "  'l': 0.10000000000000002,\n",
       "  'r': 0.10000000000000002,\n",
       "  'u': 0.10000000000000002},\n",
       " 5: {'d': 0.7,\n",
       "  'l': 0.10000000000000002,\n",
       "  'r': 0.10000000000000002,\n",
       "  'u': 0.10000000000000002},\n",
       " 6: {'d': 0.25, 'l': 0.25, 'r': 0.25, 'u': 0.25},\n",
       " 7: {'d': 0.25, 'l': 0.25, 'r': 0.25, 'u': 0.25},\n",
       " 8: {'d': 0.25, 'l': 0.25, 'r': 0.25, 'u': 0.25},\n",
       " 9: {'d': 0.7,\n",
       "  'l': 0.10000000000000002,\n",
       "  'r': 0.10000000000000002,\n",
       "  'u': 0.10000000000000002},\n",
       " 10: {'d': 0.10000000000000002,\n",
       "  'l': 0.10000000000000002,\n",
       "  'r': 0.7,\n",
       "  'u': 0.10000000000000002},\n",
       " 11: {'d': 0.10000000000000002,\n",
       "  'l': 0.10000000000000002,\n",
       "  'r': 0.7,\n",
       "  'u': 0.10000000000000002},\n",
       " 12: {'d': 0.25, 'l': 0.25, 'r': 0.25, 'u': 0.25},\n",
       " 13: {'d': 0.10000000000000002,\n",
       "  'l': 0.7,\n",
       "  'r': 0.10000000000000002,\n",
       "  'u': 0.10000000000000002},\n",
       " 14: {'d': 0.10000000000000002,\n",
       "  'l': 0.7,\n",
       "  'r': 0.10000000000000002,\n",
       "  'u': 0.10000000000000002},\n",
       " 15: {'d': 0.10000000000000002,\n",
       "  'l': 0.10000000000000002,\n",
       "  'r': 0.10000000000000002,\n",
       "  'u': 0.7},\n",
       " 16: {'d': 0.25, 'l': 0.25, 'r': 0.25, 'u': 0.25},\n",
       " 17: {'d': 0.25, 'l': 0.25, 'r': 0.25, 'u': 0.25},\n",
       " 18: {'d': 0.25, 'l': 0.25, 'r': 0.25, 'u': 0.25},\n",
       " 19: {'d': 0.10000000000000002,\n",
       "  'l': 0.10000000000000002,\n",
       "  'r': 0.10000000000000002,\n",
       "  'u': 0.7},\n",
       " 20: {'d': 0.10000000000000002,\n",
       "  'l': 0.10000000000000002,\n",
       "  'r': 0.10000000000000002,\n",
       "  'u': 0.7},\n",
       " 21: {'d': 0.10000000000000002,\n",
       "  'l': 0.7,\n",
       "  'r': 0.10000000000000002,\n",
       "  'u': 0.10000000000000002},\n",
       " 22: {'d': 0.10000000000000002,\n",
       "  'l': 0.10000000000000002,\n",
       "  'r': 0.7,\n",
       "  'u': 0.10000000000000002},\n",
       " 23: {'d': 0.10000000000000002,\n",
       "  'l': 0.10000000000000002,\n",
       "  'r': 0.7,\n",
       "  'u': 0.10000000000000002},\n",
       " 24: {'d': 0.10000000000000002,\n",
       "  'l': 0.10000000000000002,\n",
       "  'r': 0.10000000000000002,\n",
       "  'u': 0.7}}"
      ]
     },
     "execution_count": 18,
     "metadata": {},
     "output_type": "execute_result"
    }
   ],
   "source": [
    "Double_Q_0_Policy = double_Q_learning_0_GPI(policy, neighbors, reward, cycles = 10, episodes = 500, goal = 12)\n",
    "Double_Q_0_Policy "
   ]
  },
  {
   "cell_type": "markdown",
   "metadata": {},
   "source": [
    " Um.. at state 2 is something weird, because it shows go 'r', whereas it was 'l' in SARSA.\n",
    "    But it is still shortest path though. \n",
    "    State 22 is 'l' which is same as before."
   ]
  },
  {
   "cell_type": "markdown",
   "metadata": {},
   "source": [
    "## N-Step Time Differencing\n",
    "\n",
    "In the first part of this project we have focused on one-step time differencing, TD, algorithms which update estimates at each time step. Now, we will look at algorithms between these two extreme cases, n-step time differencing algorithms. \n",
    "\n",
    "We can generalize the concept of the one-step bootstrapping of the return starting with TD(0):\n",
    "\n",
    "$$G_{t:t+1} = R_{t+1} + \\gamma V_{t}(S_{t+1})$$\n",
    "\n",
    "Here, $V_{t}(S_{t+1})$ is being bootstrapped. \n",
    "\n",
    "We can extend this formulation to two-step TD as follows:\n",
    "\n",
    "$$G_{t:t+2} = R_{t+1} + \\gamma R_{t+2} + \\gamma^2 V_{t+1}(S_{t+2})$$\n",
    "\n",
    "In the above it is $V_{t+1}(S_{t+2})$ being bootstrapped. \n",
    "\n",
    "For n-step TD the return is computed by the following bootstrap formulation. \n",
    "\n",
    "$$G_{t:t+n} = R_{t+1} + \\gamma R_{t+2} + \\ldots + \\gamma^{n-1} R_{t+n} + \\gamma^n V_{t+n-1}(S_{t+n})$$\n",
    "\n",
    "Regardless of home many steps are used to compute the return, the value update is:\n",
    "\n",
    "$$V_{t+n}(S_t) = V_{t+n-1}(S_t) + \\alpha \\big[ G_{t:t+n} - V_{t+n-1}(S_t) \\big],\\ 0 \\leq t < T]$$\n",
    "\n",
    "Where $\\delta_t = G_{t:t+n} - V_{t+n-1}(S_t) = $ the n-step TD error.\n",
    "\n",
    "The resulting backup diagrams for general TD(n) is shown in the diagram below. \n",
    "\n",
    "<img src=\"img/TDN.JPG\" alt=\"Drawing\" style=\"width:400px; height:350px\"/>\n",
    "<center> **Backup Diagram for n-step TD** </center>\n",
    "\n",
    "From Left to right we can see how the backup diagram adds more states and actions. On the extreme right the backup diagram for the MC algorithm is shown. Notice that MC RL does not bootstrap, but samples until the terminal state is reached. \n",
    "\n",
    "N-step TD methods are generally considered to have two advantages over single-step methods:\n",
    "1. N-step methods generally have better convergence properties. \n",
    "2. N-step methods break the link between time between actions and time when bootstraping occurs.   "
   ]
  },
  {
   "cell_type": "markdown",
   "metadata": {},
   "source": [
    "## Apply N-Step TD Learning\n",
    "\n",
    "Finally, we will apply N-Step TD learning and N-Step SARSA to the warehouse navigation problem.\n",
    "\n"
   ]
  },
  {
   "cell_type": "code",
   "execution_count": 19,
   "metadata": {
    "collapsed": true
   },
   "outputs": [],
   "source": [
    "def TD_n(policy, episodes, n, goal, alpha = 0.2, gamma = 0.9, epsilon = 0.1):\n",
    "    \"\"\"\n",
    "    Function to perform TD(N) policy evaluation.\n",
    "    \"\"\"\n",
    "    ## Initialize the state list and action values\n",
    "    states = list(policy.keys())\n",
    "    n_states = len(states)\n",
    "    \n",
    "    ## Initialize possible actions and the action values\n",
    "    action_index = list(range(len(list(policy[0].keys()))))\n",
    "    v = [0]*len(list(policy.keys()))\n",
    "    \n",
    "    current_policy = copy.deepcopy(policy)\n",
    "    \n",
    "    \n",
    "    ## sample an initial state at random and make sure is not terminal state\n",
    "    s = nr.choice(states, size = 1)[0]\n",
    "    while(s in taboo+[goal]):\n",
    "        s = nr.choice(states, size = 1)[0]  \n",
    "        \n",
    "    for _ in range(episodes): # Loop over the episodes\n",
    "        T = float(\"inf\")\n",
    "        tau = 0\n",
    "        reward_list = []\n",
    "        t = 0\n",
    "        \n",
    "        while(tau != T - 1): # Episode ends where get to terminal state \n",
    "            if(t < T):\n",
    "                ## Choose action given policy\n",
    "                probs = list(policy[s].values())\n",
    "                a = list(policy[s].keys())[nr.choice(action_index, size = 1, p = probs)[0]]\n",
    "                ## The next state given the action\n",
    "                s_prime, reward = state_values(s, a)\n",
    "                reward_list.append(reward)  # append the reward to the list\n",
    "                if(s_prime == goal): T = t + 1  # We reached the terminal state\n",
    "                \n",
    "            tau = t - n + 1 ## update the time step being updated\n",
    "\n",
    "            if(tau >= 0): # Check if enough time steps to compute return\n",
    "                ## Compute the return\n",
    "                ## The formula for the first index in the loop is different from Sutton and Barto\n",
    "                ## but seems to be correct at least for Python.\n",
    "                G = 0.0 \n",
    "                for i in range(tau, min(tau + n - 1, T)):\n",
    "                    G = G + gamma**(i-tau) * reward_list[i]   \n",
    "                ## Deal with case of where we are not at the terminal state\n",
    "                if(tau + n < T): G = G + gamma**n * v[s_prime]\n",
    "                ## Update v\n",
    "                v[s] = v[s] + alpha * (G - v[s])\n",
    "            \n",
    "            ## Set state for next iteration\n",
    "            if(s_prime != goal):\n",
    "                s = s_prime\n",
    "            t = t +1\n",
    "    return(v)\n",
    "\n"
   ]
  },
  {
   "cell_type": "code",
   "execution_count": 20,
   "metadata": {},
   "outputs": [
    {
     "data": {
      "text/plain": [
       "array([[-4.119 , -3.8068, -3.6633, -4.7918, -3.8236],\n",
       "       [-3.5519,  0.    ,  0.    ,  0.    , -3.2064],\n",
       "       [ 0.2025,  7.4779,  0.    ,  3.8816, -2.7824],\n",
       "       [-3.1107,  0.    ,  0.    ,  0.    , -4.2211],\n",
       "       [-3.2287, -4.0398, -3.6634, -3.8334, -4.446 ]])"
      ]
     },
     "execution_count": 20,
     "metadata": {},
     "output_type": "execute_result"
    }
   ],
   "source": [
    "np.round(np.array(TD_n(policy, episodes = 1000, n = 4, goal = 12, alpha = 0.2, gamma = 0.9)).reshape((5,5)), 4)"
   ]
  },
  {
   "cell_type": "markdown",
   "metadata": {},
   "source": [
    "Verify that the result we obtained appears correct. \n",
    "\n",
    "Are the values of the goal and taboo states all 0? Do the state values decrease with distance from the goal?\n",
    "\n",
    "YES"
   ]
  },
  {
   "cell_type": "markdown",
   "metadata": {},
   "source": [
    "## N-step SARSA for control\n",
    "\n",
    "Just as we used SARSA(0) for the control or policy improvement, we can generalize this algorithm to the n-step case. This is the SARSA(n) algorithm.  \n",
    "\n",
    "The n-step return is computed by the following bootstrap formulation. \n",
    "\n",
    "$$G_{t:t+n} = R_{t+1} + \\gamma R_{t+2} + \\ldots + \\gamma^{n-1} R_{t+n} + \\gamma^n Q_{t+n-1}(S_{t+n}, A_{t+n}),\\ n \\geq 1, 0 \\leq t < T-n$$\n",
    "\n",
    "Using this return, the action value update becomes:\n",
    "\n",
    "$$Q_{t+n}(S_t, A_t) = Q_{t+n-1}(S_t, A_t) + \\alpha \\big[ G_{t:t+n} - Q_{t+n-1}(S_t,A_t) \\big],\\ 0 \\leq t < T]$$\n",
    "\n",
    "Where $\\delta_t =  G_{t:t+n} - Q_{t+n-1}(S_t,A_t) = $ the n-step error."
   ]
  },
  {
   "cell_type": "code",
   "execution_count": 21,
   "metadata": {
    "collapsed": true
   },
   "outputs": [],
   "source": [
    "def SARSA_n(policy, episodes, n, goal, alpha = 0.2, gamma = 0.9, epsilon = 0.1):\n",
    "    \"\"\"\n",
    "    Function to perform SARSA(N) control policy improvement.\n",
    "    \"\"\"\n",
    "    ## Initialize the state list and action values\n",
    "    states = list(policy.keys())\n",
    "    n_states = len(states)\n",
    "    \n",
    "    ## Initialize possible actions and the action values\n",
    "    action_index = list(range(len(list(policy[0].keys()))))\n",
    "    Q = np.zeros((len(action_index),len(states)))\n",
    "    \n",
    "    current_policy = copy.deepcopy(policy)\n",
    "    \n",
    "    for _ in range(episodes): # Loop over the episodes\n",
    "        ## sample a state at random and make sure is not terminal state\n",
    "        s = nr.choice(states, size = 1)[0]\n",
    "        while(s in taboo+[goal]):\n",
    "            s = nr.choice(states, size = 1)[0]\n",
    "        ## Now choose action given policy\n",
    "        a_index, a = select_a_prime(s, current_policy, action_index, True, goal)\n",
    "        \n",
    "        t = 0 # Initialize the time step count\n",
    "        T = float(\"inf\")\n",
    "        tau = 0\n",
    "        reward_list = []\n",
    "        while(tau != T - 1): # Episode ends where get to terminal state \n",
    "            if(t < T):\n",
    "                ## The next state given the action\n",
    "                s_prime, reward = state_values(s, a)\n",
    "                reward_list.append(reward)  # append the reward to the list\n",
    "                if(s_prime == goal): T = t + 1  # We reached the terminal state\n",
    "                else:\n",
    "                    # Select and store the next action using the policy\n",
    "                    a_prime_index, a_prime = select_a_prime(s_prime, current_policy, action_index, True, goal)\n",
    "                \n",
    "                \n",
    "            tau = t - n + 1 ## update the time step being updated\n",
    "  \n",
    "            if(tau >= 0): # Check if enough time steps to compute return\n",
    "                ## Compute the return\n",
    "                ## The formula for the first index in the loop is different from Sutton and Barto\n",
    "                ## but seems to be correct at least for Python.\n",
    "                G = 0.0 \n",
    "                for i in range(tau, min(tau + n, T)):\n",
    "                    G = G + gamma**(i-tau) * reward_list[i]   \n",
    "                ## Deal with case of where we are not at the terminal state\n",
    "                if(tau + n < T): G = G + gamma**n * Q[a_prime_index,s_prime]\n",
    "                ## Finally, update Q\n",
    "                Q[a_index,s] = Q[a_index,s] + alpha * (G - Q[a_index,s])\n",
    "            \n",
    "            ## Set action and state for next iteration\n",
    "            if(s_prime != goal):\n",
    "                s = s_prime   \n",
    "                a = a_prime \n",
    "                a_index = a_prime_index\n",
    "                \n",
    "            \n",
    "            ## increment t\n",
    "            t = t + 1\n",
    "    return(Q)\n"
   ]
  },
  {
   "cell_type": "code",
   "execution_count": 22,
   "metadata": {},
   "outputs": [
    {
     "name": "stdout",
     "output_type": "stream",
     "text": [
      "[[-4.8314 -6.0364 -6.4035 -6.124  -5.662 ]\n",
      " [-4.7546  0.      0.      0.     -5.3932]\n",
      " [-4.7726 -1.1951  0.     -2.8841 -4.6767]\n",
      " [-3.6235  0.      0.      0.     -4.3611]\n",
      " [-4.1346 -5.6899 -5.7401 -6.5775 -4.8216]]\n",
      "[[-4.7786 -5.5577 -6.1351 -6.0685 -4.5772]\n",
      " [-4.5579  0.      0.      0.     -3.6685]\n",
      " [-4.3975 -0.9344  0.     -3.2095 -4.6363]\n",
      " [-4.4945  0.      0.      0.     -4.4534]\n",
      " [-5.3988 -5.149  -5.5325 -6.4859 -6.1119]]\n",
      "[[-5.3401 -4.6512 -5.4976 -5.9829 -5.5633]\n",
      " [-5.0836  0.      0.      0.     -4.7166]\n",
      " [-4.2079 -4.1256  0.      8.3106 -1.5408]\n",
      " [-5.0304  0.      0.      0.     -5.2128]\n",
      " [-4.4834 -4.578  -4.9972 -4.9428 -4.7617]]\n",
      "[[-4.8867 -5.5297 -5.3266 -4.7102 -4.6549]\n",
      " [-4.7365  0.      0.      0.     -5.1647]\n",
      " [ 0.2925  8.424   0.     -4.0164 -4.2909]\n",
      " [-5.2342  0.      0.      0.     -5.5486]\n",
      " [-4.5428 -4.8035 -4.9351 -4.4463 -6.085 ]]\n"
     ]
    }
   ],
   "source": [
    "\n",
    "Q = SARSA_n(policy, episodes = 1000, n = 4, goal = 12, alpha = 0.2, gamma = 0.9)\n",
    "\n",
    "for i in range(4):\n",
    "    print(np.round(Q[i,:].reshape((5,5)), 4))"
   ]
  },
  {
   "cell_type": "markdown",
   "metadata": {},
   "source": [
    "### GPI with N-step SARSA\n",
    "\n",
    "Finally, the code in the cell below executes the GPI algorithm using n-step SARSA to evaluate the action values. Details of the algorithm can be found by reading the code comments.\n"
   ]
  },
  {
   "cell_type": "code",
   "execution_count": 23,
   "metadata": {
    "collapsed": true
   },
   "outputs": [],
   "source": [
    "def SARSA_n_GPI(policy, n, cycles, episodes, goal, alpha = 0.2, gamma = 0.9, epsilon = 0.1):\n",
    "    ## iterate over GPI cycles\n",
    "    current_policy = copy.deepcopy(policy)\n",
    "    for _ in range(cycles):\n",
    "        ## Evaluate policy with SARSA\n",
    "        Q = SARSA_n(policy, episodes, n, goal = goal, alpha = alpha, gamma = gamma, epsilon = epsilon)\n",
    "        \n",
    "        for s in list(current_policy.keys()): # iterate over all states\n",
    "            ## Find the index action with the largest Q values \n",
    "            ## May be more than one. \n",
    "            max_index = np.where(Q[:,s] == max(Q[:,s]))[0]\n",
    "            \n",
    "            ## Probabilities of transition\n",
    "            ## Need to allow for further exploration so don't let any \n",
    "            ## transition probability be 0.\n",
    "            ## Some gymnastics are required to ensure that the probabilities \n",
    "            ## over the transistions actual add to exactly 1.0\n",
    "            neighbors_len = float(Q.shape[0])\n",
    "            max_len = float(len(max_index))\n",
    "            diff = round(neighbors_len - max_len,3)\n",
    "            prob_for_policy = round(1.0/max_len,3)\n",
    "            adjust = round((epsilon * (diff)), 3)\n",
    "            prob_for_policy = prob_for_policy - adjust\n",
    "            if(diff != 0.0):\n",
    "                remainder = (1.0 - max_len * prob_for_policy)/diff\n",
    "            else:\n",
    "                remainder = epsilon\n",
    "                                                 \n",
    "            for i, key in enumerate(current_policy[s]): ## Update policy\n",
    "                if(i in max_index): current_policy[s][key] = prob_for_policy\n",
    "                else: current_policy[s][key] = remainder   \n",
    "                    \n",
    "    return(current_policy)                    \n",
    " \n"
   ]
  },
  {
   "cell_type": "code",
   "execution_count": 24,
   "metadata": {},
   "outputs": [
    {
     "data": {
      "text/plain": [
       "{0: {'d': 0.7,\n",
       "  'l': 0.10000000000000002,\n",
       "  'r': 0.10000000000000002,\n",
       "  'u': 0.10000000000000002},\n",
       " 1: {'d': 0.10000000000000002,\n",
       "  'l': 0.7,\n",
       "  'r': 0.10000000000000002,\n",
       "  'u': 0.10000000000000002},\n",
       " 2: {'d': 0.10000000000000002,\n",
       "  'l': 0.7,\n",
       "  'r': 0.10000000000000002,\n",
       "  'u': 0.10000000000000002},\n",
       " 3: {'d': 0.10000000000000002,\n",
       "  'l': 0.7,\n",
       "  'r': 0.10000000000000002,\n",
       "  'u': 0.10000000000000002},\n",
       " 4: {'d': 0.7,\n",
       "  'l': 0.10000000000000002,\n",
       "  'r': 0.10000000000000002,\n",
       "  'u': 0.10000000000000002},\n",
       " 5: {'d': 0.7,\n",
       "  'l': 0.10000000000000002,\n",
       "  'r': 0.10000000000000002,\n",
       "  'u': 0.10000000000000002},\n",
       " 6: {'d': 0.25, 'l': 0.25, 'r': 0.25, 'u': 0.25},\n",
       " 7: {'d': 0.25, 'l': 0.25, 'r': 0.25, 'u': 0.25},\n",
       " 8: {'d': 0.25, 'l': 0.25, 'r': 0.25, 'u': 0.25},\n",
       " 9: {'d': 0.7,\n",
       "  'l': 0.10000000000000002,\n",
       "  'r': 0.10000000000000002,\n",
       "  'u': 0.10000000000000002},\n",
       " 10: {'d': 0.10000000000000002,\n",
       "  'l': 0.10000000000000002,\n",
       "  'r': 0.7,\n",
       "  'u': 0.10000000000000002},\n",
       " 11: {'d': 0.10000000000000002,\n",
       "  'l': 0.10000000000000002,\n",
       "  'r': 0.7,\n",
       "  'u': 0.10000000000000002},\n",
       " 12: {'d': 0.25, 'l': 0.25, 'r': 0.25, 'u': 0.25},\n",
       " 13: {'d': 0.10000000000000002,\n",
       "  'l': 0.7,\n",
       "  'r': 0.10000000000000002,\n",
       "  'u': 0.10000000000000002},\n",
       " 14: {'d': 0.10000000000000002,\n",
       "  'l': 0.7,\n",
       "  'r': 0.10000000000000002,\n",
       "  'u': 0.10000000000000002},\n",
       " 15: {'d': 0.10000000000000002,\n",
       "  'l': 0.10000000000000002,\n",
       "  'r': 0.10000000000000002,\n",
       "  'u': 0.7},\n",
       " 16: {'d': 0.25, 'l': 0.25, 'r': 0.25, 'u': 0.25},\n",
       " 17: {'d': 0.25, 'l': 0.25, 'r': 0.25, 'u': 0.25},\n",
       " 18: {'d': 0.25, 'l': 0.25, 'r': 0.25, 'u': 0.25},\n",
       " 19: {'d': 0.10000000000000002,\n",
       "  'l': 0.10000000000000002,\n",
       "  'r': 0.10000000000000002,\n",
       "  'u': 0.7},\n",
       " 20: {'d': 0.10000000000000002,\n",
       "  'l': 0.7,\n",
       "  'r': 0.10000000000000002,\n",
       "  'u': 0.10000000000000002},\n",
       " 21: {'d': 0.10000000000000002,\n",
       "  'l': 0.7,\n",
       "  'r': 0.10000000000000002,\n",
       "  'u': 0.10000000000000002},\n",
       " 22: {'d': 0.10000000000000002,\n",
       "  'l': 0.10000000000000002,\n",
       "  'r': 0.7,\n",
       "  'u': 0.10000000000000002},\n",
       " 23: {'d': 0.10000000000000002,\n",
       "  'l': 0.10000000000000002,\n",
       "  'r': 0.7,\n",
       "  'u': 0.10000000000000002},\n",
       " 24: {'d': 0.10000000000000002,\n",
       "  'l': 0.10000000000000002,\n",
       "  'r': 0.10000000000000002,\n",
       "  'u': 0.7}}"
      ]
     },
     "execution_count": 24,
     "metadata": {},
     "output_type": "execute_result"
    }
   ],
   "source": [
    "\n",
    "SARSA_N_Policy = SARSA_n_GPI(policy, n = 4, cycles = 5, episodes = 500, goal = 12, alpha = 0.2, epsilon = 0.1)\n",
    "SARSA_N_Policy"
   ]
  },
  {
   "cell_type": "markdown",
   "metadata": {},
   "source": [
    "Examine our results. Verify that the most probable paths to the goal from states 2 and 22 are the shortest possible.  "
   ]
  },
  {
   "cell_type": "markdown",
   "metadata": {
    "collapsed": true
   },
   "source": [
    "At the states 2 and 22, it shows go left and right respectively, \n",
    "which is indicating the shortest path correctly"
   ]
  },
  {
   "cell_type": "code",
   "execution_count": null,
   "metadata": {
    "collapsed": true
   },
   "outputs": [],
   "source": []
  }
 ],
 "metadata": {
  "kernelspec": {
   "display_name": "Python 3",
   "language": "python",
   "name": "python3"
  },
  "language_info": {
   "codemirror_mode": {
    "name": "ipython",
    "version": 3
   },
   "file_extension": ".py",
   "mimetype": "text/x-python",
   "name": "python",
   "nbconvert_exporter": "python",
   "pygments_lexer": "ipython3",
   "version": "3.6.2"
  }
 },
 "nbformat": 4,
 "nbformat_minor": 2
}
