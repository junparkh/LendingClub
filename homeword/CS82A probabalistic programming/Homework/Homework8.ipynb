{
 "cells": [
  {
   "cell_type": "markdown",
   "metadata": {},
   "source": [
    "# Homework 8\n",
    "\n",
    "## CSCI E-82A\n",
    "\n",
    "\n",
    "In the a previous homework assignments, you used two different dynamic programming algorithms and Monte Carlo reinforcement learning to solve a robot navigation problem by finding optimal paths to a goal in a simplified warehouse environment. Now you will use time differencing reinforcement learning to find optimal paths in the same environment."
   ]
  },
  {
   "cell_type": "markdown",
   "metadata": {},
   "source": [
    "The configuration of the warehouse environment is illustrated in the figure below.\n",
    "\n",
    "<img src=\"GridWorldFactory.JPG\" alt=\"Drawing\" style=\"width:200px; height:200px\"/>\n",
    "<center> **Grid World for Factory Navigation Example** </center>\n",
    "\n",
    "The goal is for the robot to deliver some material to position (state) 12, shown in blue. Since there is a goal state or **terminal state** this an **episodic task**. \n",
    "\n",
    "There are some barriers comprised of the states $\\{ 6, 7, 8 \\}$ and $\\{ 16, 17, 18 \\}$, shown with hash marks. In a real warehouse, these positions might be occupied by shelving or equipment. We do not want the robot to hit these barriers. Thus, we say that transitioning to these barrier states is **taboo**.\n",
    "\n",
    "As before, we do not want the robot to hit the edges of the grid world, which represent the outer walls of the warehouse. \n",
    "\n",
    "## Representation\n",
    "\n",
    "You are, no doubt, familiar with the representation for this problem by now.    \n",
    "\n",
    "As with many such problems, the starting place is creating the **representation**. In the cell below encode your representation for the possible action-state transitions. From each state there are 4 possible actions:\n",
    "- up, u\n",
    "- down, d,\n",
    "- left, l\n",
    "- right, r\n",
    "\n",
    "There are a few special cases you need to consider:\n",
    "- Any action transitioning state off the grid or into a barrier should keep the state unchanged. \n",
    "- Any action in the goal state keeps the state unchanged. \n",
    "- Any transition within the taboo (barrier) states can keep the state unchanged. If you experiment, you will see that other encodings work as well since the value of a barrier states are always zero and there are no actions transitioning into these states. \n",
    "\n",
    "> **Hint:** It may help you create a pencil and paper sketch of the transitions, rewards, and probabilities or policy. This can help you to keep the bookkeeping correct. "
   ]
  },
  {
   "cell_type": "code",
   "execution_count": 1,
   "metadata": {
    "collapsed": true
   },
   "outputs": [],
   "source": [
    "## import numpy for latter\n",
    "import numpy as np\n",
    "import numpy.random as nr\n",
    "\n"
   ]
  },
  {
   "cell_type": "code",
   "execution_count": 2,
   "metadata": {
    "collapsed": true
   },
   "outputs": [],
   "source": [
    "neighbors = {0:{'u':0, 'd':5, 'l':0, 'r':1},\n",
    "          1:{'u':1, 'd':1, 'l':0, 'r':2},\n",
    "          2:{'u':2, 'd':2, 'l':1, 'r':3},\n",
    "          3:{'u':3, 'd':3, 'l':2, 'r':4},\n",
    "          4:{'u':4, 'd':9, 'l':3, 'r':4},\n",
    "          \n",
    "          5:{'u':0, 'd':10, 'l':5, 'r':5},\n",
    "          6:{'u':6, 'd':6, 'l':6, 'r':6},###barrier\n",
    "          7:{'u':7, 'd':7, 'l':7, 'r':7},###barrier\n",
    "          8:{'u':8, 'd':8, 'l':8, 'r':8},###barrier\n",
    "          9:{'u':4, 'd':14, 'l':9, 'r':9},\n",
    "          \n",
    "          10:{'u':5, 'd':15, 'l':10, 'r':11},\n",
    "          11:{'u':11, 'd':11, 'l':10, 'r':12},\n",
    "          12:{'u':12, 'd':12, 'l':12, 'r':12},#goal\n",
    "          13:{'u':13, 'd':13, 'l':12, 'r':14},\n",
    "          14:{'u':9, 'd':19, 'l':13, 'r':14},\n",
    "          \n",
    "          15:{'u':10, 'd':20, 'l':15, 'r':15},\n",
    "          16:{'u':16, 'd':16, 'l':16, 'r':16},###barrier\n",
    "          17:{'u':17, 'd':17, 'l':17, 'r':17},###barrier\n",
    "          18:{'u':18, 'd':18, 'l':18, 'r':18},###barrier\n",
    "          19:{'u':14, 'd':24, 'l':19, 'r':19},\n",
    "          \n",
    "          20:{'u':15, 'd':20, 'l':20, 'r':21},\n",
    "          21:{'u':21, 'd':21, 'l':20, 'r':22},\n",
    "          22:{'u':22, 'd':22, 'l':21, 'r':23},\n",
    "          23:{'u':23, 'd':23, 'l':22, 'r':24},\n",
    "          24:{'u':19, 'd':24, 'l':23, 'r':24}}"
   ]
  },
  {
   "cell_type": "markdown",
   "metadata": {},
   "source": [
    "You need to define the initial transition probabilities for the Markov process. Set the probabilities for each transition as a **uniform distribution** leading to random action by the robot. \n",
    "\n",
    "> **Note:** As these are just starting values, the exact values of the transition probabilities are not actually all that important in terms of solving the RL problem. Also, notice that it does not matter how the taboo state transitions are encoded. The point of the DP algorithm is to learn the transition policy."
   ]
  },
  {
   "cell_type": "code",
   "execution_count": 3,
   "metadata": {
    "collapsed": true
   },
   "outputs": [],
   "source": [
    "policy = {0:{'u':0.25, 'd':0.25, 'l':0.25, 'r':0.25},\n",
    "          1:{'u':0.25, 'd':0.25, 'l':0.25, 'r':0.25},\n",
    "          2:{'u':0.25, 'd':0.25, 'l':0.25, 'r':0.25},\n",
    "          3:{'u':0.25, 'd':0.25, 'l':0.25, 'r':0.25},\n",
    "          4:{'u':0.25, 'd':0.25, 'l':0.25, 'r':0.25},\n",
    "          \n",
    "          5:{'u':0.25, 'd':0.25, 'l':0.25, 'r':0.25},\n",
    "          6:{'u':0, 'd':0, 'l':0, 'r':0},###barrier\n",
    "          7:{'u':0, 'd':0, 'l':0, 'r':0},###barrier\n",
    "          8:{'u':0, 'd':0, 'l':0, 'r':0},###barrier\n",
    "          9:{'u':0.25, 'd':0.25, 'l':0.25, 'r':0.25},\n",
    "          \n",
    "          10:{'u':0.25, 'd':0.25, 'l':0.25, 'r':0.25},\n",
    "          11:{'u':0.25, 'd':0.25, 'l':0.25, 'r':0.25},\n",
    "          12:{'u':0, 'd':0, 'l':0, 'r':0},#goal\n",
    "          13:{'u':0.25, 'd':0.25, 'l':0.25, 'r':0.25},\n",
    "          14:{'u':0.25, 'd':0.25, 'l':0.25, 'r':0.25},\n",
    "          \n",
    "          15:{'u':0.25, 'd':0.25, 'l':0.25, 'r':0.25},\n",
    "          16:{'u':0, 'd':0, 'l':0, 'r':0},###barrier\n",
    "          17:{'u':0, 'd':0, 'l':0, 'r':0},###barrier\n",
    "          18:{'u':0, 'd':0, 'l':0, 'r':0},###barrier\n",
    "          19:{'u':0.25, 'd':0.25, 'l':0.25, 'r':0.25},\n",
    "          \n",
    "          20:{'u':0.25, 'd':0.25, 'l':0.25, 'r':0.25},\n",
    "          21:{'u':0.25, 'd':0.25, 'l':0.25, 'r':0.25},\n",
    "          22:{'u':0.25, 'd':0.25, 'l':0.25, 'r':0.25},\n",
    "          23:{'u':0.25, 'd':0.25, 'l':0.25, 'r':0.25},\n",
    "          24:{'u':0.25, 'd':0.25, 'l':0.25, 'r':0.25}}"
   ]
  },
  {
   "cell_type": "markdown",
   "metadata": {},
   "source": [
    "The robot receives the following rewards:\n",
    "- 10 for entering position 0. \n",
    "- -1 for attempting to leave the grid. In other words, we penalize the robot for hitting the edges of the grid.  \n",
    "- -0.1 for all other state transitions, which is the cost for the robot to move from one state to another. If we did not have this penalty, the robot could follow any random plan to the goal which did not hit the edges. \n",
    "\n",
    "This **reward structure is unknown to the MC RL agent**. The agent must **learn** the rewards by sampling the environment. \n",
    "\n",
    "In the code cell below encode your representation of this reward structure you will use in your simulated environment.  "
   ]
  },
  {
   "cell_type": "code",
   "execution_count": 4,
   "metadata": {
    "collapsed": true
   },
   "outputs": [],
   "source": [
    "reward = {0:{'u':-1, 'd':-0.1, 'l':-1, 'r':-0.1},\n",
    "          1:{'u':-1, 'd':-1, 'l':-0.1, 'r':-0.1},\n",
    "          2:{'u':-1, 'd':-1, 'l':-0.1, 'r':-0.1},\n",
    "          3:{'u':-1, 'd':-1, 'l':-0.1, 'r':-0.1},\n",
    "          4:{'u':-1, 'd':-0.1, 'l':-1, 'r':-0.1},\n",
    "          \n",
    "          5:{'u':-0.1, 'd':-0.1, 'l':-1, 'r':-1},\n",
    "          6:{'u':0, 'd':0, 'l':0, 'r':0},###barrier\n",
    "          7:{'u':0, 'd':0, 'l':0, 'r':0},###barrier\n",
    "          8:{'u':0, 'd':0, 'l':0, 'r':0},###barrier\n",
    "          9:{'u':-0.1, 'd':-0.1, 'l':-1, 'r':-1},\n",
    "          \n",
    "          10:{'u':-0.1, 'd':-0.1, 'l':-1, 'r':-0.1},\n",
    "          11:{'u':-1, 'd':-1, 'l':-0.1, 'r':10},\n",
    "          12:{'u':0, 'd':0, 'l':0, 'r':0},#goal\n",
    "          13:{'u':-1, 'd':-1, 'l':10, 'r':-0.1},\n",
    "          14:{'u':-0.1, 'd':-0.1, 'l':-0.1, 'r':-1},\n",
    "          \n",
    "          15:{'u':-0.1, 'd':-0.1, 'l':-1, 'r':-1},\n",
    "          16:{'u':0, 'd':0, 'l':0, 'r':0},###barrier\n",
    "          17:{'u':0, 'd':0, 'l':0, 'r':0},###barrier\n",
    "          18:{'u':0, 'd':0, 'l':0, 'r':0},###barrier\n",
    "          19:{'u':-0.1, 'd':-0.1, 'l':-1, 'r':-1},\n",
    "          \n",
    "          20:{'u':-0.1, 'd':-1, 'l':-0.1, 'r':-0.1},\n",
    "          21:{'u':-1, 'd':-1, 'l':-0.1, 'r':-0.1},\n",
    "          22:{'u':-1, 'd':-1, 'l':-0.1, 'r':-0.1},\n",
    "          23:{'u':-1, 'd':-1, 'l':-0.1, 'r':-0.1},\n",
    "          24:{'u':-0.1, 'd':-1, 'l':-0.1, 'r':-1}}"
   ]
  },
  {
   "cell_type": "markdown",
   "metadata": {},
   "source": [
    "You will find it useful to create a list of taboo states, which you can encode in the cell below."
   ]
  },
  {
   "cell_type": "code",
   "execution_count": 5,
   "metadata": {
    "collapsed": true
   },
   "outputs": [],
   "source": [
    "taboo = [6,7,8,16,17,18]\n"
   ]
  },
  {
   "cell_type": "markdown",
   "metadata": {},
   "source": [
    "## TD(0) Policy Evaluation\n",
    "\n",
    "With your representations defined, you can now create and test functions to perform TD(0) **policy evaluation**. \n",
    "\n",
    "As a first step you will need a function to find the rewards and next state given a state and an action. You are welcome to start with the `state_values` function from the TD/Q-learning notebook. However, keep in mind that you must modify this code to correctly treat the taboo states of the barrier. Specifically, taboo states should not be visited. \n",
    "\n",
    "Execute your code to test it for each possible action from state 11.  "
   ]
  },
  {
   "cell_type": "code",
   "execution_count": 6,
   "metadata": {},
   "outputs": [
    {
     "name": "stdout",
     "output_type": "stream",
     "text": [
      "(11, -1)\n",
      "(11, -1)\n",
      "(12, 10)\n",
      "(10, -0.1)\n"
     ]
    }
   ],
   "source": [
    "def state_values(s, action, neighbors = neighbors, rewards = reward):\n",
    "    \"\"\"\n",
    "    Function simulates the environment\n",
    "    returns s_prime and reward given s and action\n",
    "    \"\"\"\n",
    "    s_prime = neighbors[s][action]\n",
    "    reward = rewards[s][action]\n",
    "    return (s_prime,reward)\n",
    "\n",
    "## Test the function\n",
    "for a in ['u', 'd', 'r', 'l']:\n",
    "    print(state_values(11, a))\n",
    "    "
   ]
  },
  {
   "cell_type": "markdown",
   "metadata": {},
   "source": [
    "Examine your results. Are the action values consistent with the transitions?\n",
    "\n",
    "ANS: No, they differ by the rewards values"
   ]
  },
  {
   "cell_type": "markdown",
   "metadata": {},
   "source": [
    "Next, you need to create a function to compute the state values using the TD(0) algorithm. You should use the function you just created  to find the rewards and next state given a state and action. You are welcome to use the `td_0_state_values` function from the TD/Q-learning notebook as a starting point.  \n",
    "\n",
    "Execute your function for 1,000 episodes and examine the results."
   ]
  },
  {
   "cell_type": "code",
   "execution_count": 7,
   "metadata": {
    "collapsed": true,
    "scrolled": false
   },
   "outputs": [],
   "source": [
    "def td_0_state_values(policy, n_samps, goal, alpha = 0.2, gamma = 0.9):\n",
    "    \"\"\"\n",
    "    Function for TD(0) policy \n",
    "    \"\"\"\n",
    "    ## Initialize the state list and state values\n",
    "    states = list(policy.keys())\n",
    "    v = [0]*len(list(policy.keys()))\n",
    "    action_index = list(range(len(list(policy[0].keys()))))\n",
    "    for _ in range(n_samps):\n",
    "        s = nr.choice(states, size =1)[0]\n",
    "        probs = list(policy[s].values())\n",
    "        if(s not in taboo+[goal]):\n",
    "            a = list(policy[s].keys())[nr.choice(action_index, size = 1, p = probs)[0]]\n",
    "        else:\n",
    "            a = list(policy[s].keys())[nr.choice(action_index, size = 1)[0]]\n",
    "        transistion = state_values(s, a)\n",
    "        v[s] = v[s] + alpha * (transistion[1] +  gamma * v[transistion[0]] - v[s])\n",
    "    return(v)\n",
    "    \n",
    "   "
   ]
  },
  {
   "cell_type": "code",
   "execution_count": 8,
   "metadata": {},
   "outputs": [
    {
     "data": {
      "text/plain": [
       "array([[-2.1482, -2.349 , -2.6565, -2.6894, -2.4085],\n",
       "       [-2.3095,  0.    ,  0.    ,  0.    , -2.6015],\n",
       "       [ 2.0263,  4.7749,  0.    ,  0.9428, -1.7944],\n",
       "       [-1.2251,  0.    ,  0.    ,  0.    , -2.3868],\n",
       "       [-1.9846, -2.4509, -2.8161, -2.8375, -2.7372]])"
      ]
     },
     "execution_count": 8,
     "metadata": {},
     "output_type": "execute_result"
    }
   ],
   "source": [
    "nr.seed(345)    \n",
    "np.round(np.array(td_0_state_values(policy, n_samps = 1000, goal = 12)).reshape((5,5)), 4) "
   ]
  },
  {
   "cell_type": "markdown",
   "metadata": {},
   "source": [
    "Examine your results and answer the following questions to ensure you action value function operates correctly:\n",
    "1. Are the values of the taboo states 0? ANS: Yes\n",
    "2. Are the states with the highest values adjacent to the terminal state? ANS: Partialy, because weirdly the right side,13, is smaller than 10. \n",
    "3. Are the values of the states decreasing as the distance from the terminal state increases? ANS: Yes"
   ]
  },
  {
   "cell_type": "markdown",
   "metadata": {},
   "source": [
    "\n",
    "## SARSA(0) Policy Improvement\n",
    "\n",
    "Now you will perform policy improvement using the SARSA(0) algorithm.  You are welcome to start with the `select_a_prime` and `SARSA_0` functions from the TD/Q-learning notebooks.    \n",
    "\n",
    "Execute your code for 1,000 episodes, and with $\\alpha = 0.2$, and $\\epsilon = 0.1$)"
   ]
  },
  {
   "cell_type": "code",
   "execution_count": 9,
   "metadata": {
    "collapsed": true,
    "scrolled": false
   },
   "outputs": [],
   "source": [
    "import copy\n",
    "\n",
    "def select_a_prime(s_prime, policy, action_index, greedy, goal):\n",
    "    ## Randomly select an action prime \n",
    "    ## Make sure to handle the terminal state\n",
    "    if(s_prime != goal and greedy): \n",
    "        probs = list(policy[s_prime].values())\n",
    "        a_prime_index = nr.choice(action_index, size = 1, p = probs)[0]\n",
    "        a_prime = list(policy[s_prime].keys())[a_prime_index]\n",
    "    else: ## Don't probability weight for terminal state or non-greedy selecttion\n",
    "        a_prime_index = nr.choice(action_index, size = 1)[0]\n",
    "        a_prime = list(policy[s_prime].keys())[a_prime_index]   \n",
    "    return(a_prime_index, a_prime)\n",
    "\n",
    "\n",
    "def SARSA_0(policy, episodes, goal, alpha = 0.2, gamma = 0.9, epsilon = 0.1):\n",
    "    \"\"\"\n",
    "    Function to perform SARSA(0) control policy improvement.\n",
    "    \"\"\"\n",
    "    ## Initialize the state list and action values\n",
    "    states = list(policy.keys())\n",
    "    n_states = len(states)\n",
    "    \n",
    "    ## Initialize possible actions and the action values\n",
    "    action_index = list(range(len(list(policy[0].keys()))))\n",
    "    Q = np.zeros((len(action_index),len(states)))\n",
    "    \n",
    "    current_policy = copy.deepcopy(policy)\n",
    "    \n",
    "    for _ in range(episodes): # Loop over the episodes\n",
    "        ## sample a state at random ensuring it is not terminal state\n",
    "        s = nr.choice(states, size = 1)[0]\n",
    "        while(s in taboo+[goal]): s = nr.choice(states, size = 1)[0]\n",
    "        ## Now choose action given policy\n",
    "        a_index, a = select_a_prime(s, current_policy, action_index, True, goal)\n",
    "        \n",
    "        s_prime = float('inf') # Value of s_prime to start loop\n",
    "        while(s_prime != goal): # Episode ends where get to terminal state \n",
    "            ## The next state given the action\n",
    "            s_prime, reward = state_values(s, a)\n",
    "            a_prime_index, a_prime = select_a_prime(s_prime, current_policy, action_index, True, goal)\n",
    "     \n",
    "            ## Update the action values\n",
    "            Q[a_index,s] = Q[a_index,s] + alpha * (reward + gamma * Q[a_prime_index,s_prime] - Q[a_index,s])\n",
    "            \n",
    "            ## Set action and state for next iteration\n",
    "            a = a_prime\n",
    "            a_index = a_prime_index\n",
    "            s = s_prime\n",
    "\n",
    "    return(Q)\n",
    "\n"
   ]
  },
  {
   "cell_type": "code",
   "execution_count": 10,
   "metadata": {},
   "outputs": [
    {
     "name": "stdout",
     "output_type": "stream",
     "text": [
      "[[-4.2282 -5.2765 -5.6288 -5.4639 -5.7089]\n",
      " [-3.586   0.      0.      0.     -4.5257]\n",
      " [-2.6974  2.564   0.      0.7909 -3.1976]\n",
      " [-0.5514  0.      0.      0.     -1.7296]\n",
      " [-2.0087 -5.3606 -5.1868 -5.1598 -3.2489]]\n",
      "[[-2.4912 -4.8844 -5.3963 -5.4337 -3.73  ]\n",
      " [-0.9637  0.      0.      0.     -1.911 ]\n",
      " [-2.4687  0.3427  0.     -0.9032 -3.3185]\n",
      " [-3.3496  0.      0.      0.     -3.869 ]\n",
      " [-4.4689 -4.5704 -5.2045 -5.2181 -4.821 ]]\n",
      "[[-4.2811 -3.464  -4.14   -4.6461 -5.5983]\n",
      " [-2.9792  0.      0.      0.     -4.5057]\n",
      " [-0.2172  0.3087  0.     10.      1.4675]\n",
      " [-3.6716  0.      0.      0.     -4.386 ]\n",
      " [-3.0332 -3.1384 -3.794  -4.4014 -4.4273]]\n",
      "[[-4.4285 -4.2415 -4.4059 -4.3376 -4.2544]\n",
      " [-3.2421  0.      0.      0.     -4.5583]\n",
      " [ 4.698  10.      0.     -1.9334 -3.2374]\n",
      " [-3.9916  0.      0.      0.     -3.1249]\n",
      " [-4.0677 -4.3701 -4.5946 -3.9306 -4.4064]]\n"
     ]
    }
   ],
   "source": [
    "Q = SARSA_0(policy, 1000, goal = 12, alpha = 0.2, epsilon = 0.1)\n",
    "\n",
    "for i in range(4):\n",
    "    print(np.round(Q[i,:].reshape((5,5)), 4))"
   ]
  },
  {
   "cell_type": "markdown",
   "metadata": {},
   "source": [
    "Examine the action values you have computed. Ensure that the action values are 0 for the goal and taboo states. Also check that the actions with the largest values for each state make sense in terms of reaching the goal. "
   ]
  },
  {
   "cell_type": "markdown",
   "metadata": {},
   "source": [
    "With the action value function completed, you will now create and test code to perform GPI with SARSA(0).  You are welcome to use the `SRASA_0_GPI` function from the TD/Q-learning notebook as a starting point. \n",
    "\n",
    "Execute your code for 10 cycles of 100 episodes, with $\\alpha = 0.2$, $\\gamma = 0.9$ and $\\epsilon = 0.01$, and examine the results."
   ]
  },
  {
   "cell_type": "code",
   "execution_count": 11,
   "metadata": {
    "collapsed": true
   },
   "outputs": [],
   "source": [
    "def SARSA_0_GPI(policy, cycles, episodes, goal, alpha = 0.2, gamma = 0.9, epsilon = 0.1):\n",
    "    ## iterate over GPI cycles\n",
    "    current_policy = copy.deepcopy(policy)\n",
    "    for _ in range(cycles):\n",
    "        ## Evaluate policy with SARSA\n",
    "        Q = SARSA_0(policy, episodes = episodes, goal = goal, alpha = alpha, epsilon = epsilon)\n",
    "        \n",
    "        for s in list(current_policy.keys()): # iterate over all states\n",
    "            ## Find the index action with the largest Q values \n",
    "            ## May be more than one. \n",
    "            max_index = np.where(Q[:,s] == max(Q[:,s]))[0]\n",
    "            \n",
    "            ## Probabilities of transition\n",
    "            ## Need to allow for further exploration so don't let any \n",
    "            ## transition probability be 0.\n",
    "            ## Some gymnastics are required to ensure that the probabilities \n",
    "            ## over the transistions actual add to exactly 1.0\n",
    "            neighbors_len = float(Q.shape[0])\n",
    "            max_len = float(len(max_index))\n",
    "            diff = round(neighbors_len - max_len,3)\n",
    "            prob_for_policy = round(1.0/max_len,3)\n",
    "            adjust = round((epsilon * (diff)), 3)\n",
    "            prob_for_policy = prob_for_policy - adjust\n",
    "            if(diff != 0.0):\n",
    "                remainder = (1.0 - max_len * prob_for_policy)/diff\n",
    "            else:\n",
    "                remainder = epsilon\n",
    "                                                 \n",
    "            for i, key in enumerate(current_policy[s]): ## Update policy\n",
    "                if(i in max_index): current_policy[s][key] = prob_for_policy\n",
    "                else: current_policy[s][key] = remainder   \n",
    "                    \n",
    "    return(current_policy)                    \n"
   ]
  },
  {
   "cell_type": "code",
   "execution_count": 12,
   "metadata": {},
   "outputs": [
    {
     "data": {
      "text/plain": [
       "{0: {'d': 0.7,\n",
       "  'l': 0.10000000000000002,\n",
       "  'r': 0.10000000000000002,\n",
       "  'u': 0.10000000000000002},\n",
       " 1: {'d': 0.10000000000000002,\n",
       "  'l': 0.7,\n",
       "  'r': 0.10000000000000002,\n",
       "  'u': 0.10000000000000002},\n",
       " 2: {'d': 0.10000000000000002,\n",
       "  'l': 0.10000000000000002,\n",
       "  'r': 0.7,\n",
       "  'u': 0.10000000000000002},\n",
       " 3: {'d': 0.10000000000000002,\n",
       "  'l': 0.7,\n",
       "  'r': 0.10000000000000002,\n",
       "  'u': 0.10000000000000002},\n",
       " 4: {'d': 0.7,\n",
       "  'l': 0.10000000000000002,\n",
       "  'r': 0.10000000000000002,\n",
       "  'u': 0.10000000000000002},\n",
       " 5: {'d': 0.7,\n",
       "  'l': 0.10000000000000002,\n",
       "  'r': 0.10000000000000002,\n",
       "  'u': 0.10000000000000002},\n",
       " 6: {'d': 0.25, 'l': 0.25, 'r': 0.25, 'u': 0.25},\n",
       " 7: {'d': 0.25, 'l': 0.25, 'r': 0.25, 'u': 0.25},\n",
       " 8: {'d': 0.25, 'l': 0.25, 'r': 0.25, 'u': 0.25},\n",
       " 9: {'d': 0.7,\n",
       "  'l': 0.10000000000000002,\n",
       "  'r': 0.10000000000000002,\n",
       "  'u': 0.10000000000000002},\n",
       " 10: {'d': 0.10000000000000002,\n",
       "  'l': 0.10000000000000002,\n",
       "  'r': 0.7,\n",
       "  'u': 0.10000000000000002},\n",
       " 11: {'d': 0.10000000000000002,\n",
       "  'l': 0.10000000000000002,\n",
       "  'r': 0.7,\n",
       "  'u': 0.10000000000000002},\n",
       " 12: {'d': 0.25, 'l': 0.25, 'r': 0.25, 'u': 0.25},\n",
       " 13: {'d': 0.10000000000000002,\n",
       "  'l': 0.7,\n",
       "  'r': 0.10000000000000002,\n",
       "  'u': 0.10000000000000002},\n",
       " 14: {'d': 0.10000000000000002,\n",
       "  'l': 0.7,\n",
       "  'r': 0.10000000000000002,\n",
       "  'u': 0.10000000000000002},\n",
       " 15: {'d': 0.10000000000000002,\n",
       "  'l': 0.10000000000000002,\n",
       "  'r': 0.10000000000000002,\n",
       "  'u': 0.7},\n",
       " 16: {'d': 0.25, 'l': 0.25, 'r': 0.25, 'u': 0.25},\n",
       " 17: {'d': 0.25, 'l': 0.25, 'r': 0.25, 'u': 0.25},\n",
       " 18: {'d': 0.25, 'l': 0.25, 'r': 0.25, 'u': 0.25},\n",
       " 19: {'d': 0.10000000000000002,\n",
       "  'l': 0.10000000000000002,\n",
       "  'r': 0.10000000000000002,\n",
       "  'u': 0.7},\n",
       " 20: {'d': 0.10000000000000002,\n",
       "  'l': 0.10000000000000002,\n",
       "  'r': 0.10000000000000002,\n",
       "  'u': 0.7},\n",
       " 21: {'d': 0.10000000000000002,\n",
       "  'l': 0.7,\n",
       "  'r': 0.10000000000000002,\n",
       "  'u': 0.10000000000000002},\n",
       " 22: {'d': 0.10000000000000002,\n",
       "  'l': 0.10000000000000002,\n",
       "  'r': 0.7,\n",
       "  'u': 0.10000000000000002},\n",
       " 23: {'d': 0.10000000000000002,\n",
       "  'l': 0.10000000000000002,\n",
       "  'r': 0.7,\n",
       "  'u': 0.10000000000000002},\n",
       " 24: {'d': 0.10000000000000002,\n",
       "  'l': 0.10000000000000002,\n",
       "  'r': 0.10000000000000002,\n",
       "  'u': 0.7}}"
      ]
     },
     "execution_count": 12,
     "metadata": {},
     "output_type": "execute_result"
    }
   ],
   "source": [
    " \n",
    "\n",
    "SARSA_0_Policy = SARSA_0_GPI(policy,goal=12, cycles = 10, episodes = 100)\n",
    "SARSA_0_Policy"
   ]
  },
  {
   "cell_type": "markdown",
   "metadata": {},
   "source": [
    "Verify that your results make sense? For example, starting at state 2 or 22, do the most probable actions follow a shortest path?\n",
    "\n",
    "ANS: Yes, both state 2 or 22 show the path to go left side."
   ]
  },
  {
   "cell_type": "markdown",
   "metadata": {},
   "source": [
    "## Apply Double Q-Learning\n",
    "\n",
    "As a next step, you will apply Double Q-learning(0) to the warehouse navigation problem. In the cell below create and test a function to perform Double Q-Learning for this problem. You are welcome to use the `double_Q_learning` function from the TD/Q-learning notebook as a starting point.\n",
    "\n",
    "Execute your code for 10 cycles of 500 episodes, with $\\alpha = 0.2$, and $\\gamma = 0.9$ and examine the results."
   ]
  },
  {
   "cell_type": "code",
   "execution_count": 13,
   "metadata": {
    "collapsed": true,
    "scrolled": false
   },
   "outputs": [],
   "source": [
    "def Q_learning_0(policy, neighbors, rewards, episodes, goal, alpha = 0.2, gamma = 0.9):\n",
    "    \"\"\"\n",
    "    Function to perform Q-learning(0) control policy improvement.\n",
    "    \"\"\"\n",
    "    ## Initialize the state list and action values\n",
    "    states = list(policy.keys())\n",
    "    n_states = len(states)\n",
    "    \n",
    "    ## Initialize possible actions and the action values\n",
    "    possible_actions = list(rewards[0].keys())\n",
    "    action_index = list(range(len(list(policy[0].keys()))))\n",
    "    Q = np.zeros((len(possible_actions),len(states)))\n",
    "    \n",
    "    current_policy = copy.deepcopy(policy)\n",
    "    \n",
    "    for _ in range(episodes): # Loop over the episodes\n",
    "        ## sample an intial state at random but make sure it is not goal\n",
    "        s = nr.choice(states, size = 1)[0]\n",
    "        while(s in taboo+ [goal]): s = nr.choice(states, size = 1)[0]\n",
    "        ## Now choose action following policy\n",
    "        a_index, a = select_a_prime(s, current_policy, action_index, True, goal)\n",
    "        \n",
    "        s_prime = n_states + 1 # Dummy value of s_prime to start loop\n",
    "        while(s_prime != goal): # Episode ends where get to terminal state   \n",
    "            ## Get s_prime given s and a\n",
    "            s_prime = neighbors[s][a]\n",
    "            \n",
    "            ## Find the index or indices of maximum action values for s_prime\n",
    "            ## Break any tie with multiple max values by random selection\n",
    "            action_values = Q[:,s_prime]\n",
    "            a_prime_index = nr.choice(np.where(action_values == max(action_values))[0], size = 1)[0]\n",
    "            a_prime = possible_actions[a_prime_index]\n",
    "            \n",
    "            ## Lookup the reward \n",
    "            reward = rewards[s][a]\n",
    "            \n",
    "            ## Update the action values\n",
    "            Q[a_index,s] = Q[a_index,s] + alpha * (reward + gamma * Q[a_prime_index,s_prime] - Q[a_index,s])\n",
    "            \n",
    "            ## Set action and state for next iteration\n",
    "            a = a_prime\n",
    "            a_index = a_prime_index\n",
    "            s = s_prime\n",
    "\n",
    "    return(Q)\n"
   ]
  },
  {
   "cell_type": "code",
   "execution_count": 14,
   "metadata": {},
   "outputs": [
    {
     "name": "stdout",
     "output_type": "stream",
     "text": [
      "[[4.6576 2.3519 3.0003 0.8702 1.6673]\n",
      " [4.5709 0.     0.     0.     4.5546]\n",
      " [3.0681 6.6243 0.     5.9028 5.0752]\n",
      " [7.91   0.     0.     0.     7.91  ]\n",
      " [7.019  1.6248 1.6534 3.5173 7.019 ]]\n",
      "[[7.019  2.9334 2.5275 2.3373 7.0189]\n",
      " [7.91   0.     0.     0.     7.91  ]\n",
      " [3.5445 6.6524 0.     6.8731 5.1443]\n",
      " [4.6978 0.     0.     0.     3.6438]\n",
      " [4.5848 3.1666 2.3795 3.3294 4.7006]]\n",
      "[[ 3.0979  6.2171  5.4916  1.2128  1.3888]\n",
      " [ 3.9946  0.      0.      0.      4.9742]\n",
      " [ 6.2168  4.455   0.     10.      8.9   ]\n",
      " [ 0.9325  0.      0.      0.      5.2453]\n",
      " [ 4.3729  6.2166  5.4281  1.0831  3.9313]]\n",
      "[[ 4.2212  4.2177  3.1193  6.1009  5.4883]\n",
      " [ 5.2951  0.      0.      0.      4.4764]\n",
      " [ 8.9    10.      0.      5.2973  5.1199]\n",
      " [ 4.745   0.      0.      0.      5.2005]\n",
      " [ 3.3908  2.5138  2.1374  6.2125  1.3775]]\n"
     ]
    }
   ],
   "source": [
    "\n",
    "QQ = Q_learning_0(policy, neighbors, reward, episodes=500, goal = 12)\n",
    "\n",
    "for i in range(4):\n",
    "    print(np.round(QQ[i,:].reshape((5,5)), 4))"
   ]
  },
  {
   "cell_type": "code",
   "execution_count": 15,
   "metadata": {
    "collapsed": true
   },
   "outputs": [],
   "source": [
    "def double_Q_learning_0(policy, neighbors, rewards, episodes, goal, alpha = 0.2, gamma = 0.9):\n",
    "    \"\"\"\n",
    "    Function to perform SARSA(0) control policy improvement.\n",
    "    \"\"\"\n",
    "    ## Initialize the state list and action values\n",
    "    states = list(policy.keys())\n",
    "    n_states = len(states)\n",
    "    \n",
    "    ## Initialize possible actions and the action values\n",
    "    possible_actions = list(rewards[0].keys())\n",
    "    action_index = list(range(len(list(policy[0].keys()))))\n",
    "    Q1 = np.zeros((len(possible_actions),len(states)))\n",
    "    Q2 = np.zeros((len(possible_actions),len(states)))\n",
    "    \n",
    "    current_policy = copy.deepcopy(policy)\n",
    "    \n",
    "    for _ in range(episodes): # Loop over the episodes\n",
    "        ## sample an intial state at random but make sure it is not goal\n",
    "        s = nr.choice(states, size = 1)[0]\n",
    "        while(s in taboo+[goal]): s = nr.choice(states, size = 1)[0]\n",
    "        ## Now choose action following policy\n",
    "        a_index, a = select_a_prime(s, current_policy, action_index, True, goal)\n",
    "        \n",
    "        s_prime = n_states + 1 # Dummy value of s_prime to start loop\n",
    "        while(s_prime != goal): # Episode ends where get to terminal state   \n",
    "            ## Get s_prime given s and a\n",
    "            s_prime = neighbors[s][a]\n",
    "            \n",
    "            ## Update one or the other action values at random\n",
    "            if(nr.uniform() <= 0.5):\n",
    "                ## Find the index or indices of maximum action values for s_prime\n",
    "                ## Break any tie with multiple max values by random selection\n",
    "                action_values = Q1[:,s_prime]\n",
    "                a_prime_index = nr.choice(np.where(action_values == max(action_values))[0], size = 1)[0]\n",
    "                a_prime = possible_actions[a_prime_index]\n",
    "                ## Lookup the reward \n",
    "                reward = rewards[s][a]\n",
    "                ## Update Q1 \n",
    "                Q1[a_index,s] = Q1[a_index,s] + alpha * (reward + gamma * Q2[a_prime_index,s_prime] - Q1[a_index,s])\n",
    "            \n",
    "                ## Set action and state for next iteration\n",
    "                a = a_prime\n",
    "                a_index = a_prime_index\n",
    "                s = s_prime\n",
    "            \n",
    "            else:\n",
    "                ## Find the index or indices of maximum action values for s_prime\n",
    "                ## Break any tie with multiple max values by random selection\n",
    "                action_values = Q2[:,s_prime]\n",
    "                a_prime_index = nr.choice(np.where(action_values == max(action_values))[0], size = 1)[0]\n",
    "                a_prime = possible_actions[a_prime_index]\n",
    "                ## Lookup the reward \n",
    "                reward = rewards[s][a]\n",
    "                ## Update Q2\n",
    "                Q2[a_index,s] = Q2[a_index,s] + alpha * (reward + gamma * Q1[a_prime_index,s_prime] - Q2[a_index,s])\n",
    "            \n",
    "                ## Set action and state for next iteration\n",
    "                a = a_prime\n",
    "                a_index = a_prime_index\n",
    "                s = s_prime\n",
    "\n",
    "    return(Q1)\n"
   ]
  },
  {
   "cell_type": "code",
   "execution_count": 16,
   "metadata": {},
   "outputs": [
    {
     "name": "stdout",
     "output_type": "stream",
     "text": [
      "[[ 2.9053  1.0291 -0.0575  1.0663  0.7141]\n",
      " [ 3.5645  0.      0.      0.      4.1165]\n",
      " [ 2.0151  3.8248  0.      1.44    3.9789]\n",
      " [ 7.9073  0.      0.      0.      7.91  ]\n",
      " [ 6.8824  0.2245  0.3559  0.8978  7.0167]]\n",
      "[[ 6.9182 -0.4105 -0.532   0.6655  7.0148]\n",
      " [ 7.9079  0.      0.      0.      7.9097]\n",
      " [ 2.3816  3.904   0.      2.752   4.4786]\n",
      " [ 1.1378  0.      0.      0.      3.5121]\n",
      " [ 0.5783 -0.726  -0.2829  1.2675  2.5116]]\n",
      "[[ 3.6394  5.6451  0.8454  2.314   1.4896]\n",
      " [ 0.9125  0.      0.      0.      1.7264]\n",
      " [ 2.1984  3.5504  0.     10.      8.9   ]\n",
      " [ 0.9653  0.      0.      0.      3.265 ]\n",
      " [ 0.5424  4.0794  0.3063  2.1038  0.9592]]\n",
      "[[ 0.4252  0.2685  4.9937  6.1278  2.7775]\n",
      " [ 1.7723  0.      0.      0.      3.6496]\n",
      " [ 8.9    10.      0.      5.2978  4.0568]\n",
      " [ 1.5804  0.      0.      0.      3.5042]\n",
      " [ 0.2847  2.0146  5.0325  6.179   3.0988]]\n"
     ]
    }
   ],
   "source": [
    "\n",
    "doudble_Q = double_Q_learning_0(policy, neighbors, reward, 500, goal = 12)\n",
    "\n",
    "for i in range(4):\n",
    "    print(np.round(doudble_Q[i,:].reshape((5,5)), 4))"
   ]
  },
  {
   "cell_type": "markdown",
   "metadata": {},
   "source": [
    "Examine the action values you have computed. Ensure that the action values are 0 for the goal and taboo states. Also check that the actions with the largest values for each state make sense in terms of reaching the goal. "
   ]
  },
  {
   "cell_type": "markdown",
   "metadata": {},
   "source": [
    "With the action value function completed, you will now create and test code to perform GPI with Double Q-Learning(0).  You are welcome to use the `double_Q_learning_0_GPI` function from the TD/Q-learning notebook as a starting point. \n",
    "\n",
    "Execute your code for 10 cycles of 500 episodes, with $\\alpha = 0.2$, $\\gamma = 0.9$ and $\\epsilon = 0.01$, and examine the results. "
   ]
  },
  {
   "cell_type": "code",
   "execution_count": 17,
   "metadata": {
    "collapsed": true
   },
   "outputs": [],
   "source": [
    "def double_Q_learning_0_GPI(policy, neighbors, reward, cycles, episodes, goal, alpha = 0.2, gamma = 0.9, epsilon = 0.1):\n",
    "    ## iterate over GPI cycles\n",
    "    current_policy = copy.deepcopy(policy)\n",
    "    for _ in range(cycles):\n",
    "        ## Evaluate policy with SARSA\n",
    "        Q = double_Q_learning_0(policy, neighbors, reward, episodes = episodes, goal = goal)\n",
    "        \n",
    "        for s in list(current_policy.keys()): # iterate over all states\n",
    "            ## Find the index action with the largest Q values \n",
    "            ## May be more than one. \n",
    "            max_index = np.where(Q[:,s] == max(Q[:,s]))[0]\n",
    "            \n",
    "            ## Probabilities of transition\n",
    "            ## Need to allow for further exploration so don't let any \n",
    "            ## transition probability be 0.\n",
    "            ## Some gymnastics are required to ensure that the probabilities \n",
    "            ## over the transistions actual add to exactly 1.0\n",
    "            neighbors_len = float(Q.shape[0])\n",
    "            max_len = float(len(max_index))\n",
    "            diff = round(neighbors_len - max_len,3)\n",
    "            prob_for_policy = round(1.0/max_len,3)\n",
    "            adjust = round((epsilon * (diff)), 3)\n",
    "            prob_for_policy = prob_for_policy - adjust\n",
    "            if(diff != 0.0):\n",
    "                remainder = (1.0 - max_len * prob_for_policy)/diff\n",
    "            else:\n",
    "                remainder = epsilon\n",
    "                                                 \n",
    "            for i, key in enumerate(current_policy[s]): ## Update policy\n",
    "                if(i in max_index): current_policy[s][key] = prob_for_policy\n",
    "                else: current_policy[s][key] = remainder   \n",
    "                    \n",
    "    return(current_policy)                    \n"
   ]
  },
  {
   "cell_type": "code",
   "execution_count": 18,
   "metadata": {},
   "outputs": [
    {
     "data": {
      "text/plain": [
       "{0: {'d': 0.7,\n",
       "  'l': 0.10000000000000002,\n",
       "  'r': 0.10000000000000002,\n",
       "  'u': 0.10000000000000002},\n",
       " 1: {'d': 0.10000000000000002,\n",
       "  'l': 0.7,\n",
       "  'r': 0.10000000000000002,\n",
       "  'u': 0.10000000000000002},\n",
       " 2: {'d': 0.10000000000000002,\n",
       "  'l': 0.10000000000000002,\n",
       "  'r': 0.7,\n",
       "  'u': 0.10000000000000002},\n",
       " 3: {'d': 0.10000000000000002,\n",
       "  'l': 0.10000000000000002,\n",
       "  'r': 0.7,\n",
       "  'u': 0.10000000000000002},\n",
       " 4: {'d': 0.7,\n",
       "  'l': 0.10000000000000002,\n",
       "  'r': 0.10000000000000002,\n",
       "  'u': 0.10000000000000002},\n",
       " 5: {'d': 0.7,\n",
       "  'l': 0.10000000000000002,\n",
       "  'r': 0.10000000000000002,\n",
       "  'u': 0.10000000000000002},\n",
       " 6: {'d': 0.25, 'l': 0.25, 'r': 0.25, 'u': 0.25},\n",
       " 7: {'d': 0.25, 'l': 0.25, 'r': 0.25, 'u': 0.25},\n",
       " 8: {'d': 0.25, 'l': 0.25, 'r': 0.25, 'u': 0.25},\n",
       " 9: {'d': 0.7,\n",
       "  'l': 0.10000000000000002,\n",
       "  'r': 0.10000000000000002,\n",
       "  'u': 0.10000000000000002},\n",
       " 10: {'d': 0.10000000000000002,\n",
       "  'l': 0.10000000000000002,\n",
       "  'r': 0.7,\n",
       "  'u': 0.10000000000000002},\n",
       " 11: {'d': 0.10000000000000002,\n",
       "  'l': 0.10000000000000002,\n",
       "  'r': 0.7,\n",
       "  'u': 0.10000000000000002},\n",
       " 12: {'d': 0.25, 'l': 0.25, 'r': 0.25, 'u': 0.25},\n",
       " 13: {'d': 0.10000000000000002,\n",
       "  'l': 0.7,\n",
       "  'r': 0.10000000000000002,\n",
       "  'u': 0.10000000000000002},\n",
       " 14: {'d': 0.10000000000000002,\n",
       "  'l': 0.7,\n",
       "  'r': 0.10000000000000002,\n",
       "  'u': 0.10000000000000002},\n",
       " 15: {'d': 0.10000000000000002,\n",
       "  'l': 0.10000000000000002,\n",
       "  'r': 0.10000000000000002,\n",
       "  'u': 0.7},\n",
       " 16: {'d': 0.25, 'l': 0.25, 'r': 0.25, 'u': 0.25},\n",
       " 17: {'d': 0.25, 'l': 0.25, 'r': 0.25, 'u': 0.25},\n",
       " 18: {'d': 0.25, 'l': 0.25, 'r': 0.25, 'u': 0.25},\n",
       " 19: {'d': 0.10000000000000002,\n",
       "  'l': 0.10000000000000002,\n",
       "  'r': 0.10000000000000002,\n",
       "  'u': 0.7},\n",
       " 20: {'d': 0.10000000000000002,\n",
       "  'l': 0.10000000000000002,\n",
       "  'r': 0.10000000000000002,\n",
       "  'u': 0.7},\n",
       " 21: {'d': 0.10000000000000002,\n",
       "  'l': 0.7,\n",
       "  'r': 0.10000000000000002,\n",
       "  'u': 0.10000000000000002},\n",
       " 22: {'d': 0.10000000000000002,\n",
       "  'l': 0.10000000000000002,\n",
       "  'r': 0.7,\n",
       "  'u': 0.10000000000000002},\n",
       " 23: {'d': 0.10000000000000002,\n",
       "  'l': 0.10000000000000002,\n",
       "  'r': 0.7,\n",
       "  'u': 0.10000000000000002},\n",
       " 24: {'d': 0.10000000000000002,\n",
       "  'l': 0.10000000000000002,\n",
       "  'r': 0.10000000000000002,\n",
       "  'u': 0.7}}"
      ]
     },
     "execution_count": 18,
     "metadata": {},
     "output_type": "execute_result"
    }
   ],
   "source": [
    "Double_Q_0_Policy = double_Q_learning_0_GPI(policy, neighbors, reward, cycles = 10, episodes = 500, goal = 12)\n",
    "Double_Q_0_Policy "
   ]
  },
  {
   "cell_type": "markdown",
   "metadata": {},
   "source": [
    "Verify that your results make sense? For example, starting at state 2 or 22, do the most probable actions follow a shortest path?\n",
    "\n",
    "ANS: Um.. at state 2 is something weird, because it shows go 'r', whereas it was 'l' in SARSA.\n",
    "    But it is still shortest path though. \n",
    "    State 22 is 'l' which is same as before."
   ]
  },
  {
   "cell_type": "markdown",
   "metadata": {},
   "source": [
    "## N-Step TD Learning\n",
    "\n",
    "Finally, you will apply N-Step TD learning and N-Step SARSA to the warehouse navigation problem.  First create a function to perform N-step TD policy evaluation. You are welcome to start with the `TD_n` policy evaluation function from the TD/Q-Learning notebook. \n",
    "\n",
    "Test your function using 1,000 episodes, $n = 4$, $\\gamma = 0.9$, and $\\alpha = 0.2$."
   ]
  },
  {
   "cell_type": "code",
   "execution_count": 20,
   "metadata": {
    "collapsed": true
   },
   "outputs": [],
   "source": [
    "def TD_n(policy, episodes, n, goal, alpha = 0.2, gamma = 0.9, epsilon = 0.1):\n",
    "    \"\"\"\n",
    "    Function to perform TD(N) policy evaluation.\n",
    "    \"\"\"\n",
    "    ## Initialize the state list and action values\n",
    "    states = list(policy.keys())\n",
    "    n_states = len(states)\n",
    "    \n",
    "    ## Initialize possible actions and the action values\n",
    "    action_index = list(range(len(list(policy[0].keys()))))\n",
    "    v = [0]*len(list(policy.keys()))\n",
    "    \n",
    "    current_policy = copy.deepcopy(policy)\n",
    "    \n",
    "    \n",
    "    ## sample an initial state at random and make sure is not terminal state\n",
    "    s = nr.choice(states, size = 1)[0]\n",
    "    while(s in taboo+[goal]):\n",
    "        s = nr.choice(states, size = 1)[0]  \n",
    "        \n",
    "    for _ in range(episodes): # Loop over the episodes\n",
    "        T = float(\"inf\")\n",
    "        tau = 0\n",
    "        reward_list = []\n",
    "        t = 0\n",
    "        \n",
    "        while(tau != T - 1): # Episode ends where get to terminal state \n",
    "            if(t < T):\n",
    "                ## Choose action given policy\n",
    "                probs = list(policy[s].values())\n",
    "                a = list(policy[s].keys())[nr.choice(action_index, size = 1, p = probs)[0]]\n",
    "                ## The next state given the action\n",
    "                s_prime, reward = state_values(s, a)\n",
    "                reward_list.append(reward)  # append the reward to the list\n",
    "                if(s_prime == goal): T = t + 1  # We reached the terminal state\n",
    "                \n",
    "            tau = t - n + 1 ## update the time step being updated\n",
    "\n",
    "            if(tau >= 0): # Check if enough time steps to compute return\n",
    "                ## Compute the return\n",
    "                ## The formula for the first index in the loop is different from Sutton and Barto\n",
    "                ## but seems to be correct at least for Python.\n",
    "                G = 0.0 \n",
    "                for i in range(tau, min(tau + n - 1, T)):\n",
    "                    G = G + gamma**(i-tau) * reward_list[i]   \n",
    "                ## Deal with case of where we are not at the terminal state\n",
    "                if(tau + n < T): G = G + gamma**n * v[s_prime]\n",
    "                ## Update v\n",
    "                v[s] = v[s] + alpha * (G - v[s])\n",
    "            \n",
    "            ## Set state for next iteration\n",
    "            if(s_prime != goal):\n",
    "                s = s_prime\n",
    "            t = t +1\n",
    "    return(v)\n",
    "\n"
   ]
  },
  {
   "cell_type": "code",
   "execution_count": 23,
   "metadata": {},
   "outputs": [
    {
     "data": {
      "text/plain": [
       "array([[-5.1827, -5.3007, -4.6006, -4.4811, -4.0039],\n",
       "       [-4.2994,  0.    ,  0.    ,  0.    , -3.6184],\n",
       "       [-1.8351,  8.5854,  0.    ,  2.3435, -2.7753],\n",
       "       [-2.9688,  0.    ,  0.    ,  0.    , -4.4164],\n",
       "       [-2.8594, -3.539 , -4.8624, -5.0437, -4.8238]])"
      ]
     },
     "execution_count": 23,
     "metadata": {},
     "output_type": "execute_result"
    }
   ],
   "source": [
    "np.round(np.array(TD_n(policy, episodes = 1000, n = 4, goal = 12, alpha = 0.2, gamma = 0.9)).reshape((5,5)), 4)"
   ]
  },
  {
   "cell_type": "markdown",
   "metadata": {},
   "source": [
    "Verify that the result you obtained appears correct. Are the values of the goal and taboo states all 0? Do the state values decrease with distance from the goal?\n",
    "\n",
    "YES"
   ]
  },
  {
   "cell_type": "markdown",
   "metadata": {},
   "source": [
    "Now that you have an estimate of the best values for the number of steps and the learning rate you can compute the action values using multi-step SARSA. In the cell below, create and test a function to compute the action values using N-step SARSA. You are welcome to use the `SRARSA_n` function from the TD/Q-learning notebook as a starting point. \n",
    "\n",
    "Test your function by executing 4-step SARSA for 1,000 episodes with $\\alpha = 0.2$ and $\\gamma = 0.9$ and using the optimum number of steps and learning rate you have determined. "
   ]
  },
  {
   "cell_type": "code",
   "execution_count": 25,
   "metadata": {},
   "outputs": [],
   "source": [
    "def SARSA_n(policy, episodes, n, goal, alpha = 0.2, gamma = 0.9, epsilon = 0.1):\n",
    "    \"\"\"\n",
    "    Function to perform SARSA(N) control policy improvement.\n",
    "    \"\"\"\n",
    "    ## Initialize the state list and action values\n",
    "    states = list(policy.keys())\n",
    "    n_states = len(states)\n",
    "    \n",
    "    ## Initialize possible actions and the action values\n",
    "    action_index = list(range(len(list(policy[0].keys()))))\n",
    "    Q = np.zeros((len(action_index),len(states)))\n",
    "    \n",
    "    current_policy = copy.deepcopy(policy)\n",
    "    \n",
    "    for _ in range(episodes): # Loop over the episodes\n",
    "        ## sample a state at random and make sure is not terminal state\n",
    "        s = nr.choice(states, size = 1)[0]\n",
    "        while(s in taboo+[goal]):\n",
    "            s = nr.choice(states, size = 1)[0]\n",
    "        ## Now choose action given policy\n",
    "        a_index, a = select_a_prime(s, current_policy, action_index, True, goal)\n",
    "        \n",
    "        t = 0 # Initialize the time step count\n",
    "        T = float(\"inf\")\n",
    "        tau = 0\n",
    "        reward_list = []\n",
    "        while(tau != T - 1): # Episode ends where get to terminal state \n",
    "            if(t < T):\n",
    "                ## The next state given the action\n",
    "                s_prime, reward = state_values(s, a)\n",
    "                reward_list.append(reward)  # append the reward to the list\n",
    "                if(s_prime == goal): T = t + 1  # We reached the terminal state\n",
    "                else:\n",
    "                    # Select and store the next action using the policy\n",
    "                    a_prime_index, a_prime = select_a_prime(s_prime, current_policy, action_index, True, goal)\n",
    "                \n",
    "                \n",
    "            tau = t - n + 1 ## update the time step being updated\n",
    "  \n",
    "            if(tau >= 0): # Check if enough time steps to compute return\n",
    "                ## Compute the return\n",
    "                ## The formula for the first index in the loop is different from Sutton and Barto\n",
    "                ## but seems to be correct at least for Python.\n",
    "                G = 0.0 \n",
    "                for i in range(tau, min(tau + n, T)):\n",
    "                    G = G + gamma**(i-tau) * reward_list[i]   \n",
    "                ## Deal with case of where we are not at the terminal state\n",
    "                if(tau + n < T): G = G + gamma**n * Q[a_prime_index,s_prime]\n",
    "                ## Finally, update Q\n",
    "                Q[a_index,s] = Q[a_index,s] + alpha * (G - Q[a_index,s])\n",
    "            \n",
    "            ## Set action and state for next iteration\n",
    "            if(s_prime != goal):\n",
    "                s = s_prime   \n",
    "                a = a_prime \n",
    "                a_index = a_prime_index\n",
    "                \n",
    "            \n",
    "            ## increment t\n",
    "            t = t + 1\n",
    "    return(Q)\n"
   ]
  },
  {
   "cell_type": "code",
   "execution_count": 26,
   "metadata": {},
   "outputs": [
    {
     "name": "stdout",
     "output_type": "stream",
     "text": [
      "[[-5.0316 -6.1924 -6.4394 -6.2852 -5.4243]\n",
      " [-4.2968  0.      0.      0.     -4.5333]\n",
      " [-3.8832 -2.934   0.     -0.1248 -4.6013]\n",
      " [-3.5688  0.      0.      0.     -3.4199]\n",
      " [-4.2063 -5.829  -5.4088 -6.195  -4.6529]]\n",
      "[[-4.4785 -5.8728 -6.0345 -6.3933 -4.1263]\n",
      " [-3.9808  0.      0.      0.     -4.3189]\n",
      " [-4.514  -1.808   0.     -3.2603 -4.2205]\n",
      " [-4.1924  0.      0.      0.     -5.3263]\n",
      " [-4.6897 -5.4482 -5.9443 -6.1827 -6.2488]]\n",
      "[[-5.4124 -4.611  -5.2169 -5.5703 -6.0322]\n",
      " [-4.452   0.      0.      0.     -4.6965]\n",
      " [-4.5925 -3.7707  0.      8.1643 -1.1079]\n",
      " [-5.1071  0.      0.      0.     -4.9628]\n",
      " [-4.2205 -3.9273 -5.0363 -5.178  -5.7837]]\n",
      "[[-5.2485 -5.7384 -5.5723 -5.3475 -4.6591]\n",
      " [-5.2497  0.      0.      0.     -5.0167]\n",
      " [ 0.2827  8.5595  0.     -3.1464 -4.0874]\n",
      " [-5.0973  0.      0.      0.     -4.9852]\n",
      " [-3.7471 -4.9646 -5.1118 -5.1226 -6.2858]]\n"
     ]
    }
   ],
   "source": [
    "\n",
    "Q = SARSA_n(policy, episodes = 1000, n = 4, goal = 12, alpha = 0.2, gamma = 0.9)\n",
    "\n",
    "for i in range(4):\n",
    "    print(np.round(Q[i,:].reshape((5,5)), 4))"
   ]
  },
  {
   "cell_type": "markdown",
   "metadata": {},
   "source": [
    "Verify that the results you have computed appear correct using the aforementioned criteria. \n",
    "\n",
    "Finally, create a function to use the GPI algorithm with N-step SARSA in the cell below. You are welcome to start with the `SARSA_n_GPI` function from the TD/Q-learning notebook. \n",
    "\n",
    "Execute your function using 4 step SARSA for 5 cycles of 500 episodes, with $\\alpha = 0.2$, $\\epsilon = 0.1$, and $\\gamma = 0.9$."
   ]
  },
  {
   "cell_type": "code",
   "execution_count": 27,
   "metadata": {
    "collapsed": true
   },
   "outputs": [],
   "source": [
    "def SARSA_n_GPI(policy, n, cycles, episodes, goal, alpha = 0.2, gamma = 0.9, epsilon = 0.1):\n",
    "    ## iterate over GPI cycles\n",
    "    current_policy = copy.deepcopy(policy)\n",
    "    for _ in range(cycles):\n",
    "        ## Evaluate policy with SARSA\n",
    "        Q = SARSA_n(policy, episodes, n, goal = goal, alpha = alpha, gamma = gamma, epsilon = epsilon)\n",
    "        \n",
    "        for s in list(current_policy.keys()): # iterate over all states\n",
    "            ## Find the index action with the largest Q values \n",
    "            ## May be more than one. \n",
    "            max_index = np.where(Q[:,s] == max(Q[:,s]))[0]\n",
    "            \n",
    "            ## Probabilities of transition\n",
    "            ## Need to allow for further exploration so don't let any \n",
    "            ## transition probability be 0.\n",
    "            ## Some gymnastics are required to ensure that the probabilities \n",
    "            ## over the transistions actual add to exactly 1.0\n",
    "            neighbors_len = float(Q.shape[0])\n",
    "            max_len = float(len(max_index))\n",
    "            diff = round(neighbors_len - max_len,3)\n",
    "            prob_for_policy = round(1.0/max_len,3)\n",
    "            adjust = round((epsilon * (diff)), 3)\n",
    "            prob_for_policy = prob_for_policy - adjust\n",
    "            if(diff != 0.0):\n",
    "                remainder = (1.0 - max_len * prob_for_policy)/diff\n",
    "            else:\n",
    "                remainder = epsilon\n",
    "                                                 \n",
    "            for i, key in enumerate(current_policy[s]): ## Update policy\n",
    "                if(i in max_index): current_policy[s][key] = prob_for_policy\n",
    "                else: current_policy[s][key] = remainder   \n",
    "                    \n",
    "    return(current_policy)                    \n",
    " \n"
   ]
  },
  {
   "cell_type": "code",
   "execution_count": 28,
   "metadata": {},
   "outputs": [
    {
     "data": {
      "text/plain": [
       "{0: {'d': 0.7,\n",
       "  'l': 0.10000000000000002,\n",
       "  'r': 0.10000000000000002,\n",
       "  'u': 0.10000000000000002},\n",
       " 1: {'d': 0.10000000000000002,\n",
       "  'l': 0.7,\n",
       "  'r': 0.10000000000000002,\n",
       "  'u': 0.10000000000000002},\n",
       " 2: {'d': 0.10000000000000002,\n",
       "  'l': 0.7,\n",
       "  'r': 0.10000000000000002,\n",
       "  'u': 0.10000000000000002},\n",
       " 3: {'d': 0.10000000000000002,\n",
       "  'l': 0.10000000000000002,\n",
       "  'r': 0.7,\n",
       "  'u': 0.10000000000000002},\n",
       " 4: {'d': 0.7,\n",
       "  'l': 0.10000000000000002,\n",
       "  'r': 0.10000000000000002,\n",
       "  'u': 0.10000000000000002},\n",
       " 5: {'d': 0.7,\n",
       "  'l': 0.10000000000000002,\n",
       "  'r': 0.10000000000000002,\n",
       "  'u': 0.10000000000000002},\n",
       " 6: {'d': 0.25, 'l': 0.25, 'r': 0.25, 'u': 0.25},\n",
       " 7: {'d': 0.25, 'l': 0.25, 'r': 0.25, 'u': 0.25},\n",
       " 8: {'d': 0.25, 'l': 0.25, 'r': 0.25, 'u': 0.25},\n",
       " 9: {'d': 0.7,\n",
       "  'l': 0.10000000000000002,\n",
       "  'r': 0.10000000000000002,\n",
       "  'u': 0.10000000000000002},\n",
       " 10: {'d': 0.10000000000000002,\n",
       "  'l': 0.10000000000000002,\n",
       "  'r': 0.7,\n",
       "  'u': 0.10000000000000002},\n",
       " 11: {'d': 0.10000000000000002,\n",
       "  'l': 0.10000000000000002,\n",
       "  'r': 0.7,\n",
       "  'u': 0.10000000000000002},\n",
       " 12: {'d': 0.25, 'l': 0.25, 'r': 0.25, 'u': 0.25},\n",
       " 13: {'d': 0.10000000000000002,\n",
       "  'l': 0.7,\n",
       "  'r': 0.10000000000000002,\n",
       "  'u': 0.10000000000000002},\n",
       " 14: {'d': 0.10000000000000002,\n",
       "  'l': 0.7,\n",
       "  'r': 0.10000000000000002,\n",
       "  'u': 0.10000000000000002},\n",
       " 15: {'d': 0.10000000000000002,\n",
       "  'l': 0.10000000000000002,\n",
       "  'r': 0.10000000000000002,\n",
       "  'u': 0.7},\n",
       " 16: {'d': 0.25, 'l': 0.25, 'r': 0.25, 'u': 0.25},\n",
       " 17: {'d': 0.25, 'l': 0.25, 'r': 0.25, 'u': 0.25},\n",
       " 18: {'d': 0.25, 'l': 0.25, 'r': 0.25, 'u': 0.25},\n",
       " 19: {'d': 0.10000000000000002,\n",
       "  'l': 0.10000000000000002,\n",
       "  'r': 0.10000000000000002,\n",
       "  'u': 0.7},\n",
       " 20: {'d': 0.10000000000000002,\n",
       "  'l': 0.7,\n",
       "  'r': 0.10000000000000002,\n",
       "  'u': 0.10000000000000002},\n",
       " 21: {'d': 0.10000000000000002,\n",
       "  'l': 0.7,\n",
       "  'r': 0.10000000000000002,\n",
       "  'u': 0.10000000000000002},\n",
       " 22: {'d': 0.10000000000000002,\n",
       "  'l': 0.10000000000000002,\n",
       "  'r': 0.7,\n",
       "  'u': 0.10000000000000002},\n",
       " 23: {'d': 0.10000000000000002,\n",
       "  'l': 0.7,\n",
       "  'r': 0.10000000000000002,\n",
       "  'u': 0.10000000000000002},\n",
       " 24: {'d': 0.10000000000000002,\n",
       "  'l': 0.10000000000000002,\n",
       "  'r': 0.10000000000000002,\n",
       "  'u': 0.7}}"
      ]
     },
     "execution_count": 28,
     "metadata": {},
     "output_type": "execute_result"
    }
   ],
   "source": [
    "\n",
    "SARSA_N_Policy = SARSA_n_GPI(policy, n = 4, cycles = 5, episodes = 500, goal = 12, alpha = 0.2, epsilon = 0.1)\n",
    "SARSA_N_Policy"
   ]
  },
  {
   "cell_type": "markdown",
   "metadata": {},
   "source": [
    "Examine your results. Verify that the most probable paths to the goal from states 2 and 22 are the shortest possible.  "
   ]
  },
  {
   "cell_type": "markdown",
   "metadata": {
    "collapsed": true
   },
   "source": [
    "At the states 2 and 22, it shows go left and right respectively, \n",
    "which is indicating the shortest path correctly"
   ]
  },
  {
   "cell_type": "code",
   "execution_count": null,
   "metadata": {
    "collapsed": true
   },
   "outputs": [],
   "source": []
  }
 ],
 "metadata": {
  "kernelspec": {
   "display_name": "Python 3",
   "language": "python",
   "name": "python3"
  },
  "language_info": {
   "codemirror_mode": {
    "name": "ipython",
    "version": 3
   },
   "file_extension": ".py",
   "mimetype": "text/x-python",
   "name": "python",
   "nbconvert_exporter": "python",
   "pygments_lexer": "ipython3",
   "version": "3.6.2"
  }
 },
 "nbformat": 4,
 "nbformat_minor": 2
}
