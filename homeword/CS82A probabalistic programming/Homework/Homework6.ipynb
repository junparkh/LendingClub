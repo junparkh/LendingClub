{
 "cells": [
  {
   "cell_type": "markdown",
   "metadata": {},
   "source": [
    "# Homework 6\n",
    "\n",
    "## CSCI E-82A\n",
    "\n",
    "\n",
    "In the lesson we constructed a representation of a simple grid world. Dynamic programming (DP) was used to find optimal plans for a robot to navigate from any starting location on the grid to the goal. This problem is an analog for more complex real-world robot navigation problems. \n",
    "\n",
    "In this homework you will use DP to solve a slightly more complex robotic navigation problem in a grid world. This grid world is a simple version of the problem a material transport robot might encounter in a warehouse. The situation is illustrated in the figure below.\n",
    "\n",
    "<img src=\"GridWorldFactory.JPG\" alt=\"Drawing\" style=\"width:200px; height:200px\"/>\n",
    "<center> **Grid World for Factory Navigation Example** </center>"
   ]
  },
  {
   "cell_type": "markdown",
   "metadata": {},
   "source": [
    "The goal is for the robot to deliver some material to position (state) 12, shown in blue. Since there is a goal state or **terminal state** this an **episodic task**. \n",
    "\n",
    "There are some barriers comprised of the states $\\{ 6, 7, 8 \\}$ and $\\{ 16, 17, 18 \\}$, shown with hash marks. In a real warehouse, these positions might be occupied by shelving or equipment. We do not want the robot to hit these barriers. Thus, we say that transitioning to these barrier states is **taboo**.\n",
    "\n",
    "As before, we do not want the robot to hit the edges of the grid world, which represent the outer walls of the warehouse. \n",
    "\n",
    "## Representation\n",
    "\n",
    "As with many such problems, the starting place is creating the **representation**. In the cell below encode your representation for the possible action-state transitions. From each state there are 4 possible actions:\n",
    "- up, u\n",
    "- down, d,\n",
    "- left, l\n",
    "- right, r\n",
    "\n",
    "There are a few special cases you need to consider:\n",
    "- Any action transitioning state off the grid or into a barrier should keep the state unchanged. \n",
    "- Any action in the goal state keeps the state unchanged. \n",
    "- Any transition within the taboo (barrier) states can keep the state unchanged. If you experiment, you will see that other encodings work as well since the value of a barrier states are always zero and there are no actions transitioning into these states. \n",
    "\n",
    "> **Hint:** It may help you create a pencil and paper sketch of the transitions, rewards, and probabilities or policy. This can help you to keep the bookkeeping correct. "
   ]
  },
  {
   "cell_type": "code",
   "execution_count": 1,
   "metadata": {
    "collapsed": true
   },
   "outputs": [],
   "source": [
    "import numpy as np"
   ]
  },
  {
   "cell_type": "code",
   "execution_count": 74,
   "metadata": {
    "collapsed": true
   },
   "outputs": [],
   "source": [
    "policy = {0:{'u':0, 'd':5, 'l':0, 'r':1},\n",
    "          1:{'u':1, 'd':1, 'l':0, 'r':2},\n",
    "          2:{'u':2, 'd':2, 'l':1, 'r':3},\n",
    "          3:{'u':3, 'd':3, 'l':2, 'r':4},\n",
    "          4:{'u':4, 'd':9, 'l':3, 'r':4},\n",
    "          \n",
    "          5:{'u':0, 'd':10, 'l':5, 'r':5},\n",
    "          6:{'u':6, 'd':6, 'l':6, 'r':6},###barrier\n",
    "          7:{'u':7, 'd':7, 'l':7, 'r':7},###barrier\n",
    "          8:{'u':8, 'd':8, 'l':8, 'r':8},###barrier\n",
    "          9:{'u':4, 'd':14, 'l':9, 'r':9},\n",
    "          \n",
    "          10:{'u':5, 'd':15, 'l':10, 'r':11},\n",
    "          11:{'u':11, 'd':11, 'l':10, 'r':12},\n",
    "          12:{'u':12, 'd':12, 'l':12, 'r':12},#goal\n",
    "          13:{'u':13, 'd':13, 'l':12, 'r':14},\n",
    "          14:{'u':9, 'd':19, 'l':13, 'r':14},\n",
    "          \n",
    "          15:{'u':10, 'd':20, 'l':15, 'r':15},\n",
    "          16:{'u':16, 'd':16, 'l':16, 'r':16},###barrier\n",
    "          17:{'u':17, 'd':17, 'l':17, 'r':17},###barrier\n",
    "          18:{'u':18, 'd':18, 'l':18, 'r':18},###barrier\n",
    "          19:{'u':14, 'd':24, 'l':19, 'r':19},\n",
    "          \n",
    "          20:{'u':15, 'd':20, 'l':20, 'r':21},\n",
    "          21:{'u':21, 'd':21, 'l':20, 'r':22},\n",
    "          22:{'u':22, 'd':22, 'l':21, 'r':23},\n",
    "          23:{'u':23, 'd':23, 'l':22, 'r':24},\n",
    "          24:{'u':19, 'd':24, 'l':23, 'r':24}}"
   ]
  },
  {
   "cell_type": "markdown",
   "metadata": {},
   "source": [
    "You need to define the initial transition probabilities for the Markov process. Set the probabilities for each transition as a **uniform distribution** leading to random action by the robot. \n",
    "\n",
    "> **Note:** As these are just starting values, the exact values of the transition probabilities are not actually all that important in terms of solving the DP problem. Also, notice that it does not matter how the taboo state transitions are encoded. The point of the DP algorithm is to learn the transition policy."
   ]
  },
  {
   "cell_type": "code",
   "execution_count": 75,
   "metadata": {},
   "outputs": [],
   "source": [
    "stat_prob = {0:{'u':0.25, 'd':0.25, 'l':0.25, 'r':0.25},\n",
    "          1:{'u':0.25, 'd':0.25, 'l':0.25, 'r':0.25},\n",
    "          2:{'u':0.25, 'd':0.25, 'l':0.25, 'r':0.25},\n",
    "          3:{'u':0.25, 'd':0.25, 'l':0.25, 'r':0.25},\n",
    "          4:{'u':0.25, 'd':0.25, 'l':0.25, 'r':0.25},\n",
    "          \n",
    "          5:{'u':0.25, 'd':0.25, 'l':0.25, 'r':0.25},\n",
    "          6:{'u':0.25, 'd':0.25, 'l':0.25, 'r':0.25},###barrier\n",
    "          7:{'u':0.25, 'd':0.25, 'l':0.25, 'r':0.25},###barrier\n",
    "          8:{'u':0.25, 'd':0.25, 'l':0.25, 'r':0.25},###barrier\n",
    "          9:{'u':0.25, 'd':0.25, 'l':0.25, 'r':0.25},\n",
    "          \n",
    "          10:{'u':0.25, 'd':0.25, 'l':0.25, 'r':0.25},\n",
    "          11:{'u':0.25, 'd':0.25, 'l':0.25, 'r':0.25},\n",
    "          12:{'u':0.25, 'd':0.25, 'l':0.25, 'r':0.25},#goal\n",
    "          13:{'u':0.25, 'd':0.25, 'l':0.25, 'r':0.25},\n",
    "          14:{'u':0.25, 'd':0.25, 'l':0.25, 'r':0.25},\n",
    "          \n",
    "          15:{'u':0.25, 'd':0.25, 'l':0.25, 'r':0.25},\n",
    "          16:{'u':0.25, 'd':0.25, 'l':0.25, 'r':0.25},###barrier\n",
    "          17:{'u':0.25, 'd':0.25, 'l':0.25, 'r':0.25},###barrier\n",
    "          18:{'u':0.25, 'd':0.25, 'l':0.25, 'r':0.25},###barrier\n",
    "          19:{'u':0.25, 'd':0.25, 'l':0.25, 'r':0.25},\n",
    "          \n",
    "          20:{'u':0.25, 'd':0.25, 'l':0.25, 'r':0.25},\n",
    "          21:{'u':0.25, 'd':0.25, 'l':0.25, 'r':0.25},\n",
    "          22:{'u':0.25, 'd':0.25, 'l':0.25, 'r':0.25},\n",
    "          23:{'u':0.25, 'd':0.25, 'l':0.25, 'r':0.25},\n",
    "          24:{'u':0.25, 'd':0.25, 'l':0.25, 'r':0.25}}"
   ]
  },
  {
   "cell_type": "markdown",
   "metadata": {},
   "source": [
    "The robot receives the following rewards:\n",
    "- +10 for achieving the goal. \n",
    "- -1 for attempting to leave the warehouse or hitting the barriers. In other words, we penalize the robot for hitting the edges of the grid or the barriers.  \n",
    "- -0.1 for all other state transitions, which is the cost for the robot to move from one state to another.  \n",
    "\n",
    "In the code cell below encode your representation of this reward structure.  "
   ]
  },
  {
   "cell_type": "code",
   "execution_count": 76,
   "metadata": {
    "collapsed": true
   },
   "outputs": [],
   "source": [
    "reward = {0:{'u':-1, 'd':-0.1, 'l':-1, 'r':-0.1},\n",
    "          1:{'u':-1, 'd':-1, 'l':-0.1, 'r':-0.1},\n",
    "          2:{'u':-1, 'd':-1, 'l':-0.1, 'r':-0.1},\n",
    "          3:{'u':-1, 'd':-1, 'l':-0.1, 'r':-0.1},\n",
    "          4:{'u':-1, 'd':-0.1, 'l':-1, 'r':-0.1},\n",
    "          \n",
    "          5:{'u':-0.1, 'd':-0.1, 'l':-1, 'r':-1},\n",
    "          6:{'u':0, 'd':0, 'l':0, 'r':0},###barrier\n",
    "          7:{'u':0, 'd':0, 'l':0, 'r':0},###barrier\n",
    "          8:{'u':0, 'd':0, 'l':0, 'r':0},###barrier\n",
    "          9:{'u':-0.1, 'd':-0.1, 'l':-1, 'r':-1},\n",
    "          \n",
    "          10:{'u':-0.1, 'd':-0.1, 'l':-1, 'r':-0.1},\n",
    "          11:{'u':-1, 'd':-1, 'l':-0.1, 'r':10},\n",
    "          12:{'u':0, 'd':0, 'l':0, 'r':0},#goal\n",
    "          13:{'u':-1, 'd':-1, 'l':10, 'r':-0.1},\n",
    "          14:{'u':-0.1, 'd':-0.1, 'l':-0.1, 'r':-1},\n",
    "          \n",
    "          15:{'u':-0.1, 'd':-0.1, 'l':-1, 'r':-1},\n",
    "          16:{'u':0, 'd':0, 'l':0, 'r':0},###barrier\n",
    "          17:{'u':0, 'd':0, 'l':0, 'r':0},###barrier\n",
    "          18:{'u':0, 'd':0, 'l':0, 'r':0},###barrier\n",
    "          19:{'u':-0.1, 'd':-0.1, 'l':-1, 'r':-1},\n",
    "          \n",
    "          20:{'u':-0.1, 'd':-1, 'l':-0.1, 'r':-0.1},\n",
    "          21:{'u':-1, 'd':-1, 'l':-0.1, 'r':-0.1},\n",
    "          22:{'u':-1, 'd':-1, 'l':-0.1, 'r':-0.1},\n",
    "          23:{'u':-1, 'd':-1, 'l':-0.1, 'r':-0.1},\n",
    "          24:{'u':-0.1, 'd':-1, 'l':-0.1, 'r':-1}}"
   ]
  },
  {
   "cell_type": "markdown",
   "metadata": {},
   "source": [
    "You will find it useful to create a list of taboo states, which you can encode in the cell below."
   ]
  },
  {
   "cell_type": "code",
   "execution_count": 77,
   "metadata": {},
   "outputs": [
    {
     "data": {
      "text/plain": [
       "{0: {'d': -0.1, 'l': -1, 'r': -0.1, 'u': -1},\n",
       " 1: {'d': -1, 'l': -0.1, 'r': -0.1, 'u': -1},\n",
       " 2: {'d': -1, 'l': -0.1, 'r': -0.1, 'u': -1},\n",
       " 3: {'d': -1, 'l': -0.1, 'r': -0.1, 'u': -1},\n",
       " 4: {'d': -0.1, 'l': -1, 'r': -0.1, 'u': -1},\n",
       " 5: {'d': -0.1, 'l': -1, 'r': -1, 'u': -0.1},\n",
       " 6: {'d': 0, 'l': 0, 'r': 0, 'u': 0},\n",
       " 7: {'d': 0, 'l': 0, 'r': 0, 'u': 0},\n",
       " 8: {'d': 0, 'l': 0, 'r': 0, 'u': 0},\n",
       " 9: {'d': -0.1, 'l': -1, 'r': -1, 'u': -0.1},\n",
       " 10: {'d': -0.1, 'l': -1, 'r': -0.1, 'u': -0.1},\n",
       " 11: {'d': -1, 'l': -0.1, 'r': 10, 'u': -1},\n",
       " 12: {'d': 0, 'l': 0, 'r': 0, 'u': 0},\n",
       " 13: {'d': -1, 'l': 10, 'r': -0.1, 'u': -1},\n",
       " 14: {'d': -0.1, 'l': -0.1, 'r': -1, 'u': -0.1},\n",
       " 15: {'d': -0.1, 'l': -1, 'r': -1, 'u': -0.1},\n",
       " 16: {'d': 0, 'l': 0, 'r': 0, 'u': 0},\n",
       " 17: {'d': 0, 'l': 0, 'r': 0, 'u': 0},\n",
       " 18: {'d': 0, 'l': 0, 'r': 0, 'u': 0},\n",
       " 19: {'d': -0.1, 'l': -1, 'r': -1, 'u': -0.1},\n",
       " 20: {'d': -1, 'l': -0.1, 'r': -0.1, 'u': -0.1},\n",
       " 21: {'d': -1, 'l': -0.1, 'r': -0.1, 'u': -1},\n",
       " 22: {'d': -1, 'l': -0.1, 'r': -0.1, 'u': -1},\n",
       " 23: {'d': -1, 'l': -0.1, 'r': -0.1, 'u': -1},\n",
       " 24: {'d': -1, 'l': -0.1, 'r': -1, 'u': -0.1}}"
      ]
     },
     "execution_count": 77,
     "metadata": {},
     "output_type": "execute_result"
    }
   ],
   "source": [
    "taboo = [6,7,8,16,17,18]\n",
    "reward"
   ]
  },
  {
   "cell_type": "markdown",
   "metadata": {},
   "source": [
    "## Policy Evaluation\n",
    "\n",
    "With your representation defined, you can now create and test a function for **policy evaluation**. You will need this function for your policy iteration code. \n",
    "\n",
    "You are welcome to state with the `compute_state_value` function from the DP notebook. However, keep in mind that you must modify this code to correctly treat the taboo states. Specifically, taboo states should have 0 value. "
   ]
  },
  {
   "cell_type": "code",
   "execution_count": 78,
   "metadata": {
    "collapsed": true,
    "scrolled": false
   },
   "outputs": [],
   "source": [
    "def compute_state_value(pi, probs, reward, gamma = 1.0, theta = 0.01, display = False):\n",
    "    '''Function for policy evaluation  \n",
    "    '''\n",
    "    delta = theta\n",
    "    values = np.zeros(len(probs)) # Initialize the value array\n",
    "    while(delta >= theta):\n",
    "        v = np.copy(values) ## save the values for computing the difference later\n",
    "        for s in probs.keys():\n",
    "            if(s in taboo):\n",
    "                values[s] = 0.0\n",
    "            else:\n",
    "                temp_values = 0.0 ## Initial the sum of values for this state\n",
    "\n",
    "                for action in reward[s].keys():\n",
    "                    s_prime = pi[s][action]\n",
    "                    temp_values = temp_values + probs[s][action] * (reward[s][action] + gamma * values[s_prime])\n",
    "                values[s] = temp_values\n",
    "            \n",
    "        ## Compute the difference metric to see if convergence has been reached.    \n",
    "        diffs = np.sum(np.abs(np.subtract(v, values)))\n",
    "        delta = min([delta, diffs])\n",
    "        if(display): \n",
    "            print('difference metric = ' + str(diffs))\n",
    "            print(values.reshape(5,5))\n",
    "    return values\n"
   ]
  },
  {
   "cell_type": "code",
   "execution_count": 79,
   "metadata": {},
   "outputs": [
    {
     "data": {
      "text/plain": [
       "array([[-37.27810294, -40.60707636, -41.75645397, -40.72623903,\n",
       "        -37.51550062],\n",
       "       [-31.7741155 ,   0.        ,   0.        ,   0.        ,\n",
       "        -32.12243052],\n",
       "       [-24.08567789,  -8.09056226,   0.        ,  -8.31780421,\n",
       "        -24.54443937],\n",
       "       [-31.1045645 ,   0.        ,   0.        ,   0.        ,\n",
       "        -31.90271452],\n",
       "       [-35.94050048, -39.49529987, -40.86988558, -40.06426078,\n",
       "        -37.07752274]])"
      ]
     },
     "execution_count": 79,
     "metadata": {},
     "output_type": "execute_result"
    }
   ],
   "source": [
    "compute_state_value(policy, stat_prob, reward, theta = 0.1, display = False).reshape(5,5)"
   ]
  },
  {
   "cell_type": "markdown",
   "metadata": {},
   "source": [
    "Examine the state values you have computed using a random walk for the robot. Answer the following questions:\n",
    "\n",
    "1. Are the values of the goal and taboo states zero? ANS: Yes\n",
    "2. Do the values of the states increase closer to the goal? ANS: Yes\n",
    "3. Do the goal and barrier states all have zero values? ANS: Yes\n",
    "\n",
    "If your answer to any of the above questions is no, you need to do some more work on your code!"
   ]
  },
  {
   "cell_type": "code",
   "execution_count": null,
   "metadata": {
    "collapsed": true
   },
   "outputs": [],
   "source": []
  },
  {
   "cell_type": "markdown",
   "metadata": {},
   "source": [
    "## Policy Iteration\n",
    "\n",
    "Now that you have your representation and a function to perform policy evaluation you have everything you need to use the policy iteration algorithm to create an optimal policy for the robot to reach the goal. \n",
    "\n",
    "If your policy evaluation function works correctly, you should be able to use the `policy_iteration` function from the DP notebook. Make sure you print the state values as well as the policy you discovered. "
   ]
  },
  {
   "cell_type": "code",
   "execution_count": 80,
   "metadata": {
    "scrolled": false
   },
   "outputs": [],
   "source": [
    "import copy\n",
    "def policy_iteration(pi, probs, reward, gamma = 1.0, theta = 0.1, output = False):\n",
    "    delta = theta\n",
    "    v = np.zeros(len(probs))\n",
    "    state_values = np.zeros(len(probs))\n",
    "    current_policy = copy.deepcopy(probs)\n",
    "    while(delta >= theta): # Continue until convergence.\n",
    "        for s in probs.keys(): # Iterate over all states\n",
    "            temp_values = []\n",
    "            for action in reward[s].keys(): # Iterate over all possible actions for the state\n",
    "                # Compute list of values given action from the state\n",
    "                s_prime = pi[s][action]\n",
    "                temp_values.append(current_policy[s][action] * (reward[s][action] + gamma * state_values[s_prime]))\n",
    "            \n",
    "            ## Find the max value and update current policy\n",
    "            max_index = np.where(np.array(temp_values) == max(temp_values))[0]\n",
    "            prob_for_policy = 1.0/float(len(max_index))\n",
    "            for i,action in enumerate(current_policy[s].keys()): \n",
    "                if(i in max_index): current_policy[s][action] = prob_for_policy\n",
    "                else: current_policy[s][action] = 0.0\n",
    "                \n",
    "        \n",
    "        ## Compute state values with new policy to determine if there is an improvement\n",
    "        ## Uses the compute_state_value function\n",
    "        state_values = compute_state_value(pi, current_policy, reward, theta = .1)\n",
    "        diff = np.sum(np.abs(np.subtract(v, state_values)))\n",
    "        if(output): \n",
    "            print('\\ndiff = ' + str(diff))\n",
    "            print('Current policy')\n",
    "            print(current_policy)\n",
    "            print('With state values')\n",
    "            print(state_values.reshape(5,5))\n",
    "        \n",
    "        delta = min([delta, np.sum(np.abs(np.subtract(v, state_values)))])\n",
    "        v = np.copy(state_values) ## copy of state values to evaluate next iteration\n",
    "    return current_policy\n",
    "\n"
   ]
  },
  {
   "cell_type": "code",
   "execution_count": 81,
   "metadata": {},
   "outputs": [
    {
     "name": "stdout",
     "output_type": "stream",
     "text": [
      "\n",
      "diff = 139.40354661660976\n",
      "Current policy\n",
      "{0: {'u': 0.0, 'd': 0.5, 'l': 0.0, 'r': 0.5}, 1: {'u': 0.0, 'd': 0.0, 'l': 0.5, 'r': 0.5}, 2: {'u': 0.0, 'd': 0.0, 'l': 0.5, 'r': 0.5}, 3: {'u': 0.0, 'd': 0.0, 'l': 0.5, 'r': 0.5}, 4: {'u': 0.0, 'd': 0.5, 'l': 0.0, 'r': 0.5}, 5: {'u': 0.5, 'd': 0.5, 'l': 0.0, 'r': 0.0}, 6: {'u': 0.25, 'd': 0.25, 'l': 0.25, 'r': 0.25}, 7: {'u': 0.25, 'd': 0.25, 'l': 0.25, 'r': 0.25}, 8: {'u': 0.25, 'd': 0.25, 'l': 0.25, 'r': 0.25}, 9: {'u': 0.5, 'd': 0.5, 'l': 0.0, 'r': 0.0}, 10: {'u': 0.3333333333333333, 'd': 0.3333333333333333, 'l': 0.0, 'r': 0.3333333333333333}, 11: {'u': 0.0, 'd': 0.0, 'l': 0.0, 'r': 1.0}, 12: {'u': 0.25, 'd': 0.25, 'l': 0.25, 'r': 0.25}, 13: {'u': 0.0, 'd': 0.0, 'l': 1.0, 'r': 0.0}, 14: {'u': 0.3333333333333333, 'd': 0.3333333333333333, 'l': 0.3333333333333333, 'r': 0.0}, 15: {'u': 0.5, 'd': 0.5, 'l': 0.0, 'r': 0.0}, 16: {'u': 0.25, 'd': 0.25, 'l': 0.25, 'r': 0.25}, 17: {'u': 0.25, 'd': 0.25, 'l': 0.25, 'r': 0.25}, 18: {'u': 0.25, 'd': 0.25, 'l': 0.25, 'r': 0.25}, 19: {'u': 0.5, 'd': 0.5, 'l': 0.0, 'r': 0.0}, 20: {'u': 0.3333333333333333, 'd': 0.0, 'l': 0.3333333333333333, 'r': 0.3333333333333333}, 21: {'u': 0.0, 'd': 0.0, 'l': 0.5, 'r': 0.5}, 22: {'u': 0.0, 'd': 0.0, 'l': 0.5, 'r': 0.5}, 23: {'u': 0.0, 'd': 0.0, 'l': 0.5, 'r': 0.5}, 24: {'u': 0.5, 'd': 0.0, 'l': 0.5, 'r': 0.0}}\n",
      "With state values\n",
      "[[ 7.35123678  7.17889074  7.21280797  7.45221585  7.89600462]\n",
      " [ 7.73560982  0.          0.          0.          8.10414037]\n",
      " [ 8.32402216 10.          0.         10.          8.51518147]\n",
      " [ 7.5426807   0.          0.          0.          7.74601089]\n",
      " [ 6.96914714  6.7115842   6.66193041  6.81938536  7.18269813]]\n",
      "\n",
      "diff = 35.796453383390286\n",
      "Current policy\n",
      "{0: {'u': 0.0, 'd': 1.0, 'l': 0.0, 'r': 0.0}, 1: {'u': 0.0, 'd': 0.0, 'l': 1.0, 'r': 0.0}, 2: {'u': 0.0, 'd': 0.0, 'l': 0.0, 'r': 1.0}, 3: {'u': 0.0, 'd': 0.0, 'l': 0.0, 'r': 1.0}, 4: {'u': 0.0, 'd': 1.0, 'l': 0.0, 'r': 0.0}, 5: {'u': 0.0, 'd': 1.0, 'l': 0.0, 'r': 0.0}, 6: {'u': 0.25, 'd': 0.25, 'l': 0.25, 'r': 0.25}, 7: {'u': 0.25, 'd': 0.25, 'l': 0.25, 'r': 0.25}, 8: {'u': 0.25, 'd': 0.25, 'l': 0.25, 'r': 0.25}, 9: {'u': 0.0, 'd': 1.0, 'l': 0.0, 'r': 0.0}, 10: {'u': 0.0, 'd': 0.0, 'l': 0.0, 'r': 1.0}, 11: {'u': 0.0, 'd': 0.0, 'l': 0.0, 'r': 1.0}, 12: {'u': 0.25, 'd': 0.25, 'l': 0.25, 'r': 0.25}, 13: {'u': 0.0, 'd': 0.0, 'l': 1.0, 'r': 0.0}, 14: {'u': 0.0, 'd': 0.0, 'l': 1.0, 'r': 0.0}, 15: {'u': 1.0, 'd': 0.0, 'l': 0.0, 'r': 0.0}, 16: {'u': 0.25, 'd': 0.25, 'l': 0.25, 'r': 0.25}, 17: {'u': 0.25, 'd': 0.25, 'l': 0.25, 'r': 0.25}, 18: {'u': 0.25, 'd': 0.25, 'l': 0.25, 'r': 0.25}, 19: {'u': 1.0, 'd': 0.0, 'l': 0.0, 'r': 0.0}, 20: {'u': 1.0, 'd': 0.0, 'l': 0.0, 'r': 0.0}, 21: {'u': 0.0, 'd': 0.0, 'l': 1.0, 'r': 0.0}, 22: {'u': 0.0, 'd': 0.0, 'l': 0.0, 'r': 1.0}, 23: {'u': 0.0, 'd': 0.0, 'l': 0.0, 'r': 1.0}, 24: {'u': 1.0, 'd': 0.0, 'l': 0.0, 'r': 0.0}}\n",
      "With state values\n",
      "[[ 9.7  9.6  9.5  9.6  9.7]\n",
      " [ 9.8  0.   0.   0.   9.8]\n",
      " [ 9.9 10.   0.  10.   9.9]\n",
      " [ 9.8  0.   0.   0.   9.8]\n",
      " [ 9.7  9.6  9.5  9.6  9.7]]\n",
      "\n",
      "diff = 0.0\n",
      "Current policy\n",
      "{0: {'u': 0.0, 'd': 1.0, 'l': 0.0, 'r': 0.0}, 1: {'u': 0.0, 'd': 0.0, 'l': 1.0, 'r': 0.0}, 2: {'u': 0.0, 'd': 0.0, 'l': 0.0, 'r': 1.0}, 3: {'u': 0.0, 'd': 0.0, 'l': 0.0, 'r': 1.0}, 4: {'u': 0.0, 'd': 1.0, 'l': 0.0, 'r': 0.0}, 5: {'u': 0.0, 'd': 1.0, 'l': 0.0, 'r': 0.0}, 6: {'u': 0.25, 'd': 0.25, 'l': 0.25, 'r': 0.25}, 7: {'u': 0.25, 'd': 0.25, 'l': 0.25, 'r': 0.25}, 8: {'u': 0.25, 'd': 0.25, 'l': 0.25, 'r': 0.25}, 9: {'u': 0.0, 'd': 1.0, 'l': 0.0, 'r': 0.0}, 10: {'u': 0.0, 'd': 0.0, 'l': 0.0, 'r': 1.0}, 11: {'u': 0.0, 'd': 0.0, 'l': 0.0, 'r': 1.0}, 12: {'u': 0.25, 'd': 0.25, 'l': 0.25, 'r': 0.25}, 13: {'u': 0.0, 'd': 0.0, 'l': 1.0, 'r': 0.0}, 14: {'u': 0.0, 'd': 0.0, 'l': 1.0, 'r': 0.0}, 15: {'u': 1.0, 'd': 0.0, 'l': 0.0, 'r': 0.0}, 16: {'u': 0.25, 'd': 0.25, 'l': 0.25, 'r': 0.25}, 17: {'u': 0.25, 'd': 0.25, 'l': 0.25, 'r': 0.25}, 18: {'u': 0.25, 'd': 0.25, 'l': 0.25, 'r': 0.25}, 19: {'u': 1.0, 'd': 0.0, 'l': 0.0, 'r': 0.0}, 20: {'u': 1.0, 'd': 0.0, 'l': 0.0, 'r': 0.0}, 21: {'u': 0.0, 'd': 0.0, 'l': 1.0, 'r': 0.0}, 22: {'u': 0.0, 'd': 0.0, 'l': 0.0, 'r': 1.0}, 23: {'u': 0.0, 'd': 0.0, 'l': 0.0, 'r': 1.0}, 24: {'u': 1.0, 'd': 0.0, 'l': 0.0, 'r': 0.0}}\n",
      "With state values\n",
      "[[ 9.7  9.6  9.5  9.6  9.7]\n",
      " [ 9.8  0.   0.   0.   9.8]\n",
      " [ 9.9 10.   0.  10.   9.9]\n",
      " [ 9.8  0.   0.   0.   9.8]\n",
      " [ 9.7  9.6  9.5  9.6  9.7]]\n"
     ]
    },
    {
     "data": {
      "text/plain": [
       "{0: {'d': 1.0, 'l': 0.0, 'r': 0.0, 'u': 0.0},\n",
       " 1: {'d': 0.0, 'l': 1.0, 'r': 0.0, 'u': 0.0},\n",
       " 2: {'d': 0.0, 'l': 0.0, 'r': 1.0, 'u': 0.0},\n",
       " 3: {'d': 0.0, 'l': 0.0, 'r': 1.0, 'u': 0.0},\n",
       " 4: {'d': 1.0, 'l': 0.0, 'r': 0.0, 'u': 0.0},\n",
       " 5: {'d': 1.0, 'l': 0.0, 'r': 0.0, 'u': 0.0},\n",
       " 6: {'d': 0.25, 'l': 0.25, 'r': 0.25, 'u': 0.25},\n",
       " 7: {'d': 0.25, 'l': 0.25, 'r': 0.25, 'u': 0.25},\n",
       " 8: {'d': 0.25, 'l': 0.25, 'r': 0.25, 'u': 0.25},\n",
       " 9: {'d': 1.0, 'l': 0.0, 'r': 0.0, 'u': 0.0},\n",
       " 10: {'d': 0.0, 'l': 0.0, 'r': 1.0, 'u': 0.0},\n",
       " 11: {'d': 0.0, 'l': 0.0, 'r': 1.0, 'u': 0.0},\n",
       " 12: {'d': 0.25, 'l': 0.25, 'r': 0.25, 'u': 0.25},\n",
       " 13: {'d': 0.0, 'l': 1.0, 'r': 0.0, 'u': 0.0},\n",
       " 14: {'d': 0.0, 'l': 1.0, 'r': 0.0, 'u': 0.0},\n",
       " 15: {'d': 0.0, 'l': 0.0, 'r': 0.0, 'u': 1.0},\n",
       " 16: {'d': 0.25, 'l': 0.25, 'r': 0.25, 'u': 0.25},\n",
       " 17: {'d': 0.25, 'l': 0.25, 'r': 0.25, 'u': 0.25},\n",
       " 18: {'d': 0.25, 'l': 0.25, 'r': 0.25, 'u': 0.25},\n",
       " 19: {'d': 0.0, 'l': 0.0, 'r': 0.0, 'u': 1.0},\n",
       " 20: {'d': 0.0, 'l': 0.0, 'r': 0.0, 'u': 1.0},\n",
       " 21: {'d': 0.0, 'l': 1.0, 'r': 0.0, 'u': 0.0},\n",
       " 22: {'d': 0.0, 'l': 0.0, 'r': 1.0, 'u': 0.0},\n",
       " 23: {'d': 0.0, 'l': 0.0, 'r': 1.0, 'u': 0.0},\n",
       " 24: {'d': 0.0, 'l': 0.0, 'r': 0.0, 'u': 1.0}}"
      ]
     },
     "execution_count": 81,
     "metadata": {},
     "output_type": "execute_result"
    }
   ],
   "source": [
    "policy_iteration(policy, stat_prob, reward, gamma = 1.0, output = True)"
   ]
  },
  {
   "cell_type": "markdown",
   "metadata": {},
   "source": [
    "Examine your results. First look at the state values at convergence of the policy iteration algorithm and answer the following questions:\n",
    "1. Are non-taboo state values closest to the goal the largest? ANS: yes\n",
    "2. Are the non-taboo state values farthest from the goal the smallest? Keep in mind the robot must travel around the barrier. ANS: yes\n",
    "3. Are the non-taboo state values symmetric (e.g. same) with respect to distance from the goal? ANS: Yes.\n",
    "4. Do the taboo states have 0 values? ANS: Yes.\n",
    "\n",
    "If your answer to any of the above questions is No, there is an error in your code. \n",
    "\n",
    "Next, examine the policy you have computed. Do the follow:\n",
    "1. Follow the optimal paths from the 4 corners of the grid to the goal. How does the symmetry and length of these paths make sense in terms of length and state values? ANS: They are symmetry because of same length of the paths\n",
    "2. Imagine that the door for the warehouse is at position (state) 2. Insert an illustration showing the paths of the optimal plans below. You are welcome to start with the PowerPoint illustration in the course Github repository.  \n",
    "\n",
    "<img src=\"HW611.PNG\" alt=\"Drawing\" style=\"width:200px; height:200px\"/>\n",
    "<center> **Grid world optimal plans from state 2 to the goal shown goes here** </center>\n",
    "\n",
    "> **Jagriti: the above is a sample answer.** "
   ]
  },
  {
   "cell_type": "markdown",
   "metadata": {},
   "source": [
    "## Value Iteration \n",
    "\n",
    "Finally, your will use the value iteration algorithm to compute an optimal policy for the robot reaching the goal. Keep in mind that you will need to maintain a state value of 0 for the taboo states. "
   ]
  },
  {
   "cell_type": "code",
   "execution_count": 99,
   "metadata": {
    "collapsed": true,
    "scrolled": false
   },
   "outputs": [],
   "source": [
    "def value_iteration(pi, probs, reward, goal, gamma = 1.0, theta = 0.1, output = False):\n",
    "    delta = theta\n",
    "    v = np.zeros(len(probs))\n",
    "    state_values = np.zeros(len(probs))\n",
    "    current_policy = copy.deepcopy(probs)\n",
    "    while(delta >= theta):\n",
    "        for s in policy.keys()-taboo: # iteratve over all states\n",
    "            temp_values = []\n",
    "            ## Find the values for all possible actions in the state.\n",
    "            for action in reward[s].keys():\n",
    "                s_prime = pi[s][action]\n",
    "                temp_values.append((reward[s][action] + gamma * state_values[s_prime]))\n",
    "            \n",
    "            ## Find the max value and update the value for the state\n",
    "            state_values[s] = max(temp_values)\n",
    "        ## Determine if convergence is achieved\n",
    "        diff = np.sum(np.abs(np.subtract(v, state_values)))\n",
    "        delta = min([delta, np.sum(np.abs(np.subtract(v, state_values)))])\n",
    "        v = np.copy(state_values)\n",
    "        if(output):\n",
    "            print('Difference = ' + str(diff))\n",
    "            print(state_values.reshape(5,5))\n",
    "    \n",
    "    ## Now we need to find the policy that makes max value state transitions\n",
    "    for s in current_policy.keys(): # iterate over all states\n",
    "        ## Find the indicies of maximum state transition values\n",
    "        ## There are two cases. \n",
    "        ## First, the special case of a state adjacent to the goal\n",
    "        ## In this case need to ensure the only possible transition is to the goal.\n",
    "        ## Start by creating a list of the adjacent states.\n",
    "        possible_s_prime = [pi[s][key] for key in current_policy[s].keys()]\n",
    "        ## Check if goal is adjacent, but state is not the goal.\n",
    "        if(goal in possible_s_prime and s != goal):\n",
    "            temp_values = []\n",
    "            for s_prime in current_policy[s].keys(): # Iterate over adjacent states\n",
    "                if(pi[s][s_prime] == goal):  ## account for the special case adjacent to goal\n",
    "                    temp_values.append(reward[s][s_prime])\n",
    "                else: temp_values.append(0.0) ## Other transisions have 0 value.\n",
    "        ## The other case is rather easy requires a lookup of the value of the \n",
    "        ## adjacent state and handled with a list comprehension.             \n",
    "        else: temp_values = [state_values[pi[s][s_prime]] for s_prime in pi[s].keys()]         \n",
    "                \n",
    "        ## Find the index for the state transistions with the largest values \n",
    "        ## May be more than one. \n",
    "        max_index = np.where(np.array(temp_values) == max(temp_values))[0]  \n",
    "        prob_for_policy = 1.0/float(len(max_index)) ## Probabilities of transition\n",
    "        for i, key in enumerate(current_policy[s]): ## Update policy\n",
    "            if(i in max_index): current_policy[s][key] = prob_for_policy\n",
    "            else: current_policy[s][key] = 0.0       \n",
    "    return current_policy\n",
    "\n"
   ]
  },
  {
   "cell_type": "code",
   "execution_count": 100,
   "metadata": {},
   "outputs": [
    {
     "data": {
      "text/plain": [
       "{0, 1, 2, 3, 4, 5, 9, 10, 11, 12, 13, 14, 15, 19, 20, 21, 22, 23, 24}"
      ]
     },
     "execution_count": 100,
     "metadata": {},
     "output_type": "execute_result"
    }
   ],
   "source": [
    "policy.keys()-taboo"
   ]
  },
  {
   "cell_type": "code",
   "execution_count": 101,
   "metadata": {},
   "outputs": [
    {
     "name": "stdout",
     "output_type": "stream",
     "text": [
      "Difference = 50.7\n",
      "[[-0.1 -0.1 -0.1 -0.1 -0.1]\n",
      " [-0.1  0.   0.   0.  -0.1]\n",
      " [-0.1 10.   0.  10.   9.9]\n",
      " [-0.1  0.   0.   0.   9.8]\n",
      " [-0.1 -0.1 -0.1 -0.1  9.7]]\n",
      "Difference = 69.2\n",
      "[[-0.2 -0.2 -0.2 -0.2 -0.2]\n",
      " [-0.2  0.   0.   0.   9.8]\n",
      " [ 9.9 10.   0.  10.   9.9]\n",
      " [ 9.8  0.   0.   0.   9.8]\n",
      " [ 9.7  9.6  9.5  9.6  9.7]]\n",
      "Difference = 20.299999999999997\n",
      "[[-0.3 -0.3 -0.3 -0.3  9.7]\n",
      " [ 9.8  0.   0.   0.   9.8]\n",
      " [ 9.9 10.   0.  10.   9.9]\n",
      " [ 9.8  0.   0.   0.   9.8]\n",
      " [ 9.7  9.6  9.5  9.6  9.7]]\n",
      "Difference = 39.60000000000001\n",
      "[[ 9.7  9.6  9.5  9.6  9.7]\n",
      " [ 9.8  0.   0.   0.   9.8]\n",
      " [ 9.9 10.   0.  10.   9.9]\n",
      " [ 9.8  0.   0.   0.   9.8]\n",
      " [ 9.7  9.6  9.5  9.6  9.7]]\n",
      "Difference = 0.0\n",
      "[[ 9.7  9.6  9.5  9.6  9.7]\n",
      " [ 9.8  0.   0.   0.   9.8]\n",
      " [ 9.9 10.   0.  10.   9.9]\n",
      " [ 9.8  0.   0.   0.   9.8]\n",
      " [ 9.7  9.6  9.5  9.6  9.7]]\n"
     ]
    },
    {
     "data": {
      "text/plain": [
       "{0: {'d': 1.0, 'l': 0.0, 'r': 0.0, 'u': 0.0},\n",
       " 1: {'d': 0.3333333333333333,\n",
       "  'l': 0.0,\n",
       "  'r': 0.3333333333333333,\n",
       "  'u': 0.3333333333333333},\n",
       " 2: {'d': 0.0, 'l': 0.5, 'r': 0.5, 'u': 0.0},\n",
       " 3: {'d': 0.0, 'l': 0.0, 'r': 1.0, 'u': 0.0},\n",
       " 4: {'d': 1.0, 'l': 0.0, 'r': 0.0, 'u': 0.0},\n",
       " 5: {'d': 0.3333333333333333,\n",
       "  'l': 0.3333333333333333,\n",
       "  'r': 0.3333333333333333,\n",
       "  'u': 0.0},\n",
       " 6: {'d': 0.25, 'l': 0.25, 'r': 0.25, 'u': 0.25},\n",
       " 7: {'d': 0.25, 'l': 0.25, 'r': 0.25, 'u': 0.25},\n",
       " 8: {'d': 0.25, 'l': 0.25, 'r': 0.25, 'u': 0.25},\n",
       " 9: {'d': 1.0, 'l': 0.0, 'r': 0.0, 'u': 0.0},\n",
       " 10: {'d': 0.0, 'l': 0.0, 'r': 1.0, 'u': 0.0},\n",
       " 11: {'d': 0.5, 'l': 0.0, 'r': 0.0, 'u': 0.5},\n",
       " 12: {'d': 0.25, 'l': 0.25, 'r': 0.25, 'u': 0.25},\n",
       " 13: {'d': 0.5, 'l': 0.0, 'r': 0.0, 'u': 0.5},\n",
       " 14: {'d': 0.0, 'l': 1.0, 'r': 0.0, 'u': 0.0},\n",
       " 15: {'d': 0.0, 'l': 0.0, 'r': 0.0, 'u': 1.0},\n",
       " 16: {'d': 0.25, 'l': 0.25, 'r': 0.25, 'u': 0.25},\n",
       " 17: {'d': 0.25, 'l': 0.25, 'r': 0.25, 'u': 0.25},\n",
       " 18: {'d': 0.25, 'l': 0.25, 'r': 0.25, 'u': 0.25},\n",
       " 19: {'d': 0.0, 'l': 0.0, 'r': 0.0, 'u': 1.0},\n",
       " 20: {'d': 0.0, 'l': 0.0, 'r': 0.0, 'u': 1.0},\n",
       " 21: {'d': 0.0, 'l': 1.0, 'r': 0.0, 'u': 0.0},\n",
       " 22: {'d': 0.0, 'l': 0.5, 'r': 0.5, 'u': 0.0},\n",
       " 23: {'d': 0.0, 'l': 0.0, 'r': 1.0, 'u': 0.0},\n",
       " 24: {'d': 0.0, 'l': 0.0, 'r': 0.0, 'u': 1.0}}"
      ]
     },
     "execution_count": 101,
     "metadata": {},
     "output_type": "execute_result"
    }
   ],
   "source": [
    "value_iteration(policy, stat_prob, reward, goal = 0,  output = True)"
   ]
  },
  {
   "cell_type": "markdown",
   "metadata": {},
   "source": [
    "Compare your results from the value iteration algorithm to your results from the policy iteration algorithm and answer the following questions:\n",
    "1. Are the state values identical between the two methods? ANS: Pretty much same\n",
    "2. Ignoring the taboo states, are the plans computed by the two methods identical? ANS: No, value iteration takes more step, but eventually converged to same result."
   ]
  },
  {
   "cell_type": "code",
   "execution_count": null,
   "metadata": {
    "collapsed": true
   },
   "outputs": [],
   "source": []
  }
 ],
 "metadata": {
  "kernelspec": {
   "display_name": "Python 3",
   "language": "python",
   "name": "python3"
  },
  "language_info": {
   "codemirror_mode": {
    "name": "ipython",
    "version": 3
   },
   "file_extension": ".py",
   "mimetype": "text/x-python",
   "name": "python",
   "nbconvert_exporter": "python",
   "pygments_lexer": "ipython3",
   "version": "3.6.2"
  }
 },
 "nbformat": 4,
 "nbformat_minor": 2
}
