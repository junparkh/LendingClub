{
 "cells": [
  {
   "cell_type": "markdown",
   "metadata": {},
   "source": [
    "# Homework 3\n",
    "\n",
    "## Inference on Graphical Models\n",
    "\n",
    "In the previous homework, you computed the posterior probabilities of either the cook (C), the butler (B), or both, being a murdered given the choice of weapons (K = knife, P = poison). In addition there is the possibility that a third party may have:\n",
    "- participated in the murder with one or both of the cook or butler, \n",
    "- acted alone in the murder,\n",
    "- or not participated. \n",
    "\n",
    "In this exercise you will construct a Directed Bayesian Graphical Model or belief network for the available evidence and perform inference on some of the variables. \n",
    "\n",
    "Inspector Markov has continued her investigation. Additionally Dr. Turing has had time to perform laboratory analysis. Turing reports to the Inspector that there is a chance that a toxic substance may have been used to incapacitate the victim before the stabbing. So, there are now two possible weapons:\n",
    "- knife alone, \n",
    "- knife with a poison. \n",
    "\n",
    "Given this evidence, Inspector Markov must update her beliefs. Further, she needs to perform inference to determine if there are likely combinations of suspects and weapons. \n",
    "\n",
    "As a first step in creating the belief network, import the packages you will need for this analysis."
   ]
  },
  {
   "cell_type": "code",
   "execution_count": 1,
   "metadata": {
    "collapsed": true
   },
   "outputs": [],
   "source": [
    "from pgmpy.models import BayesianModel\n",
    "from pgmpy.factors.discrete import TabularCPD"
   ]
  },
  {
   "cell_type": "markdown",
   "metadata": {},
   "source": [
    "The joint probability distribution is:\n",
    "\n",
    "$$p(B,C,BW,CW,M)$$   \n",
    "where the letters indicate the following variables;   \n",
    "$B = $ butler committed the crime, {not murderer, murderer},   \n",
    "$C = $ cook committed the crime, {not murderer, murderer},    \n",
    "$BW = $ choice of weapon, {knife, knife with poison}, conditional on butler,  \n",
    "$CW = $ choice of weapon, {knife, knife with poison}, conditional on cook,   \n",
    "$M = $ murderer {butler or cook, third party alone, combination of butler or cook and third party}.    \n",
    "\n",
    "Keeping in mind it is possible the cook, the butler and the third party could be guilty, and that participation in the crime in any capacity constitutes guilt, the distribution can be factorized in the following manner:\n",
    "\n",
    "$$p(B,C,BW,CW,M) = p(B)\\ p(C)\\ p(BW\\ |\\ B)\\ p(CW\\ |\\ C)\\ p(M\\ |\\ BW,CW, C, B)$$  \n",
    "\n",
    "Now you will need to define the skeleton of the graph. Given the independency relationships of the factorized probability distribution define the skeleton of the model (`m_model`) using the `BayesianModel` function.\n",
    "\n",
    ">**Hint:** Using paper and pencil make a sketch of the graph before you commit your skeleton structure to code. This structure will be identical to the previous homework.  \n",
    "\n",
    ">**WARNING:** The distribution and its factorization used for this problem are quite different from previous assignments. "
   ]
  },
  {
   "cell_type": "code",
   "execution_count": 7,
   "metadata": {
    "collapsed": true
   },
   "outputs": [],
   "source": [
    "m_model = BayesianModel([('B', 'BW'), ('C', 'CW'), \n",
    "                        ('BW', 'M'), ('CW', 'M'), ('B','M'),('C','M')])"
   ]
  },
  {
   "cell_type": "markdown",
   "metadata": {},
   "source": [
    "Your next step to create you model is to define the CDP for each independent variable using the `TabularCDP` function. The prior is that butlers are more likely to be murderers than cooks. The tables for these variables are:    \n",
    "\n",
    "\n",
    "$p(B)$   \n",
    "\n",
    "| Case | p |\n",
    "|---|---|\n",
    "|B0 | 0.2 |\n",
    "|B1 | 0.8 |    \n",
    "\n",
    "$p(C)$   \n",
    "\n",
    "| Case | p |\n",
    "|---|---|\n",
    "|C0 | 0.7 |\n",
    "|C1 | 0.3 |\n",
    "\n",
    "\n",
    "Using the above tables define the CDPs. Make sure you use variable names consistent with your model."
   ]
  },
  {
   "cell_type": "code",
   "execution_count": 8,
   "metadata": {},
   "outputs": [
    {
     "name": "stdout",
     "output_type": "stream",
     "text": [
      "╒═════╤═════╕\n",
      "│ B_0 │ 0.2 │\n",
      "├─────┼─────┤\n",
      "│ B_1 │ 0.8 │\n",
      "╘═════╧═════╛\n",
      "╒═════╤═════╕\n",
      "│ C_0 │ 0.7 │\n",
      "├─────┼─────┤\n",
      "│ C_1 │ 0.3 │\n",
      "╘═════╧═════╛\n"
     ]
    }
   ],
   "source": [
    "CDP_B = TabularCPD(variable='B', variable_card=2, values=[[0.2, 0.8]])\n",
    "CDP_C = TabularCPD(variable='C', variable_card=2, values=[[0.7, 0.3]])\n",
    "print(CDP_B)\n",
    "print(CDP_C)"
   ]
  },
  {
   "cell_type": "markdown",
   "metadata": {},
   "source": [
    "Next, define the variables $BW$ and $CW$, the conditional probabilities of choice of weapon given butler or cook. These suspects have difference likely choices of weapons. The conditional probability tables for these variables are:\n",
    "\n",
    "$$p(BW)$$\n",
    "\n",
    "\n",
    "\n",
    "| | B0| B1 |\n",
    "|---|---|---|\n",
    "|BW0 | 0.5 | 0.9 | \n",
    "|BW1 | 0.5 | 0.1 | \n",
    "\n",
    "\n",
    "Here;  \n",
    "BW0 = Butler and knife,   \n",
    "BW1 = Butler and knife with poison.\n",
    "\n",
    "\n",
    "$$p(CW)$$\n",
    "\n",
    "| | C0| C1 |\n",
    "|---|---|---|\n",
    "|CW0 | 0.5 | 0.3 | \n",
    "|CW1 | 0.5 | 0.7 | \n",
    "\n",
    "\n",
    "Here;  \n",
    "CW0 = Cook and knife,   \n",
    "CW1 = Cook and knife with poison.\n",
    "\n",
    ">**Note:** when the butler or cook are not a murderer we have a uniform on uninformative distribution. \n",
    "\n",
    "Give the above tables define the CDPs. "
   ]
  },
  {
   "cell_type": "code",
   "execution_count": 9,
   "metadata": {},
   "outputs": [
    {
     "name": "stdout",
     "output_type": "stream",
     "text": [
      "╒══════╤═════╤═════╕\n",
      "│ B    │ B_0 │ B_1 │\n",
      "├──────┼─────┼─────┤\n",
      "│ BW_0 │ 0.5 │ 0.9 │\n",
      "├──────┼─────┼─────┤\n",
      "│ BW_1 │ 0.5 │ 0.1 │\n",
      "╘══════╧═════╧═════╛\n",
      "╒══════╤═════╤═════╕\n",
      "│ C    │ C_0 │ C_1 │\n",
      "├──────┼─────┼─────┤\n",
      "│ CW_0 │ 0.5 │ 0.3 │\n",
      "├──────┼─────┼─────┤\n",
      "│ CW_1 │ 0.5 │ 0.7 │\n",
      "╘══════╧═════╧═════╛\n"
     ]
    }
   ],
   "source": [
    "CDP_BW = TabularCPD(variable='BW', variable_card=2, values=[[0.5, 0.9],[0.5,0.1]],\n",
    "                   evidence=['B'], evidence_card=[2])\n",
    "print(CDP_BW)\n",
    "CDP_CW = TabularCPD(variable='CW', variable_card=2, values=[[0.5, 0.3],[0.5,0.7]],\n",
    "                   evidence=['C'], evidence_card=[2])\n",
    "print(CDP_CW)"
   ]
  },
  {
   "cell_type": "markdown",
   "metadata": {},
   "source": [
    "Finally, you must define the probability of the murder which are coded:\n",
    "\n",
    "- **M0:** Named party (cook or butler or both) with no third unnamed party, \n",
    "- **M1:** Only the third unnamed party alone (not cook and not butler), \n",
    "- **M2:** Named party (butler or cook or both) and unnamed party together. \n",
    "\n",
    "This CDP is conditional on BK, CK, C and B. Since there are three possible guilty parties here are 48 possible states; $N_{cook_or_butler} *  N_{BK} * N_{CK} * N_{M} = 2 * 2 * 2 * 3 = 48$ as shown here:\n",
    "\n",
    "| | p | p | p | p | p | p | p | p | p | p | p | p |  p | p | p | p |\n",
    "|---|---|---|---|---|---|---|---|---|---|---|---|---|---|---|---|---|---|---|---|\n",
    "|| CW0 | CW0 | CW0 | CW0 | CW0 | CW0 | CW0 | CW0 | CW1 | CW1 | CW1 | CW1 | CW1 | CW1 | CW1 | CW1 |\n",
    "|| BW0 | BW0 | BW0 | BW0 | BW1 | BW1 | BW1 | BW1 | BW0 | BW0 | BW0 | BW0 | BW1 | BW1 | BW1 | BW1 |\n",
    "|| C0 | C0 | C1 | C1 | C0 | C0 | C1 | C1| C0 | C0 | C1 | C1| C0 | C0 | C1 | C1 |\n",
    "|| B0 | B1 | B0 | B1 | B0 | B1 | B0 | B1| B0 | B1 | B0 | B1 | B0 | B1 | B0 | B1|\n",
    "|M0|0.0 | 0.7 | 0.5 | 0.7 | 0.0 | 0.6 | 0.5 |  0.6 | 0.0 | 0.7 | 0.5 |  0.7 | 0.0 | 0.6 | 0.5 |  0.6|\n",
    "|M1| 1.0 | 0.2 | 0.1 |  0.1 | 1.0 | 0.3 | 0.2 |  0.2 | 1.0 | 0.2 | 0.1 |  0.1 | 1.0 | 0.3 | 0.2 |  0.2 |\n",
    "|M2| 0.0 | 0.1 | 0.4 |  0.2 | 0.0 | 0.1 | 0.3 |  0.2 | 0.0 | 0.1 | 0.4 |  0.2 | 0.0 | 0.1 | 0.3 |  0.2 |\n",
    "\n",
    "Using the above table, define the CPD (sorry about all the typing:). "
   ]
  },
  {
   "cell_type": "code",
   "execution_count": 10,
   "metadata": {
    "scrolled": false
   },
   "outputs": [
    {
     "name": "stdout",
     "output_type": "stream",
     "text": [
      "╒═════╤══════╤══════╤══════╤══════╤══════╤══════╤══════╤══════╤══════╤══════╤══════╤══════╤══════╤══════╤══════╤══════╕\n",
      "│ CW  │ CW_0 │ CW_0 │ CW_0 │ CW_0 │ CW_0 │ CW_0 │ CW_0 │ CW_0 │ CW_1 │ CW_1 │ CW_1 │ CW_1 │ CW_1 │ CW_1 │ CW_1 │ CW_1 │\n",
      "├─────┼──────┼──────┼──────┼──────┼──────┼──────┼──────┼──────┼──────┼──────┼──────┼──────┼──────┼──────┼──────┼──────┤\n",
      "│ BW  │ BW_0 │ BW_0 │ BW_0 │ BW_0 │ BW_1 │ BW_1 │ BW_1 │ BW_1 │ BW_0 │ BW_0 │ BW_0 │ BW_0 │ BW_1 │ BW_1 │ BW_1 │ BW_1 │\n",
      "├─────┼──────┼──────┼──────┼──────┼──────┼──────┼──────┼──────┼──────┼──────┼──────┼──────┼──────┼──────┼──────┼──────┤\n",
      "│ C   │ C_0  │ C_0  │ C_1  │ C_1  │ C_0  │ C_0  │ C_1  │ C_1  │ C_0  │ C_0  │ C_1  │ C_1  │ C_0  │ C_0  │ C_1  │ C_1  │\n",
      "├─────┼──────┼──────┼──────┼──────┼──────┼──────┼──────┼──────┼──────┼──────┼──────┼──────┼──────┼──────┼──────┼──────┤\n",
      "│ B   │ B_0  │ B_1  │ B_0  │ B_1  │ B_0  │ B_1  │ B_0  │ B_1  │ B_0  │ B_1  │ B_0  │ B_1  │ B_0  │ B_1  │ B_0  │ B_1  │\n",
      "├─────┼──────┼──────┼──────┼──────┼──────┼──────┼──────┼──────┼──────┼──────┼──────┼──────┼──────┼──────┼──────┼──────┤\n",
      "│ M_0 │ 0.0  │ 0.7  │ 0.5  │ 0.7  │ 0.0  │ 0.6  │ 0.5  │ 0.6  │ 0.0  │ 0.7  │ 0.5  │ 0.7  │ 0.0  │ 0.6  │ 0.5  │ 0.6  │\n",
      "├─────┼──────┼──────┼──────┼──────┼──────┼──────┼──────┼──────┼──────┼──────┼──────┼──────┼──────┼──────┼──────┼──────┤\n",
      "│ M_1 │ 1.0  │ 0.2  │ 0.1  │ 0.1  │ 1.0  │ 0.3  │ 0.2  │ 0.2  │ 1.0  │ 0.2  │ 0.1  │ 0.1  │ 1.0  │ 0.3  │ 0.2  │ 0.2  │\n",
      "├─────┼──────┼──────┼──────┼──────┼──────┼──────┼──────┼──────┼──────┼──────┼──────┼──────┼──────┼──────┼──────┼──────┤\n",
      "│ M_2 │ 0.0  │ 0.1  │ 0.4  │ 0.2  │ 0.0  │ 0.1  │ 0.3  │ 0.2  │ 0.0  │ 0.1  │ 0.4  │ 0.2  │ 0.0  │ 0.1  │ 0.3  │ 0.2  │\n",
      "╘═════╧══════╧══════╧══════╧══════╧══════╧══════╧══════╧══════╧══════╧══════╧══════╧══════╧══════╧══════╧══════╧══════╛\n"
     ]
    }
   ],
   "source": [
    "CDP_M = TabularCPD(variable=\"M\", variable_card=3, values=[\n",
    "            [0.0, 0.7, 0.5, 0.7, 0.0, 0.6, 0.5, 0.6, 0.0, 0.7, 0.5, 0.7, 0.0, 0.6, 0.5, 0.6],\n",
    "            [1.0, 0.2, 0.1, 0.1, 1.0, 0.3, 0.2, 0.2, 1.0, 0.2, 0.1, 0.1, 1.0, 0.3, 0.2, 0.2],\n",
    "            [0.0, 0.1, 0.4, 0.2, 0.0, 0.1, 0.3, 0.2, 0.0, 0.1, 0.4, 0.2, 0.0, 0.1, 0.3, 0.2]],\n",
    "                   evidence=[\"CW\",\"BW\",\"C\",\"B\"], evidence_card=[2,2,2,2])\n",
    "print(CDP_M)\n"
   ]
  },
  {
   "cell_type": "markdown",
   "metadata": {},
   "source": [
    "To complete your belief network, use the `add_cpds` method. \n",
    "\n",
    "> **Hint:** Before going any further make sure you apply the `check_model` method to your complete model. "
   ]
  },
  {
   "cell_type": "code",
   "execution_count": 11,
   "metadata": {},
   "outputs": [
    {
     "data": {
      "text/plain": [
       "True"
      ]
     },
     "execution_count": 11,
     "metadata": {},
     "output_type": "execute_result"
    }
   ],
   "source": [
    "m_model.add_cpds(CDP_B,CDP_BW,CDP_C,CDP_CW,CDP_M)\n",
    "m_model.check_model()"
   ]
  },
  {
   "cell_type": "markdown",
   "metadata": {},
   "source": [
    "Next that the independencies of all the variables in your model are correct using the `local_independencies` method. "
   ]
  },
  {
   "cell_type": "code",
   "execution_count": 21,
   "metadata": {},
   "outputs": [
    {
     "name": "stdout",
     "output_type": "stream",
     "text": [
      "(B _|_ C, CW)\n",
      "(BW _|_ C, CW | B)\n",
      "(C _|_ BW, B)\n",
      "(CW _|_ BW, B | C)\n"
     ]
    },
    {
     "data": {
      "text/plain": [
       "[<TabularCPD representing P(B:2) at 0x20a0d39fdd8>,\n",
       " <TabularCPD representing P(BW:2 | B:2) at 0x20a0e4552b0>,\n",
       " <TabularCPD representing P(C:2) at 0x20a0d39fda0>,\n",
       " <TabularCPD representing P(CW:2 | C:2) at 0x20a0e4552e8>,\n",
       " <TabularCPD representing P(M:3 | CW:2, BW:2, C:2, B:2) at 0x20a0e455518>]"
      ]
     },
     "execution_count": 21,
     "metadata": {},
     "output_type": "execute_result"
    }
   ],
   "source": [
    "print(m_model.local_independencies(['B','BW','C','CW','M']))\n",
    "m_model.get_cpds()  #just check cpd as well\n"
   ]
  },
  {
   "cell_type": "markdown",
   "metadata": {},
   "source": [
    "**Question:** Is your graph an I-map of the distribution and why?"
   ]
  },
  {
   "cell_type": "markdown",
   "metadata": {},
   "source": [
    "ANS: Yes. This graph is an I-map because our distribution's the independence is\n",
    "\n",
    "$$p(B,C,BW,CW,M) = p(B)\\ p(C)\\ p(BW\\ |\\ B)\\ p(CW\\ |\\ C)\\ p(M\\ |\\ BW,CW, C, B)$$  \n",
    "\n",
    "And our graph's independeces are \n",
    "\n",
    "(B _|_ C, CW)\n",
    "(BW _|_ C, CW | B)\n",
    "(C _|_ BW, B)\n",
    "(CW _|_ BW, B | C)\n",
    "\n",
    "It could represents the independencies of the distribution.\n"
   ]
  },
  {
   "cell_type": "markdown",
   "metadata": {},
   "source": [
    "Now you are ready to perform inference on your model. \n",
    "\n",
    "For the first query determine the marginal probability of weapon choice for the butler (with no evidence) using the variable elimination method. "
   ]
  },
  {
   "cell_type": "code",
   "execution_count": 27,
   "metadata": {
    "collapsed": true
   },
   "outputs": [],
   "source": [
    "from pgmpy.inference import VariableElimination\n",
    "m_model_inference = VariableElimination(m_model)\n"
   ]
  },
  {
   "cell_type": "code",
   "execution_count": 31,
   "metadata": {},
   "outputs": [
    {
     "name": "stdout",
     "output_type": "stream",
     "text": [
      "╒══════╤═══════════╕\n",
      "│ BW   │   phi(BW) │\n",
      "╞══════╪═══════════╡\n",
      "│ BW_0 │    0.8200 │\n",
      "├──────┼───────────┤\n",
      "│ BW_1 │    0.1800 │\n",
      "╘══════╧═══════════╛\n"
     ]
    },
    {
     "name": "stderr",
     "output_type": "stream",
     "text": [
      "C:\\Users\\genie\\Anaconda3\\lib\\site-packages\\pgmpy\\factors\\discrete\\DiscreteFactor.py:598: FutureWarning: Using a non-tuple sequence for multidimensional indexing is deprecated; use `arr[tuple(seq)]` instead of `arr[seq]`. In the future this will be interpreted as an array index, `arr[np.array(seq)]`, which will result either in an error or a different result.\n",
      "  phi1.values = phi1.values[slice_]\n"
     ]
    }
   ],
   "source": [
    "# m_model_inference.induced_width(['B','BW','C','CW','M'])\n",
    "qur_BW = m_model_inference.query(variables=['BW'])\n",
    "print(qur_BW['BW'])"
   ]
  },
  {
   "cell_type": "markdown",
   "metadata": {},
   "source": [
    "Next make query to find the marginal probability of weapon choice with evidence the butler is a murderer."
   ]
  },
  {
   "cell_type": "code",
   "execution_count": 35,
   "metadata": {},
   "outputs": [
    {
     "name": "stdout",
     "output_type": "stream",
     "text": [
      "╒══════╤═══════════╕\n",
      "│ BW   │   phi(BW) │\n",
      "╞══════╪═══════════╡\n",
      "│ BW_0 │    0.9000 │\n",
      "├──────┼───────────┤\n",
      "│ BW_1 │    0.1000 │\n",
      "╘══════╧═══════════╛\n"
     ]
    },
    {
     "name": "stderr",
     "output_type": "stream",
     "text": [
      "C:\\Users\\genie\\Anaconda3\\lib\\site-packages\\pgmpy\\factors\\discrete\\DiscreteFactor.py:598: FutureWarning: Using a non-tuple sequence for multidimensional indexing is deprecated; use `arr[tuple(seq)]` instead of `arr[seq]`. In the future this will be interpreted as an array index, `arr[np.array(seq)]`, which will result either in an error or a different result.\n",
      "  phi1.values = phi1.values[slice_]\n"
     ]
    }
   ],
   "source": [
    "qur_BWB0 = m_model_inference.query(variables=['BW'], evidence={'B':1})\n",
    "print(qur_BWB0['BW'])"
   ]
  },
  {
   "cell_type": "markdown",
   "metadata": {},
   "source": [
    "How are the marginal probabilities change by introducing the evidence? Why do you think this is the case?"
   ]
  },
  {
   "cell_type": "markdown",
   "metadata": {},
   "source": [
    "ANS: The marginal probabilities of weapon choice of butler with only knife is higer\n",
    "when given evidence that the bulter is the murderer.\n",
    "It is reasonable because of \n",
    "\n",
    "| | B0| B1 |\n",
    "|---|---|---|\n",
    "|BW0 | 0.5 | 0.9 | \n",
    "|BW1 | 0.5 | 0.1 | \n",
    "\n",
    "This value we have. \n",
    "According to this table, when the bulter is the murderer (B1), BW 0 = 0.9 , BW1 = 0.1"
   ]
  },
  {
   "cell_type": "markdown",
   "metadata": {},
   "source": [
    "Now, turn your attention to the variable M. For your first query on this variable use evidence that the cook and the butler selected knife and poison as the weapon. "
   ]
  },
  {
   "cell_type": "code",
   "execution_count": 36,
   "metadata": {},
   "outputs": [
    {
     "name": "stdout",
     "output_type": "stream",
     "text": [
      "╒═════╤══════════╕\n",
      "│ M   │   phi(M) │\n",
      "╞═════╪══════════╡\n",
      "│ M_0 │   0.3708 │\n",
      "├─────┼──────────┤\n",
      "│ M_1 │   0.5056 │\n",
      "├─────┼──────────┤\n",
      "│ M_2 │   0.1236 │\n",
      "╘═════╧══════════╛\n"
     ]
    },
    {
     "name": "stderr",
     "output_type": "stream",
     "text": [
      "C:\\Users\\genie\\Anaconda3\\lib\\site-packages\\pgmpy\\factors\\discrete\\DiscreteFactor.py:598: FutureWarning: Using a non-tuple sequence for multidimensional indexing is deprecated; use `arr[tuple(seq)]` instead of `arr[seq]`. In the future this will be interpreted as an array index, `arr[np.array(seq)]`, which will result either in an error or a different result.\n",
      "  phi1.values = phi1.values[slice_]\n",
      "C:\\Users\\genie\\Anaconda3\\lib\\site-packages\\pgmpy\\factors\\discrete\\DiscreteFactor.py:586: FutureWarning: Using a non-tuple sequence for multidimensional indexing is deprecated; use `arr[tuple(seq)]` instead of `arr[seq]`. In the future this will be interpreted as an array index, `arr[np.array(seq)]`, which will result either in an error or a different result.\n",
      "  phi.values = phi.values[slice_]\n"
     ]
    }
   ],
   "source": [
    "qur_M = m_model_inference.query(variables=[\"M\"], evidence={'CW':1, 'BW':1})\n",
    "print(qur_M['M'])"
   ]
  },
  {
   "cell_type": "markdown",
   "metadata": {},
   "source": [
    "Now perform a query on the M table with evidence that the cook and the butler selected a knife alone as the weapon."
   ]
  },
  {
   "cell_type": "code",
   "execution_count": 62,
   "metadata": {},
   "outputs": [
    {
     "name": "stdout",
     "output_type": "stream",
     "text": [
      "╒═════╤══════════╕\n",
      "│ M   │   phi(M) │\n",
      "╞═════╪══════════╡\n",
      "│ M_0 │   0.6271 │\n",
      "├─────┼──────────┤\n",
      "│ M_1 │   0.2572 │\n",
      "├─────┼──────────┤\n",
      "│ M_2 │   0.1157 │\n",
      "╘═════╧══════════╛\n"
     ]
    },
    {
     "name": "stderr",
     "output_type": "stream",
     "text": [
      "C:\\Users\\genie\\Anaconda3\\lib\\site-packages\\pgmpy\\factors\\discrete\\DiscreteFactor.py:586: FutureWarning: Using a non-tuple sequence for multidimensional indexing is deprecated; use `arr[tuple(seq)]` instead of `arr[seq]`. In the future this will be interpreted as an array index, `arr[np.array(seq)]`, which will result either in an error or a different result.\n",
      "  phi.values = phi.values[slice_]\n",
      "C:\\Users\\genie\\Anaconda3\\lib\\site-packages\\pgmpy\\factors\\discrete\\DiscreteFactor.py:598: FutureWarning: Using a non-tuple sequence for multidimensional indexing is deprecated; use `arr[tuple(seq)]` instead of `arr[seq]`. In the future this will be interpreted as an array index, `arr[np.array(seq)]`, which will result either in an error or a different result.\n",
      "  phi1.values = phi1.values[slice_]\n"
     ]
    }
   ],
   "source": [
    "qur_M2 = m_model_inference.query(variables=[\"M\"], evidence={'CW':0, 'BW':0})\n",
    "print(qur_M2['M'])\n"
   ]
  },
  {
   "cell_type": "markdown",
   "metadata": {},
   "source": [
    "How can you best explain the change in the marginal distributions given the different evidence?"
   ]
  },
  {
   "cell_type": "markdown",
   "metadata": {},
   "source": [
    "ANS:  We can explain by the table\n",
    "\n",
    "| | p | p | p | p | p | p | p | p | p | p | p | p |  p | p | p | p |\n",
    "|---|---|---|---|---|---|---|---|---|---|---|---|---|---|---|---|---|---|---|---|\n",
    "|| CW0 | CW0 | CW0 | CW0 | CW0 | CW0 | CW0 | CW0 | CW1 | CW1 | CW1 | CW1 | CW1 | CW1 | CW1 | CW1 |\n",
    "|| BW0 | BW0 | BW0 | BW0 | BW1 | BW1 | BW1 | BW1 | BW0 | BW0 | BW0 | BW0 | BW1 | BW1 | BW1 | BW1 |\n",
    "|| C0 | C0 | C1 | C1 | C0 | C0 | C1 | C1| C0 | C0 | C1 | C1| C0 | C0 | C1 | C1 |\n",
    "|| B0 | B1 | B0 | B1 | B0 | B1 | B0 | B1| B0 | B1 | B0 | B1 | B0 | B1 | B0 | B1|\n",
    "|M0|0.0 | 0.7 | 0.5 | 0.7 | 0.0 | 0.6 | 0.5 |  0.6 | 0.0 | 0.7 | 0.5 |  0.7 | 0.0 | 0.6 | 0.5 |  0.6|\n",
    "|M1| 1.0 | 0.2 | 0.1 |  0.1 | 1.0 | 0.3 | 0.2 |  0.2 | 1.0 | 0.2 | 0.1 |  0.1 | 1.0 | 0.3 | 0.2 |  0.2 |\n",
    "|M2| 0.0 | 0.1 | 0.4 |  0.2 | 0.0 | 0.1 | 0.3 |  0.2 | 0.0 | 0.1 | 0.4 |  0.2 | 0.0 | 0.1 | 0.3 |  0.2 |\n",
    "\n",
    "This explain is not accurate, becuase marginal distributions are caluated by conditional distribution, but intuitively, \n",
    "\n",
    "the marginal distribution of CW0 and BW0 is\n",
    "\n",
    "0.0+0.7+0.5+0.7 | 1.0+0.2+0.1+0.1 | 0.0+0.1+0.4+0.2\n",
    "\n",
    "= 1.9 | 1.4 | 0.7    -> normalize = 0.475 | 0.35 | 0.175\n",
    "\n",
    "CW1 and BW1 is  0.0+0.6+0.5+0.6 / 1.0+0.3+0.2+0.2 / 0.0+0.1+0.3+0.2\n",
    "\n",
    "= 1.7 | 1.7 | 0.6    -> normalize = 0.425 | 0.425 | 0.15\n",
    "\n",
    "approximately, we can see difference ratio between given CW:0, BW:0 and given CW:1, BW:1\n"
   ]
  },
  {
   "cell_type": "markdown",
   "metadata": {},
   "source": [
    "Now, perform a query on the M variable with evidence that the cook was not involved and the butler's choice of weapon was the knife alone.  "
   ]
  },
  {
   "cell_type": "code",
   "execution_count": 41,
   "metadata": {},
   "outputs": [
    {
     "name": "stdout",
     "output_type": "stream",
     "text": [
      "╒═════╤══════════╕\n",
      "│ M   │   phi(M) │\n",
      "╞═════╪══════════╡\n",
      "│ M_0 │   0.6146 │\n",
      "├─────┼──────────┤\n",
      "│ M_1 │   0.2976 │\n",
      "├─────┼──────────┤\n",
      "│ M_2 │   0.0878 │\n",
      "╘═════╧══════════╛\n"
     ]
    },
    {
     "name": "stderr",
     "output_type": "stream",
     "text": [
      "C:\\Users\\genie\\Anaconda3\\lib\\site-packages\\pgmpy\\factors\\discrete\\DiscreteFactor.py:586: FutureWarning: Using a non-tuple sequence for multidimensional indexing is deprecated; use `arr[tuple(seq)]` instead of `arr[seq]`. In the future this will be interpreted as an array index, `arr[np.array(seq)]`, which will result either in an error or a different result.\n",
      "  phi.values = phi.values[slice_]\n",
      "C:\\Users\\genie\\Anaconda3\\lib\\site-packages\\pgmpy\\factors\\discrete\\DiscreteFactor.py:598: FutureWarning: Using a non-tuple sequence for multidimensional indexing is deprecated; use `arr[tuple(seq)]` instead of `arr[seq]`. In the future this will be interpreted as an array index, `arr[np.array(seq)]`, which will result either in an error or a different result.\n",
      "  phi1.values = phi1.values[slice_]\n"
     ]
    }
   ],
   "source": [
    "qur_M3 = m_model_inference.query(variables=['M'], evidence={'C':0, 'BW':0})\n",
    "print(qur_M3['M'])"
   ]
  },
  {
   "cell_type": "markdown",
   "metadata": {},
   "source": [
    "For the final set of queries you will use the belief propagation method to your DAG. Perform belief propagation and print the factors."
   ]
  },
  {
   "cell_type": "code",
   "execution_count": 56,
   "metadata": {},
   "outputs": [
    {
     "name": "stderr",
     "output_type": "stream",
     "text": [
      "C:\\Users\\genie\\Anaconda3\\lib\\site-packages\\pgmpy\\factors\\discrete\\DiscreteFactor.py:586: FutureWarning: Using a non-tuple sequence for multidimensional indexing is deprecated; use `arr[tuple(seq)]` instead of `arr[seq]`. In the future this will be interpreted as an array index, `arr[np.array(seq)]`, which will result either in an error or a different result.\n",
      "  phi.values = phi.values[slice_]\n",
      "C:\\Users\\genie\\Anaconda3\\lib\\site-packages\\pgmpy\\factors\\discrete\\DiscreteFactor.py:598: FutureWarning: Using a non-tuple sequence for multidimensional indexing is deprecated; use `arr[tuple(seq)]` instead of `arr[seq]`. In the future this will be interpreted as an array index, `arr[np.array(seq)]`, which will result either in an error or a different result.\n",
      "  phi1.values = phi1.values[slice_]\n"
     ]
    },
    {
     "data": {
      "text/plain": [
       "defaultdict(list,\n",
       "            {'B': [<DiscreteFactor representing phi(B:2) at 0x20a0e60f550>,\n",
       "              <DiscreteFactor representing phi(BW:2, B:2) at 0x20a0e60f780>,\n",
       "              <DiscreteFactor representing phi(M:3, CW:2, BW:2, C:2, B:2) at 0x20a0e60fa20>],\n",
       "             'BW': [<DiscreteFactor representing phi(BW:2, B:2) at 0x20a0e60f780>,\n",
       "              <DiscreteFactor representing phi(M:3, CW:2, BW:2, C:2, B:2) at 0x20a0e60fa20>],\n",
       "             'C': [<DiscreteFactor representing phi(C:2) at 0x20a0e60f940>,\n",
       "              <DiscreteFactor representing phi(CW:2, C:2) at 0x20a0e60fa90>,\n",
       "              <DiscreteFactor representing phi(M:3, CW:2, BW:2, C:2, B:2) at 0x20a0e60fa20>],\n",
       "             'CW': [<DiscreteFactor representing phi(CW:2, C:2) at 0x20a0e60fa90>,\n",
       "              <DiscreteFactor representing phi(M:3, CW:2, BW:2, C:2, B:2) at 0x20a0e60fa20>],\n",
       "             'M': [<DiscreteFactor representing phi(M:3, CW:2, BW:2, C:2, B:2) at 0x20a0e60fa20>]})"
      ]
     },
     "execution_count": 56,
     "metadata": {},
     "output_type": "execute_result"
    }
   ],
   "source": [
    "from pgmpy.inference import BeliefPropagation\n",
    "m_belief = BeliefPropagation(m_model)\n",
    "m_belief.factors"
   ]
  },
  {
   "cell_type": "code",
   "execution_count": 57,
   "metadata": {
    "collapsed": true
   },
   "outputs": [],
   "source": [
    "# for key in m_belief.clique_beliefs.keys():\n",
    "#     print(m_belief.clique_beliefs[key])\n"
   ]
  },
  {
   "cell_type": "markdown",
   "metadata": {},
   "source": [
    "How many cliques are in the graph and what is the maximum span (number of nodes)? "
   ]
  },
  {
   "cell_type": "markdown",
   "metadata": {},
   "source": [
    "ANS: It has [BW,B] , [M,CW,BW,C,B] , [CW,C].  3 cliques, maximum 5 span.\n"
   ]
  },
  {
   "cell_type": "markdown",
   "metadata": {},
   "source": [
    "Now query the BW and M variables using evidence that the cook is not a murderer."
   ]
  },
  {
   "cell_type": "code",
   "execution_count": 60,
   "metadata": {},
   "outputs": [
    {
     "name": "stdout",
     "output_type": "stream",
     "text": [
      "╒══════╤═══════════╕\n",
      "│ BW   │   phi(BW) │\n",
      "╞══════╪═══════════╡\n",
      "│ BW_0 │    0.8200 │\n",
      "├──────┼───────────┤\n",
      "│ BW_1 │    0.1800 │\n",
      "╘══════╧═══════════╛\n",
      "╒═════╤══════════╕\n",
      "│ M   │   phi(M) │\n",
      "╞═════╪══════════╡\n",
      "│ M_0 │   0.5520 │\n",
      "├─────┼──────────┤\n",
      "│ M_1 │   0.3680 │\n",
      "├─────┼──────────┤\n",
      "│ M_2 │   0.0800 │\n",
      "╘═════╧══════════╛\n"
     ]
    }
   ],
   "source": [
    "belief_query = m_belief.query(variables=['BW','M'], evidence={'C':0})\n",
    "print(belief_query['BW'])\n",
    "print(belief_query['M'])"
   ]
  },
  {
   "cell_type": "markdown",
   "metadata": {},
   "source": [
    "Compare these marginal distributions to the marginal distributions you obtained with simple variable elimination. Is this result what you expected? "
   ]
  },
  {
   "cell_type": "markdown",
   "metadata": {},
   "source": [
    "ANS: Yes, this result is quite understandable. little bit less M_0 but higher M_1. \n"
   ]
  },
  {
   "cell_type": "markdown",
   "metadata": {},
   "source": [
    "There are many other possible queries you can perform on this model. You may wish to explore some more of these. "
   ]
  }
 ],
 "metadata": {
  "kernelspec": {
   "display_name": "Python 3",
   "language": "python",
   "name": "python3"
  },
  "language_info": {
   "codemirror_mode": {
    "name": "ipython",
    "version": 3
   },
   "file_extension": ".py",
   "mimetype": "text/x-python",
   "name": "python",
   "nbconvert_exporter": "python",
   "pygments_lexer": "ipython3",
   "version": "3.6.2"
  }
 },
 "nbformat": 4,
 "nbformat_minor": 2
}
