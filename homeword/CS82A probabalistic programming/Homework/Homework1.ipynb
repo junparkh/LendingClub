{
 "cells": [
  {
   "cell_type": "markdown",
   "metadata": {},
   "source": [
    "# CSCI E-82A\n",
    "## Homework assignment 1\n",
    "\n",
    "> **Note:** To solve the problems in this exercise, compute the probabilities using Bayes' theorem. In subsequent exercises, you will use more computationally efficient and easier to formulate graphical models. \n",
    "\n",
    "## Scenario\n",
    "\n",
    "Inspector Andrea Markov receives a call that Lord Fauntleroy has been murdered in his manor house. She is told that only the cook and butler were present in the house at the time of the crime and that there is no evidence of an intruder. Further, she learns that the only possible murder weapons are a knife and poison. \n",
    "\n",
    "Before leaving the police station the Inspector instructs Sargent Bernoulli to gather information on the outcomes of similar murder investigations. She tells the Sargent that it is entirely possible that both the maid and the cook could have worked together. Since the cook and the butler could have acted alone or together, we will assume independence: $p(C,B) = p(C)p(B)$  \n",
    "\n",
    "From the available data Bernoulli is able to construct the following tables for the probabilities that the cook, $C$, or butler, $B$ is responsible for the murder. "
   ]
  },
  {
   "cell_type": "code",
   "execution_count": 1,
   "metadata": {},
   "outputs": [
    {
     "name": "stdout",
     "output_type": "stream",
     "text": [
      "    C0   C1\n",
      "I  0.7  0.3\n",
      " \n",
      "    B0   B1\n",
      "I  0.4  0.6\n"
     ]
    }
   ],
   "source": [
    "import pandas as pd\n",
    "import numpy as np\n",
    "\n",
    "C = pd.DataFrame({'I':[0.7,0.3]}, index = ['C0','C1'])\n",
    "print(C.transpose())\n",
    "print(' ')\n",
    "B = pd.DataFrame({'I':[0.4,0.6]}, index = ['B0','B1'])\n",
    "print(B.transpose())"
   ]
  },
  {
   "cell_type": "markdown",
   "metadata": {},
   "source": [
    "Sargent Bernoulli also discovers that cooks use poison, $P$, or knifes, $K$ with equal probability, whereas butlers favor knifes. Keeping in mind that the suspects could have acted together, he constructs the following table:"
   ]
  },
  {
   "cell_type": "code",
   "execution_count": 2,
   "metadata": {},
   "outputs": [
    {
     "name": "stdout",
     "output_type": "stream",
     "text": [
      "     C    B  C_B\n",
      "P  0.5  0.3  0.4\n",
      "K  0.5  0.7  0.6\n"
     ]
    }
   ],
   "source": [
    "W = pd.DataFrame({'P':[0.5,0.3,0.4],'K':[0.5,0.7,0.6]}, index = ['C','B', 'C_B']).transpose()\n",
    "print(W)\n",
    "\n"
   ]
  },
  {
   "cell_type": "markdown",
   "metadata": {},
   "source": [
    "Given this prior information, Inspector Markov can compute the prior probabilities that the cook or the butler committed the crime, given the type of weapon used. \n",
    "\n",
    "In the cell below, compute the prior probabilities that the cook or the butler committed the crime with each of the possible weapons (you may want to add code cells to separate the steps of your calculation). \n",
    "\n",
    "> **Hint 1:** Use Bayes' theorem to find the probabilities $p(B|K)$, $p(B|P)$, $p(C|K)$ and $p(C|P)$. Since the suspects may have worked together, the sum of these probabilities will be greater than 1.0.    \n",
    "> **Hint 2:** Computing the numerators is relatively straight forward. For the denominator there are 8 possible cases. However two cases can be eliminated, since there are only two suspects $P( \\urcorner C \\wedge  \\urcorner B) = 0$, where $ \\urcorner$ is the logical not operator and $\\wedge$ is the logical and. "
   ]
  },
  {
   "cell_type": "code",
   "execution_count": 3,
   "metadata": {
    "collapsed": true
   },
   "outputs": [],
   "source": [
    "#notation of expansion\n",
    "\n",
    "# P(B|K) denominator = p(b)*(p(C)*(P(K|B and C)+P(P|B and C)) + P(not C)*(P(K|B and not C)+P(P|B and not C))\n",
    "#                 + p(not b)*(P(C) *(P(K|not B and C)+P(P|not B and C)))\n",
    "                           \n",
    "# P(B|K) numerator = p(b)*(P(C)*P(K|B and C) +P(not C)*P(K|B and not C))    \n",
    "\n",
    "#notation\n",
    "\n",
    "# P(B) =    B.loc[\"B1\"]\n",
    "# P(not B) = B.loc[\"B0\"]\n",
    "# P(C) = C.loc[\"C1\"]\n",
    "# P(not C) = C.loc[\"C0\"]\n",
    "\n",
    "# P(B and C) = B.loc[\"B1\"]*C.loc[\"C1\"] ;0.18\n",
    "# P(B and not C) = B.loc[\"B1\"]*C.loc[\"C0\"]\n",
    "# P(not B and C) =B.loc[\"B0\"]*C.loc[\"C1\"]\n",
    "# P(not B and not C) = 0 ;not use\n",
    "\n",
    "# P(K|B and C) = W.C_B[1]\n",
    "# P(P|B and C) = W.C_B[0]\n",
    "# P(K|B and not C) = W.B[1]\n",
    "# P(P|B and not C) = W.B[0]\n",
    "# P(K|not B and C) = W.C[1]\n",
    "# P(P|not B and C) = W.C[0]"
   ]
  },
  {
   "cell_type": "code",
   "execution_count": 4,
   "metadata": {
    "collapsed": true
   },
   "outputs": [],
   "source": [
    "denominator = B.loc[\"B1\"]*(C.loc[\"C1\"] *(W.C_B[1]+W.C_B[0]) + C.loc[\"C0\"]*(W.B[1]+W.B[0]) \n",
    "                          ) + B.loc[\"B0\"] * (C.loc[\"C1\"] * (W.C[1] +W.C[0]))\n",
    "\n",
    "b_given_k_numerator = B.loc[\"B1\"]*(C.loc[\"C1\"]*W.C_B[1] + C.loc[\"C0\"]*W.B[1])\n",
    "b_given_p_numerator = B.loc[\"B1\"]*(C.loc[\"C1\"]*W.C_B[0] + C.loc[\"C0\"]*W.B[0])\n",
    "c_given_k_numerator = C.loc[\"C1\"]*(B.loc[\"B1\"]*W.C_B[1] + B.loc[\"B0\"]*W.C[1])\n",
    "c_given_p_numerator = C.loc[\"C1\"]*(B.loc[\"B1\"]*W.C_B[0] + B.loc[\"B0\"]*W.C[0])\n",
    "\n",
    "b_given_k = b_given_k_numerator/denominator\n",
    "b_given_p = b_given_p_numerator/denominator\n",
    "c_given_k = c_given_k_numerator/denominator\n",
    "c_given_p = c_given_p_numerator/denominator\n"
   ]
  },
  {
   "cell_type": "markdown",
   "metadata": {},
   "source": [
    "What the Inspector really wants to know is the prior probability that each of the suspects in guilty, regardless of the weapon used. In the cell below, compute the probability each suspect is guilty by summing over the possible weapons. "
   ]
  },
  {
   "cell_type": "code",
   "execution_count": 5,
   "metadata": {},
   "outputs": [
    {
     "name": "stdout",
     "output_type": "stream",
     "text": [
      "[[0.55833333]\n",
      " [0.275     ]\n",
      " [0.23333333]\n",
      " [0.18333333]]\n"
     ]
    }
   ],
   "source": [
    "investigation = np.array([b_given_k,b_given_p,c_given_k,c_given_p])\n",
    "print(investigation)"
   ]
  },
  {
   "cell_type": "code",
   "execution_count": 6,
   "metadata": {},
   "outputs": [
    {
     "name": "stdout",
     "output_type": "stream",
     "text": [
      "Butler\n"
     ]
    }
   ],
   "source": [
    "if ((b_given_k+b_given_p).values>(c_given_k+c_given_p).values):\n",
    "    print(\"Butler\")\n",
    "else:\n",
    "    print(\"Cook\")"
   ]
  },
  {
   "cell_type": "markdown",
   "metadata": {},
   "source": [
    "From these prior probabilities it seems that the Inspector should focus her investigation on the more likely suspect. Which suspect is that? "
   ]
  },
  {
   "cell_type": "markdown",
   "metadata": {},
   "source": [
    "ANS: Butler"
   ]
  },
  {
   "cell_type": "markdown",
   "metadata": {},
   "source": [
    "## Adding evidence\n",
    "\n",
    "Upon arriving at the crime scene, Inspector Markov finds that Doctor Turing has already examined the body. The Doctor tells Markov that she is completely convinced that a knife wound is the cause of death, and has found no sign of poisoning. Given this new evidence, the Inspector must update her belief in which suspect is most likely to have committed the crime. \n",
    "\n",
    "In the cell below, compute the probabilities that either the butler or the cook has committed the crime. In other words, compute the probabilities for the case where $p(Poison) = 0$.\n",
    "\n",
    "> **Note:** Once again the probabilities will not add to 1.0 since the suspects may have collaborated in the murder. "
   ]
  },
  {
   "cell_type": "code",
   "execution_count": 7,
   "metadata": {
    "collapsed": true
   },
   "outputs": [],
   "source": [
    "newdenominator = B.loc[\"B1\"]*(C.loc[\"C1\"] *(W.C_B[1]) + C.loc[\"C0\"]*(W.B[1] \n",
    "                          ) + B.loc[\"B0\"] * (C.loc[\"C1\"] * (W.C[1])))"
   ]
  },
  {
   "cell_type": "code",
   "execution_count": 8,
   "metadata": {},
   "outputs": [
    {
     "name": "stdout",
     "output_type": "stream",
     "text": [
      "[0.91780822] [0.38356164]\n"
     ]
    }
   ],
   "source": [
    "newb_given_k = b_given_k_numerator/newdenominator\n",
    "newc_given_k = c_given_k_numerator/newdenominator\n",
    "print(newb_given_k.values,newc_given_k.values)"
   ]
  },
  {
   "cell_type": "code",
   "execution_count": 9,
   "metadata": {},
   "outputs": [
    {
     "name": "stdout",
     "output_type": "stream",
     "text": [
      "Butler\n"
     ]
    }
   ],
   "source": [
    "if ((newb_given_k).values>(newc_given_k).values):\n",
    "    print(\"Butler\")\n",
    "else:\n",
    "    print(\"Cook\")"
   ]
  },
  {
   "cell_type": "markdown",
   "metadata": {},
   "source": [
    "In the cell below compare the updated probabilities that each suspect is guilty to the prior belief that Inspector Markov had before obtaining the additional evidence. How can you best explain this change?"
   ]
  },
  {
   "cell_type": "markdown",
   "metadata": {},
   "source": [
    "ANS: Butler(same)"
   ]
  },
  {
   "cell_type": "code",
   "execution_count": null,
   "metadata": {
    "collapsed": true
   },
   "outputs": [],
   "source": []
  }
 ],
 "metadata": {
  "kernelspec": {
   "display_name": "Python 3",
   "language": "python",
   "name": "python3"
  },
  "language_info": {
   "codemirror_mode": {
    "name": "ipython",
    "version": 3
   },
   "file_extension": ".py",
   "mimetype": "text/x-python",
   "name": "python",
   "nbconvert_exporter": "python",
   "pygments_lexer": "ipython3",
   "version": "3.6.2"
  }
 },
 "nbformat": 4,
 "nbformat_minor": 2
}
