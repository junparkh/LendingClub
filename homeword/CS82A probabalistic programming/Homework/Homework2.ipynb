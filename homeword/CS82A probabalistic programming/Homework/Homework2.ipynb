{
 "cells": [
  {
   "cell_type": "markdown",
   "metadata": {},
   "source": [
    "# Homework 2\n",
    "\n",
    "## Directed Graphical Models\n",
    "\n",
    "In the previous homework, you computed the posterior probabilities of either the cook (C), the butler (B), or both, being a murdered given the choice of weapons (K = knife, P = poison). In this exercise you will construct a Directed Bayesian Graphical Model or belief network for the available evidence. \n",
    "\n",
    "As Inspector Markov has continued her investigation she has discovered an unexplained set of footprints, evidence that a third person may have been involved in the crime. Given that there is no evidence of a break in, she realizes that if a third person was involved they must have had assistance from either the cook, the butler or both. In other words, the cook and the butler may be guilty even if they did not commit the actual killing with the knife. \n",
    "\n",
    "The inspector also learns that further tests on the body have confirmed Dr Turing's conclusion that the cause of death was only a knife. \n",
    "\n",
    "Given this evidence, Inspector Markov must update her beliefs. \n",
    "\n",
    "As a first step in creating the belief network, import the packages you will need for this analysis."
   ]
  },
  {
   "cell_type": "code",
   "execution_count": 1,
   "metadata": {
    "collapsed": true
   },
   "outputs": [],
   "source": [
    "from pgmpy.models import BayesianModel\n",
    "from pgmpy.factors.discrete import TabularCPD"
   ]
  },
  {
   "cell_type": "markdown",
   "metadata": {},
   "source": [
    "The joint probability distribution is:\n",
    "\n",
    "$$p(B,C,W,BK,CK,M)$$   \n",
    "where the letters indicate the following variables;   \n",
    "$B = $ butler committed the crime,   \n",
    "$C = $ cook committed the crime,   \n",
    "$W = $ weapon K = knife, P = poison,   \n",
    "$BK = $ butler committed the crime with a knife conditional on butler and weapon,   \n",
    "$CK = $ cook committed the crime with a knife, conditional on cook and weapon,   \n",
    "$M = $ butler, cook or both committed the crime, conditional on BK, CK.    \n",
    "\n",
    "Notice that because of the evidence provided by Dr Turing we can neglect and conditional distribution where the weapon was poison. Also, it is possible the cook and butler are guilty without having actually used the knife; $p(BK_0,CK_0) \\ne 0$.\n",
    "\n",
    "Given the independencies, this distribution can be factorized in the following manner:\n",
    "\n",
    "$$p(B,C,W,BK,CK,M) = p(B)\\ p(C)\\ p(W)\\ p(BK\\ |\\ B,K)\\ p(CK\\ |\\ C,K)\\ p(M\\ |\\ BK,CK)$$\n",
    "\n",
    "Now you will need to define the skeleton of the graph. Given the independency relationships of the factorized probability distribution define the skeleton of the model (`m_model`) using the `BayesianModel` function.\n",
    "\n",
    ">**Hint:** Using paper and pencil make a sketch of the graph before you commit your skeleton structure to code. "
   ]
  },
  {
   "cell_type": "code",
   "execution_count": 2,
   "metadata": {
    "collapsed": true
   },
   "outputs": [],
   "source": [
    "m_model = BayesianModel([('B', 'BK'), ('C', 'CK'), ('W', 'BK'), (\"W\", 'CK'),\n",
    "                        ('BK', 'M'), ('CK', 'M')])"
   ]
  },
  {
   "cell_type": "markdown",
   "metadata": {},
   "source": [
    "Your next step to create you model is to define the CDP for each independent variable using the `TabularCDP` function. The tables for these variables are:    \n",
    "\n",
    "\n",
    "$p(B)$   \n",
    "\n",
    "| Case | p |\n",
    "|---|---|\n",
    "|$B_0$ | 0.4 |\n",
    "|$B_1$ | 0.6 |    \n",
    "\n",
    "$p(C)$   \n",
    "\n",
    "| Case | p |\n",
    "|---|---|\n",
    "|$C_0$ | 0.7 |\n",
    "|$C_1$ | 0.3 |\n",
    "\n",
    "$p(W)$   \n",
    "\n",
    "| Case | p |\n",
    "|---|---|\n",
    "|$W_0$ | 1.0 |\n",
    "\n",
    "Notice that since the Inspector is sure the weapon was a knife, the cardinality of $W = 1$, $p(K) = 1.0$. This fact reduces the cardinality of other variables as you will see. \n",
    "\n",
    "Using the above tables define the CDPs. Make sure you use variable names consistent with your model."
   ]
  },
  {
   "cell_type": "code",
   "execution_count": 3,
   "metadata": {},
   "outputs": [
    {
     "name": "stdout",
     "output_type": "stream",
     "text": [
      "╒═════╤═════╕\n",
      "│ B_0 │ 0.4 │\n",
      "├─────┼─────┤\n",
      "│ B_1 │ 0.6 │\n",
      "╘═════╧═════╛\n",
      "╒═════╤═════╕\n",
      "│ C_0 │ 0.7 │\n",
      "├─────┼─────┤\n",
      "│ C_1 │ 0.3 │\n",
      "╘═════╧═════╛\n",
      "╒═════╤═══╕\n",
      "│ W_0 │ 1 │\n",
      "╘═════╧═══╛\n"
     ]
    }
   ],
   "source": [
    "CDP_B = TabularCPD(variable='B', variable_card=2, values=[[0.4, 0.6]])\n",
    "CDP_C = TabularCPD(variable='C', variable_card=2, values=[[0.7, 0.3]])\n",
    "CDP_W = TabularCPD(variable='W', variable_card=1, values=[[1.0]])\n",
    "print(CDP_B)\n",
    "print(CDP_C)\n",
    "print(CDP_W)"
   ]
  },
  {
   "cell_type": "markdown",
   "metadata": {},
   "source": [
    "Next, define the variables $BK$ and $CK$, the conditional probabilities that the butler or the cook are guilty, given the murder weapon. You need not consider cases of poison, $P$, as the probabilities are zero, reducing the number of states with non-zero probabilities. Thus, the probability tables for these variables are:\n",
    "\n",
    "$$p(BK)$$\n",
    "\n",
    "| | p | p |\n",
    "|---|---|\n",
    "| | $B_0$ | $B_1$|\n",
    "| | $K_1$ | $K_1$ |\n",
    "|$BK_0$ | 1.0 | 1.0 |\n",
    "\n",
    "$$p(CK)$$\n",
    "\n",
    "| | p | p |\n",
    "|---|---|\n",
    "| | $C_0$ | $C_1$|\n",
    "| | $K_1$ | $K_1$ |\n",
    "|$CK_0$ | 1.0 | 1.0 |\n",
    "\n",
    "There are two odd aspects of these tables. First, convention is broken by having the positive case of a knife labeled as 0. Second, probabilities are all 1.0 since a knife was used and this fact is independent of the perpetrator. \n",
    "\n",
    "Give the above tables define the CDPs. "
   ]
  },
  {
   "cell_type": "code",
   "execution_count": 4,
   "metadata": {},
   "outputs": [
    {
     "name": "stdout",
     "output_type": "stream",
     "text": [
      "╒══════╤═════╤═════╕\n",
      "│ W    │ W_0 │ W_0 │\n",
      "├──────┼─────┼─────┤\n",
      "│ B    │ B_0 │ B_1 │\n",
      "├──────┼─────┼─────┤\n",
      "│ BK_0 │ 1.0 │ 1.0 │\n",
      "╘══════╧═════╧═════╛\n",
      "╒══════╤═════╤═════╕\n",
      "│ W    │ W_0 │ W_0 │\n",
      "├──────┼─────┼─────┤\n",
      "│ C    │ C_0 │ C_1 │\n",
      "├──────┼─────┼─────┤\n",
      "│ CK_0 │ 1.0 │ 1.0 │\n",
      "╘══════╧═════╧═════╛\n"
     ]
    }
   ],
   "source": [
    "\n",
    "CDP_BK = TabularCPD(variable='BK', variable_card=1, values=[[1.0, 1.0]],\n",
    "                    evidence=['W', 'B'],evidence_card=[1, 2])\n",
    "print(CDP_BK)\n",
    "CDP_CK = TabularCPD(variable='CK', variable_card=1, values=[[1.0,1.0]],\n",
    "                   evidence= ['W','C'], evidence_card=[1,2])\n",
    "print(CDP_CK)\n"
   ]
  },
  {
   "cell_type": "markdown",
   "metadata": {},
   "source": [
    "**Question:** If $p(Poison) \\ne 0$ how many possible states would each of these CDPs have?  "
   ]
  },
  {
   "cell_type": "markdown",
   "metadata": {},
   "source": [
    "ANS: 4 \n",
    "\n",
    "Because $N_{B} * N_{W(K,P)} = 2 * 2 = 4$"
   ]
  },
  {
   "cell_type": "markdown",
   "metadata": {},
   "source": [
    "Finally, you must define the probability of the murder; butler = 0, cook = 1, butler and cook = 2. This CDP is conditional on both $BK$ and $CK$. There are 12 possible states; $N_{BK} * N_{CK} * N_{M} = 2 * 2 * 4 = 12$ as shown here:\n",
    "\n",
    "| | p | p | p |\n",
    "|---|---|---|---|\n",
    "|| $CK_0$ | $CK_0$ | $CK_1$ | $CK_1$|\n",
    "|| $BK_0$ | $BK_1$ | $BK_0$ | $BK_1$ |\n",
    "|$M_0$| 0.4 | 0.7 | 0.1 | 0.3 |\n",
    "|$M_1$| 0.4  | 0.1 | 0.7 | 0.3 |\n",
    "|$M_2$| 0.2 | 0.2 | 0.2 | 0.5 |"
   ]
  },
  {
   "cell_type": "code",
   "execution_count": 12,
   "metadata": {},
   "outputs": [
    {
     "name": "stdout",
     "output_type": "stream",
     "text": [
      "╒═════╤══════╤══════╤══════╤══════╕\n",
      "│ CK  │ CK_0 │ CK_0 │ CK_1 │ CK_1 │\n",
      "├─────┼──────┼──────┼──────┼──────┤\n",
      "│ BK  │ BK_0 │ BK_1 │ BK_0 │ BK_1 │\n",
      "├─────┼──────┼──────┼──────┼──────┤\n",
      "│ M_0 │ 0.4  │ 0.7  │ 0.1  │ 0.3  │\n",
      "├─────┼──────┼──────┼──────┼──────┤\n",
      "│ M_1 │ 0.4  │ 0.1  │ 0.7  │ 0.3  │\n",
      "├─────┼──────┼──────┼──────┼──────┤\n",
      "│ M_2 │ 0.2  │ 0.2  │ 0.2  │ 0.4  │\n",
      "╘═════╧══════╧══════╧══════╧══════╛\n"
     ]
    }
   ],
   "source": [
    "CDP_M = TabularCPD(variable='M', variable_card=3, values=[[0.4, 0.7,0.1,0.3],[0.4,0.1,0.7,0.3]\n",
    "                                                         ,[0.2,0.2,0.2,0.4]],\n",
    "                    evidence=['CK', 'BK'],evidence_card=[2, 2])\n",
    "print(CDP_M)"
   ]
  },
  {
   "cell_type": "markdown",
   "metadata": {},
   "source": [
    "**Question:** There are 12 possible states of the variable $M$. If $p(Poison) \\ne 0$ how many possible states would there be?"
   ]
  },
  {
   "cell_type": "markdown",
   "metadata": {},
   "source": [
    "ANS: It will bw 24.\n",
    "\n",
    "$N_{BK} * N_{CK} * N_{M} * N_{W} = 2 * 2 * 4 *2 = 24$ "
   ]
  },
  {
   "cell_type": "markdown",
   "metadata": {},
   "source": [
    "To complete your belief network, use the `add_cpds` method. \n",
    "\n",
    "> **Hint:** Before going any further make sure you apply the `check_model` method to your complete model. "
   ]
  },
  {
   "cell_type": "code",
   "execution_count": 13,
   "metadata": {},
   "outputs": [
    {
     "name": "stderr",
     "output_type": "stream",
     "text": [
      "WARNING:root:Replacing existing CPD for B\n",
      "WARNING:root:Replacing existing CPD for BK\n",
      "WARNING:root:Replacing existing CPD for C\n",
      "WARNING:root:Replacing existing CPD for CK\n",
      "WARNING:root:Replacing existing CPD for M\n",
      "WARNING:root:Replacing existing CPD for W\n"
     ]
    },
    {
     "data": {
      "text/plain": [
       "True"
      ]
     },
     "execution_count": 13,
     "metadata": {},
     "output_type": "execute_result"
    }
   ],
   "source": [
    "m_model.add_cpds(CDP_B,CDP_BK,CDP_C,CDP_CK,CDP_M,CDP_W)\n",
    "m_model.get_cpds()\n",
    "m_model.check_model()"
   ]
  },
  {
   "cell_type": "markdown",
   "metadata": {},
   "source": [
    "Next investigate the independencies of all the variables in your model using the `local_independencies` method. "
   ]
  },
  {
   "cell_type": "code",
   "execution_count": 14,
   "metadata": {},
   "outputs": [
    {
     "data": {
      "text/plain": [
       "(W _|_ C, B)\n",
       "(B _|_ CK, C, W)\n",
       "(C _|_ BK, W, B)\n",
       "(BK _|_ CK, C | W, B)\n",
       "(CK _|_ BK, B | C, W)\n",
       "(M _|_ C, W, B | BK, CK)"
      ]
     },
     "execution_count": 14,
     "metadata": {},
     "output_type": "execute_result"
    }
   ],
   "source": [
    "m_model.local_independencies(['W','B','C','BK','CK','M'])"
   ]
  },
  {
   "cell_type": "markdown",
   "metadata": {},
   "source": [
    "**Question:** Is this graphical model an I-map of the distribution discussed at the start of this lab and why?"
   ]
  },
  {
   "cell_type": "markdown",
   "metadata": {},
   "source": [
    "ANS: It is slightly different from our expected distribution based on below's independency.\n",
    "\n",
    "$$p(B,C,W,BK,CK,M) = p(B)\\ p(C)\\ p(W)\\ p(BK\\ |\\ B,K)\\ p(CK\\ |\\ C,K)\\ p(M\\ |\\ BK,CK)$$\n",
    "\n",
    "Because they could be not same, even if there are the same independencies. \n",
    "\n",
    "It is not completly represent our distribution.\n",
    "\n",
    "However, this model can be I-map when we apply to calcuate or do some inference."
   ]
  },
  {
   "cell_type": "markdown",
   "metadata": {},
   "source": [
    "The the trails that are not active from the following pairs of variables:\n",
    "\n",
    "- B and C\n",
    "- B and W\n",
    "- C and W\n",
    "- C and CK\n",
    "- B and BK\n",
    "- BK and CK\n",
    "- B and M\n",
    "- C and M\n",
    "\n",
    "Create and execute the code using the `is_active_trail` method on the model object. "
   ]
  },
  {
   "cell_type": "code",
   "execution_count": 18,
   "metadata": {},
   "outputs": [
    {
     "name": "stdout",
     "output_type": "stream",
     "text": [
      "Active trail between B and C -> False\n",
      "Active trail between B and W -> False\n",
      "Active trail between C and W -> False\n",
      "Active trail between C and CK -> True\n",
      "Active trail between B and BK -> True\n",
      "Active trail between BK and CK -> True\n",
      "Active trail between B and M -> True\n",
      "Active trail between C and M -> True\n"
     ]
    }
   ],
   "source": [
    " def test_active(start,end):\n",
    "    print('Active trail between ' + start + ' and ' + end + ' -> '\n",
    "          + str(m_model.is_active_trail(start,end)))\n",
    "\n",
    "starts = ['B','B','C','C','B','BK','B','C']\n",
    "ends = ['C','W','W','CK','BK','CK','M','M']\n",
    "\n",
    "for s,e in zip(starts,ends): \n",
    "    test_active(s,e)    \n"
   ]
  },
  {
   "cell_type": "markdown",
   "metadata": {},
   "source": [
    "**Question:** How can you best explain the blocked trails given the evidence variables and V-structures in the graph? What are the trials with V-structures which are blocked? "
   ]
  },
  {
   "cell_type": "markdown",
   "metadata": {},
   "source": [
    "ANS: When the trail is active(True) it means that there is no independency between the variables.\n",
    "\n",
    "Also,once we observed the evidence variables, the bayes ball's constrain is slightly changed.\n",
    "\n",
    "Common cause, one of the V-structures in the graph, is active when B is not observed.\n",
    "\n",
    "Common effect is active when B is observerd. \n",
    "\n",
    "Therefore, in this case, we can say given distribution is not observed. \n",
    "\n",
    "So, trails between B, C and W is not active as a common effect.\n"
   ]
  },
  {
   "cell_type": "code",
   "execution_count": null,
   "metadata": {
    "collapsed": true
   },
   "outputs": [],
   "source": []
  }
 ],
 "metadata": {
  "kernelspec": {
   "display_name": "Python 3",
   "language": "python",
   "name": "python3"
  },
  "language_info": {
   "codemirror_mode": {
    "name": "ipython",
    "version": 3
   },
   "file_extension": ".py",
   "mimetype": "text/x-python",
   "name": "python",
   "nbconvert_exporter": "python",
   "pygments_lexer": "ipython3",
   "version": "3.6.2"
  }
 },
 "nbformat": 4,
 "nbformat_minor": 2
}
