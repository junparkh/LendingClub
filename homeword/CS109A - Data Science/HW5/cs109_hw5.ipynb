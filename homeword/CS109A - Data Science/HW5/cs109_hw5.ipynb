{
 "cells": [
  {
   "cell_type": "markdown",
   "metadata": {},
   "source": [
    "# <img style=\"float: left; padding-right: 10px; width: 45px\" src=\"iacs.png\"> S-109A Introduction to Data Science: \n",
    "\n",
    "## Homework 5: Logistic Regression, High Dimensionality and PCA, LDA/QDA\n",
    "\n",
    "\n",
    "**Harvard University**<br/>\n",
    "**Summer 2018**<br/>\n",
    "**Instructors**: Pavlos Protopapas, Kevin Rader\n",
    "\n",
    "<hr style=\"height:2pt\">\n",
    "\n"
   ]
  },
  {
   "cell_type": "markdown",
   "metadata": {},
   "source": [
    "### INSTRUCTIONS\n",
    "\n",
    "- To submit your assignment follow the instructions given in canvas.\n",
    "- Restart the kernel and run the whole notebook again before you submit. \n",
    "- If you submit individually and you have worked with someone, please include the name of your [one] partner below. \n",
    "\n",
    "Names of people you have worked with goes here: "
   ]
  },
  {
   "cell_type": "markdown",
   "metadata": {},
   "source": [
    "<hr style=\"height:2pt\">"
   ]
  },
  {
   "cell_type": "code",
   "execution_count": 2,
   "metadata": {
    "collapsed": true
   },
   "outputs": [],
   "source": [
    "import numpy as np\n",
    "import pandas as pd\n",
    "\n",
    "import statsmodels.api as sm\n",
    "from statsmodels.api import OLS\n",
    "\n",
    "from sklearn.decomposition import PCA\n",
    "from sklearn.linear_model import LogisticRegression\n",
    "from sklearn.linear_model import LogisticRegressionCV\n",
    "from sklearn.discriminant_analysis import LinearDiscriminantAnalysis\n",
    "from sklearn.discriminant_analysis import QuadraticDiscriminantAnalysis\n",
    "from sklearn.preprocessing import PolynomialFeatures\n",
    "from sklearn.neighbors import KNeighborsClassifier\n",
    "from sklearn.model_selection import cross_val_score\n",
    "from sklearn.metrics import accuracy_score\n",
    "from sklearn.model_selection import KFold\n",
    "\n",
    "import math\n",
    "from scipy.special import gamma\n",
    "\n",
    "import matplotlib\n",
    "import matplotlib.pyplot as plt\n",
    "%matplotlib inline\n",
    "\n",
    "import seaborn as sns\n",
    "sns.set()\n",
    "\n",
    "alpha = 0.5"
   ]
  },
  {
   "cell_type": "markdown",
   "metadata": {},
   "source": [
    "## Cancer Classification from Gene Expressions\n",
    "\n",
    "In this problem, we will build a classification model to distinguish between two related classes of cancer, acute lymphoblastic leukemia (ALL) and acute myeloid leukemia (AML), using gene expression measurements. The data set is provided in the file `dataset_hw5_1.csv`. Each row in this file corresponds to a tumor tissue sample from a patient with one of the two forms of Leukemia. The first column contains the cancer type, with 0 indicating the ALL class and 1 indicating the AML class. Columns 2-7130 contain expression levels of 7129 genes recorded from each tissue sample. \n",
    "\n",
    "In the following questions, we will use linear and logistic regression to build a classification models for this data set. We will also use Principal Components Analysis (PCA) to visualize the data and to reduce its dimensions. \n",
    "\n"
   ]
  },
  {
   "cell_type": "markdown",
   "metadata": {},
   "source": [
    "## Question 1: Data Exploration\n",
    "\n",
    "1. First step is to  split  the observations into an approximate 50-50 train-test split.  Below is some code to do this for you (we want to make sure everyone has the same splits).\n",
    "\n",
    "2. Take a peek at your training set: you should notice the severe differences in the measurements from one gene to the next (some are negative, some hover around zero, and some are well into the thousands).  To account for these differences in scale and variability, normalize each predictor to vary between 0 and 1.\n",
    "\n",
    "3. Notice that the results training set contains more predictors than observations. Do you foresee a problem in fitting a classification model to such a data set?\n",
    "\n",
    "4. Lets explore a few of the genes and see how well they discriminate between cancer classes. Create a single figure with four subplots arranged in a 2x2 grid. Consider the following four genes: `D29963_at`, `M23161_at`, `hum_alu_at`, and `AFFX-PheX-5_at`. For each gene overlay two histograms of the gene expression values on one of the subplots, one histogram for each cancer type. Does it appear that any of these genes discriminate between the two classes well? How are you able to tell?\n",
    "\n",
    "5. Since our data has dimensions that are not easily visualizable, we want to reduce the dimensionality of the data to make it easier to visualize. Using PCA, find the top two principal components for the gene expression data. Generate a scatter plot using these principal components, highlighting the two cancer types in different colors. How well do the top two principal components discriminate between the two classes? How much of the variance within the data do these two principal components explain?"
   ]
  },
  {
   "cell_type": "markdown",
   "metadata": {},
   "source": [
    "#### Answers:\n",
    "**1.1:** First step is to split the observations into an approximate 50-50 train-test split. Below is some code to do this for you (we want to make sure everyone has the same splits)."
   ]
  },
  {
   "cell_type": "code",
   "execution_count": 3,
   "metadata": {
    "collapsed": true
   },
   "outputs": [],
   "source": [
    "np.random.seed(9002)\n",
    "df = pd.read_csv('data/dataset_hw5_1.csv')\n",
    "msk = np.random.rand(len(df)) < 0.5\n",
    "data_train = df[msk]\n",
    "data_test = df[~msk]"
   ]
  },
  {
   "cell_type": "markdown",
   "metadata": {},
   "source": [
    "**1.2:** Take a peek at your training set: you should notice the severe differences in the measurements from one gene to the next (some are negative, some hover around zero, and some are well into the thousands).  To account for these differences in scale and variability, normalize each predictor to vary between 0 and 1.\n"
   ]
  },
  {
   "cell_type": "code",
   "execution_count": 4,
   "metadata": {},
   "outputs": [
    {
     "data": {
      "text/html": [
       "<div>\n",
       "<style scoped>\n",
       "    .dataframe tbody tr th:only-of-type {\n",
       "        vertical-align: middle;\n",
       "    }\n",
       "\n",
       "    .dataframe tbody tr th {\n",
       "        vertical-align: top;\n",
       "    }\n",
       "\n",
       "    .dataframe thead th {\n",
       "        text-align: right;\n",
       "    }\n",
       "</style>\n",
       "<table border=\"1\" class=\"dataframe\">\n",
       "  <thead>\n",
       "    <tr style=\"text-align: right;\">\n",
       "      <th></th>\n",
       "      <th>Cancer_type</th>\n",
       "      <th>AFFX-BioB-5_at</th>\n",
       "      <th>AFFX-BioB-M_at</th>\n",
       "      <th>AFFX-BioB-3_at</th>\n",
       "      <th>AFFX-BioC-5_at</th>\n",
       "      <th>AFFX-BioC-3_at</th>\n",
       "      <th>AFFX-BioDn-5_at</th>\n",
       "      <th>AFFX-BioDn-3_at</th>\n",
       "      <th>AFFX-CreX-5_at</th>\n",
       "      <th>AFFX-CreX-3_at</th>\n",
       "      <th>...</th>\n",
       "      <th>U48730_at</th>\n",
       "      <th>U58516_at</th>\n",
       "      <th>U73738_at</th>\n",
       "      <th>X06956_at</th>\n",
       "      <th>X16699_at</th>\n",
       "      <th>X83863_at</th>\n",
       "      <th>Z17240_at</th>\n",
       "      <th>L49218_f_at</th>\n",
       "      <th>M71243_f_at</th>\n",
       "      <th>Z78285_f_at</th>\n",
       "    </tr>\n",
       "  </thead>\n",
       "  <tbody>\n",
       "    <tr>\n",
       "      <th>count</th>\n",
       "      <td>40.00000</td>\n",
       "      <td>40.000000</td>\n",
       "      <td>40.000000</td>\n",
       "      <td>40.000000</td>\n",
       "      <td>40.000000</td>\n",
       "      <td>40.000000</td>\n",
       "      <td>40.000000</td>\n",
       "      <td>40.000000</td>\n",
       "      <td>40.00000</td>\n",
       "      <td>40.000000</td>\n",
       "      <td>...</td>\n",
       "      <td>40.000000</td>\n",
       "      <td>40.000000</td>\n",
       "      <td>40.000000</td>\n",
       "      <td>40.000000</td>\n",
       "      <td>40.000000</td>\n",
       "      <td>40.000000</td>\n",
       "      <td>40.000000</td>\n",
       "      <td>40.000000</td>\n",
       "      <td>40.000000</td>\n",
       "      <td>40.000000</td>\n",
       "    </tr>\n",
       "    <tr>\n",
       "      <th>mean</th>\n",
       "      <td>0.37500</td>\n",
       "      <td>-116.125000</td>\n",
       "      <td>-163.350000</td>\n",
       "      <td>-9.125000</td>\n",
       "      <td>209.075000</td>\n",
       "      <td>-250.325000</td>\n",
       "      <td>-379.925000</td>\n",
       "      <td>-118.775000</td>\n",
       "      <td>-195.42500</td>\n",
       "      <td>82.850000</td>\n",
       "      <td>...</td>\n",
       "      <td>185.175000</td>\n",
       "      <td>641.250000</td>\n",
       "      <td>-14.800000</td>\n",
       "      <td>419.175000</td>\n",
       "      <td>-31.400000</td>\n",
       "      <td>818.875000</td>\n",
       "      <td>283.850000</td>\n",
       "      <td>11.425000</td>\n",
       "      <td>491.450000</td>\n",
       "      <td>-32.750000</td>\n",
       "    </tr>\n",
       "    <tr>\n",
       "      <th>std</th>\n",
       "      <td>0.49029</td>\n",
       "      <td>102.783364</td>\n",
       "      <td>95.437871</td>\n",
       "      <td>101.998539</td>\n",
       "      <td>111.000205</td>\n",
       "      <td>107.218776</td>\n",
       "      <td>123.026449</td>\n",
       "      <td>304.307494</td>\n",
       "      <td>100.91654</td>\n",
       "      <td>99.683743</td>\n",
       "      <td>...</td>\n",
       "      <td>87.141173</td>\n",
       "      <td>305.573085</td>\n",
       "      <td>92.745088</td>\n",
       "      <td>394.131039</td>\n",
       "      <td>54.429818</td>\n",
       "      <td>458.186178</td>\n",
       "      <td>197.123227</td>\n",
       "      <td>36.221461</td>\n",
       "      <td>653.148075</td>\n",
       "      <td>37.159221</td>\n",
       "    </tr>\n",
       "    <tr>\n",
       "      <th>min</th>\n",
       "      <td>0.00000</td>\n",
       "      <td>-476.000000</td>\n",
       "      <td>-531.000000</td>\n",
       "      <td>-168.000000</td>\n",
       "      <td>-24.000000</td>\n",
       "      <td>-496.000000</td>\n",
       "      <td>-696.000000</td>\n",
       "      <td>-1038.000000</td>\n",
       "      <td>-452.00000</td>\n",
       "      <td>-148.000000</td>\n",
       "      <td>...</td>\n",
       "      <td>42.000000</td>\n",
       "      <td>91.000000</td>\n",
       "      <td>-295.000000</td>\n",
       "      <td>-24.000000</td>\n",
       "      <td>-220.000000</td>\n",
       "      <td>67.000000</td>\n",
       "      <td>-42.000000</td>\n",
       "      <td>-100.000000</td>\n",
       "      <td>-33.000000</td>\n",
       "      <td>-108.000000</td>\n",
       "    </tr>\n",
       "    <tr>\n",
       "      <th>25%</th>\n",
       "      <td>0.00000</td>\n",
       "      <td>-140.750000</td>\n",
       "      <td>-208.500000</td>\n",
       "      <td>-81.250000</td>\n",
       "      <td>124.250000</td>\n",
       "      <td>-316.500000</td>\n",
       "      <td>-461.750000</td>\n",
       "      <td>-269.250000</td>\n",
       "      <td>-238.50000</td>\n",
       "      <td>-0.250000</td>\n",
       "      <td>...</td>\n",
       "      <td>133.750000</td>\n",
       "      <td>424.500000</td>\n",
       "      <td>-57.250000</td>\n",
       "      <td>241.750000</td>\n",
       "      <td>-57.250000</td>\n",
       "      <td>540.000000</td>\n",
       "      <td>189.000000</td>\n",
       "      <td>-8.250000</td>\n",
       "      <td>151.000000</td>\n",
       "      <td>-62.750000</td>\n",
       "    </tr>\n",
       "    <tr>\n",
       "      <th>50%</th>\n",
       "      <td>0.00000</td>\n",
       "      <td>-109.000000</td>\n",
       "      <td>-150.000000</td>\n",
       "      <td>-29.000000</td>\n",
       "      <td>228.000000</td>\n",
       "      <td>-225.000000</td>\n",
       "      <td>-384.500000</td>\n",
       "      <td>-77.000000</td>\n",
       "      <td>-172.00000</td>\n",
       "      <td>99.000000</td>\n",
       "      <td>...</td>\n",
       "      <td>179.500000</td>\n",
       "      <td>619.000000</td>\n",
       "      <td>10.500000</td>\n",
       "      <td>343.000000</td>\n",
       "      <td>-21.000000</td>\n",
       "      <td>747.000000</td>\n",
       "      <td>282.000000</td>\n",
       "      <td>10.000000</td>\n",
       "      <td>242.000000</td>\n",
       "      <td>-30.500000</td>\n",
       "    </tr>\n",
       "    <tr>\n",
       "      <th>75%</th>\n",
       "      <td>1.00000</td>\n",
       "      <td>-64.750000</td>\n",
       "      <td>-99.500000</td>\n",
       "      <td>47.000000</td>\n",
       "      <td>303.750000</td>\n",
       "      <td>-178.750000</td>\n",
       "      <td>-286.250000</td>\n",
       "      <td>20.500000</td>\n",
       "      <td>-125.75000</td>\n",
       "      <td>164.500000</td>\n",
       "      <td>...</td>\n",
       "      <td>227.000000</td>\n",
       "      <td>728.000000</td>\n",
       "      <td>52.250000</td>\n",
       "      <td>475.750000</td>\n",
       "      <td>11.250000</td>\n",
       "      <td>1042.500000</td>\n",
       "      <td>351.750000</td>\n",
       "      <td>28.250000</td>\n",
       "      <td>536.000000</td>\n",
       "      <td>-12.750000</td>\n",
       "    </tr>\n",
       "    <tr>\n",
       "      <th>max</th>\n",
       "      <td>1.00000</td>\n",
       "      <td>86.000000</td>\n",
       "      <td>-20.000000</td>\n",
       "      <td>262.000000</td>\n",
       "      <td>431.000000</td>\n",
       "      <td>-32.000000</td>\n",
       "      <td>-122.000000</td>\n",
       "      <td>367.000000</td>\n",
       "      <td>-11.00000</td>\n",
       "      <td>283.000000</td>\n",
       "      <td>...</td>\n",
       "      <td>413.000000</td>\n",
       "      <td>1655.000000</td>\n",
       "      <td>132.000000</td>\n",
       "      <td>2527.000000</td>\n",
       "      <td>50.000000</td>\n",
       "      <td>2313.000000</td>\n",
       "      <td>1108.000000</td>\n",
       "      <td>81.000000</td>\n",
       "      <td>3192.000000</td>\n",
       "      <td>78.000000</td>\n",
       "    </tr>\n",
       "  </tbody>\n",
       "</table>\n",
       "<p>8 rows × 7130 columns</p>\n",
       "</div>"
      ],
      "text/plain": [
       "       Cancer_type  AFFX-BioB-5_at  AFFX-BioB-M_at  AFFX-BioB-3_at  \\\n",
       "count     40.00000       40.000000       40.000000       40.000000   \n",
       "mean       0.37500     -116.125000     -163.350000       -9.125000   \n",
       "std        0.49029      102.783364       95.437871      101.998539   \n",
       "min        0.00000     -476.000000     -531.000000     -168.000000   \n",
       "25%        0.00000     -140.750000     -208.500000      -81.250000   \n",
       "50%        0.00000     -109.000000     -150.000000      -29.000000   \n",
       "75%        1.00000      -64.750000      -99.500000       47.000000   \n",
       "max        1.00000       86.000000      -20.000000      262.000000   \n",
       "\n",
       "       AFFX-BioC-5_at  AFFX-BioC-3_at  AFFX-BioDn-5_at  AFFX-BioDn-3_at  \\\n",
       "count       40.000000       40.000000        40.000000        40.000000   \n",
       "mean       209.075000     -250.325000      -379.925000      -118.775000   \n",
       "std        111.000205      107.218776       123.026449       304.307494   \n",
       "min        -24.000000     -496.000000      -696.000000     -1038.000000   \n",
       "25%        124.250000     -316.500000      -461.750000      -269.250000   \n",
       "50%        228.000000     -225.000000      -384.500000       -77.000000   \n",
       "75%        303.750000     -178.750000      -286.250000        20.500000   \n",
       "max        431.000000      -32.000000      -122.000000       367.000000   \n",
       "\n",
       "       AFFX-CreX-5_at  AFFX-CreX-3_at     ...        U48730_at    U58516_at  \\\n",
       "count        40.00000       40.000000     ...        40.000000    40.000000   \n",
       "mean       -195.42500       82.850000     ...       185.175000   641.250000   \n",
       "std         100.91654       99.683743     ...        87.141173   305.573085   \n",
       "min        -452.00000     -148.000000     ...        42.000000    91.000000   \n",
       "25%        -238.50000       -0.250000     ...       133.750000   424.500000   \n",
       "50%        -172.00000       99.000000     ...       179.500000   619.000000   \n",
       "75%        -125.75000      164.500000     ...       227.000000   728.000000   \n",
       "max         -11.00000      283.000000     ...       413.000000  1655.000000   \n",
       "\n",
       "        U73738_at    X06956_at   X16699_at    X83863_at    Z17240_at  \\\n",
       "count   40.000000    40.000000   40.000000    40.000000    40.000000   \n",
       "mean   -14.800000   419.175000  -31.400000   818.875000   283.850000   \n",
       "std     92.745088   394.131039   54.429818   458.186178   197.123227   \n",
       "min   -295.000000   -24.000000 -220.000000    67.000000   -42.000000   \n",
       "25%    -57.250000   241.750000  -57.250000   540.000000   189.000000   \n",
       "50%     10.500000   343.000000  -21.000000   747.000000   282.000000   \n",
       "75%     52.250000   475.750000   11.250000  1042.500000   351.750000   \n",
       "max    132.000000  2527.000000   50.000000  2313.000000  1108.000000   \n",
       "\n",
       "       L49218_f_at  M71243_f_at  Z78285_f_at  \n",
       "count    40.000000    40.000000    40.000000  \n",
       "mean     11.425000   491.450000   -32.750000  \n",
       "std      36.221461   653.148075    37.159221  \n",
       "min    -100.000000   -33.000000  -108.000000  \n",
       "25%      -8.250000   151.000000   -62.750000  \n",
       "50%      10.000000   242.000000   -30.500000  \n",
       "75%      28.250000   536.000000   -12.750000  \n",
       "max      81.000000  3192.000000    78.000000  \n",
       "\n",
       "[8 rows x 7130 columns]"
      ]
     },
     "execution_count": 4,
     "metadata": {},
     "output_type": "execute_result"
    }
   ],
   "source": [
    "data_train.describe()"
   ]
  },
  {
   "cell_type": "code",
   "execution_count": 6,
   "metadata": {
    "scrolled": true
   },
   "outputs": [
    {
     "data": {
      "text/html": [
       "<div>\n",
       "<style scoped>\n",
       "    .dataframe tbody tr th:only-of-type {\n",
       "        vertical-align: middle;\n",
       "    }\n",
       "\n",
       "    .dataframe tbody tr th {\n",
       "        vertical-align: top;\n",
       "    }\n",
       "\n",
       "    .dataframe thead th {\n",
       "        text-align: right;\n",
       "    }\n",
       "</style>\n",
       "<table border=\"1\" class=\"dataframe\">\n",
       "  <thead>\n",
       "    <tr style=\"text-align: right;\">\n",
       "      <th></th>\n",
       "      <th>AFFX-BioB-5_at</th>\n",
       "      <th>AFFX-BioB-M_at</th>\n",
       "      <th>AFFX-BioB-3_at</th>\n",
       "      <th>AFFX-BioC-5_at</th>\n",
       "      <th>AFFX-BioC-3_at</th>\n",
       "      <th>AFFX-BioDn-5_at</th>\n",
       "      <th>AFFX-BioDn-3_at</th>\n",
       "      <th>AFFX-CreX-5_at</th>\n",
       "      <th>AFFX-CreX-3_at</th>\n",
       "      <th>AFFX-BioB-5_st</th>\n",
       "      <th>...</th>\n",
       "      <th>U48730_at</th>\n",
       "      <th>U58516_at</th>\n",
       "      <th>U73738_at</th>\n",
       "      <th>X06956_at</th>\n",
       "      <th>X16699_at</th>\n",
       "      <th>X83863_at</th>\n",
       "      <th>Z17240_at</th>\n",
       "      <th>L49218_f_at</th>\n",
       "      <th>M71243_f_at</th>\n",
       "      <th>Z78285_f_at</th>\n",
       "    </tr>\n",
       "  </thead>\n",
       "  <tbody>\n",
       "    <tr>\n",
       "      <th>count</th>\n",
       "      <td>40.000000</td>\n",
       "      <td>40.000000</td>\n",
       "      <td>40.000000</td>\n",
       "      <td>40.000000</td>\n",
       "      <td>40.000000</td>\n",
       "      <td>40.000000</td>\n",
       "      <td>40.000000</td>\n",
       "      <td>40.000000</td>\n",
       "      <td>40.000000</td>\n",
       "      <td>40.000000</td>\n",
       "      <td>...</td>\n",
       "      <td>40.000000</td>\n",
       "      <td>40.000000</td>\n",
       "      <td>40.000000</td>\n",
       "      <td>40.000000</td>\n",
       "      <td>40.000000</td>\n",
       "      <td>40.000000</td>\n",
       "      <td>40.000000</td>\n",
       "      <td>40.000000</td>\n",
       "      <td>40.000000</td>\n",
       "      <td>40.000000</td>\n",
       "    </tr>\n",
       "    <tr>\n",
       "      <th>mean</th>\n",
       "      <td>0.640347</td>\n",
       "      <td>0.719472</td>\n",
       "      <td>0.369477</td>\n",
       "      <td>0.512253</td>\n",
       "      <td>0.529472</td>\n",
       "      <td>0.550653</td>\n",
       "      <td>0.654253</td>\n",
       "      <td>0.581803</td>\n",
       "      <td>0.535615</td>\n",
       "      <td>0.560692</td>\n",
       "      <td>...</td>\n",
       "      <td>0.385916</td>\n",
       "      <td>0.351822</td>\n",
       "      <td>0.656206</td>\n",
       "      <td>0.173726</td>\n",
       "      <td>0.698519</td>\n",
       "      <td>0.334762</td>\n",
       "      <td>0.283348</td>\n",
       "      <td>0.615608</td>\n",
       "      <td>0.162620</td>\n",
       "      <td>0.404570</td>\n",
       "    </tr>\n",
       "    <tr>\n",
       "      <th>std</th>\n",
       "      <td>0.182889</td>\n",
       "      <td>0.186767</td>\n",
       "      <td>0.237206</td>\n",
       "      <td>0.243956</td>\n",
       "      <td>0.231075</td>\n",
       "      <td>0.214332</td>\n",
       "      <td>0.216589</td>\n",
       "      <td>0.228836</td>\n",
       "      <td>0.231285</td>\n",
       "      <td>0.216291</td>\n",
       "      <td>...</td>\n",
       "      <td>0.234882</td>\n",
       "      <td>0.195379</td>\n",
       "      <td>0.217202</td>\n",
       "      <td>0.154501</td>\n",
       "      <td>0.201592</td>\n",
       "      <td>0.204001</td>\n",
       "      <td>0.171412</td>\n",
       "      <td>0.200119</td>\n",
       "      <td>0.202527</td>\n",
       "      <td>0.199781</td>\n",
       "    </tr>\n",
       "    <tr>\n",
       "      <th>min</th>\n",
       "      <td>0.000000</td>\n",
       "      <td>0.000000</td>\n",
       "      <td>0.000000</td>\n",
       "      <td>0.000000</td>\n",
       "      <td>0.000000</td>\n",
       "      <td>0.000000</td>\n",
       "      <td>0.000000</td>\n",
       "      <td>0.000000</td>\n",
       "      <td>0.000000</td>\n",
       "      <td>0.000000</td>\n",
       "      <td>...</td>\n",
       "      <td>0.000000</td>\n",
       "      <td>0.000000</td>\n",
       "      <td>0.000000</td>\n",
       "      <td>0.000000</td>\n",
       "      <td>0.000000</td>\n",
       "      <td>0.000000</td>\n",
       "      <td>0.000000</td>\n",
       "      <td>0.000000</td>\n",
       "      <td>0.000000</td>\n",
       "      <td>0.000000</td>\n",
       "    </tr>\n",
       "    <tr>\n",
       "      <th>25%</th>\n",
       "      <td>0.596530</td>\n",
       "      <td>0.631115</td>\n",
       "      <td>0.201744</td>\n",
       "      <td>0.325824</td>\n",
       "      <td>0.386853</td>\n",
       "      <td>0.408101</td>\n",
       "      <td>0.547153</td>\n",
       "      <td>0.484127</td>\n",
       "      <td>0.342807</td>\n",
       "      <td>0.389979</td>\n",
       "      <td>...</td>\n",
       "      <td>0.247305</td>\n",
       "      <td>0.213235</td>\n",
       "      <td>0.556792</td>\n",
       "      <td>0.104175</td>\n",
       "      <td>0.602778</td>\n",
       "      <td>0.210597</td>\n",
       "      <td>0.200870</td>\n",
       "      <td>0.506906</td>\n",
       "      <td>0.057054</td>\n",
       "      <td>0.243280</td>\n",
       "    </tr>\n",
       "    <tr>\n",
       "      <th>50%</th>\n",
       "      <td>0.653025</td>\n",
       "      <td>0.745597</td>\n",
       "      <td>0.323256</td>\n",
       "      <td>0.553846</td>\n",
       "      <td>0.584052</td>\n",
       "      <td>0.542683</td>\n",
       "      <td>0.683986</td>\n",
       "      <td>0.634921</td>\n",
       "      <td>0.573086</td>\n",
       "      <td>0.617769</td>\n",
       "      <td>...</td>\n",
       "      <td>0.370620</td>\n",
       "      <td>0.337596</td>\n",
       "      <td>0.715457</td>\n",
       "      <td>0.143865</td>\n",
       "      <td>0.737037</td>\n",
       "      <td>0.302760</td>\n",
       "      <td>0.281739</td>\n",
       "      <td>0.607735</td>\n",
       "      <td>0.085271</td>\n",
       "      <td>0.416667</td>\n",
       "    </tr>\n",
       "    <tr>\n",
       "      <th>75%</th>\n",
       "      <td>0.731762</td>\n",
       "      <td>0.844423</td>\n",
       "      <td>0.500000</td>\n",
       "      <td>0.720330</td>\n",
       "      <td>0.683728</td>\n",
       "      <td>0.713850</td>\n",
       "      <td>0.753381</td>\n",
       "      <td>0.739796</td>\n",
       "      <td>0.725058</td>\n",
       "      <td>0.696798</td>\n",
       "      <td>...</td>\n",
       "      <td>0.498652</td>\n",
       "      <td>0.407289</td>\n",
       "      <td>0.813232</td>\n",
       "      <td>0.195904</td>\n",
       "      <td>0.856481</td>\n",
       "      <td>0.434328</td>\n",
       "      <td>0.342391</td>\n",
       "      <td>0.708564</td>\n",
       "      <td>0.176434</td>\n",
       "      <td>0.512097</td>\n",
       "    </tr>\n",
       "    <tr>\n",
       "      <th>max</th>\n",
       "      <td>1.000000</td>\n",
       "      <td>1.000000</td>\n",
       "      <td>1.000000</td>\n",
       "      <td>1.000000</td>\n",
       "      <td>1.000000</td>\n",
       "      <td>1.000000</td>\n",
       "      <td>1.000000</td>\n",
       "      <td>1.000000</td>\n",
       "      <td>1.000000</td>\n",
       "      <td>1.000000</td>\n",
       "      <td>...</td>\n",
       "      <td>1.000000</td>\n",
       "      <td>1.000000</td>\n",
       "      <td>1.000000</td>\n",
       "      <td>1.000000</td>\n",
       "      <td>1.000000</td>\n",
       "      <td>1.000000</td>\n",
       "      <td>1.000000</td>\n",
       "      <td>1.000000</td>\n",
       "      <td>1.000000</td>\n",
       "      <td>1.000000</td>\n",
       "    </tr>\n",
       "  </tbody>\n",
       "</table>\n",
       "<p>8 rows × 7129 columns</p>\n",
       "</div>"
      ],
      "text/plain": [
       "       AFFX-BioB-5_at  AFFX-BioB-M_at  AFFX-BioB-3_at  AFFX-BioC-5_at  \\\n",
       "count       40.000000       40.000000       40.000000       40.000000   \n",
       "mean         0.640347        0.719472        0.369477        0.512253   \n",
       "std          0.182889        0.186767        0.237206        0.243956   \n",
       "min          0.000000        0.000000        0.000000        0.000000   \n",
       "25%          0.596530        0.631115        0.201744        0.325824   \n",
       "50%          0.653025        0.745597        0.323256        0.553846   \n",
       "75%          0.731762        0.844423        0.500000        0.720330   \n",
       "max          1.000000        1.000000        1.000000        1.000000   \n",
       "\n",
       "       AFFX-BioC-3_at  AFFX-BioDn-5_at  AFFX-BioDn-3_at  AFFX-CreX-5_at  \\\n",
       "count       40.000000        40.000000        40.000000       40.000000   \n",
       "mean         0.529472         0.550653         0.654253        0.581803   \n",
       "std          0.231075         0.214332         0.216589        0.228836   \n",
       "min          0.000000         0.000000         0.000000        0.000000   \n",
       "25%          0.386853         0.408101         0.547153        0.484127   \n",
       "50%          0.584052         0.542683         0.683986        0.634921   \n",
       "75%          0.683728         0.713850         0.753381        0.739796   \n",
       "max          1.000000         1.000000         1.000000        1.000000   \n",
       "\n",
       "       AFFX-CreX-3_at  AFFX-BioB-5_st     ...       U48730_at  U58516_at  \\\n",
       "count       40.000000       40.000000     ...       40.000000  40.000000   \n",
       "mean         0.535615        0.560692     ...        0.385916   0.351822   \n",
       "std          0.231285        0.216291     ...        0.234882   0.195379   \n",
       "min          0.000000        0.000000     ...        0.000000   0.000000   \n",
       "25%          0.342807        0.389979     ...        0.247305   0.213235   \n",
       "50%          0.573086        0.617769     ...        0.370620   0.337596   \n",
       "75%          0.725058        0.696798     ...        0.498652   0.407289   \n",
       "max          1.000000        1.000000     ...        1.000000   1.000000   \n",
       "\n",
       "       U73738_at  X06956_at  X16699_at  X83863_at  Z17240_at  L49218_f_at  \\\n",
       "count  40.000000  40.000000  40.000000  40.000000  40.000000    40.000000   \n",
       "mean    0.656206   0.173726   0.698519   0.334762   0.283348     0.615608   \n",
       "std     0.217202   0.154501   0.201592   0.204001   0.171412     0.200119   \n",
       "min     0.000000   0.000000   0.000000   0.000000   0.000000     0.000000   \n",
       "25%     0.556792   0.104175   0.602778   0.210597   0.200870     0.506906   \n",
       "50%     0.715457   0.143865   0.737037   0.302760   0.281739     0.607735   \n",
       "75%     0.813232   0.195904   0.856481   0.434328   0.342391     0.708564   \n",
       "max     1.000000   1.000000   1.000000   1.000000   1.000000     1.000000   \n",
       "\n",
       "       M71243_f_at  Z78285_f_at  \n",
       "count    40.000000    40.000000  \n",
       "mean      0.162620     0.404570  \n",
       "std       0.202527     0.199781  \n",
       "min       0.000000     0.000000  \n",
       "25%       0.057054     0.243280  \n",
       "50%       0.085271     0.416667  \n",
       "75%       0.176434     0.512097  \n",
       "max       1.000000     1.000000  \n",
       "\n",
       "[8 rows x 7129 columns]"
      ]
     },
     "execution_count": 6,
     "metadata": {},
     "output_type": "execute_result"
    }
   ],
   "source": [
    "# your code here\n",
    "y_train = data_train.Cancer_type\n",
    "X_train = data_train.drop('Cancer_type',axis=1)\n",
    "y_test = data_test.Cancer_type\n",
    "X_test = data_test.drop('Cancer_type', axis=1)\n",
    "\n",
    "#normalize data and split to X and Y\n",
    "X_train=(X_train-X_train.min())/(X_train.max()-X_train.min())\n",
    "X_test = (X_test-X_test.min())/(X_test.max()-X_test.min())\n",
    "X_train.describe()"
   ]
  },
  {
   "cell_type": "markdown",
   "metadata": {},
   "source": [
    "**1.3:** Notice that the results training set contains more predictors than observations. Do you foresee a problem in fitting a classification model to such a data set?\n"
   ]
  },
  {
   "cell_type": "markdown",
   "metadata": {},
   "source": [
    "----\n",
    "Your answer here\n",
    "\n",
    "----\n",
    "\n",
    "Yes. It can occur the problem of high dimensionality.\n",
    "\n",
    "Because the number of predictors exceed the number of observations.\n",
    "\n",
    "It might has some problem of  overfitting, not interpretable, too heavy to deal with, etc."
   ]
  },
  {
   "cell_type": "markdown",
   "metadata": {},
   "source": [
    "**1.4:** Lets explore a few of the genes and see how well they discriminate between cancer classes. Create a single figure with four subplots arranged in a 2x2 grid. Consider the following four genes: `D29963_at`, `M23161_at`, `hum_alu_at`, and `AFFX-PheX-5_at`. For each gene overlay two histograms of the gene expression values on one of the subplots, one histogram for each cancer type. Does it appear that any of these genes discriminate between the two classes well? How are you able to tell?"
   ]
  },
  {
   "cell_type": "code",
   "execution_count": 150,
   "metadata": {},
   "outputs": [
    {
     "data": {
      "image/png": "[encoded data removed]",
      "text/plain": [
       "<matplotlib.figure.Figure at 0x2108b2e66a0>"
      ]
     },
     "metadata": {},
     "output_type": "display_data"
    }
   ],
   "source": [
    "# your code here\n",
    "order =[0,0,1,1]\n",
    "#make order\n",
    "\n",
    "\n",
    "ALLdata  = X_train[y_train==0]\n",
    "AMLdata = X_train[y_train==1]\n",
    "\n",
    "list =['D29963_at', 'M23161_at', 'hum_alu_at','AFFX-PheX-5_at']\n",
    "#make list of above\n",
    "fig, ax = plt.subplots(2,2 ,figsize=(15,10))   #make plot\n",
    "fig.subplots_adjust(hspace = 0.4)\n",
    "\n",
    "for i,k in enumerate(list):\n",
    "    ax[order[i],i%2].hist(ALLdata[k],label=k+\"ALL\",alpha=0.7)\n",
    "    ax[order[i],i%2].hist(AMLdata[k], label=\"AML\", alpha=0.7) \n",
    "    \n",
    "    ax[order[i],i%2].set_xlabel(k , fontsize=19)\n",
    "    ax[order[i],i%2].set_ylabel(\"numbers\", fontsize = 19)\n",
    "    ax[order[i],i%2].legend()"
   ]
  },
  {
   "cell_type": "markdown",
   "metadata": {},
   "source": [
    "----\n",
    "Your answer here\n",
    "\n",
    "----\n",
    "\n",
    "It seems like it does not have any discrimination  'D29963_at', 'M23161_at', 'hum_alu_at'.\n",
    "\n",
    "AFFX-PheX-5_at preditors.\n",
    "\n",
    "However, Some values are seperated. Also not sure whether it has a relationship."
   ]
  },
  {
   "cell_type": "markdown",
   "metadata": {},
   "source": [
    "**1.5:** Since our data has dimensions that are not easily visualizable, we want to reduce the dimensionality of the data to make it easier to visualize. Using PCA, find the top two principal components for the gene expression data. Generate a scatter plot using these principal components, highlighting the two cancer types in different colors. How well do the top two principal components discriminate between the two classes? How much of the variance within the data do these two principal components explain?"
   ]
  },
  {
   "cell_type": "code",
   "execution_count": 10,
   "metadata": {
    "collapsed": true
   },
   "outputs": [],
   "source": [
    "# your code here\n",
    "from sklearn.preprocessing import StandardScaler\n",
    "\n",
    "#we know normalized data contains dimensions that are some scaled\n",
    "#when i did it without standardization, result is pretty same in this case\n",
    "#but standardization might make it clear in PCA, just in case\n",
    "\n",
    "scale_transformer = StandardScaler(copy=True).fit(X_train)\n",
    "x_train_scaled = scale_transformer.transform(X_train)\n",
    "\n",
    "\n",
    "# reduce dimensions by top two principal components.\n",
    "pca_transformer = PCA(2).fit(X_train)\n",
    "X_train_2d = pca_transformer.transform(X_train)\n"
   ]
  },
  {
   "cell_type": "code",
   "execution_count": 13,
   "metadata": {},
   "outputs": [
    {
     "data": {
      "image/png": "[encoded data removed]",
      "text/plain": [
       "<matplotlib.figure.Figure at 0x2108847cfd0>"
      ]
     },
     "metadata": {},
     "output_type": "display_data"
    }
   ],
   "source": [
    "color = ['r','c']\n",
    "label = [\"ALL class\", \"ALM class\"]\n",
    "\n",
    "#make plot with above color and label.\n",
    "for i in [0,1]:\n",
    "    data = X_train_2d[y_train==i]\n",
    "    plt.scatter(data[:,0], data[:,1], c = color[i], label=label[i])\n",
    "    plt.xlabel(\"PCA Dimension 1\")\n",
    "    plt.ylabel(\"PCA Dimention 2\")\n",
    "    plt.legend(frameon=True, facecolor='skyblue')\n",
    "    plt.title(\"PCA\", fontsize=20)"
   ]
  },
  {
   "cell_type": "code",
   "execution_count": 14,
   "metadata": {},
   "outputs": [
    {
     "name": "stdout",
     "output_type": "stream",
     "text": [
      "Variance explained by each PCA component: [ 0.15889035  0.11428795]\n",
      "Total Variance Explained: 0.273178294521\n"
     ]
    }
   ],
   "source": [
    "var_explained = pca_transformer.explained_variance_ratio_\n",
    "print(\"Variance explained by each PCA component:\", var_explained)\n",
    "print(\"Total Variance Explained:\", np.sum(var_explained))"
   ]
  },
  {
   "cell_type": "markdown",
   "metadata": {},
   "source": [
    "----\n",
    "Your answer here\n",
    "\n",
    "----\n",
    "\n",
    "It is not perfectly clear to discriminate, \n",
    "\n",
    "but usually ALL class is upper position(visually) than ALM class.\n",
    "\n",
    "So it might has some difference between both of the class group by top two components.\n",
    "\n",
    "\n",
    "Variance explained by each PCA component: [ 0.15889035  0.11428795]\n",
    "\n",
    "Total Variance Explained: 0.273178294517\n",
    "\n",
    "Our PCA dimension captures only 27% of the variance of the data with two dimensions.\n",
    "\n",
    "Pretty low explanation."
   ]
  },
  {
   "cell_type": "markdown",
   "metadata": {},
   "source": [
    "## Question 2: Linear Regression vs. Logistic Regression\n",
    "\n",
    "In class we discussed how to use both linear regression and logistic regression for classification. For this question, you will work with a single gene predictor, `D29963_at`, to explore these two methods.\n",
    "\n",
    "1. Fit a simple linear regression model to the training set using the single gene predictor `D29963_at`. We could interpret the scores predicted by the regression model interpreted for a patient as an estimate of the probability that the patient has `Cancer_type`=1. Is there a problem with this interpretation?\n",
    "\n",
    "2. The fitted linear regression model can be converted to a classification model (i.e. a model that predicts one of two binary labels 0 or 1) by classifying patients with predicted score greater than 0.5 into `Cancer_type`=1, and the others into the `Cancer_type`=0. Evaluate the classification accuracy (1 - misclassification rate) of the obtained classification model on both the training and test sets.\n",
    "\n",
    "3. Next, fit a simple logistic regression model to the training set. How do the training and test classification accuracies of this model compare with the linear regression model? Remember, you need to set the regularization parameter for sklearn's logistic regression function to be a very large value in order to not regularize (use 'C=100000').\n",
    "\n",
    "4. Plot the quantitative output from the linear regression model and the probabilistic output from the logistic regression model (on the training set points) as a function of the gene predictor. Also, display the true binary response for the training set points in the same plot. Based on these plots, does one of the models appear better suited for binary classification than the other? Explain."
   ]
  },
  {
   "cell_type": "markdown",
   "metadata": {},
   "source": [
    "#### Answers: \n",
    "\n",
    "**2.1:** Fit a simple linear regression model to the training set using the single gene predictor `D29963_at`. We could interpret the scores predicted by the regression model interpreted for a patient as an estimate of the probability that the patient has `Cancer_type`=1. Is there a problem with this interpretation?\n"
   ]
  },
  {
   "cell_type": "code",
   "execution_count": 15,
   "metadata": {},
   "outputs": [
    {
     "data": {
      "text/html": [
       "<table class=\"simpletable\">\n",
       "<caption>OLS Regression Results</caption>\n",
       "<tr>\n",
       "  <th>Dep. Variable:</th>       <td>Cancer_type</td>   <th>  R-squared:         </th> <td>   0.329</td>\n",
       "</tr>\n",
       "<tr>\n",
       "  <th>Model:</th>                   <td>OLS</td>       <th>  Adj. R-squared:    </th> <td>   0.311</td>\n",
       "</tr>\n",
       "<tr>\n",
       "  <th>Method:</th>             <td>Least Squares</td>  <th>  F-statistic:       </th> <td>   18.61</td>\n",
       "</tr>\n",
       "<tr>\n",
       "  <th>Date:</th>             <td>Tue, 31 Jul 2018</td> <th>  Prob (F-statistic):</th> <td>0.000110</td>\n",
       "</tr>\n",
       "<tr>\n",
       "  <th>Time:</th>                 <td>21:34:59</td>     <th>  Log-Likelihood:    </th> <td> -19.769</td>\n",
       "</tr>\n",
       "<tr>\n",
       "  <th>No. Observations:</th>      <td>    40</td>      <th>  AIC:               </th> <td>   43.54</td>\n",
       "</tr>\n",
       "<tr>\n",
       "  <th>Df Residuals:</th>          <td>    38</td>      <th>  BIC:               </th> <td>   46.92</td>\n",
       "</tr>\n",
       "<tr>\n",
       "  <th>Df Model:</th>              <td>     1</td>      <th>                     </th>     <td> </td>   \n",
       "</tr>\n",
       "<tr>\n",
       "  <th>Covariance Type:</th>      <td>nonrobust</td>    <th>                     </th>     <td> </td>   \n",
       "</tr>\n",
       "</table>\n",
       "<table class=\"simpletable\">\n",
       "<tr>\n",
       "      <td></td>         <th>coef</th>     <th>std err</th>      <th>t</th>      <th>P>|t|</th>  <th>[0.025</th>    <th>0.975]</th>  \n",
       "</tr>\n",
       "<tr>\n",
       "  <th>const</th>     <td>   -0.0587</td> <td>    0.119</td> <td>   -0.492</td> <td> 0.625</td> <td>   -0.300</td> <td>    0.183</td>\n",
       "</tr>\n",
       "<tr>\n",
       "  <th>D29963_at</th> <td>    1.2764</td> <td>    0.296</td> <td>    4.314</td> <td> 0.000</td> <td>    0.677</td> <td>    1.875</td>\n",
       "</tr>\n",
       "</table>\n",
       "<table class=\"simpletable\">\n",
       "<tr>\n",
       "  <th>Omnibus:</th>       <td> 5.833</td> <th>  Durbin-Watson:     </th> <td>   0.838</td>\n",
       "</tr>\n",
       "<tr>\n",
       "  <th>Prob(Omnibus):</th> <td> 0.054</td> <th>  Jarque-Bera (JB):  </th> <td>   5.011</td>\n",
       "</tr>\n",
       "<tr>\n",
       "  <th>Skew:</th>          <td> 0.775</td> <th>  Prob(JB):          </th> <td>  0.0816</td>\n",
       "</tr>\n",
       "<tr>\n",
       "  <th>Kurtosis:</th>      <td> 2.222</td> <th>  Cond. No.          </th> <td>    5.15</td>\n",
       "</tr>\n",
       "</table>"
      ],
      "text/plain": [
       "<class 'statsmodels.iolib.summary.Summary'>\n",
       "\"\"\"\n",
       "                            OLS Regression Results                            \n",
       "==============================================================================\n",
       "Dep. Variable:            Cancer_type   R-squared:                       0.329\n",
       "Model:                            OLS   Adj. R-squared:                  0.311\n",
       "Method:                 Least Squares   F-statistic:                     18.61\n",
       "Date:                Tue, 31 Jul 2018   Prob (F-statistic):           0.000110\n",
       "Time:                        21:34:59   Log-Likelihood:                -19.769\n",
       "No. Observations:                  40   AIC:                             43.54\n",
       "Df Residuals:                      38   BIC:                             46.92\n",
       "Df Model:                           1                                         \n",
       "Covariance Type:            nonrobust                                         \n",
       "==============================================================================\n",
       "                 coef    std err          t      P>|t|      [0.025      0.975]\n",
       "------------------------------------------------------------------------------\n",
       "const         -0.0587      0.119     -0.492      0.625      -0.300       0.183\n",
       "D29963_at      1.2764      0.296      4.314      0.000       0.677       1.875\n",
       "==============================================================================\n",
       "Omnibus:                        5.833   Durbin-Watson:                   0.838\n",
       "Prob(Omnibus):                  0.054   Jarque-Bera (JB):                5.011\n",
       "Skew:                           0.775   Prob(JB):                       0.0816\n",
       "Kurtosis:                       2.222   Cond. No.                         5.15\n",
       "==============================================================================\n",
       "\n",
       "Warnings:\n",
       "[1] Standard Errors assume that the covariance matrix of the errors is correctly specified.\n",
       "\"\"\""
      ]
     },
     "execution_count": 15,
     "metadata": {},
     "output_type": "execute_result"
    }
   ],
   "source": [
    "# your code here\n",
    "\n",
    "linear_model = OLS(y_train,sm.add_constant(X_train.D29963_at)).fit()\n",
    "\n",
    "linear_model.summary()\n",
    "\n"
   ]
  },
  {
   "cell_type": "code",
   "execution_count": 144,
   "metadata": {},
   "outputs": [
    {
     "data": {
      "text/plain": [
       "0.69696969696969702"
      ]
     },
     "execution_count": 144,
     "metadata": {},
     "output_type": "execute_result"
    }
   ],
   "source": [
    "prediction = linear_model.predict(sm.add_constant(X_test.D29963_at)) == 1\n",
    "np.sum(y_test == prediction) / len(y_test)\n",
    "#accuacy score with test data.\n",
    "\n",
    "# accuracy_score(prediction, y_test)"
   ]
  },
  {
   "cell_type": "code",
   "execution_count": 23,
   "metadata": {},
   "outputs": [
    {
     "data": {
      "text/plain": [
       "0.625"
      ]
     },
     "execution_count": 23,
     "metadata": {},
     "output_type": "execute_result"
    }
   ],
   "source": [
    "prediction = linear_model.predict(sm.add_constant(X_train.D29963_at)) == 1\n",
    "np.sum(y_train == prediction) / len(y_train)\n",
    "\n",
    "#with train data."
   ]
  },
  {
   "cell_type": "code",
   "execution_count": 27,
   "metadata": {},
   "outputs": [
    {
     "name": "stdout",
     "output_type": "stream",
     "text": [
      "0.69696969697\n",
      "0.625\n"
     ]
    }
   ],
   "source": [
    "#test with == 0 in test set and train set.\n",
    "print(np.sum(y_test == 0) / len(y_test))\n",
    "\n",
    "print(np.sum(y_train == 0) / len(y_train))\n"
   ]
  },
  {
   "cell_type": "markdown",
   "metadata": {},
   "source": [
    "----\n",
    "Your answer here\n",
    "\n",
    "----\n",
    "\n",
    "Prediction of our model is 69% percent! Pretty good!\n",
    "\n",
    "However, the fact that all of patients are Cancer_type == 0 is also almost 69%.\n",
    "\n",
    "That means, our model is not doing well.\n",
    "\n",
    "\n",
    "when the model just predict everything 0(False in above accuracy score) and also could get same score."
   ]
  },
  {
   "cell_type": "markdown",
   "metadata": {},
   "source": [
    "**2.2:** The fitted linear regression model can be converted to a classification model (i.e. a model that predicts one of two binary labels 0 or 1) by classifying patients with predicted score greater than 0.5 into `Cancer_type`=1, and the others into the `Cancer_type`=0. Evaluate the classification accuracy (1 - misclassification rate) of the obtained classification model on both the training and test sets.\n"
   ]
  },
  {
   "cell_type": "code",
   "execution_count": 145,
   "metadata": {},
   "outputs": [
    {
     "data": {
      "text/plain": [
       "0.80000000000000004"
      ]
     },
     "execution_count": 145,
     "metadata": {},
     "output_type": "execute_result"
    }
   ],
   "source": [
    "# your code here\n",
    "\n",
    "#convert to classification model by conditioning.\n",
    "prediction = linear_model.predict(sm.add_constant(X_train.D29963_at)) >= 0.5\n",
    "1-(np.sum(y_train != prediction) / len(y_train)) #classification accurancy(1 - misclassification rate) \n",
    "\n",
    "\n",
    "# accuracy_score(prediction,y_train) \n",
    "#misclassification rate : y_train =! prediction."
   ]
  },
  {
   "cell_type": "code",
   "execution_count": 146,
   "metadata": {},
   "outputs": [
    {
     "data": {
      "text/plain": [
       "0.78787878787878785"
      ]
     },
     "execution_count": 146,
     "metadata": {},
     "output_type": "execute_result"
    }
   ],
   "source": [
    "# your code here\n",
    "test_prediction = linear_model.predict(sm.add_constant(X_test.D29963_at)) >= 0.5\n",
    "1-(np.sum(y_test != test_prediction) / len(y_test))\n",
    "\n",
    "# accuracy_score(prediction,y_test)\n"
   ]
  },
  {
   "cell_type": "markdown",
   "metadata": {},
   "source": [
    "**2.3:** Next, fit a simple logistic regression model to the training set. How do the training and test classification accuracies of this model compare with the linear regression model? Remember, you need to set the regularization parameter for sklearn's logistic regression function to be a very large value in order to not regularize (use 'C=100000')."
   ]
  },
  {
   "cell_type": "code",
   "execution_count": 147,
   "metadata": {},
   "outputs": [
    {
     "name": "stdout",
     "output_type": "stream",
     "text": [
      "0.8\n",
      "0.69696969697\n"
     ]
    }
   ],
   "source": [
    "# your code here\n",
    "logistic = LogisticRegression(C=100000).fit(X_train.D29963_at.values.reshape(-1, 1),y_train)\n",
    "#train logistic regression\n",
    "\n",
    "print(accuracy_score(logistic.predict(X_train.D29963_at.values.reshape(-1, 1)),y_train))\n",
    "#train set's classification rate.\n",
    "\n",
    "\n",
    "print(accuracy_score(logistic.predict(X_test.D29963_at.values.reshape(-1, 1)),y_test))\n",
    "#test set's classification rate.\n"
   ]
  },
  {
   "cell_type": "markdown",
   "metadata": {},
   "source": [
    "----\n",
    "Your answer here\n",
    "\n",
    "----\n",
    "train data's classficiation accurancy is 0.8. (when use print function, it shows round to 0.8)\n",
    "\n",
    "this is same as our modified linear regression.\n",
    "\n",
    "it makes sense because probability of bigger than 0.5 in linear regression \n",
    "\n",
    "is simliar to what logistic regression does.\n",
    "\n",
    "test data's classificiation accuracy is 0.69696969697 which is same as not modified model(first)\n",
    "\n",
    "it's little bit weird, why not similar to modifed model?\n",
    "\n",
    "I compared between two prediction results, one is from first model's prediction and\n",
    "\n",
    "another from logistic.\n",
    "\n",
    "Answer is their predictions are different, but numbers of misclassficiation are same, so they have same accuracy rate."
   ]
  },
  {
   "cell_type": "markdown",
   "metadata": {},
   "source": [
    "**2.4:** Plot the quantitative output from the linear regression model and the probabilistic output from the logistic regression model (on the training set points) as a function of the gene predictor. Also, display the true binary response for the training set points in the same plot. Based on these plots, does one of the models appear better suited for binary classification than the other? Explain."
   ]
  },
  {
   "cell_type": "code",
   "execution_count": 54,
   "metadata": {},
   "outputs": [
    {
     "data": {
      "image/png": "[encoded data removed]",
      "text/plain": [
       "<matplotlib.figure.Figure at 0x21088a13cf8>"
      ]
     },
     "metadata": {},
     "output_type": "display_data"
    }
   ],
   "source": [
    "# your code here\n",
    "prediction = linear_model.predict(sm.add_constant(X_train.D29963_at))\n",
    "logisitc_predcition = [i[1] for i in logistic.predict_proba(X_train.D29963_at.values.reshape(-1, 1))]\n",
    "#choose probability of 1 in logistic output.\n",
    "\n",
    "plt.plot(prediction.values, label = \"linear\")\n",
    "plt.plot(logisitc_predcition, label = \"logistic\")\n",
    "plt.plot(y_train.values, label ='true value')\n",
    "plt.title(\"compare models\", fontsize=15)\n",
    "plt.xlabel(\"number of trial\")\n",
    "plt.ylabel(\"output of class of cancer\")\n",
    "plt.legend();"
   ]
  },
  {
   "cell_type": "code",
   "execution_count": 156,
   "metadata": {},
   "outputs": [
    {
     "data": {
      "text/plain": [
       "<matplotlib.text.Text at 0x2108942c978>"
      ]
     },
     "execution_count": 156,
     "metadata": {},
     "output_type": "execute_result"
    },
    {
     "data": {
      "image/png": "[encoded data removed]",
      "text/plain": [
       "<matplotlib.figure.Figure at 0x210896eaf28>"
      ]
     },
     "metadata": {},
     "output_type": "display_data"
    }
   ],
   "source": [
    "fig, ax = plt.subplots(1,1, figsize=(10,4))\n",
    "plt.scatter(X_train['D29963_at'].values.reshape(-1,1), linear_model.predict(sm.add_constant(X_train.D29963_at)), \n",
    "            color='c', s=120, label='Linear Regression Model')\n",
    "plt.scatter(X_train['D29963_at'].values.reshape(-1,1), logisitc_predcition, \n",
    "            label='Logistic Regression Model', color='r')\n",
    "plt.scatter(X_train['D29963_at'].values.reshape(-1,1), y_train, label='True', color='black')\n",
    "ax.legend()\n",
    "ax.set_title('Prediction and True')\n",
    "ax.set_xlabel('D29963_at')\n",
    "ax.set_ylabel('Probability')"
   ]
  },
  {
   "cell_type": "markdown",
   "metadata": {},
   "source": [
    "----\n",
    "Your answer here\n",
    "\n",
    "----\n",
    "\n",
    "\n",
    "I would say logistic regression is working better than simple linear regression model.\n",
    "\n",
    "Because the quantitative output of linear regression has some over 0 and 1, it just tried to predict\n",
    "\n",
    "number, with any output. Not like logistic sigmoid situation. So it includes over 0 or 1, \n",
    "\n",
    "because we did not set any condition about how to predict values.\n",
    "\n"
   ]
  },
  {
   "cell_type": "markdown",
   "metadata": {},
   "source": [
    "## Question 3: Multiple Logistic Regression\n",
    "\n",
    "1. Next, fit a multiple logistic regression model with all the gene predictors from the data set.  How does the classification accuracy of this model compare with the models fitted in question 2 with a single gene (on both the training and test sets)?  \n",
    "\n",
    "2. Use the `visualize_prob` function provided below to visualize the probabilties predicted by the fitted multiple logistic regression model on both the training and test data sets. The function creates a visualization that places the data points on a vertical line based on the predicted probabilities, with the different cancer classes shown in different colors, and with the 0.5 threshold highlighted using a dotted horizontal line. Is there a difference in the spread of probabilities in the training and test plots? Are there data points for which the predicted probability is close to 0.5? If so, what can you say about these points?"
   ]
  },
  {
   "cell_type": "code",
   "execution_count": 60,
   "metadata": {
    "collapsed": true
   },
   "outputs": [],
   "source": [
    "\n",
    "\n",
    "#--------  visualize_prob\n",
    "# A function to visualize the probabilities predicted by a Logistic Regression model\n",
    "# Input: \n",
    "#      model (Logistic regression model)\n",
    "#      x (n x d array of predictors in training data)\n",
    "#      y (n x 1 array of response variable vals in training data: 0 or 1)\n",
    "#      ax (an axis object to generate the plot)\n",
    "\n",
    "def visualize_prob(model, x, y, ax):\n",
    "    # Use the model to predict probabilities for\n",
    "    y_pred = model.predict_proba(x)\n",
    "    \n",
    "    # Separate the predictions on the label 1 and label 0 points\n",
    "    ypos = y_pred[y==1]\n",
    "    yneg = y_pred[y==0]\n",
    "    \n",
    "    # Count the number of label 1 and label 0 points\n",
    "    npos = ypos.shape[0]\n",
    "    nneg = yneg.shape[0]\n",
    "    \n",
    "    # Plot the probabilities on a vertical line at x = 0, \n",
    "    # with the positive points in blue and negative points in red\n",
    "    pos_handle = ax.plot(np.zeros((npos,1)), ypos[:,1], 'bo', label = 'Cancer Type 1')\n",
    "    neg_handle = ax.plot(np.zeros((nneg,1)), yneg[:,1], 'ro', label = 'Cancer Type 0',markersize=5.3)\n",
    "\n",
    "    # Line to mark prob 0.5\n",
    "    ax.axhline(y = 0.5, color = 'k', linestyle = '--')\n",
    "    \n",
    "    # Add y-label and legend, do not display x-axis, set y-axis limit\n",
    "    ax.set_ylabel('Probability of Cancer')\n",
    "#     ax.legend(loc = 'best')\n",
    "    ax.get_xaxis().set_visible(False)\n",
    "    ax.set_ylim([0,1])"
   ]
  },
  {
   "cell_type": "markdown",
   "metadata": {},
   "source": [
    "#### Answers \n",
    "**3.1:** Next, fit a multiple logistic regression model with all the gene predictors from the data set.  How does the classification accuracy of this model compare with the models fitted in question 2 with a single gene (on both the training and test sets)?  "
   ]
  },
  {
   "cell_type": "code",
   "execution_count": 61,
   "metadata": {},
   "outputs": [
    {
     "name": "stdout",
     "output_type": "stream",
     "text": [
      "1.0\n",
      "0.969696969697\n"
     ]
    }
   ],
   "source": [
    "# your code here\n",
    "multi_logistic_model = LogisticRegression(C=100000).fit(X_train,y_train)\n",
    "\n",
    "print(accuracy_score(multi_logistic_model.predict(X_train),y_train))\n",
    "print(accuracy_score(multi_logistic_model.predict(X_test),y_test))\n"
   ]
  },
  {
   "cell_type": "markdown",
   "metadata": {},
   "source": [
    "----\n",
    "Your answer here\n",
    "\n",
    "----\n",
    "train set's rate is 1.0\n",
    "\n",
    "test set's rate is 0.969696969697\n",
    "\n",
    "\n",
    "Substantially high the classification accurancy. Almost perfect.\n",
    "\n",
    "Probably it seems like overfitted with many predictors"
   ]
  },
  {
   "cell_type": "markdown",
   "metadata": {},
   "source": [
    "**3.2:** Use the `visualize_prob` function provided below to visualize the probabilties predicted by the fitted multiple logistic regression model on both the training and test data sets. The function creates a visualization that places the data points on a vertical line based on the predicted probabilities, with the different cancer classes shown in different colors, and with the 0.5 threshold highlighted using a dotted horizontal line. Is there a difference in the spread of probabilities in the training and test plots? Are there data points for which the predicted probability is close to 0.5? If so, what can you say about these points?"
   ]
  },
  {
   "cell_type": "code",
   "execution_count": 62,
   "metadata": {},
   "outputs": [
    {
     "data": {
      "text/plain": [
       "<matplotlib.legend.Legend at 0x210883da518>"
      ]
     },
     "execution_count": 62,
     "metadata": {},
     "output_type": "execute_result"
    },
    {
     "data": {
      "image/png": "[encoded data removed]",
      "text/plain": [
       "<matplotlib.figure.Figure at 0x21087caf630>"
      ]
     },
     "metadata": {},
     "output_type": "display_data"
    }
   ],
   "source": [
    "# your code here\n",
    "fig, (ax1,ax2) = plt.subplots(1,2, figsize=(8,4), sharey=True)\n",
    "ax1.set_title(\"train set\", fontsize=20)\n",
    "\n",
    "visualize_prob(multi_logistic_model,X_train, y_train,ax1)\n",
    "#train set's plot\n",
    "\n",
    "visualize_prob(multi_logistic_model,X_test, y_test,ax2) #test set's plot\n",
    "ax2.set_title(\"test set\", fontsize=20)\n",
    "ax2.legend(bbox_to_anchor=(1.04,1), loc=\"upper left\",frameon=True, facecolor='skyblue')\n"
   ]
  },
  {
   "cell_type": "markdown",
   "metadata": {},
   "source": [
    "**Is there a difference in the spread of probabilities in the training and test plots? Are there data points for which the predicted probability is close to 0.5? If so, what can you say about these points?"
   ]
  },
  {
   "cell_type": "markdown",
   "metadata": {},
   "source": [
    "----\n",
    "Your answer here\n",
    "\n",
    "----\n",
    "\n",
    "\n",
    "\n",
    "Yes, training plot is almost perfectly classified. \n",
    "\n",
    "But test plot is not like that 'perfect'. one datapoint is over the line.\n",
    "\n",
    "and a few data are more closer to 0.5 line than training plot.\n",
    "\n",
    "I can say this model is overfitted with train data. \n",
    "\n",
    "So when predict with test data set, it does not that perfectly, although it's almost perfect,\n",
    "\n",
    "predict y_test data. Because overfitted with only train set. \n",
    "\n",
    "That point's means 50% probability of being the cancer type, so it is not predictable. \n",
    "\n",
    "Just like 50:50."
   ]
  },
  {
   "cell_type": "markdown",
   "metadata": {},
   "source": [
    "## Question 4: Analyzing Significance of Coefficients\n",
    "\n",
    "How many of the coefficients estimated by the multiple logistic regression in the previous problem are significantly different from zero at a *significance level of 95%*? \n",
    "\n",
    "Hint: To answer this question, use *bootstrapping* with 1000 boostrap samples/iterations.  "
   ]
  },
  {
   "cell_type": "markdown",
   "metadata": {},
   "source": [
    "#### Answer:"
   ]
  },
  {
   "cell_type": "code",
   "execution_count": 117,
   "metadata": {
    "collapsed": true
   },
   "outputs": [],
   "source": [
    "def make_bootstrap_sample(dataset_X, dataset_y, size=None):        \n",
    "    # by default return a bootstrap sample of the same size as the original dataset\n",
    "    if not size: size = len(dataset_X)\n",
    "    \n",
    "    # if the X and y datasets aren't the same size, raise an exception\n",
    "    if len(dataset_X) != len(dataset_y):\n",
    "        raise Exception(\"Data size must match between dataset_X and dataset_y\")\n",
    "        \n",
    "    #use .sample method to make bootstrap. n = size , with replace.\n",
    "    bootstrap_dataset_X = dataset_X.sample(n=size, replace=True)\n",
    "    bootstrap_dataset_y = dataset_y.loc[bootstrap_dataset_X.index]\n",
    "    #use loc to find same index's response values.  \n",
    "    return (bootstrap_dataset_X, bootstrap_dataset_y)\n",
    "    \n",
    "def calculate_coefficients(dataset_X, dataset_y, model): \n",
    "    coef = model.coef_[0] #find coef ( it was [[]]; double list, so change to 1 bracket)\n",
    "    coefficients_dictionary = {}  #make empty dictionary; i will store the results.\n",
    "    #use for loop to make dictionary, each predictior : coef\n",
    "    for i_column,i_coef in zip(dataset_X.columns,coef):\n",
    "        pair = {i_column : i_coef}\n",
    "        coefficients_dictionary.update(pair)  #store in dictionary\n",
    "    return coefficients_dictionary\n",
    "\n",
    "\n",
    "def get_significant_predictors(regression_coefficients, significance_level):\n",
    "    coeflist = {k:[d[k] for d in regression_coefficients] for k in regression_coefficients[0]}\n",
    "    #arrange dictionary. it makes every key has all trial's coef.\n",
    "    #Ex) 'AFFX' : 1st coef, 2st coef .... 'D2996' : 1st coef, 2st coef ...\n",
    "    \n",
    "    significant_coefficients = [] #make list to store results\n",
    "    for i in X_train.columns:   #for loop at each predictor.\n",
    "        percent = [significance_level/2,100-significance_level/2] \n",
    "        #define percentage of confidence interval\n",
    "        confidence = np.percentile(coeflist[i],percent)\n",
    "        #find which values are in the interval\n",
    "        if np.all([confidence>0]) == True: #if it is True, append in the list.\n",
    "            significant_coefficients.append(i) \n",
    "        elif np.all([confidence<0]) == True: #if it is True, append in the list(less than 0)\n",
    "            significant_coefficients.append(i) \n",
    "    # return the significant coefficients as a list of strings\n",
    "    return significant_coefficients"
   ]
  },
  {
   "cell_type": "code",
   "execution_count": 118,
   "metadata": {},
   "outputs": [
    {
     "name": "stdout",
     "output_type": "stream",
     "text": [
      "1845\n"
     ]
    }
   ],
   "source": [
    "# your code here\n",
    "# Find coefficients by running my above code.\n",
    "coef_list=[] #define empty list, it will be whole list of dictionaries that from 'calculate_coeffiecent'\n",
    "\n",
    "for i in range(1000): #1000 iterations\n",
    "    X,Y =make_bootstrap_sample(X_train,y_train) #make bootstrap with X-train, y_train\n",
    "    model = LogisticRegression(C=100000).fit(X,Y) #define model\n",
    "    coef_list.append(calculate_coefficients(X,Y,model)) #store every each coef dictionary\n",
    "print(len(get_significant_predictors(coef_list,5))) #5% significance level\n",
    "\n"
   ]
  },
  {
   "cell_type": "markdown",
   "metadata": {},
   "source": [
    "1845 of the coefficients estimated by the multiple logistic regression in the previous problem are significantly different from zero at a significance level of 5%."
   ]
  },
  {
   "cell_type": "markdown",
   "metadata": {},
   "source": [
    "## Question 5: High Dimensionality\n",
    "\n",
    "One of the issues you may run into when dealing with high dimensional data is that your 2D and 3D intuition may fail breakdown. For example, distance metrics in high dimensions can have properties that may feel counterintuitive.\n",
    "\n",
    "Consider the following: You have a hypersphere with a radius of $1$, inside of a hypercube centered at $0$, with edges of length $2$.\n",
    "\n",
    "1. As a function of $d$, the number of dimensions, how much of the hypercube's volume is contained within the hypersphere?\n",
    "2. What happens as $d$ gets very large?\n",
    "3. Using the functions provided below, create a plot of how the volume ratio changes as a function of $d$.\n",
    "4. What does this tell you about where the majority of the volume of the hypercube resides in higher dimensions? \n",
    "\n",
    "*HINTS:* \n",
    "- The volume of a hypercube with edges of length $2$ is $V_c(d) = 2^d$.\n",
    "- The volume of a hyperphere with a radius of $1$ is $V_s(d) = \\frac{\\pi^{\\frac{d}{2}}} {\\Gamma(\\frac{d}{2}+1)}$, where $\\Gamma$ is Euler's Gamma Function.\n",
    "- $\\Gamma$ is increasing for all $d \\geq 1$."
   ]
  },
  {
   "cell_type": "code",
   "execution_count": 120,
   "metadata": {
    "collapsed": true
   },
   "outputs": [],
   "source": [
    "def V_c(d):\n",
    "    \"\"\"\n",
    "    Calculate the volumn of a hypercube of dimension d.\n",
    "    \"\"\"\n",
    "    return 2**d\n",
    "\n",
    "def V_s(d):\n",
    "    \"\"\"\n",
    "    Calculate the volume of a hypersphere of dimension d.\n",
    "    \"\"\"\n",
    "    return math.pi**(d/2)/gamma((d/2)+1)  "
   ]
  },
  {
   "cell_type": "markdown",
   "metadata": {},
   "source": [
    "#### Answers:"
   ]
  },
  {
   "cell_type": "code",
   "execution_count": 121,
   "metadata": {
    "collapsed": true
   },
   "outputs": [],
   "source": [
    "hypercube = [V_c(i) for i in np.arange(0,1000)]\n",
    "hyperphere = [V_s(i) for i in np.arange(0,1000)]"
   ]
  },
  {
   "cell_type": "code",
   "execution_count": 122,
   "metadata": {},
   "outputs": [
    {
     "data": {
      "image/png": "[encoded data removed]",
      "text/plain": [
       "<matplotlib.figure.Figure at 0x21089add400>"
      ]
     },
     "metadata": {},
     "output_type": "display_data"
    }
   ],
   "source": [
    "fig,ax= plt.subplots(1,2, figsize=(10,6))\n",
    "ax[0].loglog(hypercube, basey=2) #make plot based on log2\n",
    "ax[0].set_title(\"hypercube volume\", fontsize=15)\n",
    "ax[0].set_xlabel(\"number of dimension\")\n",
    "ax[0].set_ylabel(\"volume\")\n",
    "\n",
    "ax[1].loglog(hyperphere, basey=10) #make plot based on log10\n",
    "ax[1].set_title(\"hyperphere volume\", fontsize=15)\n",
    "ax[1].set_xlabel(\"number of dimension\");\n",
    "\n",
    "# plt.ylim(()) # Set y axis limits\n"
   ]
  },
  {
   "cell_type": "code",
   "execution_count": 127,
   "metadata": {},
   "outputs": [
    {
     "name": "stdout",
     "output_type": "stream",
     "text": [
      "my model's hypercube volume with significant predictor : 2513865281456245895358013176378266320593264297955710972487843830310826533022997670000625719422920019954596905318024294218637758593641595517128105867729358706742197981053721989186176856193587654909446769471157624863431957680896023384552944657777850145378529593741134404830307541924888943013472327939470960548405081903045070935281516830007041720034329689815436815976826674180776371737087851505177409149922224805210879428003245190938552392938811076351993376847747685416391450212165376145336954939314622917653952105131531990402773716004200353101401607825784832\n"
     ]
    }
   ],
   "source": [
    "# your code here\n",
    "print(\"my model's hypercube volume with significant predictor : {0}\".format(V_c(1845)))\n"
   ]
  },
  {
   "cell_type": "markdown",
   "metadata": {},
   "source": [
    "----\n",
    "Your answer here\n",
    "\n",
    "----\n",
    "1.f(d) = V_s(d) * 100 / V_c(d))\n",
    "2.you can see above number\n",
    "\n",
    "\n",
    "\n",
    "When a dimension is higher, a volume of the hypercube goes high exponentially, \n",
    "\n",
    "on the contrary, When a dimension is higher, a volume of the hypersphere goes down exponentially\n",
    "\n",
    "the volume of cube is increasing in higer dimension, but the volume of sphere goes down.\n",
    "\n",
    "So in higher dimension. We can say the cube is near the farthest extremity, at the vertices.\n",
    "\n",
    "And we guess very small amount of sphere touch to cube.\n",
    "\n",
    "so a probability of touching, mass of hypersphere is going to be extreme zero.\n",
    "\n",
    "and the probability of not not touching, mass of that will be extremely higher.\n"
   ]
  },
  {
   "cell_type": "markdown",
   "metadata": {},
   "source": [
    "## Question 6: PCA and Dimensionality Reduction\n",
    "\n",
    "As we saw above, high dimensional problems can have counterintuitive behavior, thus we often want to try to reduce the dimensionality of our problems. A reasonable approach to reduce the dimensionality of the data is to use PCA and fit a logistic regression model on the smallest set of principal components that explain at least 90% of the variance in the predictors.\n",
    "\n",
    "1. Using the gene data from Problem 1, how many principal components do we need to capture at least 90% of the variance? How much of the variance do they actually capture? Fit a Logistic Regression model using these principal components. How do the classification accuracy values on both the training and tests sets compare with the models fit in question 3.1?  \n",
    "\n",
    "2. Use the code provided in question 3 to visualize the probabilities predicted by the fitted model on both the training and test sets. How does the spread of probabilities in these plots compare to those for the model in question 3.2? If the lower dimensional representation yields comparable predictive power, what advantage does the lower dimensional representation provide?"
   ]
  },
  {
   "cell_type": "markdown",
   "metadata": {},
   "source": [
    "#### Answers:\n",
    "\n",
    "**6.1:** Using the gene data from Problem 1, how many principal components do we need to capture at least 90% of the variance? How much of the variance do they actually capture? Fit a Logistic Regression model using these principal components. How do the classification accuracy values on both the training and tests sets compare with the models fit in question 3.1?  "
   ]
  },
  {
   "cell_type": "code",
   "execution_count": 128,
   "metadata": {},
   "outputs": [
    {
     "name": "stdout",
     "output_type": "stream",
     "text": [
      "29 components capture 0.9034377295974475 of the variance\n"
     ]
    }
   ],
   "source": [
    "# your code here\n",
    "\n",
    "# reduce dimensions and check variance ratio with for loop\n",
    "for i in np.arange(1,50):\n",
    "    a = PCA(i).fit(x_train_scaled).explained_variance_ratio_\n",
    "    if np.sum(a) >= 0.9:\n",
    "        print(\"{0} components capture {1} of the variance\".format(i,np.sum(a)))\n",
    "        break\n"
   ]
  },
  {
   "cell_type": "code",
   "execution_count": 129,
   "metadata": {},
   "outputs": [
    {
     "name": "stdout",
     "output_type": "stream",
     "text": [
      "1.0\n",
      "0.787878787879\n"
     ]
    }
   ],
   "source": [
    "from sklearn.pipeline import make_pipeline\n",
    "\n",
    "#Let's use pipeline to combine everything.\n",
    "pipeline = make_pipeline(StandardScaler(copy=True), PCA(29), LogisticRegression(C=1000000))\n",
    "logistic_pipeline_model = pipeline.fit(X_train,y_train)\n",
    "print(accuracy_score(logistic_pipeline_model.predict(X_train),y_train))\n",
    "print(accuracy_score(logistic_pipeline_model.predict(X_test),y_test))\n",
    "\n"
   ]
  },
  {
   "cell_type": "markdown",
   "metadata": {},
   "source": [
    "----\n",
    "Your answer here\n",
    "\n",
    "----\n",
    "\n",
    "29 components capture 0.903437729597448 of the variance.\n",
    "\n",
    "Personally, it is still high.\n",
    "\n",
    "classification accurancy of training set : 1.0\n",
    "\n",
    "it is still perfect. The reason why is probably due to high dimension, still.\n",
    "\n",
    "classification accurancy of test set : 0.787878787879\n",
    "\n",
    "but test set's accuarancy rate is lower than before. It was 0.969696969697.\n",
    "\n",
    "It's not bad because we reduce almost from 7000 predictors to 29, but only about 20% accurancy loss.\n",
    "\n"
   ]
  },
  {
   "cell_type": "markdown",
   "metadata": {},
   "source": [
    "**6.2:** Use the code provided in question 3 to visualize the probabilities predicted by the fitted model on both the training and test sets. How does the spread of probabilities in these plots compare to those for the model in question 3.2? If the lower dimensional representation yields comparable predictive power, what advantage does the lower dimensional representation provide?"
   ]
  },
  {
   "cell_type": "code",
   "execution_count": 130,
   "metadata": {},
   "outputs": [
    {
     "data": {
      "text/plain": [
       "<matplotlib.legend.Legend at 0x21088c37898>"
      ]
     },
     "execution_count": 130,
     "metadata": {},
     "output_type": "execute_result"
    },
    {
     "data": {
      "image/png": "[encoded data removed]",
      "text/plain": [
       "<matplotlib.figure.Figure at 0x21089aca048>"
      ]
     },
     "metadata": {},
     "output_type": "display_data"
    }
   ],
   "source": [
    "# your code here\n",
    "fig, (ax1,ax2) = plt.subplots(1,2, figsize=(8,4), sharey=True)\n",
    "ax1.set_title(\"train set\", fontsize=20)\n",
    "\n",
    "visualize_prob(logistic_pipeline_model,X_train, y_train,ax1)\n",
    "#train set's plot\n",
    "visualize_prob(logistic_pipeline_model,X_test, y_test,ax2)\n",
    "ax2.set_title(\"test set\", fontsize=20)\n",
    "ax2.legend(bbox_to_anchor=(1.04,1), loc=\"upper left\",frameon=True, facecolor='skyblue')"
   ]
  },
  {
   "cell_type": "markdown",
   "metadata": {},
   "source": [
    "----\n",
    "Your answer here\n",
    "\n",
    "----\n",
    "\n",
    "Comparing QW3.2, it is lower accurancy than that in the test set. (Training set, it's same.)\n",
    "\n",
    "and looks like a little bit more points are closer to middle, which means not predictable.\n",
    "\n",
    "But if we consider about dimension reduction, we reduce the predictors from about 7000 to 29,\n",
    "\n",
    "it is still fairly significant. Because the reason of, benefit of lower dismensional model is\n",
    "\n",
    "less overfitted problem, more interpretable, probably better performance in the new data, prediction.\n",
    "\n",
    "Also reduces time to run, and mulit-collinearity.\n",
    "\n",
    "ps. we rarely see blue points in the test set because they are overlapped with red point in extreme values. \n"
   ]
  },
  {
   "cell_type": "markdown",
   "metadata": {},
   "source": [
    "\n",
    "## Multiclass Thyroid Classification\n",
    "\n",
    "In this problem, you will build a model for diagnosing disorders in a patient's thyroid gland. Given the results of medical tests on a patient, the task is to classify the patient either as:\n",
    "- *normal* (class 1)\n",
    "- having *hyperthyroidism* (class 2)\n",
    "- or having *hypothyroidism* (class 3). \n",
    "\n",
    "The data set is provided in the file `dataset_hw5_2.csv`. Columns 1-2 contain biomarkers for a patient (predictors):\n",
    "- Biomarker 1: (Logarithm of) level of basal thyroid-stimulating hormone (TSH) as measured by radioimmuno assay\n",
    "- Biomarker 2: (Logarithm of) maximal absolute difference of TSH value after injection of 200 micro grams of thyrotropin-releasing hormone as compared to the basal value.\n",
    "\n",
    "The last column contains the diagnosis for the patient from a medical expert. This data set was obtained from the UCI Machine Learning Repository.\n",
    "\n",
    "Notice that unlike previous exercises, the task at hand is a 3-class classification problem. We will explore the use of different methods for multiclass classification.\n",
    "\n",
    "First task: split the data using the code provided below."
   ]
  },
  {
   "cell_type": "markdown",
   "metadata": {},
   "source": [
    "## Question 7: Fit Classification Models\n",
    "\n",
    "1. Generate a 2D scatter plot of the training set, denoting each class with a different color. Does it appear that the data points can be separated well by a linear classifier?\n",
    "\n",
    "2. Briefly explain the difference between multinomial logistic regression and one-vs-rest (OvR) logistic regression methods for fitting a multiclass classifier (in 2-3 sentences).\n",
    "\n",
    "3. Fit linear classification models on the thyroid data set using both the methods.  You should use $L_2$ regularization in both cases, tuning the regularization parameter using cross-validation.  Is there a difference in the overall classification accuracy of the two methods on the test set?\n",
    "\n",
    "4. Also, compare the training and test accuracies of these models with the following classification methods:\n",
    "    - Multiclass Logistic Regression with quadratic terms \n",
    "    - Linear Discriminant Analysis\n",
    "    - Quadratic Discriminant Analysis\n",
    "    - k-Nearest Neighbors\n",
    " <br>\n",
    "*Note:* you may use either the OvR or multinomial variant for the multiclass logistic regression (with $L_2$ regularization). Do not forget to use cross-validation to choose the regularization parameter, and also the number of neighbors in k-NN. \n",
    "\n",
    "5. Does the inclusion of the polynomial terms in logistic regression yield better test accuracy compared to the model with only linear terms? \n",
    "\n",
    "\n",
    "*Hint:* You may use the `KNeighborsClassifier` class to fit a k-NN classification model."
   ]
  },
  {
   "cell_type": "markdown",
   "metadata": {},
   "source": [
    "#### Answers:\n",
    "\n",
    "**7.0:** First task: split the data using the code provided below. "
   ]
  },
  {
   "cell_type": "code",
   "execution_count": 131,
   "metadata": {
    "collapsed": true
   },
   "outputs": [],
   "source": [
    "np.random.seed(9001)\n",
    "df = pd.read_csv('data/dataset_hw5_2.csv')\n",
    "msk = np.random.rand(len(df)) < 0.5\n",
    "data_train = df[msk]\n",
    "data_test = df[~msk]"
   ]
  },
  {
   "cell_type": "markdown",
   "metadata": {},
   "source": [
    "**7.1:** Generate a 2D scatter plot of the training set, denoting each class with a different color. Does it appear that the data points can be separated well by a linear classifier?\n"
   ]
  },
  {
   "cell_type": "code",
   "execution_count": 132,
   "metadata": {
    "collapsed": true
   },
   "outputs": [],
   "source": [
    "# your code here\n",
    "X_new_train = data_train.drop('Diagnosis',axis=1)\n",
    "y_new_train = data_train.Diagnosis\n",
    "X_new_test = data_test.drop('Diagnosis',axis=1)\n",
    "y_new_test = data_test.Diagnosis\n",
    "\n",
    "#They have quite different range,\n",
    "#it seems nomalization is good to use.\n",
    "#But TA does not recommend using nomalization in this case.\n",
    "# X_new_train=(X_new_train-X_new_train.min())/(X_new_train.max()-X_new_train.min())\n",
    "# X_new_test = (X_new_test-X_new_test.min())/(X_new_test.max()-X_new_test.min())"
   ]
  },
  {
   "cell_type": "code",
   "execution_count": 133,
   "metadata": {},
   "outputs": [
    {
     "data": {
      "image/png": "[encoded data removed]",
      "text/plain": [
       "<matplotlib.figure.Figure at 0x210aa50be10>"
      ]
     },
     "metadata": {},
     "output_type": "display_data"
    }
   ],
   "source": [
    "color = ['r','c','b']\n",
    "label = [\"normal (class 1)\", \"hyperthyroidism (class 2)\", \"hypothyroidism (class 3)\"]\n",
    "\n",
    "#make plot with above color and label.\n",
    "for i in [0,1,2]:\n",
    "    data = X_new_train[y_new_train==i+1].values\n",
    "    plt.scatter(data[:,0], data[:,1], c = color[i], label=label[i])\n",
    "    plt.xlabel(\"Biomarker 1\")\n",
    "    plt.ylabel(\"Biomarker 2\")\n",
    "    plt.legend(frameon=True, facecolor='skyblue')\n",
    "    \n",
    "plt.title(\"2D scatter plot\", fontsize=15);"
   ]
  },
  {
   "cell_type": "markdown",
   "metadata": {},
   "source": [
    "----\n",
    "Your answer here\n",
    "\n",
    "----\n",
    "A few point is not easy to be seperated, overlapped.\n",
    "\n",
    "The spread of the data point is not able to be classified by linear model perfectly.\n",
    "\n",
    "Of course, it could be but some values are hard to divide it by straight lines."
   ]
  },
  {
   "cell_type": "markdown",
   "metadata": {},
   "source": [
    "**7.2:** Briefly explain the difference between multinomial logistic regression and one-vs-rest (OvR) logistic regression methods for fitting a multiclass classifier (in 2-3 sentences).\n"
   ]
  },
  {
   "cell_type": "markdown",
   "metadata": {},
   "source": [
    "----\n",
    "Your answer here\n",
    "\n",
    "----\n",
    "\n",
    "In OvR logistic regression, K separate logistic regressions are fit, where the probability of each category is predicted over the rest of the categories combined.\n",
    "\n",
    "On the other hands, multinomial, the first approach sets one of the categories in the response variable as the reference group, and then fits separate logistic regression models to predict the other cases based off of the reference group."
   ]
  },
  {
   "cell_type": "markdown",
   "metadata": {},
   "source": [
    "**7.3:** Fit linear classification models on the thyroid data set using both the methods.  You should use $L_2$ regularization in both cases, tuning the regularization parameter using cross-validation.  Is there a difference in the overall classification accuracy of the two methods on the test set?"
   ]
  },
  {
   "cell_type": "code",
   "execution_count": 134,
   "metadata": {},
   "outputs": [
    {
     "name": "stdout",
     "output_type": "stream",
     "text": [
      "OvRmodel accuracy : 0.8672566371681416\n",
      "multinomial model accuracy : 0.8761061946902655\n"
     ]
    }
   ],
   "source": [
    "# your code here\n",
    "from sklearn.model_selection import GridSearchCV\n",
    "\n",
    "#define model to find parameter\n",
    "OvR= LogisticRegression(solver='newton-cg', max_iter=250, penalty='l2', multi_class='ovr')\n",
    "multinomial = LogisticRegression(solver='newton-cg', max_iter=250, penalty='l2', multi_class='multinomial')\n",
    "\n",
    "#C_value from 1e-4 to 1e+4\n",
    "C_values = [0.001, 0.01, 0.05, 0.1, 1., 100.,1000]\n",
    "parameters = {'C': C_values}\n",
    "findparm = GridSearchCV(OvR, param_grid=parameters)\n",
    "findparm2 = GridSearchCV(multinomial, param_grid=parameters)\n",
    "\n",
    "#store\n",
    "OvRbest = findparm.fit(X_new_train,y_new_train).best_params_['C']\n",
    "multibest = findparm2.fit(X_new_train,y_new_train).best_params_['C']\n",
    "\n",
    "#fit with best param\n",
    "OvRmodel = LogisticRegression(C= OvRbest, solver='newton-cg', max_iter=250, \n",
    "                              penalty='l2', multi_class='ovr').fit(X_new_train,y_new_train)\n",
    "\n",
    "multibestmodel = LogisticRegression(C= multibest, solver='newton-cg', max_iter=250, \n",
    "                               penalty='l2', multi_class='multinomial').fit(X_new_train,y_new_train)\n",
    "\n",
    "#perfome in test set.\n",
    "print(\"OvRmodel accuracy : {0}\".format(accuracy_score(OvRmodel.predict(X_new_test),y_new_test)))\n",
    "print(\"multinomial model accuracy : {0}\".format(accuracy_score(multibestmodel.predict(X_new_test),y_new_test)))\n",
    "\n"
   ]
  },
  {
   "cell_type": "markdown",
   "metadata": {},
   "source": [
    "----\n",
    "Your answer here\n",
    "\n",
    "----\n",
    "\n",
    "OvRmodel accuracy : 0.8672566371681416\n",
    "\n",
    "multinomial model accuracy : 0.8761061946902655\n",
    "\n",
    "multinomail model is slightly higer than One vs Rest model."
   ]
  },
  {
   "cell_type": "markdown",
   "metadata": {},
   "source": [
    "**7.4:** Also, compare the training and test accuracies of these models with the following classification methods:\n",
    "    - Multiclass Logistic Regression with quadratic terms \n",
    "    - Linear Discriminant Analysis\n",
    "    - Quadratic Discriminant Analysis\n",
    "    - k-Nearest Neighbors\n",
    "\n",
    "*Note:* you may use either the OvR or multinomial variant for the multiclass logistic regression (with $L_2$ regularization). Do not forget to use cross-validation to choose the regularization parameter, and also the number of neighbors in k-NN. \n"
   ]
  },
  {
   "cell_type": "code",
   "execution_count": 168,
   "metadata": {},
   "outputs": [],
   "source": [
    "poly_model = PolynomialFeatures(2, include_bias=False)\n",
    "\n",
    "# transform to get all the polynomial features of this column\n",
    "higher_orders = poly_model.fit_transform(X_new_train)\n",
    "higher_orders_test =poly_model.fit_transform(X_new_test)\n",
    "\n",
    "#get feature names\n",
    "feature_names = poly_model.get_feature_names(X_new_train.columns)\n",
    "\n",
    "#make dataframe\n",
    "higher_orders_train = pd.DataFrame(data = higher_orders, columns=feature_names)\n",
    "higher_orders_test = pd.DataFrame(data = higher_orders_test, columns=feature_names)\n",
    "\n",
    "\n",
    "# scale\n",
    "scaler = StandardScaler().fit(higher_orders_train)\n",
    "higher_orders_train[feature_names] = scaler.transform(higher_orders_train)\n",
    "higher_orders_test[feature_names] = scaler.transform(higher_orders_test)"
   ]
  },
  {
   "cell_type": "code",
   "execution_count": 169,
   "metadata": {
    "collapsed": true
   },
   "outputs": [],
   "source": [
    "#use GridSearchCV, using model from above. (OvR and multinomial)\n",
    "newfindparm = GridSearchCV(OvR, param_grid=parameters)\n",
    "newfindparm2 = GridSearchCV(multinomial, param_grid=parameters)\n",
    "\n",
    "#store\n",
    "newOvRbest = newfindparm.fit(higher_orders_train,y_new_train).best_params_['C']\n",
    "newmultibest = newfindparm2.fit(higher_orders_train,y_new_train).best_params_['C']\n",
    "\n",
    "#fit with higher orders train.\n",
    "newOvRmodel = LogisticRegression(C= newOvRbest, solver='newton-cg', max_iter=250, \n",
    "                              penalty='l2', multi_class='ovr').fit(higher_orders_train,y_new_train)\n",
    "\n",
    "newmultibestmodel = LogisticRegression(C= newmultibest, solver='newton-cg', max_iter=250, \n",
    "                               penalty='l2', multi_class='multinomial').fit(higher_orders_train,y_new_train)\n",
    "\n"
   ]
  },
  {
   "cell_type": "code",
   "execution_count": 170,
   "metadata": {
    "collapsed": true
   },
   "outputs": [],
   "source": [
    "#fit LDA and QDA model.\n",
    "fitted_lda = LinearDiscriminantAnalysis().fit(X_new_train, y_new_train)\n",
    "fitted_qda = QuadraticDiscriminantAnalysis().fit(X_new_train, y_new_train)\n"
   ]
  },
  {
   "cell_type": "code",
   "execution_count": 176,
   "metadata": {
    "collapsed": true
   },
   "outputs": [],
   "source": [
    "#find best K in KNN model.\n",
    "results = np.zeros((9,3))\n",
    "for i,n in enumerate(range(1,10)):\n",
    "    \n",
    "    model = KNeighborsClassifier(n_neighbors = n)\n",
    "    results[i,:] = cross_val_score(model, X_new_train, y_new_train)\n",
    "#make data frame to look it up.\n",
    "results_df = pd.DataFrame(results, index=range(1,10), columns= [\"CV1\",\"CV2\",\"CV3\"])\n",
    "results_df['meanCV'] = np.mean(results, axis=1)\n",
    "bestK = results_df['meanCV'].idxmax()\n",
    "#bestK = maximum value in meanCV : 3\n",
    "\n",
    "KNN =KNeighborsClassifier(n_neighbors = bestK).fit(X_new_train,y_new_train)\n"
   ]
  },
  {
   "cell_type": "code",
   "execution_count": 177,
   "metadata": {},
   "outputs": [
    {
     "name": "stdout",
     "output_type": "stream",
     "text": [
      "ploy OvRmodel accuracy : 0.8849557522123894\n",
      "poly multinomial model accuracy : 0.8761061946902655\n",
      "LDA accuracy : 0.831858407079646\n",
      "QDA accuracy : 0.8495575221238938\n",
      "KNN accuracy : 0.8672566371681416\n"
     ]
    }
   ],
   "source": [
    "print(\"ploy OvRmodel accuracy : {0}\".format(accuracy_score(newOvRmodel.predict(higher_orders_test),y_new_test)))\n",
    "print(\"poly multinomial model accuracy : {0}\".format(accuracy_score(newmultibestmodel.predict(higher_orders_test),y_new_test)))\n",
    "print(\"LDA accuracy : {0}\".format(accuracy_score(fitted_lda.predict(X_new_test),y_new_test)))\n",
    "print(\"QDA accuracy : {0}\".format(accuracy_score(fitted_qda.predict(X_new_test),y_new_test)))\n",
    "print(\"KNN accuracy : {0}\".format(accuracy_score(KNN.predict(X_new_test),y_new_test)))\n"
   ]
  },
  {
   "cell_type": "markdown",
   "metadata": {},
   "source": [
    "**7.5:** Does the inclusion of the polynomial terms in logistic regression yield better test accuracy compared to the model with only linear terms? "
   ]
  },
  {
   "cell_type": "markdown",
   "metadata": {},
   "source": [
    "----\n",
    "Your answer here\n",
    "\n",
    "----\n",
    "\n",
    "Yes. Because with only linear terms, it has only straight line, \n",
    "\n",
    "when you include the polynomial terms, it could be more flexible line.\n"
   ]
  },
  {
   "cell_type": "markdown",
   "metadata": {},
   "source": [
    "## Question 8: Visualize Decision Boundaries\n",
    "\n",
    "The following code will allow you to visualize the decision boundaries of a given classification model."
   ]
  },
  {
   "cell_type": "code",
   "execution_count": 173,
   "metadata": {
    "collapsed": true
   },
   "outputs": [],
   "source": [
    "#--------  plot_decision_boundary\n",
    "# A function that visualizes the data and the decision boundaries\n",
    "# Input: \n",
    "#      x (predictors)\n",
    "#      y (labels)\n",
    "#      model (the classifier you want to visualize)\n",
    "#      title (title for plot)\n",
    "#      ax (a set of axes to plot on)\n",
    "#      poly_degree (highest degree of polynomial terms included in the model; None by default)\n",
    "\n",
    "def plot_decision_boundary(x, y, model, title, ax, poly_degree=None):\n",
    "    # Create mesh\n",
    "    # Interval of points for biomarker 1\n",
    "    min0 = x[:,0].min()\n",
    "    max0 = x[:,0].max()\n",
    "    interval0 = np.arange(min0, max0, (max0-min0)/100)\n",
    "    n0 = np.size(interval0)\n",
    "    \n",
    "    # Interval of points for biomarker 2\n",
    "    min1 = x[:,1].min()\n",
    "    max1 = x[:,1].max()\n",
    "    interval1 = np.arange(min1, max1, (max1-min1)/100)\n",
    "    n1 = np.size(interval1)\n",
    "\n",
    "    # Create mesh grid of points\n",
    "    x1, x2 = np.meshgrid(interval0, interval1)\n",
    "    x1 = x1.reshape(-1,1)\n",
    "    x2 = x2.reshape(-1,1)\n",
    "    xx = np.concatenate((x1, x2), axis=1)\n",
    "\n",
    "    # Predict on mesh of points\n",
    "    # Check if polynomial terms need to be included\n",
    "    if(poly_degree!=None):\n",
    "        # Use PolynomialFeatures to generate polynomial terms\n",
    "        poly = PolynomialFeatures(poly_degree,include_bias = False)\n",
    "        xx_ = poly.fit_transform(xx)\n",
    "        yy = model.predict(xx_) \n",
    "        \n",
    "    else:   \n",
    "        yy = model.predict(xx)\n",
    "        \n",
    "    yy = yy.reshape((n0, n1))\n",
    "\n",
    "    # Plot decision surface\n",
    "    x1 = x1.reshape(n0, n1)\n",
    "    x2 = x2.reshape(n0, n1)\n",
    "    ax.contourf(x1, x2, yy, cmap=plt.cm.coolwarm, alpha=0.8)\n",
    "    \n",
    "    # Plot scatter plot of data\n",
    "    yy = y.reshape(-1,)\n",
    "    ax.scatter(x[yy==1,0], x[yy==1,1], c='blue', label='Normal', cmap=plt.cm.coolwarm)\n",
    "    ax.scatter(x[yy==2,0], x[yy==2,1], c='cyan', label='Hyper', cmap=plt.cm.coolwarm)\n",
    "    ax.scatter(x[yy==3,0], x[yy==3,1], c='red', label='Hypo', cmap=plt.cm.coolwarm)\n",
    "    \n",
    "    # Label axis, title\n",
    "    ax.set_title(title, fontsize=20)\n",
    "    ax.set_xlabel('Biomarker 1')\n",
    "    ax.set_ylabel('Biomarker 2')\n",
    "    ax.legend(bbox_to_anchor=(1.04,1),frameon=True, facecolor='skyblue')\n"
   ]
  },
  {
   "cell_type": "markdown",
   "metadata": {},
   "source": [
    "**Note:** The provided code uses `sklearn`'s `PolynomialFeatures` to generate higher-order polynomial terms, with degree `poly_degree`. \n",
    "Also, if you have loaded the data sets into `pandas` data frames, you may use the `as_matrix` function to obtain a `numpy` array from the data frame objects.\n",
    "\n",
    "1. Use the above code to visualize the decision boundaries for each of the model fitted in the previous question.\n",
    "2. Comment on the difference in the decision boundaries (if any) for the OvR and multinomial logistic regression models. Is there a difference between the decision boundaries for the linear logistic regression models and LDA. What about the decision boundaries for the quadratic logistic regression and QDA? Give an explanation for your answer.\n",
    "3. QDA is a generalization of the LDA model. What's the primary difference that makes QDA more general? How does that manifest in the plots you generated?"
   ]
  },
  {
   "cell_type": "markdown",
   "metadata": {
    "collapsed": true
   },
   "source": [
    "#### Answers:\n",
    "\n",
    "**8.1:** Use the above code to visualize the decision boundaries for each of the model fitted in the previous question."
   ]
  },
  {
   "cell_type": "code",
   "execution_count": 175,
   "metadata": {},
   "outputs": [
    {
     "data": {
      "image/png": "[encoded data removed]",
      "text/plain": [
       "<matplotlib.figure.Figure at 0x210896a12e8>"
      ]
     },
     "metadata": {},
     "output_type": "display_data"
    }
   ],
   "source": [
    "# your code here\n",
    "\n",
    "fig,ax=plt.subplots(7,1, figsize=(5,30))\n",
    "fig.subplots_adjust(hspace = 0.4)\n",
    "\n",
    "\n",
    "plot_decision_boundary(X_new_test.values,y_new_test.values,KNN,'KNN',ax[0])\n",
    "plot_decision_boundary(X_new_test.values,y_new_test.values,fitted_lda,'LDA',ax[1])\n",
    "plot_decision_boundary(X_new_test.values,y_new_test.values,fitted_qda,'QDA',ax[2])\n",
    "plot_decision_boundary(X_new_test.values,y_new_test.values,newOvRmodel,'poly OvR logistic',ax[3],poly_degree=2)\n",
    "plot_decision_boundary(X_new_test.values,y_new_test.values,newmultibestmodel,'poly multinomial',ax[4],poly_degree=2)\n",
    "\n",
    "plot_decision_boundary(X_new_test.values,y_new_test.values,OvRmodel,'linear OvR',ax[5])\n",
    "plot_decision_boundary(X_new_test.values,y_new_test.values,multibestmodel,'linear multinomial',ax[6])\n",
    "\n"
   ]
  },
  {
   "cell_type": "markdown",
   "metadata": {},
   "source": [
    "**8.2:** Comment on the difference in the decision boundaries (if any) for the OvR and multinomial logistic regression models. Is there a difference between the decision boundaries for the linear logistic regression models and LDA. What about the decision boundaries for the quadratic logistic regression and QDA? Give an explanation for your answer."
   ]
  },
  {
   "cell_type": "markdown",
   "metadata": {},
   "source": [
    "---\n",
    "Your answer here\n",
    "\n",
    "---\n",
    "\n",
    "1. The OvR logistic regression model captured more values than multinomial logistic regression models.\n",
    "\n",
    "Look the lowest blue point. OvR model got it unlike multinomial model.\n",
    "\n",
    "One of the reason why is, OvR model tends to comparing data with One and just rest of them with \n",
    "several times. So each time it focus on catching only the 'One'. \n",
    "\n",
    "\n",
    "\n",
    "2. My linear logistic regression models are clear 3 straight line from outside.\n",
    "\n",
    "LDA looks like converge in some way.\n",
    "\n",
    "One of the reason is it rather than attempting to model the conditional distribution of Y given X, P(Y = k|X = x), \n",
    "\n",
    "LDA models the distribution of the predictors X given the different categories that Y takes on, P(X = x|Y = k). \n",
    "\n",
    "LDA outperforms LogisAc Regression if the distribuAon of predictors is\n",
    "reasonably MVN (with constant covariance).\n",
    "\n",
    "\n",
    "\n",
    "3. QDA and polynomial decision boundaries are more flexible than others. \n",
    "\n",
    "The polynomial models are more accuracy than QDA in this case.\n",
    "\n",
    "Probably it it because of many of polynomial features including interaction terms. \n",
    "\n",
    "But we can include polynomial terms and interaction terms in QDA, but it could be overfitted.\n",
    "\n",
    "\n",
    "\n"
   ]
  },
  {
   "cell_type": "markdown",
   "metadata": {},
   "source": [
    "**8.3:** QDA is a generalization of the LDA model. What's the primary difference that makes QDA more general? How does that manifest in the plots you generated?"
   ]
  },
  {
   "cell_type": "markdown",
   "metadata": {},
   "source": [
    "---\n",
    "Your answer here\n",
    "\n",
    "---\n",
    "\n",
    "The implementation is just a slight variation on LDA. Instead of\n",
    "\n",
    "assuming the covariances of the MVN distributions within classes are\n",
    "\n",
    "equal, it instead allows them to be different\n",
    "\n",
    "In the plots that i generated, it has more flexible line than just straight line in LDA.\n",
    "\n",
    "That is why it captured more than LDA, so higher accuracy score in above.\n",
    "\n",
    "QDA outperforms LDA if the covariances are not the same in the groups."
   ]
  },
  {
   "cell_type": "code",
   "execution_count": null,
   "metadata": {
    "collapsed": true
   },
   "outputs": [],
   "source": []
  }
 ],
 "metadata": {
  "anaconda-cloud": {},
  "kernelspec": {
   "display_name": "Python 3",
   "language": "python",
   "name": "python3"
  },
  "language_info": {
   "codemirror_mode": {
    "name": "ipython",
    "version": 3
   },
   "file_extension": ".py",
   "mimetype": "text/x-python",
   "name": "python",
   "nbconvert_exporter": "python",
   "pygments_lexer": "ipython3",
   "version": "3.6.2"
  }
 },
 "nbformat": 4,
 "nbformat_minor": 2
}
