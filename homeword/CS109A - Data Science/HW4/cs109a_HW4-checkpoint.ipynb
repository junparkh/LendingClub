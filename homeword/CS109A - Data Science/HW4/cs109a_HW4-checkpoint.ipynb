{
 "cells": [
  {
   "cell_type": "markdown",
   "metadata": {},
   "source": [
    "# <img style=\"float: left; padding-right: 10px; width: 45px\" src=\"fig/iacs.png\"> S-109A Introduction to Data Science \n",
    "## Homework 4 - Regularization \n",
    "\n",
    "\n",
    "\n",
    "**Harvard University**<br/>\n",
    "**Summer 2018**<br/>\n",
    "**Instructors**: Pavlos Protopapas, Kevin Rader\n",
    "\n",
    "<hr style=\"height:2pt\">"
   ]
  },
  {
   "cell_type": "markdown",
   "metadata": {},
   "source": [
    "### INSTRUCTIONS\n",
    "\n",
    "- To submit your assignment follow the instructions given in canvas.\n",
    "- Restart the kernel and run the whole notebook again before you submit. \n",
    "- If you submit individually and you have worked with someone, please include the name of your [one] partner below. \n",
    "\n",
    "Names of people you have worked with goes here: \n",
    "\n",
    "<hr style=\"height:2pt\">"
   ]
  },
  {
   "cell_type": "code",
   "execution_count": 349,
   "metadata": {},
   "outputs": [
    {
     "data": {
      "text/html": [
       "<style>\n",
       "h1 { \n",
       "    padding-top: 25px;\n",
       "    padding-bottom: 25px;\n",
       "    text-align: left; \n",
       "    padding-left: 10px;\n",
       "    background-color: #DDDDDD; \n",
       "    color: black;\n",
       "}\n",
       "div.exercise {\n",
       "\tbackground-color: #ffcccc;\n",
       "\tborder-color: #E9967A; \t\n",
       "\tborder-left: 5px solid #800080; \n",
       "\tpadding: 0.5em;\n",
       "}\n",
       "div.theme {\n",
       "\tbackground-color: #DDDDDD;\n",
       "\tborder-color: #E9967A; \t\n",
       "\tborder-left: 5px solid #800080; \n",
       "\tpadding: 0.5em;\n",
       "\tfont-size: 18pt;\n",
       "}\n",
       "p.q1 { \n",
       "    padding-top: 5px;\n",
       "    padding-bottom: 5px;\n",
       "    text-align: left; \n",
       "    padding-left: 5px;\n",
       "    background-color: #EEEEEE; \n",
       "    color: black;\n",
       "}\n",
       "header {\n",
       "   padding-top: 35px;\n",
       "    padding-bottom: 35px;\n",
       "    text-align: left; \n",
       "    padding-left: 10px;\n",
       "    background-color: #DDDDDD; \n",
       "    color: black;\n",
       "}\n",
       "</style>\n",
       "\n"
      ],
      "text/plain": [
       "<IPython.core.display.HTML object>"
      ]
     },
     "execution_count": 349,
     "metadata": {},
     "output_type": "execute_result"
    }
   ],
   "source": [
    "from IPython.core.display import HTML\n",
    "def css_styling(): styles = open(\"cs109.css\", \"r\").read(); return HTML(styles)\n",
    "css_styling()"
   ]
  },
  {
   "cell_type": "markdown",
   "metadata": {},
   "source": [
    "import these libraries"
   ]
  },
  {
   "cell_type": "code",
   "execution_count": 350,
   "metadata": {
    "collapsed": true
   },
   "outputs": [],
   "source": [
    "import warnings\n",
    "warnings.filterwarnings('ignore')\n",
    "import numpy as np\n",
    "import pandas as pd\n",
    "import matplotlib\n",
    "import matplotlib.pyplot as plt\n",
    "from sklearn.metrics import r2_score\n",
    "from sklearn.preprocessing import PolynomialFeatures\n",
    "from sklearn.linear_model import Ridge\n",
    "from sklearn.linear_model import Lasso\n",
    "from sklearn.linear_model import RidgeCV\n",
    "from sklearn.linear_model import LassoCV\n",
    "from sklearn.linear_model import LinearRegression\n",
    "from sklearn.preprocessing import StandardScaler\n",
    "\n",
    "from sklearn.model_selection import cross_val_score\n",
    "from sklearn.model_selection import LeaveOneOut\n",
    "from sklearn.model_selection import KFold\n",
    "\n",
    "#import statsmodels.api as sm\n",
    "\n",
    "from pandas.core import datetools\n",
    "%matplotlib inline"
   ]
  },
  {
   "cell_type": "markdown",
   "metadata": {},
   "source": [
    "# Continuing Bike Sharing Usage Data\n",
    "\n",
    "In this homework, we will focus on regularization and cross validation. We will continue to build regression models for the Capital Bikeshare program in Washington D.C.  See homework 3 for more information about the Capital Bikeshare data that we'll be using extensively. \n",
    "\n"
   ]
  },
  {
   "cell_type": "markdown",
   "metadata": {},
   "source": [
    "## Data Preparation\n",
    "\n",
    "\n",
    "\n",
    "<div class='exercise'> <b> Question 1 </b> </div> \n",
    "  In HW3 Questions 1-3, you preprocessed the data in preparation for your regression analysis. We ask you to repeat those steps (particularly those in Question 3) so that we can compare the analysis models in this HW with those you developed in HW3.  In this HW we'll be using models from sklearn exclusively (as opposed to statsmodels)\n",
    "  \n",
    "**1.1** [From HW3] Read `data/BSS_train.csv` and `data/BSS_test.csv` into dataframes `BSS_train` and `BSS_test`, respectively.  Remove the `dteday` column from both train and test dataset. We do not need it, and its format cannot be used for analysis.  Also remove the `casual` and `registered` columns for both training and test datasets as they make  `count` trivial.   \n",
    "\n",
    "**1.2** Since we'll be exploring Regularization and Polynomial Features, it will make sense to standardize our data.  Standardize the numerical features. Store the dataframes for the processed training and test predictors into the variables `X_train` and `X_test`.  Store the appropriately shaped numpy arrays for the corresponding train and test `count` columns into `y_train` and `y_test`.\n",
    "\n",
    "**1.3** Use the `LinearRegression` library from `sklearn` to fit a multiple linear regression model to the training set data in `X_train`.  Store the fitted model in the variable `BikeOLSModel`.\n",
    "\n",
    "**1.4** What are the training and test set $R^2$ scores?  Store the training and test $R^2$ scores of the `BikeOLSModel` in a dictionary `BikeOLS_r2scores` using the string 'training' and 'test' as keys.  \n",
    "\n",
    "**1.5**   We're going to use bootstrapped confidence intervals (use 500 bootstrap iterations) to determine which of the estimated coefficients for the `BikeOLSModel` are statistically significant at a significance level of 5% .  We'll do so by creating 3 different functions:\n",
    "\n",
    "1. `make_bootstrap_sample(dataset_X, dataset_y)` returns a bootstrap sample of `dataset_X` and `dataset_y`\n",
    "2. `calculate_coefficients(dataset_X, dataset_y, model)` returns in the form of a dictionary regression coefficients calculated by your model on `dataset_X` and `dataset_y`.  The keys for regression coefficients dictionary should be the names of the features.  The values should be the coefficient values of that feature calculated on your model.  An example would be {'hum': 12.3, 'windspeed': -1.2, 'Sunday': 0.6 ... }\n",
    "3. `get_significant_predictors(regression_coefficients, significance_level)` takes as input a list of regression coefficient dictionaries (each one the output of `calculate_coefficients` and  returns a python list of the feature names of the significant predictors e.g. ['Monday', 'hum', 'holiday', ... ]\n",
    "\n",
    "In the above functions `dataset_X` should always be a pandas dataframe with your features, `dataset_y` a numpy column vector with the values of the response variable and collectively they form the dataset upon which the operations take place. `model` is the `sklearn` regression model that will be used to generate the regression coefficients. `regression_coefficients` is a list of dictionaries of numpy arrays with each numpy array containing the regression coefficients (not including the intercept) calculated from one bootstrap sample.  `significance_level` represents the significance level as a floating point number.  So a 5% significance level should be represented as 0.05.  \n",
    "\n",
    "\n",
    "Store the feature names as a list of strings in the variable `BikeOLS_significant_bootstrap` and print them for your answer.\n"
   ]
  },
  {
   "cell_type": "markdown",
   "metadata": {},
   "source": [
    "### Answers"
   ]
  },
  {
   "cell_type": "markdown",
   "metadata": {},
   "source": [
    "#### 1.1 Read `data/BSS_train.csv` and `data/BSS_test.csv` into Pandas DataFrames"
   ]
  },
  {
   "cell_type": "code",
   "execution_count": 351,
   "metadata": {},
   "outputs": [
    {
     "data": {
      "text/plain": [
       "hour            int64\n",
       "holiday         int64\n",
       "year            int64\n",
       "workingday      int64\n",
       "temp          float64\n",
       "atemp         float64\n",
       "hum           float64\n",
       "windspeed     float64\n",
       "counts          int64\n",
       "spring          int64\n",
       "summer          int64\n",
       "fall            int64\n",
       "Feb             int64\n",
       "Mar             int64\n",
       "Apr             int64\n",
       "May             int64\n",
       "Jun             int64\n",
       "Jul             int64\n",
       "Aug             int64\n",
       "Sept            int64\n",
       "Oct             int64\n",
       "Nov             int64\n",
       "Dec             int64\n",
       "Mon             int64\n",
       "Tue             int64\n",
       "Wed             int64\n",
       "Thu             int64\n",
       "Fri             int64\n",
       "Sat             int64\n",
       "Cloudy          int64\n",
       "Snow            int64\n",
       "Storm           int64\n",
       "dtype: object"
      ]
     },
     "execution_count": 351,
     "metadata": {},
     "output_type": "execute_result"
    }
   ],
   "source": [
    "# your code here\n",
    "\n",
    "BSS_train = pd.read_csv(\"data/BSS_train.csv\")\n",
    "\n",
    "BSS_train = BSS_train.drop(columns = ['dteday','casual','registered','Unnamed: 0'])\n",
    "#delete Unnamed:0 as well.\n",
    "BSS_test = pd.read_csv(\"data/BSS_test.csv\")\n",
    "\n",
    "BSS_test = BSS_test.drop(columns = ['dteday','casual','registered','Unnamed: 0'])\n",
    "BSS_train.dtypes\n"
   ]
  },
  {
   "cell_type": "markdown",
   "metadata": {},
   "source": [
    "\n",
    "#### 1.2 Standardizing our data"
   ]
  },
  {
   "cell_type": "code",
   "execution_count": 357,
   "metadata": {},
   "outputs": [
    {
     "data": {
      "text/html": [
       "<div>\n",
       "<style scoped>\n",
       "    .dataframe tbody tr th:only-of-type {\n",
       "        vertical-align: middle;\n",
       "    }\n",
       "\n",
       "    .dataframe tbody tr th {\n",
       "        vertical-align: top;\n",
       "    }\n",
       "\n",
       "    .dataframe thead th {\n",
       "        text-align: right;\n",
       "    }\n",
       "</style>\n",
       "<table border=\"1\" class=\"dataframe\">\n",
       "  <thead>\n",
       "    <tr style=\"text-align: right;\">\n",
       "      <th></th>\n",
       "      <th>hour</th>\n",
       "      <th>holiday</th>\n",
       "      <th>year</th>\n",
       "      <th>workingday</th>\n",
       "      <th>temp</th>\n",
       "      <th>atemp</th>\n",
       "      <th>hum</th>\n",
       "      <th>windspeed</th>\n",
       "      <th>spring</th>\n",
       "      <th>summer</th>\n",
       "      <th>...</th>\n",
       "      <th>Dec</th>\n",
       "      <th>Mon</th>\n",
       "      <th>Tue</th>\n",
       "      <th>Wed</th>\n",
       "      <th>Thu</th>\n",
       "      <th>Fri</th>\n",
       "      <th>Sat</th>\n",
       "      <th>Cloudy</th>\n",
       "      <th>Snow</th>\n",
       "      <th>Storm</th>\n",
       "    </tr>\n",
       "  </thead>\n",
       "  <tbody>\n",
       "    <tr>\n",
       "      <th>count</th>\n",
       "      <td>3476.000000</td>\n",
       "      <td>3476.000000</td>\n",
       "      <td>3476.000000</td>\n",
       "      <td>3476.000000</td>\n",
       "      <td>3.476000e+03</td>\n",
       "      <td>3.476000e+03</td>\n",
       "      <td>3.476000e+03</td>\n",
       "      <td>3.476000e+03</td>\n",
       "      <td>3476.000000</td>\n",
       "      <td>3476.000000</td>\n",
       "      <td>...</td>\n",
       "      <td>3476.000000</td>\n",
       "      <td>3476.000000</td>\n",
       "      <td>3476.000000</td>\n",
       "      <td>3476.000000</td>\n",
       "      <td>3476.000000</td>\n",
       "      <td>3476.000000</td>\n",
       "      <td>3476.000000</td>\n",
       "      <td>3476.000000</td>\n",
       "      <td>3476.000000</td>\n",
       "      <td>3476.000000</td>\n",
       "    </tr>\n",
       "    <tr>\n",
       "      <th>mean</th>\n",
       "      <td>11.615938</td>\n",
       "      <td>0.026755</td>\n",
       "      <td>0.494534</td>\n",
       "      <td>0.691024</td>\n",
       "      <td>8.834258e-15</td>\n",
       "      <td>-1.373444e-14</td>\n",
       "      <td>2.426665e-15</td>\n",
       "      <td>1.694559e-15</td>\n",
       "      <td>0.255754</td>\n",
       "      <td>0.258055</td>\n",
       "      <td>...</td>\n",
       "      <td>0.085443</td>\n",
       "      <td>0.149310</td>\n",
       "      <td>0.141254</td>\n",
       "      <td>0.132624</td>\n",
       "      <td>0.147583</td>\n",
       "      <td>0.147008</td>\n",
       "      <td>0.140679</td>\n",
       "      <td>0.265823</td>\n",
       "      <td>0.076812</td>\n",
       "      <td>0.000288</td>\n",
       "    </tr>\n",
       "    <tr>\n",
       "      <th>std</th>\n",
       "      <td>6.901033</td>\n",
       "      <td>0.161389</td>\n",
       "      <td>0.500042</td>\n",
       "      <td>0.462138</td>\n",
       "      <td>1.000144e+00</td>\n",
       "      <td>1.000144e+00</td>\n",
       "      <td>1.000144e+00</td>\n",
       "      <td>1.000144e+00</td>\n",
       "      <td>0.436347</td>\n",
       "      <td>0.437627</td>\n",
       "      <td>...</td>\n",
       "      <td>0.279580</td>\n",
       "      <td>0.356445</td>\n",
       "      <td>0.348334</td>\n",
       "      <td>0.339216</td>\n",
       "      <td>0.354738</td>\n",
       "      <td>0.354165</td>\n",
       "      <td>0.347740</td>\n",
       "      <td>0.441834</td>\n",
       "      <td>0.266332</td>\n",
       "      <td>0.016961</td>\n",
       "    </tr>\n",
       "    <tr>\n",
       "      <th>min</th>\n",
       "      <td>0.000000</td>\n",
       "      <td>0.000000</td>\n",
       "      <td>0.000000</td>\n",
       "      <td>0.000000</td>\n",
       "      <td>-2.489906e+00</td>\n",
       "      <td>-2.606599e+00</td>\n",
       "      <td>-3.227565e+00</td>\n",
       "      <td>-1.539692e+00</td>\n",
       "      <td>0.000000</td>\n",
       "      <td>0.000000</td>\n",
       "      <td>...</td>\n",
       "      <td>0.000000</td>\n",
       "      <td>0.000000</td>\n",
       "      <td>0.000000</td>\n",
       "      <td>0.000000</td>\n",
       "      <td>0.000000</td>\n",
       "      <td>0.000000</td>\n",
       "      <td>0.000000</td>\n",
       "      <td>0.000000</td>\n",
       "      <td>0.000000</td>\n",
       "      <td>0.000000</td>\n",
       "    </tr>\n",
       "    <tr>\n",
       "      <th>25%</th>\n",
       "      <td>6.000000</td>\n",
       "      <td>0.000000</td>\n",
       "      <td>0.000000</td>\n",
       "      <td>0.000000</td>\n",
       "      <td>-8.230553e-01</td>\n",
       "      <td>-8.392069e-01</td>\n",
       "      <td>-7.806240e-01</td>\n",
       "      <td>-6.945929e-01</td>\n",
       "      <td>0.000000</td>\n",
       "      <td>0.000000</td>\n",
       "      <td>...</td>\n",
       "      <td>0.000000</td>\n",
       "      <td>0.000000</td>\n",
       "      <td>0.000000</td>\n",
       "      <td>0.000000</td>\n",
       "      <td>0.000000</td>\n",
       "      <td>0.000000</td>\n",
       "      <td>0.000000</td>\n",
       "      <td>0.000000</td>\n",
       "      <td>0.000000</td>\n",
       "      <td>0.000000</td>\n",
       "    </tr>\n",
       "    <tr>\n",
       "      <th>50%</th>\n",
       "      <td>12.000000</td>\n",
       "      <td>0.000000</td>\n",
       "      <td>0.000000</td>\n",
       "      <td>1.000000</td>\n",
       "      <td>1.036986e-02</td>\n",
       "      <td>4.448903e-02</td>\n",
       "      <td>3.145322e-04</td>\n",
       "      <td>2.920049e-02</td>\n",
       "      <td>0.000000</td>\n",
       "      <td>0.000000</td>\n",
       "      <td>...</td>\n",
       "      <td>0.000000</td>\n",
       "      <td>0.000000</td>\n",
       "      <td>0.000000</td>\n",
       "      <td>0.000000</td>\n",
       "      <td>0.000000</td>\n",
       "      <td>0.000000</td>\n",
       "      <td>0.000000</td>\n",
       "      <td>0.000000</td>\n",
       "      <td>0.000000</td>\n",
       "      <td>0.000000</td>\n",
       "    </tr>\n",
       "    <tr>\n",
       "      <th>75%</th>\n",
       "      <td>17.000000</td>\n",
       "      <td>0.000000</td>\n",
       "      <td>1.000000</td>\n",
       "      <td>1.000000</td>\n",
       "      <td>8.437950e-01</td>\n",
       "      <td>8.401070e-01</td>\n",
       "      <td>8.333157e-01</td>\n",
       "      <td>5.119990e-01</td>\n",
       "      <td>1.000000</td>\n",
       "      <td>1.000000</td>\n",
       "      <td>...</td>\n",
       "      <td>0.000000</td>\n",
       "      <td>0.000000</td>\n",
       "      <td>0.000000</td>\n",
       "      <td>0.000000</td>\n",
       "      <td>0.000000</td>\n",
       "      <td>0.000000</td>\n",
       "      <td>0.000000</td>\n",
       "      <td>1.000000</td>\n",
       "      <td>0.000000</td>\n",
       "      <td>0.000000</td>\n",
       "    </tr>\n",
       "    <tr>\n",
       "      <th>max</th>\n",
       "      <td>23.000000</td>\n",
       "      <td>1.000000</td>\n",
       "      <td>1.000000</td>\n",
       "      <td>1.000000</td>\n",
       "      <td>2.406467e+00</td>\n",
       "      <td>2.784238e+00</td>\n",
       "      <td>1.978692e+00</td>\n",
       "      <td>4.978491e+00</td>\n",
       "      <td>1.000000</td>\n",
       "      <td>1.000000</td>\n",
       "      <td>...</td>\n",
       "      <td>1.000000</td>\n",
       "      <td>1.000000</td>\n",
       "      <td>1.000000</td>\n",
       "      <td>1.000000</td>\n",
       "      <td>1.000000</td>\n",
       "      <td>1.000000</td>\n",
       "      <td>1.000000</td>\n",
       "      <td>1.000000</td>\n",
       "      <td>1.000000</td>\n",
       "      <td>1.000000</td>\n",
       "    </tr>\n",
       "  </tbody>\n",
       "</table>\n",
       "<p>8 rows × 31 columns</p>\n",
       "</div>"
      ],
      "text/plain": [
       "              hour      holiday         year   workingday          temp  \\\n",
       "count  3476.000000  3476.000000  3476.000000  3476.000000  3.476000e+03   \n",
       "mean     11.615938     0.026755     0.494534     0.691024  8.834258e-15   \n",
       "std       6.901033     0.161389     0.500042     0.462138  1.000144e+00   \n",
       "min       0.000000     0.000000     0.000000     0.000000 -2.489906e+00   \n",
       "25%       6.000000     0.000000     0.000000     0.000000 -8.230553e-01   \n",
       "50%      12.000000     0.000000     0.000000     1.000000  1.036986e-02   \n",
       "75%      17.000000     0.000000     1.000000     1.000000  8.437950e-01   \n",
       "max      23.000000     1.000000     1.000000     1.000000  2.406467e+00   \n",
       "\n",
       "              atemp           hum     windspeed       spring       summer  \\\n",
       "count  3.476000e+03  3.476000e+03  3.476000e+03  3476.000000  3476.000000   \n",
       "mean  -1.373444e-14  2.426665e-15  1.694559e-15     0.255754     0.258055   \n",
       "std    1.000144e+00  1.000144e+00  1.000144e+00     0.436347     0.437627   \n",
       "min   -2.606599e+00 -3.227565e+00 -1.539692e+00     0.000000     0.000000   \n",
       "25%   -8.392069e-01 -7.806240e-01 -6.945929e-01     0.000000     0.000000   \n",
       "50%    4.448903e-02  3.145322e-04  2.920049e-02     0.000000     0.000000   \n",
       "75%    8.401070e-01  8.333157e-01  5.119990e-01     1.000000     1.000000   \n",
       "max    2.784238e+00  1.978692e+00  4.978491e+00     1.000000     1.000000   \n",
       "\n",
       "          ...               Dec          Mon          Tue          Wed  \\\n",
       "count     ...       3476.000000  3476.000000  3476.000000  3476.000000   \n",
       "mean      ...          0.085443     0.149310     0.141254     0.132624   \n",
       "std       ...          0.279580     0.356445     0.348334     0.339216   \n",
       "min       ...          0.000000     0.000000     0.000000     0.000000   \n",
       "25%       ...          0.000000     0.000000     0.000000     0.000000   \n",
       "50%       ...          0.000000     0.000000     0.000000     0.000000   \n",
       "75%       ...          0.000000     0.000000     0.000000     0.000000   \n",
       "max       ...          1.000000     1.000000     1.000000     1.000000   \n",
       "\n",
       "               Thu          Fri          Sat       Cloudy         Snow  \\\n",
       "count  3476.000000  3476.000000  3476.000000  3476.000000  3476.000000   \n",
       "mean      0.147583     0.147008     0.140679     0.265823     0.076812   \n",
       "std       0.354738     0.354165     0.347740     0.441834     0.266332   \n",
       "min       0.000000     0.000000     0.000000     0.000000     0.000000   \n",
       "25%       0.000000     0.000000     0.000000     0.000000     0.000000   \n",
       "50%       0.000000     0.000000     0.000000     0.000000     0.000000   \n",
       "75%       0.000000     0.000000     0.000000     1.000000     0.000000   \n",
       "max       1.000000     1.000000     1.000000     1.000000     1.000000   \n",
       "\n",
       "             Storm  \n",
       "count  3476.000000  \n",
       "mean      0.000288  \n",
       "std       0.016961  \n",
       "min       0.000000  \n",
       "25%       0.000000  \n",
       "50%       0.000000  \n",
       "75%       0.000000  \n",
       "max       1.000000  \n",
       "\n",
       "[8 rows x 31 columns]"
      ]
     },
     "execution_count": 357,
     "metadata": {},
     "output_type": "execute_result"
    }
   ],
   "source": [
    "# your code here\n",
    "#temp, atemp, hum, windspeed are numerical values.\n",
    "#hour, year are ordinal values, and the others are binary.\n",
    "#lets standardize\n",
    "X_train = BSS_train.copy().drop(columns =['counts']) #make copy of BSS_train without y values\n",
    "X_test = BSS_test.copy().drop(columns =['counts'])\n",
    "y_train = BSS_train.counts\n",
    "y_test = BSS_test.counts\n",
    "#standardize data.\n",
    "for i in ['temp','atemp','hum','windspeed']:\n",
    "    X_train[i] = (BSS_train[i] - np.mean(BSS_train[i])) / np.std(BSS_train[i])\n",
    "for i in ['temp','atemp','hum','windspeed']:\n",
    "    X_test[i] = (BSS_test[i] - np.mean(BSS_test[i])) / np.std(BSS_test[i])\n",
    "X_train.describe()\n",
    "X_test.describe()"
   ]
  },
  {
   "cell_type": "markdown",
   "metadata": {},
   "source": [
    "#### 1.3 Use the `LinearRegression` library from `sklearn` to fit a multiple linear regression."
   ]
  },
  {
   "cell_type": "code",
   "execution_count": 311,
   "metadata": {},
   "outputs": [
    {
     "name": "stdout",
     "output_type": "stream",
     "text": [
      "train set R score\n",
      "0.406538782797\n",
      "test set R score\n",
      "0.414481133552\n"
     ]
    }
   ],
   "source": [
    "# your code here\n",
    "\n",
    "#make regression model by fit.\n",
    "BikeOLSModel = LinearRegression().fit(X_train,y_train)\n",
    "BikeOLSModel_test = LinearRegression().fit(X_test,y_test)\n",
    "#test model as well.\n",
    "\n",
    "print('train set R score')\n",
    "print(BikeOLSModel.score(X_train,y_train))\n",
    "print('test set R score')\n",
    "print(BikeOLSModel_test.score(X_test,y_test))"
   ]
  },
  {
   "cell_type": "markdown",
   "metadata": {},
   "source": [
    "#### 1.4 What are the training and test set $R^2$ scores? Store the $R^2$ scores of the `BikeOLSModel` on the training and test sets in a dictionary `BikeOLS_r2scores`. "
   ]
  },
  {
   "cell_type": "markdown",
   "metadata": {},
   "source": [
    "<HR>\n",
    "Your answer here\n",
    "<HR>\n",
    "\n",
    "train set R score\n",
    "0.406538782797\n",
    "\n",
    "test set R score\n",
    "0.414481133552\n",
    "\n",
    "It is not that low but also not that high.\n",
    "\n",
    "we do not have no clue yet.\n",
    "\n",
    "(Before comparing with others)"
   ]
  },
  {
   "cell_type": "code",
   "execution_count": 354,
   "metadata": {},
   "outputs": [
    {
     "data": {
      "text/plain": [
       "{'test': 0.41448113355225891, 'training': 0.40653878279690858}"
      ]
     },
     "execution_count": 354,
     "metadata": {},
     "output_type": "execute_result"
    }
   ],
   "source": [
    "# your code here\n",
    "\n",
    "#store r2scores.\n",
    "BikeOLS_r2scores ={'training' : BikeOLSModel.score(X_train,y_train) ,\n",
    "                  'test' : BikeOLSModel_test.score(X_test,y_test)}\n",
    "BikeOLS_r2scores"
   ]
  },
  {
   "cell_type": "markdown",
   "metadata": {},
   "source": [
    "**1.5**   We're going to use bootstrapped confidence intervals (use 500 bootstrap iterations) to determine which of the estimated coefficients for the `BikeOLSModel` are statistically significant at a significance level of 5% .  We'll do so by creating 3 different functions:\n",
    "\n",
    "1. `make_bootstrap_sample(dataset_X, dataset_y)` returns a bootstrap sample of `dataset_X` and `dataset_y`\n",
    "2. `calculate_coefficients(dataset_X, dataset_y, model)` returns in the form of a dictionary regression coefficients calculated by your model on `dataset_X` and `dataset_y`.  The keys for regression coefficients dictionary should be the names of the features.  The values should be the coefficient values of that feature calculated on your model.  An example would be {'hum': 12.3, 'windspeed': -1.2, 'Sunday': 0.6 ... }\n",
    "3. `get_significant_predictors(regression_coefficients, significance_level)` takes as input a list of regression coefficient dictionaries (each one the output of `calculate_coefficients` and  returns a python list of the feature names of the significant predictors e.g. ['Monday', 'hum', 'holiday', ... ]\n",
    "\n",
    "In the above functions `dataset_X` should always be a pandas dataframe with your features, `dataset_y` a numpy column vector with the values of the response variable and collectively they form the dataset upon which the operations take place. `model` is the `sklearn` regression model that will be used to generate the regression coefficients. `regression_coefficients` is a list of dictionaries of numpy arrays with each numpy array containing the regression coefficients (not including the intercept) calculated from one bootstrap sample.  `significance_level` represents the significance level as a floating point number.  So a 5% significance level should be represented as 0.05.  \n",
    "\n",
    "\n",
    "Store the feature names as a list of strings in the variable `BikeOLS_significant_bootstrap` and print them for your answer."
   ]
  },
  {
   "cell_type": "code",
   "execution_count": 196,
   "metadata": {
    "collapsed": true
   },
   "outputs": [],
   "source": [
    "def make_bootstrap_sample(dataset_X, dataset_y, size = None):    \n",
    "    \n",
    "    # by default return a bootstrap sample of the same size as the original dataset\n",
    "    if not size: size = len(dataset_X)\n",
    "    \n",
    "    # if the X and y datasets aren't the same size, raise an exception\n",
    "    if len(dataset_X) != len(dataset_y):\n",
    "        raise Exception(\"Data size must match between dataset_X and dataset_y\")\n",
    "        \n",
    "    #your code here\n",
    "    \n",
    "    #I changed a location of code because i want to use if condition above.\n",
    "    #use .sample method to make bootstrap. n = size , with replace.\n",
    "    bootstrap_dataset_X = dataset_X.sample(n=size, replace=True)\n",
    "    bootstrap_dataset_y = dataset_y.loc[bootstrap_dataset_X.index]\n",
    "    #use loc to find same index's response values. \n",
    "    \n",
    "    return (bootstrap_dataset_X, bootstrap_dataset_y)\n",
    "    \n",
    "\n",
    "def calculate_coefficients(dataset_X, dataset_y, model): \n",
    "    # your code here\n",
    "    coef = model.coef_ #find coef\n",
    "    coefficients_dictionary = {}  #make empty dictionary; i will store the results.\n",
    "    \n",
    "    #use for loop to make dictionary, each predictior : coef\n",
    "    for i_column,i_coef in zip(dataset_X.columns,coef):\n",
    "        pair = {i_column : i_coef}\n",
    "        coefficients_dictionary.update(pair)  #store in dictionary\n",
    "    \n",
    "    return coefficients_dictionary\n",
    "\n",
    "\n",
    "def get_significant_predictors(regression_coefficients, significance_level):\n",
    "    # your code here\n",
    "    coeflist = {k:[d[k] for d in regression_coefficients] for k in regression_coefficients[0]}\n",
    "    #arrange dictionary. it makes every key has all trial's coef.\n",
    "    #Ex) 'Apr' : 1st coef, 2st coef .... 'hour' : 1st coef, 2st coef ...\n",
    "    \n",
    "    significant_coefficients = [] #make list to store results\n",
    "    for i in X_train.columns:   #for loop at each predictor.\n",
    "        percent = [significance_level/2,100-significance_level/2] \n",
    "        #define percentage of confidence interval\n",
    "        confidence = np.percentile(coeflist[i],percent)\n",
    "        #find which values are in the interval\n",
    "        if np.all([confidence>0]) == True: #if it is True, appen in the list.\n",
    "            significant_coefficients.append(i) \n",
    "\n",
    "    # return the significant coefficients as a list of strings\n",
    "    return significant_coefficients"
   ]
  },
  {
   "cell_type": "code",
   "execution_count": 355,
   "metadata": {},
   "outputs": [
    {
     "name": "stdout",
     "output_type": "stream",
     "text": [
      "['hour', 'year', 'workingday', 'temp', 'windspeed', 'spring', 'summer', 'fall', 'Sat', 'Cloudy']\n"
     ]
    }
   ],
   "source": [
    "# Find coefficients by running my above code.\n",
    "\n",
    "coef_list=[] #define empty list, it will be whole list of dictionaries that from 'calculate_coeffiecent'\n",
    "\n",
    "for i in range(500): #500 iterations\n",
    "    \n",
    "    X,Y =make_bootstrap_sample(X_train,y_train) #make bootstrap with X-train, y_train\n",
    "    model = LinearRegression().fit(X,Y) #define model\n",
    "    coef_list.append(calculate_coefficients(X,Y,model)) #store every each coef dictionary\n",
    "    \n",
    "print(get_significant_predictors(coef_list,5)) #5% significance level\n"
   ]
  },
  {
   "cell_type": "markdown",
   "metadata": {},
   "source": [
    "## Penalization Methods\n",
    "\n",
    "In HW 3 Question 5 we explored using subset selection to find a significant subset of features.  We then fit a regression model just on that subset of features instead of on the full dataset (including all features).   As an alternative to selecting a subset of predictors and fitting a regression model on the subset, one can fit a linear regression model on all predictors, but shrink or regularize the coefficient estimates to make sure that the model does not \"overfit\" the training set. \n",
    "\n",
    "<div class='exercise'> <b> Question 2 </b> </div> \n",
    "  We're going to use Ridge and Lasso regression regularization techniques to fit linear models to the training set.  We'll use cross-validation and shrinkage parameters $\\lambda$ from the set $\\{.001,.005,1,5,10,50,100,500,1000\\}$ to pick the best model for each regularization technique.\n",
    "\n",
    "**2.1** Use 5-fold cross-validation to pick the best shrinkage parameter from the set $\\{.001,.005,1,5,10,50,100,500,1000\\}$ for your Ridge Regression model on the training data.  Fit a Ridge Regression model on the training set with the selected shrinkage parameter and store your fitted model in the variable `BikeRRModel`.  Store the selected shrinkage parameter in the variable `BikeRR_shrinkage_parameter`.\n",
    "\n",
    "**2.2** Use 5-fold cross-validation to pick the best shrinkage parameter from the set $\\{.001,.005,1,5,10,50,100,500,1000\\}$ for your Lasso Regression model on the training data.  Fit a Lasso Regression model on the training set with the selected shrinkage parameter and store your fitted model in the variable `BikeLRModel`.  Store the selected shrinkage parameter in the variable `BikeLR_shrinkage_parameter`.\n",
    "\n",
    "**2.3** Create three dictionaries `BikeOLSparams`, `BikeLRparams`, and `BikeRRparams`.  Store in each the corresponding regression coefficients for each of the regression models indexed by the string feature name.\n",
    "\n",
    "**2.4** For the Lasso and Ridge Regression models list the features that are assigned a coefficient value close to 0 (i.e. the absolute value of the coefficient is less than 0.1).  How closely do they match the redundant predictors found (if any) in HW 3, Question 5?\n",
    "\n",
    "**2.5** To get a visual sense of how the features different regression models (Multiple Linear Regression, Ridge Regression, Lasso Regression) estimate coefficients, order the features by magnitude of the estimated coefficients in the Multiple Linear Regression Model (no shrinkage).  Plot a bar graph of the magnitude (absolute value) of the estimated coefficients from Multiple Linear Regression in order from greatest to least.  Using a different color (and alpha values) overlay bar graphs of the magnitude of the estimated coefficients (in the same order as the Multiple Linear Regression coefficients) from Ridge and Lasso Regression.\n",
    "\n",
    "**2.6** Let's examine a pair of features we believe to be related.  Is there a difference in the way Ridge and Lasso regression assign coefficients to the predictors `temp` and `atemp`? If so, explain the reason for the difference.\n",
    "\n",
    "**2.7** Discuss the Results:\n",
    "\n",
    "1. How do the estimated coefficients compare to or differ from the coefficients estimated by a plain linear regression (without shrinkage penalty) in Question 1? \n",
    "2. Is there a difference between coefficients estimated by the two shrinkage methods? If so, give an explantion for the difference.\n",
    "3. Is the significance related to the shrinkage in some way?\n",
    "\n",
    "*Hint:* You may use `sklearn`'s `RidgeCV` and `LassoCV` classes to implement Ridge and Lasso regression. These classes automatically perform cross-validation to tune the parameter $\\lambda$ from a given range of values."
   ]
  },
  {
   "cell_type": "markdown",
   "metadata": {},
   "source": [
    "### Answers"
   ]
  },
  {
   "cell_type": "code",
   "execution_count": 199,
   "metadata": {
    "collapsed": true
   },
   "outputs": [],
   "source": [
    "lambdas = [.001, .005, 1, 5, 10, 50, 100, 500, 1000]"
   ]
  },
  {
   "cell_type": "markdown",
   "metadata": {},
   "source": [
    "#### 2.1 Use 5-fold cross-validation to pick the best shrinkage parameter from the set $\\{.001,.005,1,5,10,50,100,500,1000\\}$ for your Ridge Regression model."
   ]
  },
  {
   "cell_type": "code",
   "execution_count": 360,
   "metadata": {},
   "outputs": [
    {
     "data": {
      "text/plain": [
       "500"
      ]
     },
     "execution_count": 360,
     "metadata": {},
     "output_type": "execute_result"
    }
   ],
   "source": [
    "# your code here\n",
    "\n",
    "# make splitter with KFold function.\n",
    "\n",
    "# splitter = KFold(5,random_state=22, shuffle=True) \n",
    "\n",
    "#but.. TA advice was not shuffle it.\n",
    "\n",
    "ridgeCV_object = RidgeCV(alphas=lambdas, cv=5) \n",
    "#use RidegeCV to kflod.\n",
    "\n",
    "ridgeCV_object.fit(X_train.values, y_train)\n",
    "#fit data in CVmodel\n",
    "\n",
    "\n",
    "BikeRR_shrinkage_parameter = ridgeCV_object.alpha_\n",
    "#store best alpha_.\n",
    "\n",
    "#use that to fit new model.\n",
    "BikeRRModel = Ridge(alpha=BikeRR_shrinkage_parameter).fit(X_train,y_train)\n",
    "#define that as a BikeRRModel\n",
    "BikeRR_shrinkage_parameter"
   ]
  },
  {
   "cell_type": "markdown",
   "metadata": {},
   "source": [
    "#### 2.2 Use 5-fold cross-validation to pick the best shrinkage parameter from the set $\\{.001,.005,1,5,10,50,100,500,1000\\}$ for your Lasso Regression model."
   ]
  },
  {
   "cell_type": "code",
   "execution_count": 362,
   "metadata": {},
   "outputs": [
    {
     "data": {
      "text/plain": [
       "0.0050000000000000001"
      ]
     },
     "execution_count": 362,
     "metadata": {},
     "output_type": "execute_result"
    }
   ],
   "source": [
    "# your code here\n",
    "\n",
    "LassoCVobject = LassoCV(alphas=lambdas, cv=5)\n",
    "#use LassoCV this time.\n",
    "LassoCVobject.fit(X_train,y_train)\n",
    "\n",
    "BikeLR_shrinkage_parameter = LassoCVobject.alpha_\n",
    "#same thing.\n",
    "\n",
    "BikeLRModel = Lasso(alpha=BikeLR_shrinkage_parameter).fit(X_train,y_train)\n",
    "\n",
    "BikeLR_shrinkage_parameter"
   ]
  },
  {
   "cell_type": "markdown",
   "metadata": {},
   "source": [
    "#### 2.3 Create three dictionaries `BikeOLSparams`, `BikeLRparams`, and `BikeRRparams`.  Store in each the corresponding regression coefficients."
   ]
  },
  {
   "cell_type": "code",
   "execution_count": 422,
   "metadata": {},
   "outputs": [],
   "source": [
    "# your code here\n",
    "\n",
    "BikeOLSparams = calculate_coefficients(X_train,y_train,BikeOLSModel)\n",
    "BikeLRparams = calculate_coefficients(X_train,y_train,BikeLRModel)\n",
    "BikeRRparams = calculate_coefficients(X_train,y_train,BikeRRModel)\n",
    "#store every params by using function that we made. "
   ]
  },
  {
   "cell_type": "markdown",
   "metadata": {},
   "source": [
    "#### 2.4 For the Lasso and Ridge Regression models list the features that are assigned a coefficient value close to 0 (i.e. the absolute value of the coefficient is less than 0.1). How closely do they match the redundant predictors found (if any) in HW 3, Question 5?"
   ]
  },
  {
   "cell_type": "code",
   "execution_count": 412,
   "metadata": {},
   "outputs": [
    {
     "name": "stdout",
     "output_type": "stream",
     "text": [
      "Mon\n"
     ]
    }
   ],
   "source": [
    "# your code here\n",
    "\n",
    "#find which coefficient is less than 0.1 \n",
    "for i in X_train.columns:\n",
    "    if abs(BikeRRparams[i]) < 0.1:\n",
    "        print(i)\n",
    "        \n",
    "for i in X_train.columns:\n",
    "    if abs(BikeLRparams[i]) < 0.1:\n",
    "        print(i)\n"
   ]
  },
  {
   "cell_type": "markdown",
   "metadata": {},
   "source": [
    "**Your answer here\n",
    "\n",
    "1. very weirdly, almost nothing is matching the redundant predictors in HW3, Question 5.\n",
    "except Lasso model sometimes. (1~3 predictors shrink sometimes)\n",
    "Because It is depending on kfold's random shuffle, so every time it will be a little changed.\n",
    "\n",
    "2. First of all, why Lasso has shrunk coefficients unlike Ridge is about penalty term in the formula.\n",
    "Ridge has that the shape of the constraint region is circle unlike Lasso is diamond.\n",
    "So when Lasso's coefficients have some collinear, it would be shrunk. Therefore params < 0.1\n",
    "\n",
    "3. And RidgeCV and LassoCV just found the best lamdas(alpha) when the cross validation error is the lowest. So the coefficients can be not shrunk ( not dominated by penalty term).\n",
    "\n",
    "\n",
    "\n"
   ]
  },
  {
   "cell_type": "markdown",
   "metadata": {},
   "source": [
    "**2.5** To get a visual sense of how the features different regression models (Multiple Linear Regression, Ridge Regression, Lasso Regression) estimate coefficients, order the features by magnitude of the estimated coefficients in the Multiple Linear Regression Model (no shrinkage).  Plot a bar graph of the magnitude (absolute value) of the estimated coefficients from Multiple Linear Regression in order from greatest to least.  Using a different color (and alpha values) overlay bar graphs of the magnitude of the estimated coefficients (in the same order as the Multiple Linear Regression coefficients) from Ridge and Lasso Regression."
   ]
  },
  {
   "cell_type": "code",
   "execution_count": 402,
   "metadata": {},
   "outputs": [],
   "source": [
    "data = sorted(BikeOLSparams.items(),key=lambda x:x[1], reverse=True) #sorted from greatest to least\n",
    "order, y = zip(*data)\n",
    "index = np.arange(len(order)) #make index in plot\n",
    "#make order\n",
    "\n",
    "#extract values by function\n",
    "def param_values(params): #make function that making polt, 'name' = legend\n",
    "    for i in X_train.columns:\n",
    "        params[i] = abs(params[i])\n",
    "#make data to absolute values\n",
    "    data = sorted(params.items(),key=lambda x:order.index(x[0])) #sorted from greatest to least\n",
    "    x, y = zip(*data) #seperate it to use X,Y\n",
    "    return y\n",
    "\n",
    "OLSvalue = param_values(BikeOLSparams)\n",
    "LRvalue = param_values(BikeLRparams)\n",
    "RRvalue = param_values(BikeRRparams)"
   ]
  },
  {
   "cell_type": "code",
   "execution_count": 411,
   "metadata": {},
   "outputs": [
    {
     "data": {
      "text/plain": [
       "<matplotlib.legend.Legend at 0x1f982061828>"
      ]
     },
     "execution_count": 411,
     "metadata": {},
     "output_type": "execute_result"
    },
    {
     "data": {
      "image/png": "[encoded data removed]",
      "text/plain": [
       "<matplotlib.figure.Figure at 0x1f982042630>"
      ]
     },
     "metadata": {},
     "output_type": "display_data"
    }
   ],
   "source": [
    "# your code here\n",
    "fig,ax = plt.subplots(1,1, figsize=(30,20))\n",
    "\n",
    "ax.bar(index,OLSvalue, label=\"BikeOLS\" ,alpha=0.4)\n",
    "ax.bar(index,RRvalue, label=\"BikeRR\" ,alpha=0.4)\n",
    "ax.bar(index,LRvalue, label=\"BikeLR\", alpha=0.4 )\n",
    "\n",
    "\n",
    "ax.set_xticks(index)\n",
    "ax.set_xticklabels(order,fontsize=20, rotation='vertical')\n",
    "ax.set_title(\"comparing models\",fontsize=50)\n",
    "ax.set_xlabel(\"coeffcients\" ,fontsize=40)\n",
    "ax.set_ylabel(\"absolute magnitude\" ,fontsize=40)\n",
    "ax.legend(fontsize=40)\n",
    "\n"
   ]
  },
  {
   "cell_type": "markdown",
   "metadata": {},
   "source": [
    "**2.6** Let's examine a pair of features we believe to be related.  Is there a difference in the way Ridge and Lasso regression assign coefficients to the predictors `temp` and `atemp`? If so, explain the reason for the difference."
   ]
  },
  {
   "cell_type": "markdown",
   "metadata": {},
   "source": [
    "Your answer here\n",
    "\n",
    "\n",
    "1. \n",
    "\n",
    "As for the difference in teap and atemp predictors, \n",
    "\n",
    "first of all, both Ridge and Lasso regression show that temp has bigger magnitude than atemp. \n",
    "\n",
    "But Ridge's magnitude in atemp is higher than Lasso's.\n",
    "\n",
    "I guess it is because in the Lasso's regression, \n",
    "\n",
    "it tend to be more shrink when value has collinearity.\n",
    "\n",
    "For example, any fixed value of the coefficient β1+2β2, \n",
    "\n",
    "the penalty |β1|+|β2| is minimized when β1=0. \n",
    "\n",
    "This is because the penalty on β1 is twice as weighted."
   ]
  },
  {
   "cell_type": "markdown",
   "metadata": {},
   "source": [
    "#### 2.7.1. How do the estimated coefficients compare to or differ from the coefficients estimated by a plain linear regression (without shrinkage penalty) in Question 1? "
   ]
  },
  {
   "cell_type": "markdown",
   "metadata": {},
   "source": [
    "<HR>\n",
    "Your answer here\n",
    "<HR>\n",
    "\n",
    "1. Ridge and Lasso regression have smaller coefficients' magnitudes than OLS models.\n",
    "\n",
    "Because Ridge and Lasso regression model has a shrinkage penalty, \n",
    "\n",
    "which affects other coefficients.\n",
    "\n",
    "Ridge and Lasso's magnitude are affected by penalty, and then get smaller values.\n"
   ]
  },
  {
   "cell_type": "markdown",
   "metadata": {},
   "source": [
    "#### 2.7.2. Is there a difference between coefficients estimated by the two shrinkage methods? If so, give an explantion for the difference."
   ]
  },
  {
   "cell_type": "markdown",
   "metadata": {},
   "source": [
    "<HR>\n",
    "Your answer here\n",
    "<HR>\n",
    "\n",
    "1.First of all, Lasso regression sometimes(because based on random shuffle) has\n",
    "\n",
    "shrunk value to 0 unlike Ridge. Basically, it is because of their penalty formula.\n",
    "\n",
    "when we see region of that affection, \n",
    "\n",
    "Ridge has that the shape of the constraint region is circle unlike Lasso is diamond.\n",
    "\n",
    "So 0 values happen often in Lasso.\n",
    "\n",
    "and also Lasso is more sensitive in collinearity. \n",
    "\n",
    "Each coefficient seems to have less value when it has some collinear relationship."
   ]
  },
  {
   "cell_type": "markdown",
   "metadata": {},
   "source": [
    "#### 2.7.3 Is the significance related to the shrinkage in some way?"
   ]
  },
  {
   "cell_type": "markdown",
   "metadata": {},
   "source": [
    "<HR>\n",
    "Your answer here\n",
    "<HR>\n",
    "Yes. Because technically they have very similiar formular. \n",
    "\n",
    "So when the shrinkage goes up, their coefficients are dominated by the penalty,\n",
    "\n",
    "every values is closer to 0. They will be not significant in high level of shrinkage, lamda.\n",
    "\n",
    "It's underfitted with too high level of lamda.\n",
    "\n",
    "And if that goes down, it is going to be overfitted. And every coefficients will be\n",
    "\n",
    "significant.\n"
   ]
  },
  {
   "cell_type": "markdown",
   "metadata": {},
   "source": [
    "<div class='exercise'> <b> Question 3: Polynomial Features, Interaction Terms, and Cross Validation </b> </div>\n"
   ]
  },
  {
   "cell_type": "markdown",
   "metadata": {},
   "source": [
    "We would like to fit a model to include all main effects and polynomial terms for numerical predictors up to the $4^{th}$ order. More precisely use the following terms: \n",
    " - predictors in `X_train` and `X_test`\n",
    " - $X^1_j$, $X^2_j$, $X^3_j$, and $X^4_j$ for each numerical predictor $X_j$\n",
    "\n",
    "**3.1** Create an expanded training set including all the desired terms mentioned above. Store that training set (as a pandas dataframe) in the variable `X_train_poly`.  Create the corresponding test set and store it as a pandas dataframe in `X_test_poly`.\n",
    "\n",
    "**3.2** Discuss the following:\n",
    "\n",
    "1. What are the dimensions of this 'design matrix' of all the predictor variables in 3.1?  \n",
    "2. What issues may we run into attempting to fit a regression model using all of these predictors?\n",
    "\n",
    "**3.3** Let's try fitting a regression model on all the predictors anyway.  Use the `LinearRegression` library from `sklearn` to fit a multiple linear regression model to the training set data in `X_train_poly`.  Store the fitted model in the variable `BikeOLSPolyModel`.\n",
    "\n",
    "**3.4** Discuss the following:\n",
    "1. What are the training and test $R^2$ scores? \n",
    "2. How does the model performance compare with the OLS model on the original set of features in Question 1?\n",
    "\n",
    "**3.5** The training set $R^2$ score we generated for our model with polynomial and interaction terms doesn't have any error bars.  Let's use cross-validation to generate sample sets of $R^2$ for our model. Use 5-fold cross-validation to generate $R^2$ scores for the multiple linear regression model with polynomial terms.  What are the mean and standard deviation of the $R^2$ scores for your model.\n",
    "\n",
    "**3.6** Visualize the $R^2$ scores generated from the 5-fold cross validation as a box and whisker plot.\n",
    "\n",
    "**3.7** We've used cross-validation to generate error bars around our $R^2$ scores, but another use of cross-validation is as a way of model selection.  Let's construct the following model alternatives:\n",
    "\n",
    "1. Multiple linear regression model generated based upon the feature set in Question 1 (let's call these the base features.\n",
    "2. base features plus polynomial features to order 2\n",
    "3. base features plus polynomial features to order 4\n",
    "\n",
    "Use 5-fold cross validation on the training set to select the best model.  Make sure to evaluate all the models as much as possible on the same folds.  For each model generate a mean and standard deviation for the $R^2$ score.\n",
    "\n",
    "**3.8** Visualize the $R^2$ scores generated for each model from 5-fold cross validation in box and whiskers plots.  Do the box and whisker plots influence your view of which model was best?\n",
    "\n",
    "**3.9** Evaluate each of the model alternatives on the test set.  How do the results compare with the results from cross-validation?"
   ]
  },
  {
   "cell_type": "markdown",
   "metadata": {},
   "source": [
    "### Answers"
   ]
  },
  {
   "cell_type": "markdown",
   "metadata": {},
   "source": [
    "#### 3.1 Create an expanded training set including all the desired terms mentioned above. Store that training set (as a numpy array) in the variable `X_train_poly`...."
   ]
  },
  {
   "cell_type": "code",
   "execution_count": 413,
   "metadata": {},
   "outputs": [],
   "source": [
    "# # your code here\n",
    "numerical = ['temp','atemp','hum','windspeed']\n",
    "#make a numerical list.\n",
    "\n",
    "def get_poly_dataset(train,test,number=int):\n",
    "   #make function will use below cell.\n",
    "    \n",
    "    X_train_poly = train.drop(numerical,axis=1).copy()# make base data frame without numerical\n",
    "    #I will add numerical after.\n",
    "    X_test_poly = test.drop(numerical,axis=1).copy()\n",
    "    \n",
    "    feature =  PolynomialFeatures(number, include_bias=False)\n",
    "    #make polynomail feature\n",
    "    for i in numerical: #use for loop to put every each numerical's polynomial features.\n",
    "        data = feature.fit_transform(train[i].values.reshape(-1,1))\n",
    "    \n",
    "\n",
    "    #transform data\n",
    "        columns = feature.get_feature_names([i]) \n",
    "    #get columns name\n",
    "        X_poly = pd.DataFrame(data=data, columns=columns, index = train.index)\n",
    "        \n",
    "#The newly created polynomial features would be on different scales \n",
    "#so it would make sense to standardize them again.\n",
    "        scaler = StandardScaler().fit(X_poly) \n",
    "        X_poly[columns]=scaler.transform(X_poly) \n",
    "        \n",
    "    #make dataframe\n",
    "        X_train_poly = pd.concat([X_poly,X_train_poly],axis=1)\n",
    "        \n",
    "    #merge\n",
    "        \n",
    "    #same thing in test data.\n",
    "        testdata = feature.fit_transform(test[i].values.reshape(-1,1))\n",
    "        testcolumns = feature.get_feature_names([i])\n",
    "        test_poly = pd.DataFrame(data=testdata, columns=testcolumns) \n",
    "        scaler = StandardScaler().fit(test_poly)\n",
    "        test_poly[columns]=scaler.transform(test_poly) \n",
    "        X_test_poly = pd.concat([test_poly,X_test_poly],axis=1)\n",
    "        \n",
    "        \n",
    "    return X_train_poly, X_test_poly\n",
    "\n",
    "\n"
   ]
  },
  {
   "cell_type": "code",
   "execution_count": 414,
   "metadata": {},
   "outputs": [
    {
     "data": {
      "text/html": [
       "<div>\n",
       "<style scoped>\n",
       "    .dataframe tbody tr th:only-of-type {\n",
       "        vertical-align: middle;\n",
       "    }\n",
       "\n",
       "    .dataframe tbody tr th {\n",
       "        vertical-align: top;\n",
       "    }\n",
       "\n",
       "    .dataframe thead th {\n",
       "        text-align: right;\n",
       "    }\n",
       "</style>\n",
       "<table border=\"1\" class=\"dataframe\">\n",
       "  <thead>\n",
       "    <tr style=\"text-align: right;\">\n",
       "      <th></th>\n",
       "      <th>windspeed</th>\n",
       "      <th>windspeed^2</th>\n",
       "      <th>windspeed^3</th>\n",
       "      <th>windspeed^4</th>\n",
       "      <th>hum</th>\n",
       "      <th>hum^2</th>\n",
       "      <th>hum^3</th>\n",
       "      <th>hum^4</th>\n",
       "      <th>atemp</th>\n",
       "      <th>atemp^2</th>\n",
       "      <th>...</th>\n",
       "      <th>Dec</th>\n",
       "      <th>Mon</th>\n",
       "      <th>Tue</th>\n",
       "      <th>Wed</th>\n",
       "      <th>Thu</th>\n",
       "      <th>Fri</th>\n",
       "      <th>Sat</th>\n",
       "      <th>Cloudy</th>\n",
       "      <th>Snow</th>\n",
       "      <th>Storm</th>\n",
       "    </tr>\n",
       "  </thead>\n",
       "  <tbody>\n",
       "    <tr>\n",
       "      <th>0</th>\n",
       "      <td>-1.557515</td>\n",
       "      <td>0.88456</td>\n",
       "      <td>-0.810236</td>\n",
       "      <td>0.113435</td>\n",
       "      <td>0.937108</td>\n",
       "      <td>-0.111969</td>\n",
       "      <td>0.349869</td>\n",
       "      <td>-0.252866</td>\n",
       "      <td>-1.090615</td>\n",
       "      <td>0.176457</td>\n",
       "      <td>...</td>\n",
       "      <td>0</td>\n",
       "      <td>0</td>\n",
       "      <td>0</td>\n",
       "      <td>0</td>\n",
       "      <td>0</td>\n",
       "      <td>0</td>\n",
       "      <td>1</td>\n",
       "      <td>0</td>\n",
       "      <td>0</td>\n",
       "      <td>0</td>\n",
       "    </tr>\n",
       "    <tr>\n",
       "      <th>1</th>\n",
       "      <td>-1.557515</td>\n",
       "      <td>0.88456</td>\n",
       "      <td>-0.810236</td>\n",
       "      <td>0.113435</td>\n",
       "      <td>0.885320</td>\n",
       "      <td>-0.198713</td>\n",
       "      <td>0.301867</td>\n",
       "      <td>-0.280943</td>\n",
       "      <td>-1.179015</td>\n",
       "      <td>0.363342</td>\n",
       "      <td>...</td>\n",
       "      <td>0</td>\n",
       "      <td>0</td>\n",
       "      <td>0</td>\n",
       "      <td>0</td>\n",
       "      <td>0</td>\n",
       "      <td>0</td>\n",
       "      <td>1</td>\n",
       "      <td>0</td>\n",
       "      <td>0</td>\n",
       "      <td>0</td>\n",
       "    </tr>\n",
       "    <tr>\n",
       "      <th>2</th>\n",
       "      <td>-1.557515</td>\n",
       "      <td>0.88456</td>\n",
       "      <td>-0.810236</td>\n",
       "      <td>0.113435</td>\n",
       "      <td>0.885320</td>\n",
       "      <td>-0.198713</td>\n",
       "      <td>0.301867</td>\n",
       "      <td>-0.280943</td>\n",
       "      <td>-1.179015</td>\n",
       "      <td>0.363342</td>\n",
       "      <td>...</td>\n",
       "      <td>0</td>\n",
       "      <td>0</td>\n",
       "      <td>0</td>\n",
       "      <td>0</td>\n",
       "      <td>0</td>\n",
       "      <td>0</td>\n",
       "      <td>1</td>\n",
       "      <td>0</td>\n",
       "      <td>0</td>\n",
       "      <td>0</td>\n",
       "    </tr>\n",
       "    <tr>\n",
       "      <th>3</th>\n",
       "      <td>-1.557515</td>\n",
       "      <td>0.88456</td>\n",
       "      <td>-0.810236</td>\n",
       "      <td>0.113435</td>\n",
       "      <td>0.626377</td>\n",
       "      <td>-0.558479</td>\n",
       "      <td>0.135155</td>\n",
       "      <td>-0.363353</td>\n",
       "      <td>-1.090615</td>\n",
       "      <td>0.176457</td>\n",
       "      <td>...</td>\n",
       "      <td>0</td>\n",
       "      <td>0</td>\n",
       "      <td>0</td>\n",
       "      <td>0</td>\n",
       "      <td>0</td>\n",
       "      <td>0</td>\n",
       "      <td>1</td>\n",
       "      <td>0</td>\n",
       "      <td>0</td>\n",
       "      <td>0</td>\n",
       "    </tr>\n",
       "    <tr>\n",
       "      <th>4</th>\n",
       "      <td>-1.557515</td>\n",
       "      <td>0.88456</td>\n",
       "      <td>-0.810236</td>\n",
       "      <td>0.113435</td>\n",
       "      <td>0.626377</td>\n",
       "      <td>-0.558479</td>\n",
       "      <td>0.135155</td>\n",
       "      <td>-0.363353</td>\n",
       "      <td>-1.090615</td>\n",
       "      <td>0.176457</td>\n",
       "      <td>...</td>\n",
       "      <td>0</td>\n",
       "      <td>0</td>\n",
       "      <td>0</td>\n",
       "      <td>0</td>\n",
       "      <td>0</td>\n",
       "      <td>0</td>\n",
       "      <td>1</td>\n",
       "      <td>0</td>\n",
       "      <td>0</td>\n",
       "      <td>0</td>\n",
       "    </tr>\n",
       "  </tbody>\n",
       "</table>\n",
       "<p>5 rows × 43 columns</p>\n",
       "</div>"
      ],
      "text/plain": [
       "   windspeed  windspeed^2  windspeed^3  windspeed^4       hum     hum^2  \\\n",
       "0  -1.557515      0.88456    -0.810236     0.113435  0.937108 -0.111969   \n",
       "1  -1.557515      0.88456    -0.810236     0.113435  0.885320 -0.198713   \n",
       "2  -1.557515      0.88456    -0.810236     0.113435  0.885320 -0.198713   \n",
       "3  -1.557515      0.88456    -0.810236     0.113435  0.626377 -0.558479   \n",
       "4  -1.557515      0.88456    -0.810236     0.113435  0.626377 -0.558479   \n",
       "\n",
       "      hum^3     hum^4     atemp   atemp^2  ...    Dec  Mon  Tue  Wed  Thu  \\\n",
       "0  0.349869 -0.252866 -1.090615  0.176457  ...      0    0    0    0    0   \n",
       "1  0.301867 -0.280943 -1.179015  0.363342  ...      0    0    0    0    0   \n",
       "2  0.301867 -0.280943 -1.179015  0.363342  ...      0    0    0    0    0   \n",
       "3  0.135155 -0.363353 -1.090615  0.176457  ...      0    0    0    0    0   \n",
       "4  0.135155 -0.363353 -1.090615  0.176457  ...      0    0    0    0    0   \n",
       "\n",
       "   Fri  Sat  Cloudy  Snow  Storm  \n",
       "0    0    1       0     0      0  \n",
       "1    0    1       0     0      0  \n",
       "2    0    1       0     0      0  \n",
       "3    0    1       0     0      0  \n",
       "4    0    1       0     0      0  \n",
       "\n",
       "[5 rows x 43 columns]"
      ]
     },
     "execution_count": 414,
     "metadata": {},
     "output_type": "execute_result"
    }
   ],
   "source": [
    "X_train_poly, X_test_poly = get_poly_dataset(X_train, X_test, 4)\n",
    "len(X_train_poly.columns)\n",
    "\n",
    "X_train_poly.head()\n"
   ]
  },
  {
   "cell_type": "markdown",
   "metadata": {},
   "source": [
    "**3.2** Discuss the following:\n",
    "\n",
    "1. What are the dimensions of this 'design matrix' of all the predictor variables in 3.1?  \n",
    "2. What issues may we run into attempting to fit a regression model using all of these predictors?\n",
    "#### 3.2.1 What are the dimensions of this 'design matrix'...**"
   ]
  },
  {
   "cell_type": "markdown",
   "metadata": {},
   "source": [
    "Your answer here\n",
    "\n",
    "1. As you can see, 43 dimensions is this design matrix.  \n",
    "\n",
    "The dimensions are same as columns' length\n",
    "\n",
    "Previous X_train's dimension was 31.\n",
    "\n",
    "PolynomialFeatures are not including interactionterms. (As TA mentioned)\n",
    "\n",
    "Only X^1,X^2,X^3,X^4  so temp, atemp, hum, windspeed  -> 12 more predictor.\n",
    "\n",
    "31 + 12 = 43\n"
   ]
  },
  {
   "cell_type": "markdown",
   "metadata": {},
   "source": [
    "#### 3.2.2 What issues may we run into attempting to fit a regression model using all of these predictors? ...**"
   ]
  },
  {
   "cell_type": "markdown",
   "metadata": {},
   "source": [
    "<HR>\n",
    "Your answer here\n",
    "<HR>\n",
    "\n",
    "\n",
    "2. If we run this model with all of these predictors, \n",
    "\n",
    "it might be litte bit heavier, takes long time to run.\n",
    "\n",
    "Also overfitting is possible due to too many predictors. \n",
    "\n",
    "And then definitely not that interpretable in terms of Visualization, coefficient, etc.. "
   ]
  },
  {
   "cell_type": "markdown",
   "metadata": {},
   "source": [
    "#### 3.3 Let's try fitting a regression model on all the predictors anyway.  Use the `LinearRegression` library from `sklearn` to fit a multiple linear regression model ...."
   ]
  },
  {
   "cell_type": "code",
   "execution_count": 415,
   "metadata": {
    "collapsed": true
   },
   "outputs": [],
   "source": [
    "# your code here\n",
    "\n",
    "BikeOLSPolyModel = LinearRegression().fit(X_train_poly,y_train)"
   ]
  },
  {
   "cell_type": "markdown",
   "metadata": {},
   "source": [
    "#### 3.4.1 What are the training and test $R^2$ scores?"
   ]
  },
  {
   "cell_type": "code",
   "execution_count": 416,
   "metadata": {},
   "outputs": [
    {
     "name": "stdout",
     "output_type": "stream",
     "text": [
      "train data's r2 scores\n",
      "0.422308051666\n",
      "test data's r2 scores\n",
      "0.419280625032\n"
     ]
    }
   ],
   "source": [
    "# your code here\n",
    "print(\"train data's r2 scores\")\n",
    "print(r2_score(y_train,BikeOLSPolyModel.predict(X_train_poly)))\n",
    "print(\"test data's r2 scores\")\n",
    "print(r2_score(y_test,BikeOLSPolyModel.predict(X_test_poly)))\n"
   ]
  },
  {
   "cell_type": "markdown",
   "metadata": {},
   "source": [
    "<HR>\n",
    "Your answer here\n",
    "<HR>\n",
    "\n",
    "train data's r2 scores\n",
    "\n",
    "0.422308051666\n",
    "\n",
    "test data's r2 scores\n",
    "\n",
    "0.419423223832\n",
    "\n",
    "They are not that high than I thought, \n",
    "\n",
    "I thought it was high due to overfit with many predictors."
   ]
  },
  {
   "cell_type": "markdown",
   "metadata": {},
   "source": [
    "#### 3.4.2 How does the model performance compare with the OLS model on the original set of features in Question 1?"
   ]
  },
  {
   "cell_type": "markdown",
   "metadata": {},
   "source": [
    "<HR>\n",
    "Your answer here\n",
    "<HR>\n",
    "\n",
    "QW1's OLS model's R2 scores:\n",
    "\n",
    "train set R score 0.406538782797\n",
    "\n",
    "test set R score 0.414481133552\n",
    "\n",
    "\n",
    "They are of course less than polynomial models.\n",
    "\n",
    "Because, new polynomial model predictiors  = OLS model's + new poly features.\n",
    "\n",
    "When model has new predictor, its R score will go up."
   ]
  },
  {
   "cell_type": "markdown",
   "metadata": {},
   "source": [
    "**3.5** The training set $R^2$ score we generated for our model with polynomial and interaction terms doesn't have any error bars.  Let's use cross-validation to generate sample sets of $R^2$ for our model. Use 5-fold cross-validation to generate $R^2$ scores for the multiple linear regression model with polynomial terms.  What are the mean and standard deviation of the $R^2$ scores for your model.\n"
   ]
  },
  {
   "cell_type": "code",
   "execution_count": 417,
   "metadata": {},
   "outputs": [
    {
     "name": "stdout",
     "output_type": "stream",
     "text": [
      "train_set_mean: 0.41880415931168347\n",
      "train_set_standard deviation : 0.017342308092691168\n",
      "test_set_mean: 0.4148443620163892\n",
      "test_set_standard deviation : 0.016338610322228324\n"
     ]
    }
   ],
   "source": [
    "# your code here\n",
    "splitter = KFold(5,random_state=22, shuffle=True) \n",
    "multiple_model = LinearRegression()\n",
    "score = cross_val_score(multiple_model, X_train_poly,y_train, cv=splitter)\n",
    "testscore = cross_val_score(multiple_model, X_test_poly,y_test, cv=splitter)\n",
    "print(\"train_set_mean: {0}\".format(np.mean(score)))\n",
    "print(\"train_set_standard deviation : {0}\".format(np.std(score)))\n",
    "\n",
    "print(\"test_set_mean: {0}\".format(np.mean(testscore)))\n",
    "print(\"test_set_standard deviation : {0}\".format(np.std(testscore)))\n",
    "\n"
   ]
  },
  {
   "cell_type": "markdown",
   "metadata": {},
   "source": [
    "<HR>\n",
    "Your answer here\n",
    "<HR>\n",
    "\n",
    "train_set_mean: 0.41880415931168347\n",
    "\n",
    "train_set_standard deviation : 0.017342308092691168\n",
    "\n",
    "test_set_mean: 0.4148443620163892\n",
    "\n",
    "test_set_standard deviation : 0.016338610322228324"
   ]
  },
  {
   "cell_type": "markdown",
   "metadata": {},
   "source": [
    "#### 3.6 Visualize the $R^2$ scores generated from the 5-fold cross validation as a box and whisker plot."
   ]
  },
  {
   "cell_type": "code",
   "execution_count": 418,
   "metadata": {},
   "outputs": [
    {
     "data": {
      "image/png": "[encoded data removed]",
      "text/plain": [
       "<matplotlib.figure.Figure at 0x1f9fbc6f6a0>"
      ]
     },
     "metadata": {},
     "output_type": "display_data"
    }
   ],
   "source": [
    "# your code here\n",
    "data= [score,testscore] #make train R^2 score and test R^2scroe\n",
    "plt.boxplot(data)\n",
    "plt.xticks([1,2], [\"train_R2 score\",\"test R2 score\"])\n",
    "plt.ylabel(\"R^2score\")\n",
    "plt.title(\"train and test R score\");"
   ]
  },
  {
   "cell_type": "markdown",
   "metadata": {},
   "source": [
    "**3.7** We've used cross-validation to generate error bars around our $R^2$ scores, but another use of cross-validation is as a way of model selection.  Let's construct the following model alternatives:\n",
    "\n",
    "1. Multiple linear regression model generated based upon the feature set in Question 1 (let's call these the base features.\n",
    "2. base features plus polynomial features to order 2\n",
    "3. base features plus polynomial features to order 4\n",
    "\n",
    "Use 5-fold cross validation on the training set to select the best model.  Make sure to evaluate all the models as much as possible on the same folds.  For each model generate a mean and standard deviation for the $R^2$ score.\n"
   ]
  },
  {
   "cell_type": "code",
   "execution_count": 419,
   "metadata": {
    "scrolled": true
   },
   "outputs": [
    {
     "name": "stdout",
     "output_type": "stream",
     "text": [
      "Linear model R2 score mean : 0.40688755712034574 \n",
      " Linear model R2 score std: 0.0025112108981688113 \n",
      "poly2 model R2 score mean : 0.412247334148676 \n",
      " poly2 model R2 score std: 0.0022035014179986666 \n",
      "poly4 model R2 score mean : 0.42274737386322647 \n",
      " poly4 model R2 score std: 0.002466348629530571 \n"
     ]
    }
   ],
   "source": [
    "# your code here\n",
    "\n",
    "#use 5 Kfold\n",
    "five_fold= KFold(5,random_state=20,shuffle=True)\n",
    "#split X_train's index -> get each index.\n",
    "newindex = five_fold.split(X_train.index)\n",
    "#this list will be R2score list.\n",
    "Linearscore = []\n",
    "poly2score = []\n",
    "poly4score = []\n",
    "#using for loop to fit each fold model.\n",
    "for train,valid in newindex: #train -> index.\n",
    "    #find Multiple linear regression model.\n",
    "    #use iloc in \n",
    "    Multilinear_model = LinearRegression().fit(X_train.iloc[train],y_train.iloc[train])\n",
    "    Linearscore.append(r2_score(y_train.iloc[train],Multilinear_model.predict(X_train.iloc[train])))\n",
    "    \n",
    "    #use function i made\n",
    "    X_poly2, X_poly2_test= get_poly_dataset(X_train.iloc[train],X_test,2)\n",
    "    poly2_model = LinearRegression().fit(X_poly2, y_train.iloc[train])\n",
    "    poly2score.append(r2_score(y_train.iloc[train],poly2_model.predict(X_poly2)))\n",
    "    \n",
    "    X_poly4, X_poly4_test = get_poly_dataset(X_train.iloc[train],X_test,4)\n",
    "    poly4_model =LinearRegression().fit(X_poly4, y_train.iloc[train])\n",
    "    poly4score.append(r2_score(y_train.iloc[train],poly4_model.predict(X_poly4)))\n",
    "    \n",
    "print(\"Linear model R2 score mean : {0} \\n Linear model R2 score std: {1} \"\n",
    "      .format(np.mean(Linearscore),np.std(Linearscore)))\n",
    "\n",
    "print(\"poly2 model R2 score mean : {0} \\n poly2 model R2 score std: {1} \"\n",
    "      .format(np.mean(poly2score),np.std(poly2score)))\n",
    "\n",
    "print(\"poly4 model R2 score mean : {0} \\n poly4 model R2 score std: {1} \"\n",
    "      .format(np.mean(poly4score),np.std(poly4score)))\n"
   ]
  },
  {
   "cell_type": "markdown",
   "metadata": {},
   "source": [
    "Your answer here\n",
    "\n",
    "\n",
    "Linear model R2 score mean : 0.40688755712034574 \n",
    "\n",
    " Linear model R2 score std: 0.0025112108981688113 \n",
    " \n",
    " \n",
    "poly2 model R2 score mean : 0.412247334148676 \n",
    "\n",
    " poly2 model R2 score std: 0.0022035014179986666 \n",
    " \n",
    " \n",
    "poly4 model R2 score mean : 0.42274737386322647 \n",
    "\n",
    " poly4 model R2 score std: 0.0024663486295305875\n",
    " \n",
    " \n",
    "\n",
    "**More predictor ( Linear < poly2 < poly4), higher R2 score"
   ]
  },
  {
   "cell_type": "markdown",
   "metadata": {},
   "source": [
    "#### 3.8 Visualize the $R^2$ scores generated for each model from 5-fold cross validation in box and whiskers plots.  Do the box and whisker plots influence your view of which model was best? ...\n"
   ]
  },
  {
   "cell_type": "code",
   "execution_count": 420,
   "metadata": {},
   "outputs": [
    {
     "data": {
      "image/png": "[encoded data removed]",
      "text/plain": [
       "<matplotlib.figure.Figure at 0x1f98145e160>"
      ]
     },
     "metadata": {},
     "output_type": "display_data"
    }
   ],
   "source": [
    "# your code here\n",
    "data= [Linearscore,poly2score,poly4score] #make train R^2 score and test R^2scroe\n",
    "plt.boxplot(data)\n",
    "plt.xticks([1,2,3], [\"Mulitple Linear Regression\",\"Poly 2 features\",'Poly 4 features'])\n",
    "plt.ylabel(\"R^2score\")\n",
    "plt.title(\"R2 score comparsion\");\n"
   ]
  },
  {
   "cell_type": "markdown",
   "metadata": {},
   "source": [
    "It shows that Poly 4 features are going to be best model,\n",
    "\n",
    "\n",
    "But not change my view because we already saw that with comparing R2 score"
   ]
  },
  {
   "cell_type": "markdown",
   "metadata": {},
   "source": [
    "#### 3.9 Evaluate each of the model alternatives on the  test set.  How do the results compare with the results from cross-validation?"
   ]
  },
  {
   "cell_type": "code",
   "execution_count": 421,
   "metadata": {},
   "outputs": [
    {
     "name": "stdout",
     "output_type": "stream",
     "text": [
      "Multi regression on test set's R2_score : 0.40540416900870235\n",
      "Poly2 model on test set's R2_score : 0.4098664406584346\n",
      "Poly4 model on test set's R2_score : 0.4192806250317286\n"
     ]
    }
   ],
   "source": [
    "# your code here\n",
    "\n",
    "X_poly2_train, X_poly2_test = get_poly_dataset(X_train,X_test,2)\n",
    "X_poly4_train, X_poly4_test =get_poly_dataset(X_train,X_test,4)\n",
    "\n",
    "Multilinear_model = LinearRegression().fit(X_train,y_train)\n",
    "poly2_model = LinearRegression().fit(X_poly2_train,y_train)\n",
    "poly4_model = LinearRegression().fit(X_poly4_train,y_train)\n",
    "\n",
    "print(\"Multi regression on test set's R2_score : {0}\".format(r2_score(y_test,Multilinear_model.predict(X_test))))\n",
    "print(\"Poly2 model on test set's R2_score : {0}\".format(r2_score(y_test,poly2_model.predict(X_poly2_test))))\n",
    "print(\"Poly4 model on test set's R2_score : {0}\".format(r2_score(y_test,poly4_model.predict(X_poly4_test))))"
   ]
  },
  {
   "cell_type": "markdown",
   "metadata": {},
   "source": [
    "R2 scores are a little bit lower than train set.\n",
    "\n",
    "But intuitively, we can see same pattern that more predictors,\n",
    "\n",
    "higher R2 score."
   ]
  }
 ],
 "metadata": {
  "anaconda-cloud": {},
  "kernelspec": {
   "display_name": "Python 3",
   "language": "python",
   "name": "python3"
  },
  "language_info": {
   "codemirror_mode": {
    "name": "ipython",
    "version": 3
   },
   "file_extension": ".py",
   "mimetype": "text/x-python",
   "name": "python",
   "nbconvert_exporter": "python",
   "pygments_lexer": "ipython3",
   "version": "3.6.2"
  }
 },
 "nbformat": 4,
 "nbformat_minor": 2
}
